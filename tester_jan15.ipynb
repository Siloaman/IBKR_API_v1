{
 "cells": [
  {
   "cell_type": "code",
   "execution_count": 1,
   "id": "963b29c9",
   "metadata": {},
   "outputs": [],
   "source": [
    "from ib_insync import *\n",
    "import requests\n",
    "import pandas as pd\n",
    "import schedule\n",
    "import time\n",
    "import datetime;\n",
    "from bs4 import BeautifulSoup\n",
    "import warnings\n",
    "warnings.filterwarnings(\"ignore\", category=RuntimeWarning) \n",
    "\n",
    "util.startLoop()"
   ]
  },
  {
   "cell_type": "code",
   "execution_count": 2,
   "id": "15328e25",
   "metadata": {},
   "outputs": [
    {
     "data": {
      "text/plain": [
       "<IB connected to 127.0.0.1:7496 clientId=0>"
      ]
     },
     "execution_count": 2,
     "metadata": {},
     "output_type": "execute_result"
    }
   ],
   "source": [
    "ib = IB()\n",
    "ib.connect(host='127.0.0.1', port=7496, clientId=0)"
   ]
  },
  {
   "cell_type": "code",
   "execution_count": 3,
   "id": "cdfd72fc",
   "metadata": {},
   "outputs": [
    {
     "data": {
      "text/plain": [
       "[Trade(contract=Stock(conId=618449783, symbol='NYMT', right='?', exchange='SMART', currency='USD', localSymbol='NYMT', tradingClass='NMS'), order=Order(orderId=-6, permId=388454655, action='BUY', totalQuantity=1.0, orderType='LMT', lmtPrice=1.1, auxPrice=0.0, tif='GTC', ocaType=3, displaySize=2147483647, rule80A='0', openClose='', volatilityType=0, deltaNeutralOrderType='None', referencePriceType=0, account='U12848716', clearingIntent='IB', adjustedOrderType='None', cashQty=0.0, dontUseAutoPriceForHedge=True, usePriceMgmtAlgo=True), orderStatus=OrderStatus(orderId=-6, status='PreSubmitted', filled=0.0, remaining=1.0, avgFillPrice=0.0, permId=388454655, parentId=0, lastFillPrice=0.0, clientId=0, whyHeld='', mktCapPrice=0.0), fills=[], log=[TradeLogEntry(time=datetime.datetime(2025, 1, 16, 2, 8, 1, 627808, tzinfo=datetime.timezone.utc), status='PreSubmitted', message='', errorCode=0)], advancedError=''),\n",
       " Trade(contract=Stock(conId=700735038, symbol='SGBX', right='?', exchange='SMART', currency='USD', localSymbol='SGBX', tradingClass='SCM'), order=Order(permId=324492535, action='SELL', totalQuantity=100.0, orderType='LMT', lmtPrice=1.19, auxPrice=0.0, tif='DAY', ocaType=3, displaySize=2147483647, rule80A='0', openClose='', volatilityType=0, deltaNeutralOrderType='None', referencePriceType=0, account='U12848716', clearingIntent='IB', cashQty=0.0, dontUseAutoPriceForHedge=True, filledQuantity=0.0, refFuturesConId=2147483647, shareholder='Not an insider or substantial shareholder'), orderStatus=OrderStatus(orderId=0, status='Cancelled', filled=0.0, remaining=0.0, avgFillPrice=0.0, permId=0, parentId=0, lastFillPrice=0.0, clientId=0, whyHeld='', mktCapPrice=0.0), fills=[], log=[], advancedError=''),\n",
       " Trade(contract=Stock(conId=700735038, symbol='SGBX', right='?', exchange='SMART', currency='USD', localSymbol='SGBX', tradingClass='SCM'), order=Order(permId=807933097, action='BUY', orderType='LMT', lmtPrice=1.14, auxPrice=0.0, tif='DAY', ocaType=3, displaySize=2147483647, rule80A='0', openClose='', volatilityType=0, deltaNeutralOrderType='None', referencePriceType=0, account='U12848716', clearingIntent='IB', cashQty=0.0, dontUseAutoPriceForHedge=True, filledQuantity=1.0, refFuturesConId=2147483647, shareholder='Not an insider or substantial shareholder'), orderStatus=OrderStatus(orderId=0, status='Filled', filled=0.0, remaining=0.0, avgFillPrice=0.0, permId=0, parentId=0, lastFillPrice=0.0, clientId=0, whyHeld='', mktCapPrice=0.0), fills=[Fill(contract=Stock(conId=700735038, symbol='SGBX', right='?', exchange='SMART', currency='USD', localSymbol='SGBX', tradingClass='SCM'), execution=Execution(execId='0001091d.6787c4a6.01.01', time=datetime.datetime(2025, 1, 15, 17, 7, 36, tzinfo=datetime.timezone.utc), acctNumber='U12848716', exchange='IBKRATS', side='BOT', shares=1.0, price=1.12, permId=807933097, clientId=0, orderId=59, liquidation=0, cumQty=1.0, avgPrice=1.12, orderRef='', evRule='', evMultiplier=0.0, modelCode='', lastLiquidity=2), commissionReport=CommissionReport(execId='0001091d.6787c4a6.01.01', commission=0.014235, currency='USD', realizedPNL=0.0, yield_=0.0, yieldRedemptionDate=0), time=datetime.datetime(2025, 1, 15, 17, 7, 36, tzinfo=datetime.timezone.utc))], log=[TradeLogEntry(time=datetime.datetime(2025, 1, 15, 17, 7, 36, tzinfo=datetime.timezone.utc), status='Filled', message='Fill 1.0@1.12', errorCode=0)], advancedError=''),\n",
       " Trade(contract=Stock(conId=700735038, symbol='SGBX', right='?', exchange='SMART', currency='USD', localSymbol='SGBX', tradingClass='SCM'), order=Order(permId=807933098, action='BUY', orderType='LMT', lmtPrice=1.14, auxPrice=0.0, tif='DAY', ocaType=3, displaySize=2147483647, rule80A='0', openClose='', volatilityType=0, deltaNeutralOrderType='None', referencePriceType=0, account='U12848716', clearingIntent='IB', cashQty=0.0, dontUseAutoPriceForHedge=True, filledQuantity=1.0, refFuturesConId=2147483647, shareholder='Not an insider or substantial shareholder'), orderStatus=OrderStatus(orderId=0, status='Filled', filled=0.0, remaining=0.0, avgFillPrice=0.0, permId=0, parentId=0, lastFillPrice=0.0, clientId=0, whyHeld='', mktCapPrice=0.0), fills=[Fill(contract=Stock(conId=700735038, symbol='SGBX', right='?', exchange='SMART', currency='USD', localSymbol='SGBX', tradingClass='SCM'), execution=Execution(execId='00010193.678853f6.01.01', time=datetime.datetime(2025, 1, 15, 17, 7, 49, tzinfo=datetime.timezone.utc), acctNumber='U12848716', exchange='NASDAQ', side='BOT', shares=1.0, price=1.12, permId=807933098, clientId=0, orderId=62, liquidation=0, cumQty=1.0, avgPrice=1.12, orderRef='', evRule='', evMultiplier=0.0, modelCode='', lastLiquidity=2), commissionReport=CommissionReport(execId='00010193.678853f6.01.01', commission=0.014235, currency='USD', realizedPNL=0.0, yield_=0.0, yieldRedemptionDate=0), time=datetime.datetime(2025, 1, 15, 17, 7, 49, tzinfo=datetime.timezone.utc))], log=[TradeLogEntry(time=datetime.datetime(2025, 1, 15, 17, 7, 49, tzinfo=datetime.timezone.utc), status='Filled', message='Fill 1.0@1.12', errorCode=0)], advancedError=''),\n",
       " Trade(contract=Stock(conId=700735038, symbol='SGBX', right='?', exchange='SMART', currency='USD', localSymbol='SGBX', tradingClass='SCM'), order=Order(permId=807933099, action='BUY', orderType='LMT', lmtPrice=1.14, auxPrice=0.0, tif='DAY', ocaType=3, displaySize=2147483647, rule80A='0', openClose='', volatilityType=0, deltaNeutralOrderType='None', referencePriceType=0, account='U12848716', clearingIntent='IB', cashQty=0.0, dontUseAutoPriceForHedge=True, filledQuantity=1.0, refFuturesConId=2147483647, shareholder='Not an insider or substantial shareholder'), orderStatus=OrderStatus(orderId=0, status='Filled', filled=0.0, remaining=0.0, avgFillPrice=0.0, permId=0, parentId=0, lastFillPrice=0.0, clientId=0, whyHeld='', mktCapPrice=0.0), fills=[Fill(contract=Stock(conId=700735038, symbol='SGBX', right='?', exchange='SMART', currency='USD', localSymbol='SGBX', tradingClass='SCM'), execution=Execution(execId='0002158b.6787c318.01.01', time=datetime.datetime(2025, 1, 15, 17, 7, 50, tzinfo=datetime.timezone.utc), acctNumber='U12848716', exchange='DARK', side='BOT', shares=1.0, price=1.12, permId=807933099, clientId=0, orderId=65, liquidation=0, cumQty=1.0, avgPrice=1.12, orderRef='', evRule='', evMultiplier=0.0, modelCode='', lastLiquidity=2), commissionReport=CommissionReport(execId='0002158b.6787c318.01.01', commission=0.012046, currency='USD', realizedPNL=0.0, yield_=0.0, yieldRedemptionDate=0), time=datetime.datetime(2025, 1, 15, 17, 7, 50, tzinfo=datetime.timezone.utc))], log=[TradeLogEntry(time=datetime.datetime(2025, 1, 15, 17, 7, 50, tzinfo=datetime.timezone.utc), status='Filled', message='Fill 1.0@1.12', errorCode=0)], advancedError=''),\n",
       " Trade(contract=Stock(conId=618449783, symbol='NYMT', right='?', exchange='SMART', currency='USD', localSymbol='NYMT', tradingClass='NMS'), order=Order(permId=388454657, action='BUY', totalQuantity=1.0, orderType='LMT', lmtPrice=1.1, auxPrice=0.0, tif='GTC', ocaType=3, displaySize=2147483647, rule80A='0', openClose='', volatilityType=0, deltaNeutralOrderType='None', referencePriceType=0, account='U12848716', clearingIntent='IB', cashQty=0.0, dontUseAutoPriceForHedge=True, autoCancelDate='20250630 17:00:00 EST', filledQuantity=0.0, refFuturesConId=2147483647, shareholder='Not an insider or substantial shareholder'), orderStatus=OrderStatus(orderId=0, status='Cancelled', filled=0.0, remaining=0.0, avgFillPrice=0.0, permId=0, parentId=0, lastFillPrice=0.0, clientId=0, whyHeld='', mktCapPrice=0.0), fills=[], log=[], advancedError=''),\n",
       " Trade(contract=Stock(conId=618449783, symbol='NYMT', right='?', exchange='SMART', currency='USD', localSymbol='NYMT', tradingClass='NMS'), order=Order(permId=1800011630, action='BUY', totalQuantity=1.0, orderType='LMT', lmtPrice=1.25, auxPrice=0.0, tif='GTC', ocaType=3, displaySize=2147483647, rule80A='0', openClose='', volatilityType=0, deltaNeutralOrderType='None', referencePriceType=0, account='U12848716', clearingIntent='IB', cashQty=0.0, dontUseAutoPriceForHedge=True, autoCancelDate='20250630 17:00:00 EST', filledQuantity=0.0, refFuturesConId=2147483647, shareholder='Not an insider or substantial shareholder'), orderStatus=OrderStatus(orderId=0, status='Cancelled', filled=0.0, remaining=0.0, avgFillPrice=0.0, permId=0, parentId=0, lastFillPrice=0.0, clientId=0, whyHeld='', mktCapPrice=0.0), fills=[], log=[], advancedError=''),\n",
       " Trade(contract=Stock(conId=656170396, symbol='CDT', right='?', exchange='SMART', currency='USD', localSymbol='CDT', tradingClass='NMS'), order=Order(permId=324492542, action='SELL', orderType='LMT', lmtPrice=0.0825, auxPrice=0.0, tif='DAY', ocaType=3, displaySize=2147483647, rule80A='0', openClose='', volatilityType=0, deltaNeutralOrderType='None', referencePriceType=0, account='U12848716', clearingIntent='IB', cashQty=0.0, dontUseAutoPriceForHedge=True, filledQuantity=4.0, refFuturesConId=2147483647, shareholder='Not an insider or substantial shareholder'), orderStatus=OrderStatus(orderId=0, status='Filled', filled=0.0, remaining=0.0, avgFillPrice=0.0, permId=0, parentId=0, lastFillPrice=0.0, clientId=0, whyHeld='', mktCapPrice=0.0), fills=[Fill(contract=Stock(conId=656170396, symbol='CDT', right='?', exchange='SMART', currency='USD', localSymbol='CDT', tradingClass='NMS'), execution=Execution(execId='0000e494.67886a4c.01.01', time=datetime.datetime(2025, 1, 15, 17, 24, 54, tzinfo=datetime.timezone.utc), acctNumber='U12848716', exchange='DARK', side='SLD', shares=4.0, price=0.0827, permId=324492542, clientId=0, orderId=0, liquidation=0, cumQty=4.0, avgPrice=0.0827, orderRef='', evRule='', evMultiplier=0.0, modelCode='', lastLiquidity=2), commissionReport=CommissionReport(execId='0000e494.67886a4c.01.01', commission=0.010857, currency='USD', realizedPNL=-0.197757, yield_=0.0, yieldRedemptionDate=0), time=datetime.datetime(2025, 1, 15, 17, 24, 54, tzinfo=datetime.timezone.utc))], log=[TradeLogEntry(time=datetime.datetime(2025, 1, 15, 17, 24, 54, tzinfo=datetime.timezone.utc), status='Filled', message='Fill 4.0@0.0827', errorCode=0)], advancedError=''),\n",
       " Trade(contract=Stock(conId=586262891, symbol='SYRS', right='?', exchange='SMART', currency='USD', localSymbol='SYRS', tradingClass='NMS'), order=Order(permId=324492540, action='SELL', orderType='LMT', lmtPrice=0.233, auxPrice=0.0, tif='DAY', ocaType=3, displaySize=2147483647, rule80A='0', openClose='', volatilityType=0, deltaNeutralOrderType='None', referencePriceType=0, account='U12848716', clearingIntent='IB', cashQty=0.0, dontUseAutoPriceForHedge=True, filledQuantity=1.0, refFuturesConId=2147483647, shareholder='Not an insider or substantial shareholder'), orderStatus=OrderStatus(orderId=0, status='Filled', filled=0.0, remaining=0.0, avgFillPrice=0.0, permId=0, parentId=0, lastFillPrice=0.0, clientId=0, whyHeld='', mktCapPrice=0.0), fills=[Fill(contract=Stock(conId=586262891, symbol='SYRS', right='?', exchange='SMART', currency='USD', localSymbol='SYRS', tradingClass='NMS'), execution=Execution(execId='0000e494.67886a1b.01.01', time=datetime.datetime(2025, 1, 15, 17, 24, 38, tzinfo=datetime.timezone.utc), acctNumber='U12848716', exchange='DARK', side='SLD', shares=1.0, price=0.2347, permId=324492540, clientId=0, orderId=0, liquidation=0, cumQty=1.0, avgPrice=0.2347, orderRef='', evRule='', evMultiplier=0.0, modelCode='', lastLiquidity=2), commissionReport=CommissionReport(execId='0000e494.67886a1b.01.01', commission=0.010219, currency='USD', realizedPNL=0.005181, yield_=0.0, yieldRedemptionDate=0), time=datetime.datetime(2025, 1, 15, 17, 24, 38, tzinfo=datetime.timezone.utc))], log=[TradeLogEntry(time=datetime.datetime(2025, 1, 15, 17, 24, 38, tzinfo=datetime.timezone.utc), status='Filled', message='Fill 1.0@0.2347', errorCode=0)], advancedError=''),\n",
       " Trade(contract=Stock(conId=447584486, symbol='ZOM', right='?', exchange='SMART', currency='USD', localSymbol='ZOM', tradingClass='ZOM'), order=Order(permId=324492538, action='SELL', orderType='LMT', lmtPrice=0.1296, auxPrice=0.0, tif='DAY', ocaType=3, displaySize=2147483647, rule80A='0', openClose='', volatilityType=0, deltaNeutralOrderType='None', referencePriceType=0, account='U12848716', clearingIntent='IB', cashQty=0.0, dontUseAutoPriceForHedge=True, filledQuantity=1.0, refFuturesConId=2147483647, shareholder='Not an insider or substantial shareholder'), orderStatus=OrderStatus(orderId=0, status='Filled', filled=0.0, remaining=0.0, avgFillPrice=0.0, permId=0, parentId=0, lastFillPrice=0.0, clientId=0, whyHeld='', mktCapPrice=0.0), fills=[Fill(contract=Stock(conId=447584486, symbol='ZOM', right='?', exchange='SMART', currency='USD', localSymbol='ZOM', tradingClass='ZOM'), execution=Execution(execId='0002264f.67880e42.01.01', time=datetime.datetime(2025, 1, 15, 17, 24, 24, tzinfo=datetime.timezone.utc), acctNumber='U12848716', exchange='DARK', side='SLD', shares=1.0, price=0.12975, permId=324492538, clientId=0, orderId=0, liquidation=0, cumQty=1.0, avgPrice=0.12975, orderRef='', evRule='', evMultiplier=0.0, modelCode='', lastLiquidity=2), commissionReport=CommissionReport(execId='0002264f.67880e42.01.01', commission=0.001513, currency='USD', realizedPNL=-0.011763, yield_=0.0, yieldRedemptionDate=0), time=datetime.datetime(2025, 1, 15, 17, 24, 24, tzinfo=datetime.timezone.utc))], log=[TradeLogEntry(time=datetime.datetime(2025, 1, 15, 17, 24, 24, tzinfo=datetime.timezone.utc), status='Filled', message='Fill 1.0@0.12975', errorCode=0)], advancedError=''),\n",
       " Trade(contract=Stock(conId=618449783, symbol='NYMT', right='?', exchange='SMART', currency='USD', localSymbol='NYMT', tradingClass='NMS'), order=Order(permId=2057958630, action='BUY', totalQuantity=1.0, orderType='LMT', lmtPrice=1.0, auxPrice=0.0, tif='GTC', ocaType=3, displaySize=2147483647, rule80A='0', openClose='', volatilityType=0, deltaNeutralOrderType='None', referencePriceType=0, account='U12848716', clearingIntent='IB', cashQty=0.0, dontUseAutoPriceForHedge=True, autoCancelDate='20250630 17:00:00 EST', filledQuantity=0.0, refFuturesConId=2147483647, shareholder='Not an insider or substantial shareholder'), orderStatus=OrderStatus(orderId=0, status='Cancelled', filled=0.0, remaining=0.0, avgFillPrice=0.0, permId=0, parentId=0, lastFillPrice=0.0, clientId=0, whyHeld='', mktCapPrice=0.0), fills=[], log=[], advancedError=''),\n",
       " Trade(contract=Stock(conId=700735038, symbol='SGBX', right='?', exchange='SMART', currency='USD', localSymbol='SGBX', tradingClass='SCM'), order=Order(permId=324492536, action='SELL', orderType='LMT', lmtPrice=1.19, auxPrice=0.0, tif='DAY', ocaType=3, displaySize=2147483647, rule80A='0', openClose='', volatilityType=0, deltaNeutralOrderType='None', referencePriceType=0, account='U12848716', clearingIntent='IB', cashQty=0.0, dontUseAutoPriceForHedge=True, filledQuantity=1.0, refFuturesConId=2147483647, shareholder='Not an insider or substantial shareholder'), orderStatus=OrderStatus(orderId=0, status='Filled', filled=0.0, remaining=0.0, avgFillPrice=0.0, permId=0, parentId=0, lastFillPrice=0.0, clientId=0, whyHeld='', mktCapPrice=0.0), fills=[Fill(contract=Stock(conId=700735038, symbol='SGBX', right='?', exchange='SMART', currency='USD', localSymbol='SGBX', tradingClass='SCM'), execution=Execution(execId='0001451b.67881214.01.01', time=datetime.datetime(2025, 1, 15, 17, 24, tzinfo=datetime.timezone.utc), acctNumber='U12848716', exchange='DARK', side='SLD', shares=1.0, price=1.205, permId=324492536, clientId=0, orderId=0, liquidation=0, cumQty=1.0, avgPrice=1.205, orderRef='', evRule='', evMultiplier=0.0, modelCode='', lastLiquidity=2), commissionReport=CommissionReport(execId='0001451b.67881214.01.01', commission=0.012295, currency='USD', realizedPNL=0.01822, yield_=0.0, yieldRedemptionDate=0), time=datetime.datetime(2025, 1, 15, 17, 24, tzinfo=datetime.timezone.utc))], log=[TradeLogEntry(time=datetime.datetime(2025, 1, 15, 17, 24, tzinfo=datetime.timezone.utc), status='Filled', message='Fill 1.0@1.205', errorCode=0)], advancedError=''),\n",
       " Trade(contract=Stock(conId=700735038, symbol='SGBX', right='?', exchange='SMART', currency='USD', localSymbol='SGBX', tradingClass='SCM'), order=Order(permId=611848649, action='BUY', orderType='LMT', lmtPrice=1.18, auxPrice=0.0, tif='DAY', ocaType=3, displaySize=2147483647, rule80A='0', openClose='', volatilityType=0, deltaNeutralOrderType='None', referencePriceType=0, account='U12848716', clearingIntent='IB', cashQty=0.0, dontUseAutoPriceForHedge=True, filledQuantity=1.0, refFuturesConId=2147483647, shareholder='Not an insider or substantial shareholder'), orderStatus=OrderStatus(orderId=0, status='Filled', filled=0.0, remaining=0.0, avgFillPrice=0.0, permId=0, parentId=0, lastFillPrice=0.0, clientId=0, whyHeld='', mktCapPrice=0.0), fills=[Fill(contract=Stock(conId=700735038, symbol='SGBX', right='?', exchange='SMART', currency='USD', localSymbol='SGBX', tradingClass='SCM'), execution=Execution(execId='0001091d.6787c504.01.01', time=datetime.datetime(2025, 1, 15, 17, 21, 3, tzinfo=datetime.timezone.utc), acctNumber='U12848716', exchange='IBKRATS', side='BOT', shares=1.0, price=1.16, permId=611848649, clientId=0, orderId=82, liquidation=0, cumQty=1.0, avgPrice=1.16, orderRef='', evRule='', evMultiplier=0.0, modelCode='', lastLiquidity=2), commissionReport=CommissionReport(execId='0001091d.6787c504.01.01', commission=0.014485, currency='USD', realizedPNL=0.0, yield_=0.0, yieldRedemptionDate=0), time=datetime.datetime(2025, 1, 15, 17, 21, 3, tzinfo=datetime.timezone.utc))], log=[TradeLogEntry(time=datetime.datetime(2025, 1, 15, 17, 21, 3, tzinfo=datetime.timezone.utc), status='Filled', message='Fill 1.0@1.16', errorCode=0)], advancedError=''),\n",
       " Trade(contract=Stock(conId=700735038, symbol='SGBX', right='?', exchange='SMART', currency='USD', localSymbol='SGBX', tradingClass='SCM'), order=Order(permId=807933106, action='BUY', orderType='LMT', lmtPrice=1.12, auxPrice=0.0, tif='DAY', ocaType=3, displaySize=2147483647, rule80A='0', openClose='', volatilityType=0, deltaNeutralOrderType='None', referencePriceType=0, account='U12848716', clearingIntent='IB', cashQty=0.0, dontUseAutoPriceForHedge=True, filledQuantity=1.0, refFuturesConId=2147483647, shareholder='Not an insider or substantial shareholder'), orderStatus=OrderStatus(orderId=0, status='Filled', filled=0.0, remaining=0.0, avgFillPrice=0.0, permId=0, parentId=0, lastFillPrice=0.0, clientId=0, whyHeld='', mktCapPrice=0.0), fills=[Fill(contract=Stock(conId=700735038, symbol='SGBX', right='?', exchange='SMART', currency='USD', localSymbol='SGBX', tradingClass='SCM'), execution=Execution(execId='00010193.67885571.01.01', time=datetime.datetime(2025, 1, 15, 17, 13, 54, tzinfo=datetime.timezone.utc), acctNumber='U12848716', exchange='NASDAQ', side='BOT', shares=1.0, price=1.11, permId=807933106, clientId=0, orderId=71, liquidation=0, cumQty=1.0, avgPrice=1.11, orderRef='', evRule='', evMultiplier=0.0, modelCode='', lastLiquidity=2), commissionReport=CommissionReport(execId='00010193.67885571.01.01', commission=0.014135, currency='USD', realizedPNL=0.0, yield_=0.0, yieldRedemptionDate=0), time=datetime.datetime(2025, 1, 15, 17, 13, 54, tzinfo=datetime.timezone.utc))], log=[TradeLogEntry(time=datetime.datetime(2025, 1, 15, 17, 13, 54, tzinfo=datetime.timezone.utc), status='Filled', message='Fill 1.0@1.11', errorCode=0)], advancedError=''),\n",
       " Trade(contract=Stock(conId=700735038, symbol='SGBX', right='?', exchange='SMART', currency='USD', localSymbol='SGBX', tradingClass='SCM'), order=Order(permId=1005019613, action='SELL', orderType='MKT', lmtPrice=0.0, auxPrice=0.0, tif='DAY', ocaType=3, displaySize=2147483647, rule80A='0', openClose='', volatilityType=0, deltaNeutralOrderType='None', referencePriceType=0, account='U12848716', clearingIntent='IB', cashQty=0.0, dontUseAutoPriceForHedge=True, filledQuantity=6.0, refFuturesConId=2147483647, shareholder='Not an insider or substantial shareholder'), orderStatus=OrderStatus(orderId=0, status='Filled', filled=0.0, remaining=0.0, avgFillPrice=0.0, permId=0, parentId=0, lastFillPrice=0.0, clientId=0, whyHeld='', mktCapPrice=0.0), fills=[Fill(contract=Stock(conId=700735038, symbol='SGBX', right='?', exchange='SMART', currency='USD', localSymbol='SGBX', tradingClass='SCM'), execution=Execution(execId='0000e494.678866be.01.01', time=datetime.datetime(2025, 1, 15, 17, 17, 52, tzinfo=datetime.timezone.utc), acctNumber='U12848716', exchange='DARK', side='SLD', shares=6.0, price=1.135, permId=1005019613, clientId=0, orderId=0, liquidation=0, cumQty=6.0, avgPrice=1.135, orderRef='', evRule='', evMultiplier=0.0, modelCode='', lastLiquidity=2), commissionReport=CommissionReport(execId='0000e494.678866be.01.01', commission=0.069561, currency='USD', realizedPNL=-0.040243, yield_=0.0, yieldRedemptionDate=0), time=datetime.datetime(2025, 1, 15, 17, 17, 52, tzinfo=datetime.timezone.utc))], log=[TradeLogEntry(time=datetime.datetime(2025, 1, 15, 17, 17, 52, tzinfo=datetime.timezone.utc), status='Filled', message='Fill 6.0@1.135', errorCode=0)], advancedError=''),\n",
       " Trade(contract=Stock(conId=700735038, symbol='SGBX', right='?', exchange='SMART', currency='USD', localSymbol='SGBX', tradingClass='SCM'), order=Order(permId=807933107, action='BUY', orderType='LMT', lmtPrice=1.13, auxPrice=0.0, tif='DAY', ocaType=3, displaySize=2147483647, rule80A='0', openClose='', volatilityType=0, deltaNeutralOrderType='None', referencePriceType=0, account='U12848716', clearingIntent='IB', cashQty=0.0, dontUseAutoPriceForHedge=True, filledQuantity=1.0, refFuturesConId=2147483647, shareholder='Not an insider or substantial shareholder'), orderStatus=OrderStatus(orderId=0, status='Filled', filled=0.0, remaining=0.0, avgFillPrice=0.0, permId=0, parentId=0, lastFillPrice=0.0, clientId=0, whyHeld='', mktCapPrice=0.0), fills=[Fill(contract=Stock(conId=700735038, symbol='SGBX', right='?', exchange='SMART', currency='USD', localSymbol='SGBX', tradingClass='SCM'), execution=Execution(execId='0002158b.6787c39c.01.01', time=datetime.datetime(2025, 1, 15, 17, 14, 15, tzinfo=datetime.timezone.utc), acctNumber='U12848716', exchange='DARK', side='BOT', shares=1.0, price=1.11, permId=807933107, clientId=0, orderId=74, liquidation=0, cumQty=1.0, avgPrice=1.11, orderRef='', evRule='', evMultiplier=0.0, modelCode='', lastLiquidity=2), commissionReport=CommissionReport(execId='0002158b.6787c39c.01.01', commission=0.011946, currency='USD', realizedPNL=0.0, yield_=0.0, yieldRedemptionDate=0), time=datetime.datetime(2025, 1, 15, 17, 14, 15, tzinfo=datetime.timezone.utc))], log=[TradeLogEntry(time=datetime.datetime(2025, 1, 15, 17, 14, 15, tzinfo=datetime.timezone.utc), status='Filled', message='Fill 1.0@1.11', errorCode=0)], advancedError=''),\n",
       " Trade(contract=Stock(conId=700735038, symbol='SGBX', right='?', exchange='SMART', currency='USD', localSymbol='SGBX', tradingClass='SCM'), order=Order(permId=807933108, action='BUY', orderType='LMT', lmtPrice=1.14, auxPrice=0.0, tif='DAY', ocaType=3, displaySize=2147483647, rule80A='0', openClose='', volatilityType=0, deltaNeutralOrderType='None', referencePriceType=0, account='U12848716', clearingIntent='IB', cashQty=0.0, dontUseAutoPriceForHedge=True, filledQuantity=1.0, refFuturesConId=2147483647, shareholder='Not an insider or substantial shareholder'), orderStatus=OrderStatus(orderId=0, status='Filled', filled=0.0, remaining=0.0, avgFillPrice=0.0, permId=0, parentId=0, lastFillPrice=0.0, clientId=0, whyHeld='', mktCapPrice=0.0), fills=[Fill(contract=Stock(conId=700735038, symbol='SGBX', right='?', exchange='SMART', currency='USD', localSymbol='SGBX', tradingClass='SCM'), execution=Execution(execId='0001c47b.6787c28c.01.01', time=datetime.datetime(2025, 1, 15, 17, 16, 9, tzinfo=datetime.timezone.utc), acctNumber='U12848716', exchange='PEARL', side='BOT', shares=1.0, price=1.12, permId=807933108, clientId=0, orderId=77, liquidation=0, cumQty=1.0, avgPrice=1.12, orderRef='', evRule='', evMultiplier=0.0, modelCode='', lastLiquidity=2), commissionReport=CommissionReport(execId='0001c47b.6787c28c.01.01', commission=0.014085, currency='USD', realizedPNL=0.0, yield_=0.0, yieldRedemptionDate=0), time=datetime.datetime(2025, 1, 15, 17, 16, 9, tzinfo=datetime.timezone.utc))], log=[TradeLogEntry(time=datetime.datetime(2025, 1, 15, 17, 16, 9, tzinfo=datetime.timezone.utc), status='Filled', message='Fill 1.0@1.12', errorCode=0)], advancedError='')]"
      ]
     },
     "execution_count": 3,
     "metadata": {},
     "output_type": "execute_result"
    }
   ],
   "source": [
    "trads = ib.trades()\n",
    "trads"
   ]
  },
  {
   "cell_type": "code",
   "execution_count": 4,
   "id": "b865d2f4",
   "metadata": {},
   "outputs": [
    {
     "data": {
      "text/plain": [
       "Trade(contract=Stock(conId=700735038, symbol='SGBX', right='?', exchange='SMART', currency='USD', localSymbol='SGBX', tradingClass='SCM'), order=Order(permId=807933108, action='BUY', orderType='LMT', lmtPrice=1.14, auxPrice=0.0, tif='DAY', ocaType=3, displaySize=2147483647, rule80A='0', openClose='', volatilityType=0, deltaNeutralOrderType='None', referencePriceType=0, account='U12848716', clearingIntent='IB', cashQty=0.0, dontUseAutoPriceForHedge=True, filledQuantity=1.0, refFuturesConId=2147483647, shareholder='Not an insider or substantial shareholder'), orderStatus=OrderStatus(orderId=0, status='Filled', filled=0.0, remaining=0.0, avgFillPrice=0.0, permId=0, parentId=0, lastFillPrice=0.0, clientId=0, whyHeld='', mktCapPrice=0.0), fills=[Fill(contract=Stock(conId=700735038, symbol='SGBX', right='?', exchange='SMART', currency='USD', localSymbol='SGBX', tradingClass='SCM'), execution=Execution(execId='0001c47b.6787c28c.01.01', time=datetime.datetime(2025, 1, 15, 17, 16, 9, tzinfo=datetime.timezone.utc), acctNumber='U12848716', exchange='PEARL', side='BOT', shares=1.0, price=1.12, permId=807933108, clientId=0, orderId=77, liquidation=0, cumQty=1.0, avgPrice=1.12, orderRef='', evRule='', evMultiplier=0.0, modelCode='', lastLiquidity=2), commissionReport=CommissionReport(execId='0001c47b.6787c28c.01.01', commission=0.014085, currency='USD', realizedPNL=0.0, yield_=0.0, yieldRedemptionDate=0), time=datetime.datetime(2025, 1, 15, 17, 16, 9, tzinfo=datetime.timezone.utc))], log=[TradeLogEntry(time=datetime.datetime(2025, 1, 15, 17, 16, 9, tzinfo=datetime.timezone.utc), status='Filled', message='Fill 1.0@1.12', errorCode=0)], advancedError='')"
      ]
     },
     "execution_count": 4,
     "metadata": {},
     "output_type": "execute_result"
    }
   ],
   "source": [
    "trads[-1]"
   ]
  },
  {
   "cell_type": "code",
   "execution_count": 5,
   "id": "79f9c5c4",
   "metadata": {},
   "outputs": [
    {
     "data": {
      "text/plain": [
       "Fill(contract=Stock(conId=700735038, symbol='SGBX', right='?', exchange='SMART', currency='USD', localSymbol='SGBX', tradingClass='SCM'), execution=Execution(execId='0001c47b.6787c28c.01.01', time=datetime.datetime(2025, 1, 15, 17, 16, 9, tzinfo=datetime.timezone.utc), acctNumber='U12848716', exchange='PEARL', side='BOT', shares=1.0, price=1.12, permId=807933108, clientId=0, orderId=77, liquidation=0, cumQty=1.0, avgPrice=1.12, orderRef='', evRule='', evMultiplier=0.0, modelCode='', lastLiquidity=2), commissionReport=CommissionReport(execId='0001c47b.6787c28c.01.01', commission=0.014085, currency='USD', realizedPNL=0.0, yield_=0.0, yieldRedemptionDate=0), time=datetime.datetime(2025, 1, 15, 17, 16, 9, tzinfo=datetime.timezone.utc))"
      ]
     },
     "execution_count": 5,
     "metadata": {},
     "output_type": "execute_result"
    }
   ],
   "source": [
    "trads[16].fills[-1]"
   ]
  },
  {
   "cell_type": "code",
   "execution_count": 6,
   "id": "630fbd68",
   "metadata": {},
   "outputs": [
    {
     "data": {
      "text/plain": [
       "'SGBX'"
      ]
     },
     "execution_count": 6,
     "metadata": {},
     "output_type": "execute_result"
    }
   ],
   "source": [
    "trads[16].fills[-1].contract.symbol"
   ]
  },
  {
   "cell_type": "code",
   "execution_count": 7,
   "id": "0dd7647b",
   "metadata": {},
   "outputs": [
    {
     "name": "stdout",
     "output_type": "stream",
     "text": [
      "2025-01-15 17:16:09+00:00 - BOT SGBX 1.0 @ 1.12\n"
     ]
    }
   ],
   "source": [
    "def order_status(trade):\n",
    "    if trade.orderStatus.status == 'Filled':\n",
    "        fill = trade.fills[-1]\n",
    "        print(f'{fill.time} - {fill.execution.side} {fill.contract.symbol} {fill.execution.shares} @ {fill.execution.avgPrice}')\n",
    "    \n",
    "show_info = order_status(trads[-1])    "
   ]
  },
  {
   "cell_type": "code",
   "execution_count": null,
   "id": "77f51382",
   "metadata": {},
   "outputs": [],
   "source": []
  },
  {
   "cell_type": "code",
   "execution_count": 8,
   "id": "5230bf7a",
   "metadata": {},
   "outputs": [],
   "source": [
    "pending_stop_loss_orders = pd.DataFrame() # define and create one time"
   ]
  },
  {
   "cell_type": "code",
   "execution_count": 9,
   "id": "20467950",
   "metadata": {},
   "outputs": [],
   "source": [
    "new_row = pd.DataFrame({\"TK\": [\"NYMT\"], \"QT\": [1], \"SLT\": [0.15]})\n",
    "pending_stop_loss_orders = pd.concat([pending_stop_loss_orders, new_row], ignore_index=True)"
   ]
  },
  {
   "cell_type": "code",
   "execution_count": 10,
   "id": "0e03d4af",
   "metadata": {},
   "outputs": [],
   "source": [
    "new_row = pd.DataFrame({\"TK\": [\"SYST\"], \"QT\": [10], \"SLT\": [0.35]})\n",
    "pending_stop_loss_orders = pd.concat([pending_stop_loss_orders, new_row], ignore_index=True)"
   ]
  },
  {
   "cell_type": "code",
   "execution_count": 11,
   "id": "0c7c5c05",
   "metadata": {},
   "outputs": [],
   "source": [
    "new_row = pd.DataFrame({\"TK\": [\"DRRB\"], \"QT\": [100], \"SLT\": [0.55]})\n",
    "pending_stop_loss_orders = pd.concat([pending_stop_loss_orders, new_row], ignore_index=True)"
   ]
  },
  {
   "cell_type": "code",
   "execution_count": 12,
   "id": "051cb1e6",
   "metadata": {},
   "outputs": [
    {
     "name": "stdout",
     "output_type": "stream",
     "text": [
      "TK     NYMT\n",
      "QT        1\n",
      "SLT    0.15\n",
      "Name: 0, dtype: object\n",
      "TK     SYST\n",
      "QT       10\n",
      "SLT    0.35\n",
      "Name: 1, dtype: object\n",
      "TK     DRRB\n",
      "QT      100\n",
      "SLT    0.55\n",
      "Name: 2, dtype: object\n"
     ]
    },
    {
     "data": {
      "text/plain": [
       "'SYST'"
      ]
     },
     "execution_count": 12,
     "metadata": {},
     "output_type": "execute_result"
    }
   ],
   "source": [
    "for index, row in pending_stop_loss_orders.iterrows():\n",
    "    print(row)\n",
    "pending_stop_loss_orders[\"TK\"][1]"
   ]
  },
  {
   "cell_type": "code",
   "execution_count": null,
   "id": "1dce2efe",
   "metadata": {},
   "outputs": [],
   "source": []
  }
 ],
 "metadata": {
  "kernelspec": {
   "display_name": "Python 3 (ipykernel)",
   "language": "python",
   "name": "python3"
  },
  "language_info": {
   "codemirror_mode": {
    "name": "ipython",
    "version": 3
   },
   "file_extension": ".py",
   "mimetype": "text/x-python",
   "name": "python",
   "nbconvert_exporter": "python",
   "pygments_lexer": "ipython3",
   "version": "3.10.9"
  }
 },
 "nbformat": 4,
 "nbformat_minor": 5
}
