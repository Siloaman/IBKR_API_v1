{
 "cells": [
  {
   "cell_type": "code",
   "execution_count": null,
   "id": "495767c3-6fd7-4f4c-ab00-2b7962eea51c",
   "metadata": {},
   "outputs": [],
   "source": [
    "# pip install ib-insync # must do this first before trying to import it"
   ]
  },
  {
   "cell_type": "code",
   "execution_count": 1,
   "id": "b2e81a05",
   "metadata": {},
   "outputs": [],
   "source": [
    "import ib_insync\n",
    "from ib_insync import *\n",
    "import requests\n",
    "import pandas as pd\n",
    "#import schedule\n",
    "import time\n",
    "import datetime;\n",
    "from bs4 import BeautifulSoup\n",
    "import warnings\n",
    "warnings.filterwarnings(\"ignore\", category=RuntimeWarning) \n",
    "# https://stackoverflow.com/questions/44933518/how-to-remove-runtimewarning-errors-from-code\n",
    "\n",
    "util.startLoop()  # only use in interactive environments (i.e. Jupyter Notebooks)\n",
    "# https://algotrading101.com/learn/ib_insync-interactive-brokers-api-guide/\n",
    "# https://www.reddit.com/r/interactivebrokers/comments/1cccg0t/ib_insync_reqhistoricaldata_with_keepuptodatetrue/\n",
    "# https://github.com/erdewit/ib_insync/issues/653"
   ]
  },
  {
   "cell_type": "code",
   "execution_count": 3,
   "id": "8530b4c2",
   "metadata": {},
   "outputs": [
    {
     "data": {
      "text/plain": [
       "<IB connected to 127.0.0.1:7496 clientId=0>"
      ]
     },
     "execution_count": 3,
     "metadata": {},
     "output_type": "execute_result"
    }
   ],
   "source": [
    "#WORKING\n",
    "counter_of_numbers = 0\n",
    "ib = IB()\n",
    "ib.connect(host='127.0.0.1', port=7496, clientId=0)\n",
    "# https://www.elitetrader.com/et/threads/cant-connect-to-api-interactive-brokers.361205/\n",
    "# needed to change socket port to 7496 and uncheck the Read-Only API box"
   ]
  },
  {
   "cell_type": "code",
   "execution_count": 5,
   "id": "5e85e534-d4b5-47ec-9c8f-24f5036f478f",
   "metadata": {},
   "outputs": [
    {
     "data": {
      "text/plain": [
       "[Position(account='U12848716', contract=Stock(conId=700941285, symbol='NUVOQ', exchange='PINK', currency='USD', localSymbol='NUVOQ', tradingClass='NUVOQ'), position=275.0, avgCost=0.24124875),\n",
       " Position(account='U12848716', contract=Stock(conId=670777621, symbol='SVMH', exchange='NASDAQ', currency='USD', localSymbol='SVMH', tradingClass='NMS'), position=1.0, avgCost=0.0597)]"
      ]
     },
     "execution_count": 5,
     "metadata": {},
     "output_type": "execute_result"
    }
   ],
   "source": [
    "#12:07\n",
    "positions = ib.positions()\n",
    "positions"
   ]
  },
  {
   "cell_type": "code",
   "execution_count": 7,
   "id": "9ba34e94",
   "metadata": {},
   "outputs": [
    {
     "data": {
      "text/plain": [
       "[Trade(contract=Stock(conId=670777621, symbol='SVMH', right='?', exchange='SMART', currency='USD', localSymbol='SVMH', tradingClass='NMS'), order=Order(permId=241210818, action='SELL', totalQuantity=1.0, orderType='LMT', lmtPrice=0.07, auxPrice=0.0, tif='GTC', ocaType=3, displaySize=2147483647, rule80A='0', openClose='', volatilityType=0, deltaNeutralOrderType='None', referencePriceType=0, account='U12848716', clearingIntent='IB', cashQty=0.0, dontUseAutoPriceForHedge=True, autoCancelDate='20250630 17:00:00 EST', filledQuantity=0.0, refFuturesConId=2147483647, shareholder='Not an insider or substantial shareholder'), orderStatus=OrderStatus(orderId=0, status='Cancelled', filled=0.0, remaining=0.0, avgFillPrice=0.0, permId=0, parentId=0, lastFillPrice=0.0, clientId=0, whyHeld='', mktCapPrice=0.0), fills=[], log=[], advancedError=''),\n",
       " Trade(contract=Stock(conId=586262891, symbol='SYRS', right='?', exchange='SMART', currency='USD', localSymbol='SYRS', tradingClass='NMS'), order=Order(permId=1557099688, action='BUY', totalQuantity=1.0, orderType='LMT', lmtPrice=0.17, auxPrice=0.0, tif='DAY', ocaType=3, displaySize=2147483647, rule80A='0', openClose='', volatilityType=0, deltaNeutralOrderType='None', referencePriceType=0, account='U12848716', clearingIntent='IB', cashQty=0.0, dontUseAutoPriceForHedge=True, filledQuantity=0.0, refFuturesConId=2147483647, shareholder='Not an insider or substantial shareholder'), orderStatus=OrderStatus(orderId=0, status='Cancelled', filled=0.0, remaining=0.0, avgFillPrice=0.0, permId=0, parentId=0, lastFillPrice=0.0, clientId=0, whyHeld='', mktCapPrice=0.0), fills=[], log=[], advancedError=''),\n",
       " Trade(contract=Stock(conId=618449783, symbol='NYMT', right='?', exchange='SMART', currency='USD', localSymbol='NYMT', tradingClass='NMS'), order=Order(permId=1557099686, action='BUY', totalQuantity=1.0, orderType='LMT', lmtPrice=2.0, auxPrice=0.0, tif='DAY', ocaType=3, displaySize=2147483647, rule80A='0', openClose='', volatilityType=0, deltaNeutralOrderType='None', referencePriceType=0, account='U12848716', clearingIntent='IB', cashQty=0.0, dontUseAutoPriceForHedge=True, filledQuantity=0.0, refFuturesConId=2147483647, shareholder='Not an insider or substantial shareholder'), orderStatus=OrderStatus(orderId=0, status='Cancelled', filled=0.0, remaining=0.0, avgFillPrice=0.0, permId=0, parentId=0, lastFillPrice=0.0, clientId=0, whyHeld='', mktCapPrice=0.0), fills=[], log=[], advancedError='')]"
      ]
     },
     "execution_count": 7,
     "metadata": {},
     "output_type": "execute_result"
    }
   ],
   "source": [
    "#12:08\n",
    "tester = ib.trades()\n",
    "tester\n",
    "# these were cancelled before market open but had been written beforehand.. so.."
   ]
  },
  {
   "cell_type": "code",
   "execution_count": 19,
   "id": "394cedfc-2eb2-48d7-a478-e62703696f8e",
   "metadata": {},
   "outputs": [
    {
     "name": "stdout",
     "output_type": "stream",
     "text": [
      "  Ticker  Quantity  SLTarget\n",
      "0   APDN         1     0.015\n"
     ]
    }
   ],
   "source": [
    "# lets try to see if fillEvent works with MarketOrder and what fill information pops up\n",
    "pending_stop_loss_orders = pd.DataFrame()\n",
    "\n",
    "def order_status(trade):\n",
    "    if trade.orderStatus.status == 'Filled':\n",
    "        fill = trade.fills[-1]\n",
    "        print(fill)\n",
    "        pending_stop_loss_orders = pd.concat([pending_stop_loss_orders, fill], ignore_index=True)\n",
    "                \n",
    "contract = Stock(\"APDN\", 'SMART', 'USD')\n",
    "marketOrder = MarketOrder('BUY', 1)\n",
    "marketOrderTrade = ib.placeOrder(contract, marketOrder)\n",
    "trade_details = marketOrderTrade\n",
    "\n",
    "# CREATE A DATAFRAME THAT TRACKS STOP LIMIT ORDERS MADE ALONG WITH THEIR STOP LOSS TARGETS\n",
    "new_row = pd.DataFrame({\"Ticker\": [trade_details.contract.symbol], \"Quantity\": [1], \"SLTarget\": [0.015]})\n",
    "pending_stop_loss_orders = pd.concat([pending_stop_loss_orders, new_row], ignore_index=True)\n",
    "\n",
    "\n",
    "\n",
    "marketOrderTrade.fillEvent += order_status\n",
    "\n",
    "# lets see what the storage looks like\n",
    "print(pending_stop_loss_orders)\n",
    "\n",
    "# 12:18 - nothing appeared to happen"
   ]
  },
  {
   "cell_type": "code",
   "execution_count": 21,
   "id": "61f9a267-a6d0-4e5e-930e-340b39ae7ada",
   "metadata": {},
   "outputs": [
    {
     "data": {
      "text/plain": [
       "[Position(account='U12848716', contract=Stock(conId=700941285, symbol='NUVOQ', exchange='PINK', currency='USD', localSymbol='NUVOQ', tradingClass='NUVOQ'), position=275.0, avgCost=0.24124875),\n",
       " Position(account='U12848716', contract=Stock(conId=670777621, symbol='SVMH', exchange='NASDAQ', currency='USD', localSymbol='SVMH', tradingClass='NMS'), position=1.0, avgCost=0.0597),\n",
       " Position(account='U12848716', contract=Stock(conId=699197691, symbol='APDN', exchange='NASDAQ', currency='USD', localSymbol='APDN', tradingClass='SCM'), position=6.0, avgCost=0.20737583333333334)]"
      ]
     },
     "execution_count": 21,
     "metadata": {},
     "output_type": "execute_result"
    }
   ],
   "source": [
    "#12:19\n",
    "positions = ib.positions()\n",
    "positions"
   ]
  },
  {
   "cell_type": "code",
   "execution_count": 23,
   "id": "9c7971a8-a077-4261-ac60-4d5517699e3d",
   "metadata": {},
   "outputs": [
    {
     "data": {
      "text/plain": [
       "[Fill(contract=Stock(conId=699197691, symbol='APDN', exchange='IBKRATS', currency='USD', localSymbol='APDN', tradingClass='SCM'), execution=Execution(execId='0000ddc2.67812bcb.01.01', time=datetime.datetime(2025, 1, 10, 17, 13, 37, tzinfo=datetime.timezone.utc), acctNumber='U12848716', exchange='IBKRATS', side='BOT', shares=1.0, price=0.199, permId=1655614144, clientId=0, orderId=3, liquidation=0, cumQty=1.0, avgPrice=0.199, orderRef='', evRule='', evMultiplier=0.0, modelCode='', lastLiquidity=2), commissionReport=CommissionReport(execId='0000ddc2.67812bcb.01.01', commission=0.002036, currency='USD', realizedPNL=0.0, yield_=0.0, yieldRedemptionDate=0), time=datetime.datetime(2025, 1, 10, 17, 13, 37, 297013, tzinfo=datetime.timezone.utc)),\n",
       " Fill(contract=Stock(conId=699197691, symbol='APDN', exchange='IBKRATS', currency='USD', localSymbol='APDN', tradingClass='SCM'), execution=Execution(execId='0001091d.67812ede.01.01', time=datetime.datetime(2025, 1, 10, 17, 14, 40, tzinfo=datetime.timezone.utc), acctNumber='U12848716', exchange='IBKRATS', side='BOT', shares=1.0, price=0.2, permId=1655614145, clientId=0, orderId=4, liquidation=0, cumQty=1.0, avgPrice=0.2, orderRef='', evRule='', evMultiplier=0.0, modelCode='', lastLiquidity=2), commissionReport=CommissionReport(execId='0001091d.67812ede.01.01', commission=0.010035, currency='USD', realizedPNL=0.0, yield_=0.0, yieldRedemptionDate=0), time=datetime.datetime(2025, 1, 10, 17, 14, 39, 614268, tzinfo=datetime.timezone.utc)),\n",
       " Fill(contract=Stock(conId=699197691, symbol='APDN', exchange='DARK', currency='USD', localSymbol='APDN', tradingClass='SCM'), execution=Execution(execId='0000e494.67820280.01.01', time=datetime.datetime(2025, 1, 10, 17, 15, 7, tzinfo=datetime.timezone.utc), acctNumber='U12848716', exchange='DARK', side='BOT', shares=1.0, price=0.198, permId=1655614146, clientId=0, orderId=5, liquidation=0, cumQty=1.0, avgPrice=0.198, orderRef='', evRule='', evMultiplier=0.0, modelCode='', lastLiquidity=2), commissionReport=CommissionReport(execId='0000e494.67820280.01.01', commission=0.010046, currency='USD', realizedPNL=0.0, yield_=0.0, yieldRedemptionDate=0), time=datetime.datetime(2025, 1, 10, 17, 15, 6, 921903, tzinfo=datetime.timezone.utc)),\n",
       " Fill(contract=Stock(conId=699197691, symbol='APDN', exchange='DARK', currency='USD', localSymbol='APDN', tradingClass='SCM'), execution=Execution(execId='0000e494.67820487.01.01', time=datetime.datetime(2025, 1, 10, 17, 17, 48, tzinfo=datetime.timezone.utc), acctNumber='U12848716', exchange='DARK', side='BOT', shares=1.0, price=0.198, permId=1655614147, clientId=0, orderId=6, liquidation=0, cumQty=1.0, avgPrice=0.198, orderRef='', evRule='', evMultiplier=0.0, modelCode='', lastLiquidity=2), commissionReport=CommissionReport(execId='0000e494.67820487.01.01', commission=0.010046, currency='USD', realizedPNL=0.0, yield_=0.0, yieldRedemptionDate=0), time=datetime.datetime(2025, 1, 10, 17, 17, 47, 669606, tzinfo=datetime.timezone.utc)),\n",
       " Fill(contract=Stock(conId=699197691, symbol='APDN', exchange='DARK', currency='USD', localSymbol='APDN', tradingClass='SCM'), execution=Execution(execId='0000e494.678204a1.01.01', time=datetime.datetime(2025, 1, 10, 17, 17, 53, tzinfo=datetime.timezone.utc), acctNumber='U12848716', exchange='DARK', side='BOT', shares=1.0, price=0.198, permId=1655614148, clientId=0, orderId=7, liquidation=0, cumQty=1.0, avgPrice=0.198, orderRef='', evRule='', evMultiplier=0.0, modelCode='', lastLiquidity=2), commissionReport=CommissionReport(execId='0000e494.678204a1.01.01', commission=0.010046, currency='USD', realizedPNL=0.0, yield_=0.0, yieldRedemptionDate=0), time=datetime.datetime(2025, 1, 10, 17, 17, 52, 709972, tzinfo=datetime.timezone.utc)),\n",
       " Fill(contract=Stock(conId=699197691, symbol='APDN', exchange='DARK', currency='USD', localSymbol='APDN', tradingClass='SCM'), execution=Execution(execId='0000e494.6782051d.01.01', time=datetime.datetime(2025, 1, 10, 17, 18, 31, tzinfo=datetime.timezone.utc), acctNumber='U12848716', exchange='DARK', side='BOT', shares=1.0, price=0.199, permId=1655614149, clientId=0, orderId=8, liquidation=0, cumQty=1.0, avgPrice=0.199, orderRef='', evRule='', evMultiplier=0.0, modelCode='', lastLiquidity=2), commissionReport=CommissionReport(execId='0000e494.6782051d.01.01', commission=0.010046, currency='USD', realizedPNL=0.0, yield_=0.0, yieldRedemptionDate=0), time=datetime.datetime(2025, 1, 10, 17, 18, 30, 331883, tzinfo=datetime.timezone.utc))]"
      ]
     },
     "execution_count": 23,
     "metadata": {},
     "output_type": "execute_result"
    }
   ],
   "source": [
    "#12:19\n",
    "filled = ib.fills()\n",
    "filled"
   ]
  },
  {
   "cell_type": "code",
   "execution_count": 25,
   "id": "b1d270f7-f0f9-4c7c-bded-a3b173b72c01",
   "metadata": {},
   "outputs": [
    {
     "data": {
      "text/plain": [
       "[Execution(execId='0000ddc2.67812bcb.01.01', time=datetime.datetime(2025, 1, 10, 17, 13, 37, tzinfo=datetime.timezone.utc), acctNumber='U12848716', exchange='IBKRATS', side='BOT', shares=1.0, price=0.199, permId=1655614144, clientId=0, orderId=3, liquidation=0, cumQty=1.0, avgPrice=0.199, orderRef='', evRule='', evMultiplier=0.0, modelCode='', lastLiquidity=2),\n",
       " Execution(execId='0001091d.67812ede.01.01', time=datetime.datetime(2025, 1, 10, 17, 14, 40, tzinfo=datetime.timezone.utc), acctNumber='U12848716', exchange='IBKRATS', side='BOT', shares=1.0, price=0.2, permId=1655614145, clientId=0, orderId=4, liquidation=0, cumQty=1.0, avgPrice=0.2, orderRef='', evRule='', evMultiplier=0.0, modelCode='', lastLiquidity=2),\n",
       " Execution(execId='0000e494.67820280.01.01', time=datetime.datetime(2025, 1, 10, 17, 15, 7, tzinfo=datetime.timezone.utc), acctNumber='U12848716', exchange='DARK', side='BOT', shares=1.0, price=0.198, permId=1655614146, clientId=0, orderId=5, liquidation=0, cumQty=1.0, avgPrice=0.198, orderRef='', evRule='', evMultiplier=0.0, modelCode='', lastLiquidity=2),\n",
       " Execution(execId='0000e494.67820487.01.01', time=datetime.datetime(2025, 1, 10, 17, 17, 48, tzinfo=datetime.timezone.utc), acctNumber='U12848716', exchange='DARK', side='BOT', shares=1.0, price=0.198, permId=1655614147, clientId=0, orderId=6, liquidation=0, cumQty=1.0, avgPrice=0.198, orderRef='', evRule='', evMultiplier=0.0, modelCode='', lastLiquidity=2),\n",
       " Execution(execId='0000e494.678204a1.01.01', time=datetime.datetime(2025, 1, 10, 17, 17, 53, tzinfo=datetime.timezone.utc), acctNumber='U12848716', exchange='DARK', side='BOT', shares=1.0, price=0.198, permId=1655614148, clientId=0, orderId=7, liquidation=0, cumQty=1.0, avgPrice=0.198, orderRef='', evRule='', evMultiplier=0.0, modelCode='', lastLiquidity=2),\n",
       " Execution(execId='0000e494.6782051d.01.01', time=datetime.datetime(2025, 1, 10, 17, 18, 31, tzinfo=datetime.timezone.utc), acctNumber='U12848716', exchange='DARK', side='BOT', shares=1.0, price=0.199, permId=1655614149, clientId=0, orderId=8, liquidation=0, cumQty=1.0, avgPrice=0.199, orderRef='', evRule='', evMultiplier=0.0, modelCode='', lastLiquidity=2)]"
      ]
     },
     "execution_count": 25,
     "metadata": {},
     "output_type": "execute_result"
    }
   ],
   "source": [
    "#12:20\n",
    "executions = ib.executions()\n",
    "executions"
   ]
  },
  {
   "cell_type": "code",
   "execution_count": 27,
   "id": "aefcccfe-9d51-4c04-b889-def41dae0e09",
   "metadata": {},
   "outputs": [
    {
     "data": {
      "text/plain": [
       "[]"
      ]
     },
     "execution_count": 27,
     "metadata": {},
     "output_type": "execute_result"
    }
   ],
   "source": [
    "#12:22\n",
    "open_trades = ib.openTrades()\n",
    "open_trades"
   ]
  },
  {
   "cell_type": "code",
   "execution_count": 39,
   "id": "a8911aef-3201-4208-b5db-89f3651e91b7",
   "metadata": {},
   "outputs": [],
   "source": [
    "# now lets print something when order_status has been hit\n",
    "pending_stop_loss_orders = pd.DataFrame()\n",
    "\n",
    "def order_status(trade):\n",
    "    if trade.orderStatus.status == 'Filled':\n",
    "        fill = trade.fills[-1]\n",
    "        for index, row in pending_stop_loss_orders.iterrows():\n",
    "            print(row)   \n",
    "                \n",
    "contract = Stock(\"CDT\", 'SMART', 'USD')\n",
    "limitOrder = LimitOrder('BUY', 1, 0.1228)\n",
    "limitOrderTrade = ib.placeOrder(contract, limitOrder)\n",
    "trade_details = limitOrderTrade\n",
    "\n",
    "# CREATE A DATAFRAME THAT TRACKS STOP LIMIT ORDERS MADE ALONG WITH THEIR STOP LOSS TARGETS\n",
    "new_row = pd.DataFrame({\"Ticker\": [trade_details.contract.symbol], \"Quantity\": [1], \"SLTarget\": [0.015]})\n",
    "pending_stop_loss_orders = pd.concat([pending_stop_loss_orders, new_row], ignore_index=True)\n",
    "\n",
    "# lets see what the storage looks like\n",
    "#print(pending_stop_loss_orders)\n",
    "\n",
    "limitOrderTrade.fillEvent += order_status\n",
    "#12:29"
   ]
  },
  {
   "cell_type": "code",
   "execution_count": 41,
   "id": "60f33c1e-3f2f-4eb3-a1d4-2dc66d07f731",
   "metadata": {},
   "outputs": [
    {
     "data": {
      "text/plain": [
       "[Fill(contract=Stock(conId=699197691, symbol='APDN', exchange='IBKRATS', currency='USD', localSymbol='APDN', tradingClass='SCM'), execution=Execution(execId='0000ddc2.67812bcb.01.01', time=datetime.datetime(2025, 1, 10, 17, 13, 37, tzinfo=datetime.timezone.utc), acctNumber='U12848716', exchange='IBKRATS', side='BOT', shares=1.0, price=0.199, permId=1655614144, clientId=0, orderId=3, liquidation=0, cumQty=1.0, avgPrice=0.199, orderRef='', evRule='', evMultiplier=0.0, modelCode='', lastLiquidity=2), commissionReport=CommissionReport(execId='0000ddc2.67812bcb.01.01', commission=0.002036, currency='USD', realizedPNL=0.0, yield_=0.0, yieldRedemptionDate=0), time=datetime.datetime(2025, 1, 10, 17, 13, 37, 297013, tzinfo=datetime.timezone.utc)),\n",
       " Fill(contract=Stock(conId=699197691, symbol='APDN', exchange='IBKRATS', currency='USD', localSymbol='APDN', tradingClass='SCM'), execution=Execution(execId='0001091d.67812ede.01.01', time=datetime.datetime(2025, 1, 10, 17, 14, 40, tzinfo=datetime.timezone.utc), acctNumber='U12848716', exchange='IBKRATS', side='BOT', shares=1.0, price=0.2, permId=1655614145, clientId=0, orderId=4, liquidation=0, cumQty=1.0, avgPrice=0.2, orderRef='', evRule='', evMultiplier=0.0, modelCode='', lastLiquidity=2), commissionReport=CommissionReport(execId='0001091d.67812ede.01.01', commission=0.010035, currency='USD', realizedPNL=0.0, yield_=0.0, yieldRedemptionDate=0), time=datetime.datetime(2025, 1, 10, 17, 14, 39, 614268, tzinfo=datetime.timezone.utc)),\n",
       " Fill(contract=Stock(conId=699197691, symbol='APDN', exchange='DARK', currency='USD', localSymbol='APDN', tradingClass='SCM'), execution=Execution(execId='0000e494.67820280.01.01', time=datetime.datetime(2025, 1, 10, 17, 15, 7, tzinfo=datetime.timezone.utc), acctNumber='U12848716', exchange='DARK', side='BOT', shares=1.0, price=0.198, permId=1655614146, clientId=0, orderId=5, liquidation=0, cumQty=1.0, avgPrice=0.198, orderRef='', evRule='', evMultiplier=0.0, modelCode='', lastLiquidity=2), commissionReport=CommissionReport(execId='0000e494.67820280.01.01', commission=0.010046, currency='USD', realizedPNL=0.0, yield_=0.0, yieldRedemptionDate=0), time=datetime.datetime(2025, 1, 10, 17, 15, 6, 921903, tzinfo=datetime.timezone.utc)),\n",
       " Fill(contract=Stock(conId=699197691, symbol='APDN', exchange='DARK', currency='USD', localSymbol='APDN', tradingClass='SCM'), execution=Execution(execId='0000e494.67820487.01.01', time=datetime.datetime(2025, 1, 10, 17, 17, 48, tzinfo=datetime.timezone.utc), acctNumber='U12848716', exchange='DARK', side='BOT', shares=1.0, price=0.198, permId=1655614147, clientId=0, orderId=6, liquidation=0, cumQty=1.0, avgPrice=0.198, orderRef='', evRule='', evMultiplier=0.0, modelCode='', lastLiquidity=2), commissionReport=CommissionReport(execId='0000e494.67820487.01.01', commission=0.010046, currency='USD', realizedPNL=0.0, yield_=0.0, yieldRedemptionDate=0), time=datetime.datetime(2025, 1, 10, 17, 17, 47, 669606, tzinfo=datetime.timezone.utc)),\n",
       " Fill(contract=Stock(conId=699197691, symbol='APDN', exchange='DARK', currency='USD', localSymbol='APDN', tradingClass='SCM'), execution=Execution(execId='0000e494.678204a1.01.01', time=datetime.datetime(2025, 1, 10, 17, 17, 53, tzinfo=datetime.timezone.utc), acctNumber='U12848716', exchange='DARK', side='BOT', shares=1.0, price=0.198, permId=1655614148, clientId=0, orderId=7, liquidation=0, cumQty=1.0, avgPrice=0.198, orderRef='', evRule='', evMultiplier=0.0, modelCode='', lastLiquidity=2), commissionReport=CommissionReport(execId='0000e494.678204a1.01.01', commission=0.010046, currency='USD', realizedPNL=0.0, yield_=0.0, yieldRedemptionDate=0), time=datetime.datetime(2025, 1, 10, 17, 17, 52, 709972, tzinfo=datetime.timezone.utc)),\n",
       " Fill(contract=Stock(conId=699197691, symbol='APDN', exchange='DARK', currency='USD', localSymbol='APDN', tradingClass='SCM'), execution=Execution(execId='0000e494.6782051d.01.01', time=datetime.datetime(2025, 1, 10, 17, 18, 31, tzinfo=datetime.timezone.utc), acctNumber='U12848716', exchange='DARK', side='BOT', shares=1.0, price=0.199, permId=1655614149, clientId=0, orderId=8, liquidation=0, cumQty=1.0, avgPrice=0.199, orderRef='', evRule='', evMultiplier=0.0, modelCode='', lastLiquidity=2), commissionReport=CommissionReport(execId='0000e494.6782051d.01.01', commission=0.010046, currency='USD', realizedPNL=0.0, yield_=0.0, yieldRedemptionDate=0), time=datetime.datetime(2025, 1, 10, 17, 18, 30, 331883, tzinfo=datetime.timezone.utc)),\n",
       " Fill(contract=Stock(conId=656170396, symbol='CDT', exchange='DARK', currency='USD', localSymbol='CDT', tradingClass='NMS'), execution=Execution(execId='0000d5d6.678190a7.01.01', time=datetime.datetime(2025, 1, 10, 17, 34, 28, tzinfo=datetime.timezone.utc), acctNumber='U12848716', exchange='DARK', side='BOT', shares=1.0, price=0.1226, permId=1655614155, clientId=0, orderId=15, liquidation=0, cumQty=1.0, avgPrice=0.1226, orderRef='', evRule='', evMultiplier=0.0, modelCode='', lastLiquidity=2), commissionReport=CommissionReport(execId='0000d5d6.678190a7.01.01', commission=0.001272, currency='USD', realizedPNL=0.0, yield_=0.0, yieldRedemptionDate=0), time=datetime.datetime(2025, 1, 10, 17, 34, 28, 4547, tzinfo=datetime.timezone.utc)),\n",
       " Fill(contract=Stock(conId=586262891, symbol='SYRS', exchange='DARK', currency='USD', localSymbol='SYRS', tradingClass='NMS'), execution=Execution(execId='0000e494.67820e3b.01.01', time=datetime.datetime(2025, 1, 10, 17, 34, 53, tzinfo=datetime.timezone.utc), acctNumber='U12848716', exchange='DARK', side='BOT', shares=1.0, price=0.2093, permId=1655614152, clientId=0, orderId=11, liquidation=0, cumQty=1.0, avgPrice=0.2093, orderRef='', evRule='', evMultiplier=0.0, modelCode='', lastLiquidity=2), commissionReport=CommissionReport(execId='0000e494.67820e3b.01.01', commission=0.010046, currency='USD', realizedPNL=0.0, yield_=0.0, yieldRedemptionDate=0), time=datetime.datetime(2025, 1, 10, 17, 34, 52, 676508, tzinfo=datetime.timezone.utc)),\n",
       " Fill(contract=Stock(conId=656170396, symbol='CDT', exchange='NASDAQ', currency='USD', localSymbol='CDT', tradingClass='NMS'), execution=Execution(execId='000100df.678160a2.01.01', time=datetime.datetime(2025, 1, 10, 17, 35, tzinfo=datetime.timezone.utc), acctNumber='U12848716', exchange='NASDAQ', side='BOT', shares=1.0, price=0.122, permId=1655614154, clientId=0, orderId=14, liquidation=0, cumQty=1.0, avgPrice=0.122, orderRef='', evRule='', evMultiplier=0.0, modelCode='', lastLiquidity=1), commissionReport=CommissionReport(execId='000100df.678160a2.01.01', commission=0.010035, currency='USD', realizedPNL=0.0, yield_=0.0, yieldRedemptionDate=0), time=datetime.datetime(2025, 1, 10, 17, 34, 59, 297071, tzinfo=datetime.timezone.utc))]"
      ]
     },
     "execution_count": 41,
     "metadata": {},
     "output_type": "execute_result"
    }
   ],
   "source": [
    "#12:36\n",
    "filled = ib.fills()\n",
    "filled"
   ]
  },
  {
   "cell_type": "code",
   "execution_count": null,
   "id": "4c20a8cb-3017-4d1a-9edb-00133e615f2d",
   "metadata": {},
   "outputs": [],
   "source": []
  },
  {
   "cell_type": "code",
   "execution_count": 45,
   "id": "5a662a78-bc97-480e-a135-c72ec2ff077a",
   "metadata": {},
   "outputs": [],
   "source": [
    "# now lets print something when order_status has been hit\n",
    "def order_status(trade):\n",
    "    if trade.orderStatus.status == 'Filled':\n",
    "        fill = trade.fills[-1]\n",
    "        print(fill())\n",
    "                \n",
    "contract = Stock(\"CDT\", 'SMART', 'USD')\n",
    "limitOrder = LimitOrder('BUY', 1, 0.1218)\n",
    "limitOrderTrade = ib.placeOrder(contract, limitOrder)\n",
    "trade_details = limitOrderTrade\n",
    "\n",
    "\n",
    "\n",
    "\n",
    "limitOrderTrade.fillEvent += order_status\n",
    "#12:39 it corssed over and nothing appeared to happen wiht the print"
   ]
  },
  {
   "cell_type": "code",
   "execution_count": 47,
   "id": "9e252ab3-a414-4421-90ad-5cc88abf84ed",
   "metadata": {},
   "outputs": [
    {
     "data": {
      "text/plain": [
       "[Fill(contract=Stock(conId=699197691, symbol='APDN', exchange='IBKRATS', currency='USD', localSymbol='APDN', tradingClass='SCM'), execution=Execution(execId='0000ddc2.67812bcb.01.01', time=datetime.datetime(2025, 1, 10, 17, 13, 37, tzinfo=datetime.timezone.utc), acctNumber='U12848716', exchange='IBKRATS', side='BOT', shares=1.0, price=0.199, permId=1655614144, clientId=0, orderId=3, liquidation=0, cumQty=1.0, avgPrice=0.199, orderRef='', evRule='', evMultiplier=0.0, modelCode='', lastLiquidity=2), commissionReport=CommissionReport(execId='0000ddc2.67812bcb.01.01', commission=0.002036, currency='USD', realizedPNL=0.0, yield_=0.0, yieldRedemptionDate=0), time=datetime.datetime(2025, 1, 10, 17, 13, 37, 297013, tzinfo=datetime.timezone.utc)),\n",
       " Fill(contract=Stock(conId=699197691, symbol='APDN', exchange='IBKRATS', currency='USD', localSymbol='APDN', tradingClass='SCM'), execution=Execution(execId='0001091d.67812ede.01.01', time=datetime.datetime(2025, 1, 10, 17, 14, 40, tzinfo=datetime.timezone.utc), acctNumber='U12848716', exchange='IBKRATS', side='BOT', shares=1.0, price=0.2, permId=1655614145, clientId=0, orderId=4, liquidation=0, cumQty=1.0, avgPrice=0.2, orderRef='', evRule='', evMultiplier=0.0, modelCode='', lastLiquidity=2), commissionReport=CommissionReport(execId='0001091d.67812ede.01.01', commission=0.010035, currency='USD', realizedPNL=0.0, yield_=0.0, yieldRedemptionDate=0), time=datetime.datetime(2025, 1, 10, 17, 14, 39, 614268, tzinfo=datetime.timezone.utc)),\n",
       " Fill(contract=Stock(conId=699197691, symbol='APDN', exchange='DARK', currency='USD', localSymbol='APDN', tradingClass='SCM'), execution=Execution(execId='0000e494.67820280.01.01', time=datetime.datetime(2025, 1, 10, 17, 15, 7, tzinfo=datetime.timezone.utc), acctNumber='U12848716', exchange='DARK', side='BOT', shares=1.0, price=0.198, permId=1655614146, clientId=0, orderId=5, liquidation=0, cumQty=1.0, avgPrice=0.198, orderRef='', evRule='', evMultiplier=0.0, modelCode='', lastLiquidity=2), commissionReport=CommissionReport(execId='0000e494.67820280.01.01', commission=0.010046, currency='USD', realizedPNL=0.0, yield_=0.0, yieldRedemptionDate=0), time=datetime.datetime(2025, 1, 10, 17, 15, 6, 921903, tzinfo=datetime.timezone.utc)),\n",
       " Fill(contract=Stock(conId=699197691, symbol='APDN', exchange='DARK', currency='USD', localSymbol='APDN', tradingClass='SCM'), execution=Execution(execId='0000e494.67820487.01.01', time=datetime.datetime(2025, 1, 10, 17, 17, 48, tzinfo=datetime.timezone.utc), acctNumber='U12848716', exchange='DARK', side='BOT', shares=1.0, price=0.198, permId=1655614147, clientId=0, orderId=6, liquidation=0, cumQty=1.0, avgPrice=0.198, orderRef='', evRule='', evMultiplier=0.0, modelCode='', lastLiquidity=2), commissionReport=CommissionReport(execId='0000e494.67820487.01.01', commission=0.010046, currency='USD', realizedPNL=0.0, yield_=0.0, yieldRedemptionDate=0), time=datetime.datetime(2025, 1, 10, 17, 17, 47, 669606, tzinfo=datetime.timezone.utc)),\n",
       " Fill(contract=Stock(conId=699197691, symbol='APDN', exchange='DARK', currency='USD', localSymbol='APDN', tradingClass='SCM'), execution=Execution(execId='0000e494.678204a1.01.01', time=datetime.datetime(2025, 1, 10, 17, 17, 53, tzinfo=datetime.timezone.utc), acctNumber='U12848716', exchange='DARK', side='BOT', shares=1.0, price=0.198, permId=1655614148, clientId=0, orderId=7, liquidation=0, cumQty=1.0, avgPrice=0.198, orderRef='', evRule='', evMultiplier=0.0, modelCode='', lastLiquidity=2), commissionReport=CommissionReport(execId='0000e494.678204a1.01.01', commission=0.010046, currency='USD', realizedPNL=0.0, yield_=0.0, yieldRedemptionDate=0), time=datetime.datetime(2025, 1, 10, 17, 17, 52, 709972, tzinfo=datetime.timezone.utc)),\n",
       " Fill(contract=Stock(conId=699197691, symbol='APDN', exchange='DARK', currency='USD', localSymbol='APDN', tradingClass='SCM'), execution=Execution(execId='0000e494.6782051d.01.01', time=datetime.datetime(2025, 1, 10, 17, 18, 31, tzinfo=datetime.timezone.utc), acctNumber='U12848716', exchange='DARK', side='BOT', shares=1.0, price=0.199, permId=1655614149, clientId=0, orderId=8, liquidation=0, cumQty=1.0, avgPrice=0.199, orderRef='', evRule='', evMultiplier=0.0, modelCode='', lastLiquidity=2), commissionReport=CommissionReport(execId='0000e494.6782051d.01.01', commission=0.010046, currency='USD', realizedPNL=0.0, yield_=0.0, yieldRedemptionDate=0), time=datetime.datetime(2025, 1, 10, 17, 18, 30, 331883, tzinfo=datetime.timezone.utc)),\n",
       " Fill(contract=Stock(conId=656170396, symbol='CDT', exchange='DARK', currency='USD', localSymbol='CDT', tradingClass='NMS'), execution=Execution(execId='0000d5d6.678190a7.01.01', time=datetime.datetime(2025, 1, 10, 17, 34, 28, tzinfo=datetime.timezone.utc), acctNumber='U12848716', exchange='DARK', side='BOT', shares=1.0, price=0.1226, permId=1655614155, clientId=0, orderId=15, liquidation=0, cumQty=1.0, avgPrice=0.1226, orderRef='', evRule='', evMultiplier=0.0, modelCode='', lastLiquidity=2), commissionReport=CommissionReport(execId='0000d5d6.678190a7.01.01', commission=0.001272, currency='USD', realizedPNL=0.0, yield_=0.0, yieldRedemptionDate=0), time=datetime.datetime(2025, 1, 10, 17, 34, 28, 4547, tzinfo=datetime.timezone.utc)),\n",
       " Fill(contract=Stock(conId=586262891, symbol='SYRS', exchange='DARK', currency='USD', localSymbol='SYRS', tradingClass='NMS'), execution=Execution(execId='0000e494.67820e3b.01.01', time=datetime.datetime(2025, 1, 10, 17, 34, 53, tzinfo=datetime.timezone.utc), acctNumber='U12848716', exchange='DARK', side='BOT', shares=1.0, price=0.2093, permId=1655614152, clientId=0, orderId=11, liquidation=0, cumQty=1.0, avgPrice=0.2093, orderRef='', evRule='', evMultiplier=0.0, modelCode='', lastLiquidity=2), commissionReport=CommissionReport(execId='0000e494.67820e3b.01.01', commission=0.010046, currency='USD', realizedPNL=0.0, yield_=0.0, yieldRedemptionDate=0), time=datetime.datetime(2025, 1, 10, 17, 34, 52, 676508, tzinfo=datetime.timezone.utc)),\n",
       " Fill(contract=Stock(conId=656170396, symbol='CDT', exchange='NASDAQ', currency='USD', localSymbol='CDT', tradingClass='NMS'), execution=Execution(execId='000100df.678160a2.01.01', time=datetime.datetime(2025, 1, 10, 17, 35, tzinfo=datetime.timezone.utc), acctNumber='U12848716', exchange='NASDAQ', side='BOT', shares=1.0, price=0.122, permId=1655614154, clientId=0, orderId=14, liquidation=0, cumQty=1.0, avgPrice=0.122, orderRef='', evRule='', evMultiplier=0.0, modelCode='', lastLiquidity=1), commissionReport=CommissionReport(execId='000100df.678160a2.01.01', commission=0.010035, currency='USD', realizedPNL=0.0, yield_=0.0, yieldRedemptionDate=0), time=datetime.datetime(2025, 1, 10, 17, 34, 59, 297071, tzinfo=datetime.timezone.utc)),\n",
       " Fill(contract=Stock(conId=656170396, symbol='CDT', exchange='DARK', currency='USD', localSymbol='CDT', tradingClass='NMS'), execution=Execution(execId='00030f00.6781e29e.01.01', time=datetime.datetime(2025, 1, 10, 17, 38, 53, tzinfo=datetime.timezone.utc), acctNumber='U12848716', exchange='DARK', side='BOT', shares=1.0, price=0.1217, permId=1655614156, clientId=0, orderId=16, liquidation=0, cumQty=1.0, avgPrice=0.1217, orderRef='', evRule='', evMultiplier=0.0, modelCode='', lastLiquidity=2), commissionReport=CommissionReport(execId='00030f00.6781e29e.01.01', commission=0.010046, currency='USD', realizedPNL=0.0, yield_=0.0, yieldRedemptionDate=0), time=datetime.datetime(2025, 1, 10, 17, 38, 52, 445968, tzinfo=datetime.timezone.utc))]"
      ]
     },
     "execution_count": 47,
     "metadata": {},
     "output_type": "execute_result"
    }
   ],
   "source": [
    "#12:40\n",
    "filled = ib.fills()\n",
    "filled"
   ]
  },
  {
   "cell_type": "code",
   "execution_count": null,
   "id": "6b995120-379d-4272-98e0-b527b46d8301",
   "metadata": {},
   "outputs": [],
   "source": []
  },
  {
   "cell_type": "code",
   "execution_count": null,
   "id": "1eba87a0-da06-4375-9082-d3ddfda75041",
   "metadata": {},
   "outputs": [],
   "source": []
  },
  {
   "cell_type": "code",
   "execution_count": null,
   "id": "0ab9bf95-63ec-4bbd-89e4-da7aac579e27",
   "metadata": {},
   "outputs": [],
   "source": [
    "test_pd = pd.DataFrame()"
   ]
  },
  {
   "cell_type": "code",
   "execution_count": null,
   "id": "1f22e259-0b20-41a7-8192-456c8179751f",
   "metadata": {},
   "outputs": [],
   "source": [
    "\n",
    "\n",
    "new_row = pd.DataFrame({\"Ticker\": [\"AAAA\"], \"Quantity\": [1], \"SLTarget\": [0.015]})\n",
    "#test_pd = pd.concat([test_pd, new_row], ignore_index=True)\n",
    "\n",
    "print(test_pd)\n",
    "\n",
    "for index, row in test_pd.iterrows():\n",
    "            if(index == 2):\n",
    "                test_pd.drop(index, inplace=True) \n",
    "                # https://stackoverflow.com/questions/28876243/how-to-delete-the-current-row-in-pandas-dataframe-during-df-iterrows\n",
    "\n",
    "print(test_pd)"
   ]
  },
  {
   "cell_type": "code",
   "execution_count": null,
   "id": "dd2cf90b-f358-4580-ad82-de11b1df0b06",
   "metadata": {},
   "outputs": [],
   "source": [
    "pending_stop_loss_orders = pd.DataFrame()"
   ]
  },
  {
   "cell_type": "code",
   "execution_count": null,
   "id": "2ad3e4ec",
   "metadata": {},
   "outputs": [],
   "source": [
    "def order_status(trade):\n",
    "    if trade.orderStatus.status == 'Filled':\n",
    "        fill = trade.fills[-1]\n",
    "        for index, row in pending_stop_loss_orders.iterrows():\n",
    "            if(row['Ticker'] == fill.contract.symbol and row['Quantity'] == fill.execution.shares):\n",
    "                \n",
    "                contract = Stock(fill.contract.symbol, 'SMART', 'USD')\n",
    "                stopOrder = StopOrder('SELL', fill.execution.shares, row['SLTarget'])\n",
    "                stopOrderTrade = ib.placeOrder(contract, stopOrder)\n",
    "                \n",
    "                pending_stop_loss_orders.drop(index, inplace=True)   # no longer useful to keep (does this work?)\n",
    "                break\n",
    "                \n",
    "                \n",
    "contract = Stock(\"SYRS\", 'SMART', 'USD')\n",
    "limitOrder = LimitOrder('BUY', 1, 0.19)\n",
    "limitOrderTrade = ib.placeOrder(contract, limitOrder)\n",
    "trade_details = limitOrderTrade\n",
    "\n",
    "# CREATE A DATAFRAME THAT TRACKS STOP LIMIT ORDERS MADE ALONG WITH THEIR STOP LOSS TARGETS\n",
    "new_row = pd.DataFrame({\"Ticker\": [trade_details.contract.symbol], \"Quantity\": [1], \"SLTarget\": [0.015]})\n",
    "pending_stop_loss_orders = pd.concat([pending_stop_loss_orders, new_row], ignore_index=True)\n",
    "\n",
    "# lets see what the storage looks like\n",
    "print(pending_stop_loss_orders)\n",
    "\n",
    "limitOrderTrade.fillEvent += order_status"
   ]
  },
  {
   "cell_type": "code",
   "execution_count": null,
   "id": "8fcf3bca-597b-4705-b669-8ab2035ed878",
   "metadata": {},
   "outputs": [],
   "source": [
    "# lets see what executions gives in information and parse it up\n",
    "tester = ib.executions()\n",
    "tester"
   ]
  },
  {
   "cell_type": "code",
   "execution_count": null,
   "id": "0a4444f5-bf7e-4a71-9422-1e5470a91ff9",
   "metadata": {},
   "outputs": [],
   "source": [
    "# lets see what fills gives in information and parse it up\n",
    "tester = ib.fills()\n",
    "tester"
   ]
  },
  {
   "cell_type": "code",
   "execution_count": null,
   "id": "181be4f0-91d1-4dc7-a8a3-bf95256fd0a5",
   "metadata": {},
   "outputs": [],
   "source": [
    "# lets see what openTrades gives in information and parse it up\n",
    "tester = ib.openTrades()\n",
    "tester"
   ]
  },
  {
   "cell_type": "code",
   "execution_count": null,
   "id": "93c2ee17-cd80-4318-bbea-3ece3165749f",
   "metadata": {},
   "outputs": [],
   "source": []
  },
  {
   "cell_type": "code",
   "execution_count": null,
   "id": "3f6e95f4-6448-41c8-9714-2380b0aa3b07",
   "metadata": {},
   "outputs": [],
   "source": []
  }
 ],
 "metadata": {
  "kernelspec": {
   "display_name": "Python [conda env:base] *",
   "language": "python",
   "name": "conda-base-py"
  },
  "language_info": {
   "codemirror_mode": {
    "name": "ipython",
    "version": 3
   },
   "file_extension": ".py",
   "mimetype": "text/x-python",
   "name": "python",
   "nbconvert_exporter": "python",
   "pygments_lexer": "ipython3",
   "version": "3.12.7"
  }
 },
 "nbformat": 4,
 "nbformat_minor": 5
}
