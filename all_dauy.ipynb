{
 "cells": [
  {
   "cell_type": "code",
   "execution_count": null,
   "id": "b2e81a05",
   "metadata": {},
   "outputs": [],
   "source": [
    "from ib_insync import *\n",
    "import requests\n",
    "import pandas as pd\n",
    "import schedule\n",
    "import time\n",
    "import datetime;\n",
    "from bs4 import BeautifulSoup\n",
    "import warnings\n",
    "warnings.filterwarnings(\"ignore\", category=RuntimeWarning) \n",
    "# https://stackoverflow.com/questions/44933518/how-to-remove-runtimewarning-errors-from-code\n",
    "\n",
    "util.startLoop()  # only use in interactive environments (i.e. Jupyter Notebooks)\n",
    "# https://algotrading101.com/learn/ib_insync-interactive-brokers-api-guide/\n",
    "# https://www.reddit.com/r/interactivebrokers/comments/1cccg0t/ib_insync_reqhistoricaldata_with_keepuptodatetrue/\n",
    "# https://github.com/erdewit/ib_insync/issues/653"
   ]
  },
  {
   "cell_type": "code",
   "execution_count": null,
   "id": "8530b4c2",
   "metadata": {},
   "outputs": [],
   "source": [
    "#WORKING\n",
    "counter_of_numbers = 0\n",
    "ib = IB()\n",
    "ib.connect(host='127.0.0.1', port=7496, clientId=0)\n",
    "# https://www.elitetrader.com/et/threads/cant-connect-to-api-interactive-brokers.361205/\n",
    "# needed to change socket port to 7496 and uncheck the Read-Only API box"
   ]
  },
  {
   "cell_type": "code",
   "execution_count": null,
   "id": "9e9b1b51",
   "metadata": {},
   "outputs": [],
   "source": [
    "#tester = ib.trades()\n",
    "#tester1 = tester[-1]\n",
    "#tester2 = tester1.contract.symbol, tester1.order.lmtPrice\n",
    "#tester"
   ]
  },
  {
   "cell_type": "code",
   "execution_count": null,
   "id": "d67160a8",
   "metadata": {},
   "outputs": [],
   "source": [
    "#posits = ib.positions()\n",
    "\n",
    "#for _ in range(len(posits)): \n",
    "#    print(posits[_].avgCost)"
   ]
  },
  {
   "cell_type": "markdown",
   "id": "9262ec51",
   "metadata": {},
   "source": [
    "# End of Types of Functions"
   ]
  },
  {
   "cell_type": "code",
   "execution_count": null,
   "id": "ca54b4e6",
   "metadata": {},
   "outputs": [],
   "source": [
    "tester = ib.trades()\n",
    "tester"
   ]
  },
  {
   "cell_type": "code",
   "execution_count": null,
   "id": "67ae082d",
   "metadata": {},
   "outputs": [],
   "source": [
    "pending_stop_loss_orders = pd.DataFrame()\n",
    "\n",
    "def order_status(trade):\n",
    "    if trade.orderStatus.status == 'Filled':\n",
    "        fill = trade.fills[-1]\n",
    "        for index, row in pending_stop_loss_orders.iterrows():\n",
    "            if(row['Ticker'] == fill.contract.symbol and row['Quantity'] == fill.execution.shares):\n",
    "                \n",
    "                contract = Stock(fill.contract.symbol, 'SMART', 'USD')\n",
    "                stopOrder = StopOrder('SELL', fill.execution.shares, row['SLTarget'])\n",
    "                stopOrderTrade = ib.placeOrder(contract, stopOrder)\n",
    "                \n",
    "                pending_stop_loss_orders.drop(row)   # no longer useful to keep (does this work?)\n",
    "                break\n",
    "                \n",
    "                \n",
    "contract = Stock(\"SYRS\", 'SMART', 'USD')\n",
    "limitOrder = LimitOrder('BUY', 1, 0.19)\n",
    "limitOrderTrade = ib.placeOrder(contract, limitOrder)\n",
    "trade_details = limitOrderTrade\n",
    "\n",
    "# CREATE A DATAFRAME THAT TRACKS STOP LIMIT ORDERS MADE ALONG WITH THEIR STOP LOSS TARGETS\n",
    "new_row = pd.DataFrame({\"Ticker\": [trade_details.contract.symbol], \"Quantity\": [1], \"SLTarget\": [0.015]})\n",
    "pending_stop_loss_orders = pd.concat([pending_stop_loss_orders, new_row], ignore_index=True)\n",
    "\n",
    "limitOrderTrade.fillEvent += order_status"
   ]
  },
  {
   "cell_type": "code",
   "execution_count": null,
   "id": "9c5df94f",
   "metadata": {},
   "outputs": [],
   "source": [
    "tester = ib.executions()\n",
    "tester"
   ]
  },
  {
   "cell_type": "code",
   "execution_count": null,
   "id": "20392488",
   "metadata": {},
   "outputs": [],
   "source": [
    "tester = ib.fills()\n",
    "tester"
   ]
  },
  {
   "cell_type": "code",
   "execution_count": null,
   "id": "48161856",
   "metadata": {},
   "outputs": [],
   "source": [
    "tester = ib.openTrades()\n",
    "tester"
   ]
  },
  {
   "cell_type": "code",
   "execution_count": null,
   "id": "f987617a",
   "metadata": {},
   "outputs": [],
   "source": []
  },
  {
   "cell_type": "code",
   "execution_count": null,
   "id": "bcf78ef2",
   "metadata": {},
   "outputs": [],
   "source": []
  },
  {
   "cell_type": "code",
   "execution_count": null,
   "id": "37d97f5d",
   "metadata": {},
   "outputs": [],
   "source": [
    "\n",
    "contract = Stock(\"TSLA\", 'SMART', 'USD')\n",
    "limitStopOrder = StopLimitOrder('BUY', 1, 0.40, 0.50)\n",
    "limitStopOrderTrade = ib.placeOrder(contract, limitStopOrder)\n",
    "data = limitStopOrderTrade\n",
    "print(data)\n",
    "\n",
    "new_row = pd.DataFrame({\"Ticker\": [data.contract.symbol], \"Quantity\": [data.order.totalQuantity], \"BuyInTarget\": [data.order.lmtPrice], \"StopLossTarget\": [1.00]})\n",
    "df = pd.concat([df, new_row], ignore_index=True)\n",
    "print(df)\n",
    "#bracket_LSO_Trade = ib.placeOrder(contract, bracket_LSO)\n",
    "#bracket_LSO_Trade\n",
    "\n",
    "#limitStopOrderTrade = ib.placeOrder(contract, limitStopOrder)\n",
    "\n",
    "#bracketed_LSO = BracketOrder(limitStopOrderTrade, 0.60, 0.30)\n",
    "                \n",
    "#limitStopOrderTrade # execute   \n",
    "#bracketed_LSO_Trade = ib.placeOrder(contract, bracketed_LSO) \n",
    "#bracketed_LSO_Trade # execute"
   ]
  }
 ],
 "metadata": {
  "kernelspec": {
   "display_name": "Python 3 (ipykernel)",
   "language": "python",
   "name": "python3"
  },
  "language_info": {
   "codemirror_mode": {
    "name": "ipython",
    "version": 3
   },
   "file_extension": ".py",
   "mimetype": "text/x-python",
   "name": "python",
   "nbconvert_exporter": "python",
   "pygments_lexer": "ipython3",
   "version": "3.10.9"
  }
 },
 "nbformat": 4,
 "nbformat_minor": 5
}
