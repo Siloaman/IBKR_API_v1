{
 "cells": [
  {
   "cell_type": "code",
   "execution_count": 4,
   "id": "660db55c-332d-4adb-9d16-26d1cea8f54f",
   "metadata": {},
   "outputs": [
    {
     "name": "stdout",
     "output_type": "stream",
     "text": [
      "Collecting ibapi\n",
      "  Downloading ibapi-9.81.1.post1.tar.gz (61 kB)\n",
      "  Preparing metadata (setup.py): started\n",
      "  Preparing metadata (setup.py): finished with status 'done'\n",
      "Building wheels for collected packages: ibapi\n",
      "  Building wheel for ibapi (setup.py): started\n",
      "  Building wheel for ibapi (setup.py): finished with status 'done'\n",
      "  Created wheel for ibapi: filename=ibapi-9.81.1.post1-py3-none-any.whl size=67965 sha256=f682f9bf7e9b1c8b7b1f1edbfdb0fac349aedd14dea3f8ba80f0b61c0e376782\n",
      "  Stored in directory: c:\\users\\desir\\appdata\\local\\pip\\cache\\wheels\\07\\e7\\d4\\b94d0968474f56f8a2c3eafe3debcc340f15ef1ba362eb38a8\n",
      "Successfully built ibapi\n",
      "Installing collected packages: ibapi\n",
      "Successfully installed ibapi-9.81.1.post1\n"
     ]
    }
   ],
   "source": [
    "# !pip install ib_insync\n",
    "# !pip install schedule\n",
    "# !pip install ibapi"
   ]
  },
  {
   "cell_type": "code",
   "execution_count": 10,
   "id": "974e50e4-692c-4024-87d3-424c9b6d3462",
   "metadata": {},
   "outputs": [],
   "source": [
    "from ib_insync import *\n",
    "import requests\n",
    "import pandas as pd\n",
    "import schedule\n",
    "import time\n",
    "import datetime;\n",
    "from bs4 import BeautifulSoup\n",
    "import warnings\n",
    "from ibapi.client import EClient\n",
    "#from ibapi.order_cancel import OrderCancel\n",
    "warnings.filterwarnings(\"ignore\", category=RuntimeWarning)\n",
    "\n",
    "util.startLoop()  # only use in interactive environments (i.e. Jupyter Notebooks)\n",
    "\n",
    "# https://github.com/PacktPublishing/Python-for-Algorithmic-Trading-Cookbook/issues/7\n",
    "# https://www.interactivebrokers.com/campus/ibkr-api-page/order-types/#market-on-open-order \n",
    "class IBClient(EClient):\n",
    "\n",
    "    def __init__(self, wrapper):\n",
    "        EClient.__init__(self, wrapper)\n",
    "    \n",
    "    def cancel_all_orders(self):\n",
    "        self.reqGlobalCancel()\n",
    "\n",
    "    def cancel_order_by_id(self, order_id):\n",
    "        order_cancel = OrderCancel()\n",
    "        self.cancelOrder(orderId=order_id, orderCancel=order_cancel)\n",
    "\n",
    "    def update_order(self, contract, order, order_id):\n",
    "        self.cancel_order_by_id(order_id)\n",
    "        return self.send_order(contract=contract, order=order)\n",
    "\n"
   ]
  },
  {
   "cell_type": "code",
   "execution_count": 12,
   "id": "e1ea6417-d43c-42c5-86e0-acd27e18290d",
   "metadata": {},
   "outputs": [
    {
     "data": {
      "text/plain": [
       "<IB connected to 127.0.0.1:7496 clientId=0>"
      ]
     },
     "execution_count": 12,
     "metadata": {},
     "output_type": "execute_result"
    }
   ],
   "source": [
    "ib = IB()\n",
    "ib.connect(host='127.0.0.1', port=7496, clientId=0)\n",
    "# https://www.elitetrader.com/et/threads/cant-connect-to-api-interactive-brokers.361205/\n",
    "# needed to change socket port to 7496 and uncheck the Read-Only API box"
   ]
  },
  {
   "cell_type": "code",
   "execution_count": 16,
   "id": "7ae79f2d-86bd-409f-a8eb-8691834086ac",
   "metadata": {},
   "outputs": [
    {
     "data": {
      "text/plain": [
       "[Position(account='U12848716', contract=Stock(conId=700941285, symbol='NUVOQ', exchange='PINK', currency='USD', localSymbol='NUVOQ', tradingClass='NUVOQ'), position=275.0, avgCost=0.24124875),\n",
       " Position(account='U12848716', contract=Stock(conId=656170396, symbol='CDT', exchange='NASDAQ', currency='USD', localSymbol='CDT', tradingClass='NMS'), position=4.0, avgCost=0.129425),\n",
       " Position(account='U12848716', contract=Stock(conId=447584486, symbol='ZOM', exchange='AMEX', currency='USD', localSymbol='ZOM', tradingClass='ZOM'), position=1.0, avgCost=0.14),\n",
       " Position(account='U12848716', contract=Stock(conId=586262891, symbol='SYRS', exchange='NASDAQ', currency='USD', localSymbol='SYRS', tradingClass='NMS'), position=1.0, avgCost=0.2193)]"
      ]
     },
     "execution_count": 16,
     "metadata": {},
     "output_type": "execute_result"
    }
   ],
   "source": [
    "pending_stop_loss_orders = pd.DataFrame() # define and create one time\n",
    "pos = ib.positions()\n",
    "pos"
   ]
  },
  {
   "cell_type": "code",
   "execution_count": null,
   "id": "dad422f7-36d8-498a-b86f-3ce7ed2c7d9a",
   "metadata": {},
   "outputs": [],
   "source": [
    "# util.logToConsole()\n",
    "\n",
    "def order_status(trade):\n",
    " # okay wtf DOES trade brimg with it exactly? \n",
    "    if trade.orderStatus.status == 'Filled':\n",
    "        fill = trade.fills[-1]\n",
    "        fill\n",
    "        #for index, row in pending_stop_loss_orders.iterrows():\n",
    "        #    if(row['TK'] == fill.contract.symbol and row['QT'] == fill.execution.shares):\n",
    "                \n",
    "        contract = Stock('TSLA', 'SMART', 'USD')\n",
    "        stopOrder = StopOrder('BUY', fill.execution.shares, 10.10)\n",
    "        stopOrderTrade = ib.placeOrder(contract, stopOrder)\n",
    "        stopOrderTrade\n",
    "                \n",
    "                #pending_stop_loss_orders.drop(index, inplace=True)   # no longer useful to keep (does this work?)\n",
    "                \n",
    "                \n",
    "# test orders with day high volatility stocks\n",
    "sym = 'GLXG'\n",
    "test_symbols = [sym, sym]\n",
    "\n",
    "\n",
    "\n",
    "for test in test_symbols:\n",
    "    \n",
    "    contract = Stock(test, 'SMART', 'USD')\n",
    "\n",
    "    ib.qualifyContracts(contract)\n",
    "    data = ib.reqMktData(contract)\n",
    "    ib.sleep(2) # data.marketPrice() doesn't work without ib.sleep (few seconds)\n",
    "    current_price = data.marketPrice()\n",
    "    \n",
    "    limitOrder = LimitOrder('BUY', 1, round(current_price * 1.015, 2))    \n",
    "    limitOrderTrade = ib.placeOrder(contract, limitOrder)\n",
    "    # limitOrderTrade contains the order and everything related to it, such as order status, fills and a log.\n",
    "    # It will be live updated with every status change or fill of the order.\n",
    "        \n",
    "    # CREATE A DATAFRAME THAT TRACKS STOP LIMIT ORDERS MADE ALONG WITH THEIR STOP LOSS TARGETS\n",
    "    new_row = pd.DataFrame({\"TK\": [limitOrderTrade.contract.symbol], \"QT\": [limitOrderTrade.order.totalQuantity], \n",
    "                            \"OID\": [limitOrderTrade.order.orderId], \"SLT\": [round(current_price * 1.25, 2)]})\n",
    "    pending_stop_loss_orders = pd.concat([pending_stop_loss_orders, new_row], ignore_index=True)\n",
    "    \n",
    "    limitOrderTrade.fillEvent += order_status"
   ]
  },
  {
   "cell_type": "code",
   "execution_count": null,
   "id": "2a6d5a64-1b49-42f3-9c58-0db737fcf726",
   "metadata": {},
   "outputs": [],
   "source": [
    "trads = ib.trades()\n",
    "trads"
   ]
  },
  {
   "cell_type": "code",
   "execution_count": null,
   "id": "604ed650-5f77-4569-9990-48836035dcba",
   "metadata": {},
   "outputs": [],
   "source": [
    "trads = ib.trades()\n",
    "trads"
   ]
  },
  {
   "cell_type": "code",
   "execution_count": null,
   "id": "5c75184d-0a9f-48bb-b7a1-96643e62f8bd",
   "metadata": {},
   "outputs": [],
   "source": []
  },
  {
   "cell_type": "code",
   "execution_count": null,
   "id": "5af4c465-9c13-4ed5-8d4f-62c58a542e4a",
   "metadata": {},
   "outputs": [],
   "source": [
    "trads[0].contract.symbol"
   ]
  },
  {
   "cell_type": "code",
   "execution_count": null,
   "id": "88ecd2c0-7f61-42c1-9a9d-55ce9266eef6",
   "metadata": {},
   "outputs": [],
   "source": [
    "trads[0].order.orderId"
   ]
  },
  {
   "cell_type": "code",
   "execution_count": null,
   "id": "bd876d71-a2b6-4785-a98d-7c456b1b3208",
   "metadata": {},
   "outputs": [],
   "source": [
    "trads[0].orderStatus.status"
   ]
  },
  {
   "cell_type": "code",
   "execution_count": 18,
   "id": "0b517c23-def8-4537-80aa-3cb90edadf54",
   "metadata": {},
   "outputs": [
    {
     "data": {
      "text/plain": [
       "[Order(orderId=-3, permId=1800011630, action='BUY', totalQuantity=1.0, orderType='LMT', lmtPrice=1.25, auxPrice=0.0, tif='GTC', ocaType=3, displaySize=2147483647, rule80A='0', openClose='', volatilityType=0, deltaNeutralOrderType='None', referencePriceType=0, account='U12848716', clearingIntent='IB', adjustedOrderType='None', cashQty=0.0, dontUseAutoPriceForHedge=True, usePriceMgmtAlgo=True),\n",
       " Order(orderId=-4, permId=2057958630, action='BUY', totalQuantity=1.0, orderType='LMT', lmtPrice=1.0, auxPrice=0.0, tif='GTC', ocaType=3, displaySize=2147483647, rule80A='0', openClose='', volatilityType=0, deltaNeutralOrderType='None', referencePriceType=0, account='U12848716', clearingIntent='IB', adjustedOrderType='None', cashQty=0.0, dontUseAutoPriceForHedge=True, usePriceMgmtAlgo=True)]"
      ]
     },
     "execution_count": 18,
     "metadata": {},
     "output_type": "execute_result"
    }
   ],
   "source": [
    "ords = ib.orders()\n",
    "ords"
   ]
  },
  {
   "cell_type": "code",
   "execution_count": 28,
   "id": "af77b687-57b5-46d2-bf90-c3cd95331812",
   "metadata": {},
   "outputs": [
    {
     "data": {
      "text/plain": [
       "Trade(contract=Stock(conId=618449783, symbol='NYMT', right='?', exchange='SMART', currency='USD', localSymbol='NYMT', tradingClass='NMS'), order=Order(orderId=-4, permId=2057958630, action='BUY', totalQuantity=1.0, orderType='LMT', lmtPrice=1.0, auxPrice=0.0, tif='GTC', ocaType=3, displaySize=2147483647, rule80A='0', openClose='', volatilityType=0, deltaNeutralOrderType='None', referencePriceType=0, account='U12848716', clearingIntent='IB', adjustedOrderType='None', cashQty=0.0, dontUseAutoPriceForHedge=True, usePriceMgmtAlgo=True), orderStatus=OrderStatus(orderId=-4, status='PendingCancel', filled=0.0, remaining=1.0, avgFillPrice=0.0, permId=2057958630, parentId=0, lastFillPrice=0.0, clientId=0, whyHeld='', mktCapPrice=0.0), fills=[], log=[TradeLogEntry(time=datetime.datetime(2025, 1, 15, 12, 32, 10, 171455, tzinfo=datetime.timezone.utc), status='Submitted', message='', errorCode=0), TradeLogEntry(time=datetime.datetime(2025, 1, 15, 12, 44, 4, 3046, tzinfo=datetime.timezone.utc), status='PendingCancel', message='', errorCode=0)], advancedError='')"
      ]
     },
     "execution_count": 28,
     "metadata": {},
     "output_type": "execute_result"
    }
   ],
   "source": [
    "ib.cancelOrder(ords[1])\n",
    "# this seems to work now... was it always like this or was adding the EClient class the difference??"
   ]
  },
  {
   "cell_type": "code",
   "execution_count": null,
   "id": "e417f2cb-348d-4e79-ab40-3e52f5c79463",
   "metadata": {},
   "outputs": [],
   "source": [
    "fills = ib.fills()\n",
    "fills"
   ]
  },
  {
   "cell_type": "code",
   "execution_count": null,
   "id": "2bac85f7-2de8-4b60-87d7-ac09be444f5b",
   "metadata": {},
   "outputs": [],
   "source": [
    "contract = Stock('ZOM', 'SMART', 'USD')\n",
    "\n",
    "ib.qualifyContracts(contract)\n",
    "data = ib.reqMktData(contract)\n",
    "ib.sleep(2)\n",
    "# data.last / data.marketPrice()\n",
    "    \n",
    "limitOrder = LimitOrder('BUY', 1, (round(data.marketPrice() * 1.015, 2)))\n",
    "limitOrderTrade = ib.placeOrder(contract, limitOrder)"
   ]
  },
  {
   "cell_type": "code",
   "execution_count": null,
   "id": "7e091db6-efb6-4f5d-8ceb-f48bb144a44b",
   "metadata": {},
   "outputs": [],
   "source": [
    "limitOrderTrade"
   ]
  },
  {
   "cell_type": "code",
   "execution_count": null,
   "id": "03b31f61-3399-4cf0-aca0-9a892becb4d7",
   "metadata": {},
   "outputs": [],
   "source": [
    "limitOrderTrade.contract.symbol"
   ]
  },
  {
   "cell_type": "code",
   "execution_count": null,
   "id": "1143befe-78ee-4ba2-8828-85f030b8f767",
   "metadata": {},
   "outputs": [],
   "source": [
    "limitOrderTrade.order.orderId"
   ]
  },
  {
   "cell_type": "code",
   "execution_count": null,
   "id": "04287b29-deca-4aad-88ff-5b57eea24fa6",
   "metadata": {},
   "outputs": [],
   "source": [
    "limitOrderTrade.order.totalQuantity"
   ]
  },
  {
   "cell_type": "code",
   "execution_count": null,
   "id": "710ceda8-7091-4f02-a120-84c62000ae6b",
   "metadata": {},
   "outputs": [],
   "source": []
  },
  {
   "cell_type": "code",
   "execution_count": null,
   "id": "5d500c0c-8ae4-4fbc-989a-52b2b07e5015",
   "metadata": {},
   "outputs": [],
   "source": []
  },
  {
   "cell_type": "code",
   "execution_count": null,
   "id": "d03c0cd5-e3e8-43c9-8544-bd95d63cf7ec",
   "metadata": {},
   "outputs": [],
   "source": []
  }
 ],
 "metadata": {
  "kernelspec": {
   "display_name": "Python [conda env:base] *",
   "language": "python",
   "name": "conda-base-py"
  },
  "language_info": {
   "codemirror_mode": {
    "name": "ipython",
    "version": 3
   },
   "file_extension": ".py",
   "mimetype": "text/x-python",
   "name": "python",
   "nbconvert_exporter": "python",
   "pygments_lexer": "ipython3",
   "version": "3.12.7"
  }
 },
 "nbformat": 4,
 "nbformat_minor": 5
}
