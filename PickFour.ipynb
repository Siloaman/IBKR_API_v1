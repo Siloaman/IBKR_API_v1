[1,8,5,6] # jan 20 evening
[1,4,4,8] # jan 21 evening
[2,4,3,6] # jan 22 evening
[2,8,0,5] # jan 23 evening 
[4,5,6,7] # jan 24 evening
[3,4,0,6] # jan 25 evening
[3,3,2,3] # jan 26 evening
[2,8,4,6] # jan 27 evening

[4,0,6,6] # jan 20 midday
[0,8,8,0] # jan 21 midday
[6,9,8,6] # jan 22 midday
[3,5,1,2] # jan 23 midday
[4,6,5,9] # jan 24 midday
[9,1,7,3] # jan 25 midday
[7,5,5,1] # jan 26 midday
[0,5,5,2] # jan 27 midday

def method_one():
    # fill in current winning numbers
    a1 = e0[0]
    b2 = e0[1]
    c3 = e0[2]
    d4 = e0[3]
    
    # fill in outer rim
    c4 = e0[3] + 1
    b4 = c4 + 1
    a4 = b4 + 1
    a3 = a4 + 1
    a2 = a3 + 1
    b1 = a2 + 1
    c1 = b1 + 1
    d1 = c1 + 1
    d2 = d1 + 1
    d3 = d2 + 1

    # fill in inner rim
    b3 = e0[2] + 1
    c2 = b3 + 1

    # create matrix
    #matrix = [a1, a2, a3, a4, b1, b2, b3, b4, c1, c2, c3, c4, d1, d2, d3, d4]
    #for nn in matrix:
    #    if(matrix[nn-1] >= 10):
    #        matrix[nn] -= 10

    
    row1 = [a1, a2, a3, a4]
    
            
    row2 = [b1, b2, b3, b4]
    
            
    row3 = [c1, c2, c3, c4]
    
            
    row4 = [d1, d2, d3, d4]
    

    print(row1)
    print(row2)
    print(row3)
    print(row4)    
