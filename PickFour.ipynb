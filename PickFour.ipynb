[1,8,5,6] # jan 20 evening
[1,4,4,8] # jan 21 evening
[2,4,3,6] # jan 22 evening
[2,8,0,5] # jan 23 evening 
[4,5,6,7] # jan 24 evening
[3,4,0,6] # jan 25 evening
[3,3,2,3] # jan 26 evening
[2,8,4,6] # jan 27 evening

[4,0,6,6] # jan 20 midday
[0,8,8,0] # jan 21 midday
[6,9,8,6] # jan 22 midday
[3,5,1,2] # jan 23 midday
[4,6,5,9] # jan 24 midday
[9,1,7,3] # jan 25 midday
[7,5,5,1] # jan 26 midday
[0,5,5,2] # jan 27 midday
