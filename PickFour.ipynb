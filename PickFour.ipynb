[1,8,5,6] # jan 20 evening
[1,4,4,8] # jan 21 evening
[2,4,3,6] # jan 22 evening
[2,8,0,5] # jan 23 evening 
[4,5,6,7] # jan 24 evening
[3,4,0,6] # jan 25 evening
[3,3,2,3] # jan 26 evening
[2,8,4,6] # jan 27 evening

[4,0,6,6] # jan 20 midday
[0,8,8,0] # jan 21 midday
[6,9,8,6] # jan 22 midday
[3,5,1,2] # jan 23 midday
[4,6,5,9] # jan 24 midday
[9,1,7,3] # jan 25 midday
[7,5,5,1] # jan 26 midday
[0,5,5,2] # jan 27 midday

----------------------------------------------------------

def method_one():
    # fill in current winning numbers
    a1 = e0[0]
    b2 = e0[1]
    c3 = e0[2]
    d4 = e0[3]
    
    # fill in outer rim
    c4 = e0[3] + 1
    b4 = c4 + 1
    a4 = b4 + 1
    a3 = a4 + 1
    a2 = a3 + 1
    b1 = a2 + 1
    c1 = b1 + 1
    d1 = c1 + 1
    d2 = d1 + 1
    d3 = d2 + 1

    # fill in inner rim
    b3 = e0[2] + 1
    c2 = b3 + 1

    # create matrix
    #matrix = [a1, a2, a3, a4, b1, b2, b3, b4, c1, c2, c3, c4, d1, d2, d3, d4]
    #for nn in matrix:
    #    if(matrix[nn-1] >= 10):
    #        matrix[nn] -= 10

    
    row1 = [a1, a2, a3, a4]
    for index, row_val in enumerate(row1):
        if(row_val >= 10):
            row1[index] -= 10

    row1M = row1.copy()
    for index, row in enumerate(row1M):
        row1M[index] += 5

    for index, row_val in enumerate(row1M):
        if(row_val >= 10):
            row1M[index] -= 10    
                
    row1F = row1.copy()
    for index, row in enumerate(row1F):
        row1F[index] += 3

    for index, row_val in enumerate(row1F):
        if(row_val >= 10):
            row1F[index] -= 10
    #---------------------------------#        
    row2 = [b1, b2, b3, b4]
    for index, row in enumerate(row2):
        if(row >= 10):
            row2[index] -= 10
            
    row2M = row2.copy()
    for index, row in enumerate(row2M):
        row2M[index] += 5

    for index, row_val in enumerate(row2M):
        if(row_val >= 10):
            row2M[index] -= 10
        
    row2F = row2.copy()
    for index, row in enumerate(row2F):
        row2F[index] += 3

    for index, row_val in enumerate(row2F):
        if(row_val >= 10):
            row2F[index] -= 10
    #---------------------------------#
    row3 = [c1, c2, c3, c4]
    for index, row in enumerate(row3):
        if(row >= 10):
            row3[index] -= 10
            
    row3M = row3.copy()
    for index, row in enumerate(row3M):
        row3M[index] += 5

    for index, row_val in enumerate(row3M):
        if(row_val >= 10):
            row3M[index] -= 10
        
    row3F = row3.copy()
    for index, row in enumerate(row3F):
        row3F[index] += 3

    for index, row_val in enumerate(row3F):
        if(row_val >= 10):
            row3F[index] -= 10
    #---------------------------------#
    row4 = [d1, d2, d3, d4]
    for index, row in enumerate(row4):
        if(row >= 10):
            row4[index] -= 10

    row4M = row4.copy()
    for index, row in enumerate(row4M):
        row4M[index] += 5

    for index, row_val in enumerate(row4M):
        if(row_val >= 10):
            row4M[index] -= 10
    
    row4F = row4.copy()
    for index, row in enumerate(row4F):
        row4F[index] += 3

    for index, row_val in enumerate(row4F):
        if(row_val >= 10):
            row4F[index] -= 10
    
    
    print("BASE")
    print(row1)
    print(row2)
    print(row3)
    print(row4)
    print("\n")
    print("MIRROR")
    print(row1M)
    print(row2M)
    print(row3M)
    print(row4M)
    print("\n")
    print("FLIP")
    print(row1F)
    print(row2F)
    print(row3F)
    print(row4F)
