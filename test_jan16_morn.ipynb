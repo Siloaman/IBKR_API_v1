{
 "cells": [
  {
   "cell_type": "code",
   "execution_count": null,
   "id": "660db55c-332d-4adb-9d16-26d1cea8f54f",
   "metadata": {},
   "outputs": [],
   "source": [
    "# !pip install ib_insync\n",
    "# !pip install schedule\n",
    "# !pip install ibapi"
   ]
  },
  {
   "cell_type": "code",
   "execution_count": 1,
   "id": "974e50e4-692c-4024-87d3-424c9b6d3462",
   "metadata": {},
   "outputs": [],
   "source": [
    "from ib_insync import *\n",
    "import requests\n",
    "import pandas as pd\n",
    "import schedule\n",
    "import time\n",
    "import datetime;\n",
    "from bs4 import BeautifulSoup\n",
    "import warnings\n",
    "warnings.filterwarnings(\"ignore\", category=RuntimeWarning)\n",
    "\n",
    "util.startLoop()  # only use in interactive environments (i.e. Jupyter Notebooks)\n",
    "# https://github.com/PacktPublishing/Python-for-Algorithmic-Trading-Cookbook/issues/7"
   ]
  },
  {
   "cell_type": "code",
   "execution_count": 3,
   "id": "e1ea6417-d43c-42c5-86e0-acd27e18290d",
   "metadata": {},
   "outputs": [
    {
     "data": {
      "text/plain": [
       "<IB connected to 127.0.0.1:7496 clientId=0>"
      ]
     },
     "execution_count": 3,
     "metadata": {},
     "output_type": "execute_result"
    }
   ],
   "source": [
    "ib = IB()\n",
    "ib.connect(host='127.0.0.1', port=7496, clientId=0)\n",
    "# https://www.elitetrader.com/et/threads/cant-connect-to-api-interactive-brokers.361205/\n",
    "# needed to change socket port to 7496 and uncheck the Read-Only API box"
   ]
  },
  {
   "cell_type": "code",
   "execution_count": null,
   "id": "c8c9e5e5-ed11-4519-95f6-2ad4e5953c4d",
   "metadata": {},
   "outputs": [],
   "source": [
    "pending_stop_loss_orders = pd.DataFrame() # define and create one time"
   ]
  },
  {
   "cell_type": "code",
   "execution_count": null,
   "id": "dad422f7-36d8-498a-b86f-3ce7ed2c7d9a",
   "metadata": {},
   "outputs": [],
   "source": [
    "# util.logToConsole()\n",
    "\n",
    "\n",
    "def order_status(trade):\n",
    "\n",
    "    contract = Stock('TSLA', 'SMART', 'USD')\n",
    "    stopOrder = StopOrder('BUY', fill.execution.shares, 10.10)\n",
    "    stopOrderTrade = ib.placeOrder(contract, stopOrder)\n",
    "    stopOrderTrade\n",
    "\n",
    "    print(\"inside order_status\")\n",
    "    if trade.orderStatus.status == 'Filled':\n",
    "        fill = trade.fills[-1]\n",
    "        fill\n",
    "        #for index, row in pending_stop_loss_orders.iterrows():\n",
    "        #    if(row['TK'] == fill.contract.symbol and row['QT'] == fill.execution.shares):\n",
    "                \n",
    "        contract = Stock('TSLA', 'SMART', 'USD')\n",
    "        stopOrder = StopOrder('BUY', fill.execution.shares, 10.10)\n",
    "        stopOrderTrade = ib.placeOrder(contract, stopOrder)\n",
    "        stopOrderTrade\n",
    "                \n",
    "                #pending_stop_loss_orders.drop(index, inplace=True)   # no longer useful to keep (does this work?)\n",
    "                \n",
    "                \n",
    "# test orders with day high volatility stocks\n",
    "sym = 'SGBX'\n",
    "test_symbols = [sym, sym]\n",
    "\n",
    "for test in test_symbols:\n",
    "    \n",
    "    contract = Stock(test, 'SMART', 'USD')\n",
    "\n",
    "    ib.qualifyContracts(contract)\n",
    "    data = ib.reqMktData(contract)\n",
    "    ib.sleep(2) # data.marketPrice() doesn't work without ib.sleep (few seconds)\n",
    "    current_price = data.marketPrice()\n",
    "    \n",
    "    limitOrder = LimitOrder('BUY', 1, round(current_price * 1.015, 2))    \n",
    "    limitOrderTrade = ib.placeOrder(contract, limitOrder)\n",
    "    # limitOrderTrade contains the order and everything related to it, such as order status, fills and a log.\n",
    "    # It will be live updated with every status change or fill of the order.\n",
    "        \n",
    "    # CREATE A DATAFRAME THAT TRACKS STOP LIMIT ORDERS MADE ALONG WITH THEIR STOP LOSS TARGETS\n",
    "    new_row = pd.DataFrame({[limitOrderTrade.contract.symbol], [limitOrderTrade.order.totalQuantity], \n",
    "                            [limitOrderTrade.order.orderId], [round(current_price * 1.25, 2)]})\n",
    "    pending_stop_loss_orders = pd.concat([pending_stop_loss_orders, new_row], ignore_index=True)\n",
    "\n",
    "    # fillEvent (trade: Trade, fill: Fill)\n",
    "    limitOrderTrade.fillEvent += order_status"
   ]
  },
  {
   "cell_type": "code",
   "execution_count": null,
   "id": "38f94783-45ba-45c6-9b71-eff55379c545",
   "metadata": {},
   "outputs": [],
   "source": [
    "pos = ib.positions()\n",
    "pos"
   ]
  },
  {
   "cell_type": "code",
   "execution_count": 7,
   "id": "72d9305a-0e0a-4c24-9cca-86c90bdd9c05",
   "metadata": {},
   "outputs": [
    {
     "data": {
      "text/plain": [
       "[Trade(contract=Stock(conId=618449783, symbol='NYMT', right='?', exchange='SMART', currency='USD', localSymbol='NYMT', tradingClass='NMS'), order=Order(orderId=-7, permId=388454655, action='BUY', totalQuantity=1.0, orderType='LMT', lmtPrice=1.1, auxPrice=0.0, tif='GTC', ocaType=3, displaySize=2147483647, rule80A='0', openClose='', volatilityType=0, deltaNeutralOrderType='None', referencePriceType=0, account='U12848716', clearingIntent='IB', adjustedOrderType='None', cashQty=0.0, dontUseAutoPriceForHedge=True, usePriceMgmtAlgo=True), orderStatus=OrderStatus(orderId=-7, status='Submitted', filled=0.0, remaining=1.0, avgFillPrice=0.0, permId=388454655, parentId=0, lastFillPrice=0.0, clientId=0, whyHeld='', mktCapPrice=0.0), fills=[], log=[TradeLogEntry(time=datetime.datetime(2025, 1, 16, 12, 24, 27, 344215, tzinfo=datetime.timezone.utc), status='Submitted', message='', errorCode=0)], advancedError='')]"
      ]
     },
     "execution_count": 7,
     "metadata": {},
     "output_type": "execute_result"
    }
   ],
   "source": [
    "trades = ib.trades()\n",
    "trades"
   ]
  },
  {
   "cell_type": "code",
   "execution_count": 66,
   "id": "de212574-62bc-4831-817d-0d63c7010b2e",
   "metadata": {},
   "outputs": [],
   "source": [
    "pending_stop_loss_orders = [] # define and create one time\n",
    "# https://stackoverflow.com/questions/10487278/how-to-declare-and-add-items-to-an-array-in-python"
   ]
  },
  {
   "cell_type": "code",
   "execution_count": 68,
   "id": "2c6ff046-0b1e-4831-b5ba-1148e47631c6",
   "metadata": {},
   "outputs": [],
   "source": [
    "new_row = {\"BABY\", 1, 0.15, 99}\n",
    "pending_stop_loss_orders.append(new_row)\n",
    "new_row = {\"COME\", 1, 0.35, 79}\n",
    "pending_stop_loss_orders.append(new_row)\n",
    "new_row = {\"HOME\", 1, 0.55, 59}\n",
    "pending_stop_loss_orders.append(new_row)"
   ]
  },
  {
   "cell_type": "code",
   "execution_count": null,
   "id": "030356f0-bfbd-472e-ac60-e5c06403bebf",
   "metadata": {},
   "outputs": [],
   "source": []
  },
  {
   "cell_type": "code",
   "execution_count": 71,
   "id": "ed85b213-4b9b-4bd8-9e18-0b793f4628cd",
   "metadata": {},
   "outputs": [
    {
     "data": {
      "text/plain": [
       "[{0.15, 1, 99, 'BABY'}, {0.35, 1, 79, 'COME'}, {0.55, 1, 59, 'HOME'}]"
      ]
     },
     "execution_count": 71,
     "metadata": {},
     "output_type": "execute_result"
    }
   ],
   "source": [
    "pending_stop_loss_orders"
   ]
  },
  {
   "cell_type": "code",
   "execution_count": 73,
   "id": "a1f36f4c-4b32-4492-ac7a-35b5ab5943f5",
   "metadata": {},
   "outputs": [],
   "source": [
    "del pending_stop_loss_orders[1]"
   ]
  },
  {
   "cell_type": "code",
   "execution_count": 75,
   "id": "50ab8441-bd15-4259-a5b9-bccb7539879f",
   "metadata": {},
   "outputs": [
    {
     "data": {
      "text/plain": [
       "[{0.15, 1, 99, 'BABY'}, {0.55, 1, 59, 'HOME'}]"
      ]
     },
     "execution_count": 75,
     "metadata": {},
     "output_type": "execute_result"
    }
   ],
   "source": [
    "pending_stop_loss_orders"
   ]
  },
  {
   "cell_type": "code",
   "execution_count": null,
   "id": "d6048e27-9bb6-4927-852f-96320b21d153",
   "metadata": {},
   "outputs": [],
   "source": []
  }
 ],
 "metadata": {
  "kernelspec": {
   "display_name": "Python [conda env:base] *",
   "language": "python",
   "name": "conda-base-py"
  },
  "language_info": {
   "codemirror_mode": {
    "name": "ipython",
    "version": 3
   },
   "file_extension": ".py",
   "mimetype": "text/x-python",
   "name": "python",
   "nbconvert_exporter": "python",
   "pygments_lexer": "ipython3",
   "version": "3.12.7"
  }
 },
 "nbformat": 4,
 "nbformat_minor": 5
}
