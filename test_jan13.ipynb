{
 "cells": [
  {
   "cell_type": "code",
   "execution_count": 1,
   "id": "974e50e4-692c-4024-87d3-424c9b6d3462",
   "metadata": {},
   "outputs": [],
   "source": [
    "from ib_insync import *\n",
    "import requests\n",
    "import pandas as pd\n",
    "#import schedule\n",
    "import time\n",
    "import datetime;\n",
    "from bs4 import BeautifulSoup\n",
    "import warnings\n",
    "warnings.filterwarnings(\"ignore\", category=RuntimeWarning) \n",
    "# https://stackoverflow.com/questions/44933518/how-to-remove-runtimewarning-errors-from-code\n",
    "\n",
    "util.startLoop()  # only use in interactive environments (i.e. Jupyter Notebooks)\n",
    "# https://www.interactivebrokers.com/campus/ibkr-api-page/order-types/#introduction\n",
    "# https://algotrading101.com/learn/ib_insync-interactive-brokers-api-guide/\n",
    "# https://www.reddit.com/r/interactivebrokers/comments/1cccg0t/ib_insync_reqhistoricaldata_with_keepuptodatetrue/\n",
    "# https://github.com/erdewit/ib_insync/issues/653"
   ]
  },
  {
   "cell_type": "code",
   "execution_count": 3,
   "id": "e1ea6417-d43c-42c5-86e0-acd27e18290d",
   "metadata": {},
   "outputs": [
    {
     "data": {
      "text/plain": [
       "<IB connected to 127.0.0.1:7496 clientId=0>"
      ]
     },
     "execution_count": 3,
     "metadata": {},
     "output_type": "execute_result"
    }
   ],
   "source": [
    "#WORKING\n",
    "counter_of_numbers = 0\n",
    "ib = IB()\n",
    "ib.connect(host='127.0.0.1', port=7496, clientId=0)\n",
    "# https://www.elitetrader.com/et/threads/cant-connect-to-api-interactive-brokers.361205/\n",
    "# needed to change socket port to 7496 and uncheck the Read-Only API box"
   ]
  },
  {
   "cell_type": "code",
   "execution_count": 5,
   "id": "7ae79f2d-86bd-409f-a8eb-8691834086ac",
   "metadata": {},
   "outputs": [
    {
     "data": {
      "text/plain": [
       "[Position(account='U12848716', contract=Stock(conId=700941285, symbol='NUVOQ', exchange='PINK', currency='USD', localSymbol='NUVOQ', tradingClass='NUVOQ'), position=275.0, avgCost=0.24124875),\n",
       " Position(account='U12848716', contract=Stock(conId=656170396, symbol='CDT', exchange='NASDAQ', currency='USD', localSymbol='CDT', tradingClass='NMS'), position=4.0, avgCost=0.129425),\n",
       " Position(account='U12848716', contract=Stock(conId=670777621, symbol='SVMH', exchange='NASDAQ', currency='USD', localSymbol='SVMH', tradingClass='NMS'), position=1.0, avgCost=0.0597),\n",
       " Position(account='U12848716', contract=Stock(conId=447584486, symbol='ZOM', exchange='AMEX', currency='USD', localSymbol='ZOM', tradingClass='ZOM'), position=1.0, avgCost=0.140035),\n",
       " Position(account='U12848716', contract=Stock(conId=586262891, symbol='SYRS', exchange='NASDAQ', currency='USD', localSymbol='SYRS', tradingClass='NMS'), position=1.0, avgCost=0.2193)]"
      ]
     },
     "execution_count": 5,
     "metadata": {},
     "output_type": "execute_result"
    }
   ],
   "source": [
    "pending_stop_loss_orders = pd.DataFrame() # define and create one time\n",
    "pos = ib.positions()\n",
    "pos"
   ]
  },
  {
   "cell_type": "code",
   "execution_count": null,
   "id": "dad422f7-36d8-498a-b86f-3ce7ed2c7d9a",
   "metadata": {},
   "outputs": [],
   "source": [
    "def order_status(trade):\n",
    "    if trade.orderStatus.status == 'Filled':\n",
    "        fill = trade.fills[-1]\n",
    "        #for index, row in pending_stop_loss_orders.iterrows():\n",
    "        #    if(row['TK'] == fill.contract.symbol and row['QT'] == fill.execution.shares):\n",
    "                \n",
    "        contract = Stock('TSLA', 'SMART', 'USD')\n",
    "        stopOrder = StopOrder('BUY', fill.execution.shares, 0.10)\n",
    "        stopOrderTrade = ib.placeOrder(contract, stopOrder)\n",
    "                \n",
    "                #pending_stop_loss_orders.drop(index, inplace=True)   # no longer useful to keep (does this work?)\n",
    "                \n",
    "                \n",
    "# test orders with cascading percentages\n",
    "\n",
    "percentages = [1.01, 0.99, 1.01, 0.99, 1.01, 0.99]\n",
    "\n",
    "apdn_contract = Stock('APDN', 'SMART', 'USD')\n",
    "ib.qualifyContracts(apdn_contract)\n",
    "data = ib.reqMktData(apdn_contract)\n",
    "\n",
    "for percs in percentages:\n",
    "    contract = Stock(\"APDN\", 'SMART', 'USD')\n",
    "    limitOrder = LimitOrder('SELL', 1, 0.188)\n",
    "    limitOrderTrade = ib.placeOrder(contract, limitOrder)\n",
    "        \n",
    "    # CREATE A DATAFRAME THAT TRACKS STOP LIMIT ORDERS MADE ALONG WITH THEIR STOP LOSS TARGETS\n",
    "    new_row = pd.DataFrame({\"TK\": [\"APDN\"], \"QT\": [1], \"SLT\": [data.marketPrice() * 1.25]})\n",
    "    pending_stop_loss_orders = pd.concat([pending_stop_loss_orders, new_row], ignore_index=True)\n",
    "    \n",
    "    limitOrderTrade.fillEvent += order_status"
   ]
  },
  {
   "cell_type": "code",
   "execution_count": 7,
   "id": "2a6d5a64-1b49-42f3-9c58-0db737fcf726",
   "metadata": {},
   "outputs": [
    {
     "data": {
      "text/plain": [
       "[Trade(contract=Stock(conId=699197691, symbol='APDN', right='?', exchange='SMART', currency='USD', localSymbol='APDN', tradingClass='SCM'), order=Order(permId=614119506, action='SELL', orderType='LMT', lmtPrice=0.188, auxPrice=0.0, tif='DAY', ocaType=3, displaySize=2147483647, rule80A='0', openClose='', volatilityType=0, deltaNeutralOrderType='None', referencePriceType=0, account='U12848716', clearingIntent='IB', cashQty=0.0, dontUseAutoPriceForHedge=True, filledQuantity=1.0, refFuturesConId=2147483647, shareholder='Not an insider or substantial shareholder'), orderStatus=OrderStatus(orderId=0, status='Filled', filled=0.0, remaining=0.0, avgFillPrice=0.0, permId=0, parentId=0, lastFillPrice=0.0, clientId=0, whyHeld='', mktCapPrice=0.0), fills=[Fill(contract=Stock(conId=699197691, symbol='APDN', right='?', exchange='SMART', currency='USD', localSymbol='APDN', tradingClass='SCM'), execution=Execution(execId='0000f62c.6785042d.01.01', time=datetime.datetime(2025, 1, 13, 17, 50, 36, tzinfo=datetime.timezone.utc), acctNumber='U12848716', exchange='DRCTEDGE', side='SLD', shares=1.0, price=0.188, permId=614119506, clientId=0, orderId=53, liquidation=0, cumQty=1.0, avgPrice=0.188, orderRef='', evRule='', evMultiplier=0.0, modelCode='', lastLiquidity=1), commissionReport=CommissionReport(execId='0000f62c.6785042d.01.01', commission=0.010206, currency='USD', realizedPNL=-0.02959, yield_=0.0, yieldRedemptionDate=0), time=datetime.datetime(2025, 1, 13, 17, 50, 36, tzinfo=datetime.timezone.utc))], log=[TradeLogEntry(time=datetime.datetime(2025, 1, 13, 17, 50, 36, tzinfo=datetime.timezone.utc), status='Filled', message='Fill 1.0@0.188', errorCode=0)], advancedError=''),\n",
       " Trade(contract=Stock(conId=699197691, symbol='APDN', right='?', exchange='SMART', currency='USD', localSymbol='APDN', tradingClass='SCM'), order=Order(permId=614119507, action='SELL', orderType='LMT', lmtPrice=0.188, auxPrice=0.0, tif='DAY', ocaType=3, displaySize=2147483647, rule80A='0', openClose='', volatilityType=0, deltaNeutralOrderType='None', referencePriceType=0, account='U12848716', clearingIntent='IB', cashQty=0.0, dontUseAutoPriceForHedge=True, filledQuantity=1.0, refFuturesConId=2147483647, shareholder='Not an insider or substantial shareholder'), orderStatus=OrderStatus(orderId=0, status='Filled', filled=0.0, remaining=0.0, avgFillPrice=0.0, permId=0, parentId=0, lastFillPrice=0.0, clientId=0, whyHeld='', mktCapPrice=0.0), fills=[Fill(contract=Stock(conId=699197691, symbol='APDN', right='?', exchange='SMART', currency='USD', localSymbol='APDN', tradingClass='SCM'), execution=Execution(execId='0000f62c.6785042e.01.01', time=datetime.datetime(2025, 1, 13, 17, 50, 36, tzinfo=datetime.timezone.utc), acctNumber='U12848716', exchange='DRCTEDGE', side='SLD', shares=1.0, price=0.188, permId=614119507, clientId=0, orderId=54, liquidation=0, cumQty=1.0, avgPrice=0.188, orderRef='', evRule='', evMultiplier=0.0, modelCode='', lastLiquidity=1), commissionReport=CommissionReport(execId='0000f62c.6785042e.01.01', commission=0.010206, currency='USD', realizedPNL=-0.02959, yield_=0.0, yieldRedemptionDate=0), time=datetime.datetime(2025, 1, 13, 17, 50, 36, tzinfo=datetime.timezone.utc))], log=[TradeLogEntry(time=datetime.datetime(2025, 1, 13, 17, 50, 36, tzinfo=datetime.timezone.utc), status='Filled', message='Fill 1.0@0.188', errorCode=0)], advancedError=''),\n",
       " Trade(contract=Stock(conId=699197691, symbol='APDN', right='?', exchange='SMART', currency='USD', localSymbol='APDN', tradingClass='SCM'), order=Order(permId=614119504, action='SELL', orderType='LMT', lmtPrice=0.188, auxPrice=0.0, tif='DAY', ocaType=3, displaySize=2147483647, rule80A='0', openClose='', volatilityType=0, deltaNeutralOrderType='None', referencePriceType=0, account='U12848716', clearingIntent='IB', cashQty=0.0, dontUseAutoPriceForHedge=True, filledQuantity=1.0, refFuturesConId=2147483647, shareholder='Not an insider or substantial shareholder'), orderStatus=OrderStatus(orderId=0, status='Filled', filled=0.0, remaining=0.0, avgFillPrice=0.0, permId=0, parentId=0, lastFillPrice=0.0, clientId=0, whyHeld='', mktCapPrice=0.0), fills=[Fill(contract=Stock(conId=699197691, symbol='APDN', right='?', exchange='SMART', currency='USD', localSymbol='APDN', tradingClass='SCM'), execution=Execution(execId='0000f62c.6785042b.01.01', time=datetime.datetime(2025, 1, 13, 17, 50, 36, tzinfo=datetime.timezone.utc), acctNumber='U12848716', exchange='DRCTEDGE', side='SLD', shares=1.0, price=0.188, permId=614119504, clientId=0, orderId=51, liquidation=0, cumQty=1.0, avgPrice=0.188, orderRef='', evRule='', evMultiplier=0.0, modelCode='', lastLiquidity=1), commissionReport=CommissionReport(execId='0000f62c.6785042b.01.01', commission=0.010206, currency='USD', realizedPNL=-0.02959, yield_=0.0, yieldRedemptionDate=0), time=datetime.datetime(2025, 1, 13, 17, 50, 36, tzinfo=datetime.timezone.utc))], log=[TradeLogEntry(time=datetime.datetime(2025, 1, 13, 17, 50, 36, tzinfo=datetime.timezone.utc), status='Filled', message='Fill 1.0@0.188', errorCode=0)], advancedError=''),\n",
       " Trade(contract=Stock(conId=699197691, symbol='APDN', right='?', exchange='SMART', currency='USD', localSymbol='APDN', tradingClass='SCM'), order=Order(permId=614119505, action='SELL', orderType='LMT', lmtPrice=0.188, auxPrice=0.0, tif='DAY', ocaType=3, displaySize=2147483647, rule80A='0', openClose='', volatilityType=0, deltaNeutralOrderType='None', referencePriceType=0, account='U12848716', clearingIntent='IB', cashQty=0.0, dontUseAutoPriceForHedge=True, filledQuantity=1.0, refFuturesConId=2147483647, shareholder='Not an insider or substantial shareholder'), orderStatus=OrderStatus(orderId=0, status='Filled', filled=0.0, remaining=0.0, avgFillPrice=0.0, permId=0, parentId=0, lastFillPrice=0.0, clientId=0, whyHeld='', mktCapPrice=0.0), fills=[Fill(contract=Stock(conId=699197691, symbol='APDN', right='?', exchange='SMART', currency='USD', localSymbol='APDN', tradingClass='SCM'), execution=Execution(execId='0000f62c.6785042c.01.01', time=datetime.datetime(2025, 1, 13, 17, 50, 36, tzinfo=datetime.timezone.utc), acctNumber='U12848716', exchange='DRCTEDGE', side='SLD', shares=1.0, price=0.188, permId=614119505, clientId=0, orderId=52, liquidation=0, cumQty=1.0, avgPrice=0.188, orderRef='', evRule='', evMultiplier=0.0, modelCode='', lastLiquidity=1), commissionReport=CommissionReport(execId='0000f62c.6785042c.01.01', commission=0.010206, currency='USD', realizedPNL=-0.02959, yield_=0.0, yieldRedemptionDate=0), time=datetime.datetime(2025, 1, 13, 17, 50, 36, tzinfo=datetime.timezone.utc))], log=[TradeLogEntry(time=datetime.datetime(2025, 1, 13, 17, 50, 36, tzinfo=datetime.timezone.utc), status='Filled', message='Fill 1.0@0.188', errorCode=0)], advancedError=''),\n",
       " Trade(contract=Stock(conId=699197691, symbol='APDN', right='?', exchange='SMART', currency='USD', localSymbol='APDN', tradingClass='SCM'), order=Order(permId=614119498, action='SELL', totalQuantity=1.0, orderType='LMT', lmtPrice=0.19, auxPrice=0.0, tif='DAY', ocaType=3, displaySize=2147483647, rule80A='0', openClose='', volatilityType=0, deltaNeutralOrderType='None', referencePriceType=0, account='U12848716', clearingIntent='IB', cashQty=0.0, dontUseAutoPriceForHedge=True, filledQuantity=0.0, refFuturesConId=2147483647, shareholder='Not an insider or substantial shareholder'), orderStatus=OrderStatus(orderId=0, status='Cancelled', filled=0.0, remaining=0.0, avgFillPrice=0.0, permId=0, parentId=0, lastFillPrice=0.0, clientId=0, whyHeld='', mktCapPrice=0.0), fills=[], log=[], advancedError=''),\n",
       " Trade(contract=Stock(conId=699197691, symbol='APDN', right='?', exchange='SMART', currency='USD', localSymbol='APDN', tradingClass='SCM'), order=Order(permId=614119499, action='SELL', totalQuantity=1.0, orderType='LMT', lmtPrice=0.19, auxPrice=0.0, tif='DAY', ocaType=3, displaySize=2147483647, rule80A='0', openClose='', volatilityType=0, deltaNeutralOrderType='None', referencePriceType=0, account='U12848716', clearingIntent='IB', cashQty=0.0, dontUseAutoPriceForHedge=True, filledQuantity=0.0, refFuturesConId=2147483647, shareholder='Not an insider or substantial shareholder'), orderStatus=OrderStatus(orderId=0, status='Cancelled', filled=0.0, remaining=0.0, avgFillPrice=0.0, permId=0, parentId=0, lastFillPrice=0.0, clientId=0, whyHeld='', mktCapPrice=0.0), fills=[], log=[], advancedError=''),\n",
       " Trade(contract=Stock(conId=699197691, symbol='APDN', right='?', exchange='SMART', currency='USD', localSymbol='APDN', tradingClass='SCM'), order=Order(permId=614119496, action='SELL', totalQuantity=1.0, orderType='LMT', lmtPrice=0.19, auxPrice=0.0, tif='DAY', ocaType=3, displaySize=2147483647, rule80A='0', openClose='', volatilityType=0, deltaNeutralOrderType='None', referencePriceType=0, account='U12848716', clearingIntent='IB', cashQty=0.0, dontUseAutoPriceForHedge=True, filledQuantity=0.0, refFuturesConId=2147483647, shareholder='Not an insider or substantial shareholder'), orderStatus=OrderStatus(orderId=0, status='Cancelled', filled=0.0, remaining=0.0, avgFillPrice=0.0, permId=0, parentId=0, lastFillPrice=0.0, clientId=0, whyHeld='', mktCapPrice=0.0), fills=[], log=[], advancedError=''),\n",
       " Trade(contract=Stock(conId=699197691, symbol='APDN', right='?', exchange='SMART', currency='USD', localSymbol='APDN', tradingClass='SCM'), order=Order(permId=614119497, action='SELL', totalQuantity=1.0, orderType='LMT', lmtPrice=0.19, auxPrice=0.0, tif='DAY', ocaType=3, displaySize=2147483647, rule80A='0', openClose='', volatilityType=0, deltaNeutralOrderType='None', referencePriceType=0, account='U12848716', clearingIntent='IB', cashQty=0.0, dontUseAutoPriceForHedge=True, filledQuantity=0.0, refFuturesConId=2147483647, shareholder='Not an insider or substantial shareholder'), orderStatus=OrderStatus(orderId=0, status='Cancelled', filled=0.0, remaining=0.0, avgFillPrice=0.0, permId=0, parentId=0, lastFillPrice=0.0, clientId=0, whyHeld='', mktCapPrice=0.0), fills=[], log=[], advancedError=''),\n",
       " Trade(contract=Stock(conId=699197691, symbol='APDN', right='?', exchange='SMART', currency='USD', localSymbol='APDN', tradingClass='SCM'), order=Order(permId=614119502, action='SELL', orderType='LMT', lmtPrice=0.188, auxPrice=0.0, tif='DAY', ocaType=3, displaySize=2147483647, rule80A='0', openClose='', volatilityType=0, deltaNeutralOrderType='None', referencePriceType=0, account='U12848716', clearingIntent='IB', cashQty=0.0, dontUseAutoPriceForHedge=True, filledQuantity=1.0, refFuturesConId=2147483647, shareholder='Not an insider or substantial shareholder'), orderStatus=OrderStatus(orderId=0, status='Filled', filled=0.0, remaining=0.0, avgFillPrice=0.0, permId=0, parentId=0, lastFillPrice=0.0, clientId=0, whyHeld='', mktCapPrice=0.0), fills=[Fill(contract=Stock(conId=699197691, symbol='APDN', right='?', exchange='SMART', currency='USD', localSymbol='APDN', tradingClass='SCM'), execution=Execution(execId='0000febb.67854246.01.01', time=datetime.datetime(2025, 1, 13, 17, 50, 36, tzinfo=datetime.timezone.utc), acctNumber='U12848716', exchange='NASDAQ', side='SLD', shares=1.0, price=0.188, permId=614119502, clientId=0, orderId=49, liquidation=0, cumQty=1.0, avgPrice=0.188, orderRef='', evRule='', evMultiplier=0.0, modelCode='', lastLiquidity=1), commissionReport=CommissionReport(execId='0000febb.67854246.01.01', commission=0.010206, currency='USD', realizedPNL=-0.02959, yield_=0.0, yieldRedemptionDate=0), time=datetime.datetime(2025, 1, 13, 17, 50, 36, tzinfo=datetime.timezone.utc))], log=[TradeLogEntry(time=datetime.datetime(2025, 1, 13, 17, 50, 36, tzinfo=datetime.timezone.utc), status='Filled', message='Fill 1.0@0.188', errorCode=0)], advancedError=''),\n",
       " Trade(contract=Stock(conId=699197691, symbol='APDN', right='?', exchange='SMART', currency='USD', localSymbol='APDN', tradingClass='SCM'), order=Order(permId=614119503, action='SELL', orderType='LMT', lmtPrice=0.188, auxPrice=0.0, tif='DAY', ocaType=3, displaySize=2147483647, rule80A='0', openClose='', volatilityType=0, deltaNeutralOrderType='None', referencePriceType=0, account='U12848716', clearingIntent='IB', cashQty=0.0, dontUseAutoPriceForHedge=True, filledQuantity=1.0, refFuturesConId=2147483647, shareholder='Not an insider or substantial shareholder'), orderStatus=OrderStatus(orderId=0, status='Filled', filled=0.0, remaining=0.0, avgFillPrice=0.0, permId=0, parentId=0, lastFillPrice=0.0, clientId=0, whyHeld='', mktCapPrice=0.0), fills=[Fill(contract=Stock(conId=699197691, symbol='APDN', right='?', exchange='SMART', currency='USD', localSymbol='APDN', tradingClass='SCM'), execution=Execution(execId='0000f62c.6785042a.01.01', time=datetime.datetime(2025, 1, 13, 17, 50, 36, tzinfo=datetime.timezone.utc), acctNumber='U12848716', exchange='DRCTEDGE', side='SLD', shares=1.0, price=0.188, permId=614119503, clientId=0, orderId=50, liquidation=0, cumQty=1.0, avgPrice=0.188, orderRef='', evRule='', evMultiplier=0.0, modelCode='', lastLiquidity=1), commissionReport=CommissionReport(execId='0000f62c.6785042a.01.01', commission=0.010206, currency='USD', realizedPNL=-0.02959, yield_=0.0, yieldRedemptionDate=0), time=datetime.datetime(2025, 1, 13, 17, 50, 36, tzinfo=datetime.timezone.utc))], log=[TradeLogEntry(time=datetime.datetime(2025, 1, 13, 17, 50, 36, tzinfo=datetime.timezone.utc), status='Filled', message='Fill 1.0@0.188', errorCode=0)], advancedError=''),\n",
       " Trade(contract=Stock(conId=699197691, symbol='APDN', right='?', exchange='SMART', currency='USD', localSymbol='APDN', tradingClass='SCM'), order=Order(permId=614119500, action='SELL', totalQuantity=1.0, orderType='LMT', lmtPrice=0.19, auxPrice=0.0, tif='DAY', ocaType=3, displaySize=2147483647, rule80A='0', openClose='', volatilityType=0, deltaNeutralOrderType='None', referencePriceType=0, account='U12848716', clearingIntent='IB', cashQty=0.0, dontUseAutoPriceForHedge=True, filledQuantity=0.0, refFuturesConId=2147483647, shareholder='Not an insider or substantial shareholder'), orderStatus=OrderStatus(orderId=0, status='Cancelled', filled=0.0, remaining=0.0, avgFillPrice=0.0, permId=0, parentId=0, lastFillPrice=0.0, clientId=0, whyHeld='', mktCapPrice=0.0), fills=[], log=[], advancedError=''),\n",
       " Trade(contract=Stock(conId=699197691, symbol='APDN', right='?', exchange='SMART', currency='USD', localSymbol='APDN', tradingClass='SCM'), order=Order(permId=614119501, action='SELL', totalQuantity=1.0, orderType='LMT', lmtPrice=0.19, auxPrice=0.0, tif='DAY', ocaType=3, displaySize=2147483647, rule80A='0', openClose='', volatilityType=0, deltaNeutralOrderType='None', referencePriceType=0, account='U12848716', clearingIntent='IB', cashQty=0.0, dontUseAutoPriceForHedge=True, filledQuantity=0.0, refFuturesConId=2147483647, shareholder='Not an insider or substantial shareholder'), orderStatus=OrderStatus(orderId=0, status='Cancelled', filled=0.0, remaining=0.0, avgFillPrice=0.0, permId=0, parentId=0, lastFillPrice=0.0, clientId=0, whyHeld='', mktCapPrice=0.0), fills=[], log=[], advancedError=''),\n",
       " Trade(contract=Stock(conId=699197691, symbol='APDN', right='?', exchange='SMART', currency='USD', localSymbol='APDN', tradingClass='SCM'), order=Order(permId=614119490, action='SELL', totalQuantity=1.0, orderType='LMT', lmtPrice=0.19, auxPrice=0.0, tif='DAY', ocaType=3, displaySize=2147483647, rule80A='0', openClose='', volatilityType=0, deltaNeutralOrderType='None', referencePriceType=0, account='U12848716', clearingIntent='IB', cashQty=0.0, dontUseAutoPriceForHedge=True, filledQuantity=0.0, refFuturesConId=2147483647, shareholder='Not an insider or substantial shareholder'), orderStatus=OrderStatus(orderId=0, status='Cancelled', filled=0.0, remaining=0.0, avgFillPrice=0.0, permId=0, parentId=0, lastFillPrice=0.0, clientId=0, whyHeld='', mktCapPrice=0.0), fills=[], log=[], advancedError=''),\n",
       " Trade(contract=Stock(conId=699197691, symbol='APDN', right='?', exchange='SMART', currency='USD', localSymbol='APDN', tradingClass='SCM'), order=Order(permId=614119491, action='SELL', totalQuantity=1.0, orderType='LMT', lmtPrice=0.19, auxPrice=0.0, tif='DAY', ocaType=3, displaySize=2147483647, rule80A='0', openClose='', volatilityType=0, deltaNeutralOrderType='None', referencePriceType=0, account='U12848716', clearingIntent='IB', cashQty=0.0, dontUseAutoPriceForHedge=True, filledQuantity=0.0, refFuturesConId=2147483647, shareholder='Not an insider or substantial shareholder'), orderStatus=OrderStatus(orderId=0, status='Cancelled', filled=0.0, remaining=0.0, avgFillPrice=0.0, permId=0, parentId=0, lastFillPrice=0.0, clientId=0, whyHeld='', mktCapPrice=0.0), fills=[], log=[], advancedError=''),\n",
       " Trade(contract=Stock(conId=699197691, symbol='APDN', right='?', exchange='SMART', currency='USD', localSymbol='APDN', tradingClass='SCM'), order=Order(permId=614119488, action='SELL', totalQuantity=1.0, orderType='LMT', lmtPrice=0.191, auxPrice=0.0, tif='DAY', ocaType=3, displaySize=2147483647, rule80A='0', openClose='', volatilityType=0, deltaNeutralOrderType='None', referencePriceType=0, account='U12848716', clearingIntent='IB', cashQty=0.0, dontUseAutoPriceForHedge=True, filledQuantity=0.0, refFuturesConId=2147483647, shareholder='Not an insider or substantial shareholder'), orderStatus=OrderStatus(orderId=0, status='Cancelled', filled=0.0, remaining=0.0, avgFillPrice=0.0, permId=0, parentId=0, lastFillPrice=0.0, clientId=0, whyHeld='', mktCapPrice=0.0), fills=[], log=[], advancedError=''),\n",
       " Trade(contract=Stock(conId=699197691, symbol='APDN', right='?', exchange='SMART', currency='USD', localSymbol='APDN', tradingClass='SCM'), order=Order(permId=614119489, action='SELL', totalQuantity=1.0, orderType='LMT', lmtPrice=0.191, auxPrice=0.0, tif='DAY', ocaType=3, displaySize=2147483647, rule80A='0', openClose='', volatilityType=0, deltaNeutralOrderType='None', referencePriceType=0, account='U12848716', clearingIntent='IB', cashQty=0.0, dontUseAutoPriceForHedge=True, filledQuantity=0.0, refFuturesConId=2147483647, shareholder='Not an insider or substantial shareholder'), orderStatus=OrderStatus(orderId=0, status='Cancelled', filled=0.0, remaining=0.0, avgFillPrice=0.0, permId=0, parentId=0, lastFillPrice=0.0, clientId=0, whyHeld='', mktCapPrice=0.0), fills=[], log=[], advancedError=''),\n",
       " Trade(contract=Stock(conId=699197691, symbol='APDN', right='?', exchange='SMART', currency='USD', localSymbol='APDN', tradingClass='SCM'), order=Order(permId=614119494, action='SELL', totalQuantity=1.0, orderType='LMT', lmtPrice=0.19, auxPrice=0.0, tif='DAY', ocaType=3, displaySize=2147483647, rule80A='0', openClose='', volatilityType=0, deltaNeutralOrderType='None', referencePriceType=0, account='U12848716', clearingIntent='IB', cashQty=0.0, dontUseAutoPriceForHedge=True, filledQuantity=0.0, refFuturesConId=2147483647, shareholder='Not an insider or substantial shareholder'), orderStatus=OrderStatus(orderId=0, status='Cancelled', filled=0.0, remaining=0.0, avgFillPrice=0.0, permId=0, parentId=0, lastFillPrice=0.0, clientId=0, whyHeld='', mktCapPrice=0.0), fills=[], log=[], advancedError=''),\n",
       " Trade(contract=Stock(conId=699197691, symbol='APDN', right='?', exchange='SMART', currency='USD', localSymbol='APDN', tradingClass='SCM'), order=Order(permId=614119495, action='SELL', totalQuantity=1.0, orderType='LMT', lmtPrice=0.19, auxPrice=0.0, tif='DAY', ocaType=3, displaySize=2147483647, rule80A='0', openClose='', volatilityType=0, deltaNeutralOrderType='None', referencePriceType=0, account='U12848716', clearingIntent='IB', cashQty=0.0, dontUseAutoPriceForHedge=True, filledQuantity=0.0, refFuturesConId=2147483647, shareholder='Not an insider or substantial shareholder'), orderStatus=OrderStatus(orderId=0, status='Cancelled', filled=0.0, remaining=0.0, avgFillPrice=0.0, permId=0, parentId=0, lastFillPrice=0.0, clientId=0, whyHeld='', mktCapPrice=0.0), fills=[], log=[], advancedError=''),\n",
       " Trade(contract=Stock(conId=699197691, symbol='APDN', right='?', exchange='SMART', currency='USD', localSymbol='APDN', tradingClass='SCM'), order=Order(permId=614119492, action='SELL', totalQuantity=1.0, orderType='LMT', lmtPrice=0.19, auxPrice=0.0, tif='DAY', ocaType=3, displaySize=2147483647, rule80A='0', openClose='', volatilityType=0, deltaNeutralOrderType='None', referencePriceType=0, account='U12848716', clearingIntent='IB', cashQty=0.0, dontUseAutoPriceForHedge=True, filledQuantity=0.0, refFuturesConId=2147483647, shareholder='Not an insider or substantial shareholder'), orderStatus=OrderStatus(orderId=0, status='Cancelled', filled=0.0, remaining=0.0, avgFillPrice=0.0, permId=0, parentId=0, lastFillPrice=0.0, clientId=0, whyHeld='', mktCapPrice=0.0), fills=[], log=[], advancedError=''),\n",
       " Trade(contract=Stock(conId=699197691, symbol='APDN', right='?', exchange='SMART', currency='USD', localSymbol='APDN', tradingClass='SCM'), order=Order(permId=614119493, action='SELL', totalQuantity=1.0, orderType='LMT', lmtPrice=0.19, auxPrice=0.0, tif='DAY', ocaType=3, displaySize=2147483647, rule80A='0', openClose='', volatilityType=0, deltaNeutralOrderType='None', referencePriceType=0, account='U12848716', clearingIntent='IB', cashQty=0.0, dontUseAutoPriceForHedge=True, filledQuantity=0.0, refFuturesConId=2147483647, shareholder='Not an insider or substantial shareholder'), orderStatus=OrderStatus(orderId=0, status='Cancelled', filled=0.0, remaining=0.0, avgFillPrice=0.0, permId=0, parentId=0, lastFillPrice=0.0, clientId=0, whyHeld='', mktCapPrice=0.0), fills=[], log=[], advancedError=''),\n",
       " Trade(contract=Stock(conId=699197691, symbol='APDN', right='?', exchange='SMART', currency='USD', localSymbol='APDN', tradingClass='SCM'), order=Order(permId=614119486, action='SELL', totalQuantity=1.0, orderType='LMT', lmtPrice=0.191, auxPrice=0.0, tif='DAY', ocaType=3, displaySize=2147483647, rule80A='0', openClose='', volatilityType=0, deltaNeutralOrderType='None', referencePriceType=0, account='U12848716', clearingIntent='IB', cashQty=0.0, dontUseAutoPriceForHedge=True, filledQuantity=0.0, refFuturesConId=2147483647, shareholder='Not an insider or substantial shareholder'), orderStatus=OrderStatus(orderId=0, status='Cancelled', filled=0.0, remaining=0.0, avgFillPrice=0.0, permId=0, parentId=0, lastFillPrice=0.0, clientId=0, whyHeld='', mktCapPrice=0.0), fills=[], log=[], advancedError=''),\n",
       " Trade(contract=Stock(conId=699197691, symbol='APDN', right='?', exchange='SMART', currency='USD', localSymbol='APDN', tradingClass='SCM'), order=Order(permId=614119487, action='SELL', totalQuantity=1.0, orderType='LMT', lmtPrice=0.191, auxPrice=0.0, tif='DAY', ocaType=3, displaySize=2147483647, rule80A='0', openClose='', volatilityType=0, deltaNeutralOrderType='None', referencePriceType=0, account='U12848716', clearingIntent='IB', cashQty=0.0, dontUseAutoPriceForHedge=True, filledQuantity=0.0, refFuturesConId=2147483647, shareholder='Not an insider or substantial shareholder'), orderStatus=OrderStatus(orderId=0, status='Cancelled', filled=0.0, remaining=0.0, avgFillPrice=0.0, permId=0, parentId=0, lastFillPrice=0.0, clientId=0, whyHeld='', mktCapPrice=0.0), fills=[], log=[], advancedError=''),\n",
       " Trade(contract=Stock(conId=447584486, symbol='ZOM', right='?', exchange='SMART', currency='USD', localSymbol='ZOM', tradingClass='ZOM'), order=Order(permId=1113917955, action='BUY', orderType='MKT', lmtPrice=0.0, auxPrice=0.0, tif='DAY', ocaType=3, displaySize=2147483647, rule80A='0', openClose='', volatilityType=0, deltaNeutralOrderType='None', referencePriceType=0, account='U12848716', clearingIntent='IB', cashQty=0.0, dontUseAutoPriceForHedge=True, filledQuantity=1.0, refFuturesConId=2147483647, shareholder='Not an insider or substantial shareholder'), orderStatus=OrderStatus(orderId=0, status='Filled', filled=0.0, remaining=0.0, avgFillPrice=0.0, permId=0, parentId=0, lastFillPrice=0.0, clientId=0, whyHeld='', mktCapPrice=0.0), fills=[Fill(contract=Stock(conId=447584486, symbol='ZOM', right='?', exchange='SMART', currency='USD', localSymbol='ZOM', tradingClass='ZOM'), execution=Execution(execId='00014460.6784d350.01.01', time=datetime.datetime(2025, 1, 13, 14, 30, tzinfo=datetime.timezone.utc), acctNumber='U12848716', exchange='AMEX', side='BOT', shares=1.0, price=0.13, permId=1113917955, clientId=0, orderId=19, liquidation=0, cumQty=1.0, avgPrice=0.13, orderRef='', evRule='', evMultiplier=0.0, modelCode='', lastLiquidity=2), commissionReport=CommissionReport(execId='00014460.6784d350.01.01', commission=0.010035, currency='USD', realizedPNL=0.0, yield_=0.0, yieldRedemptionDate=0), time=datetime.datetime(2025, 1, 13, 14, 30, tzinfo=datetime.timezone.utc))], log=[TradeLogEntry(time=datetime.datetime(2025, 1, 13, 14, 30, tzinfo=datetime.timezone.utc), status='Filled', message='Fill 1.0@0.13', errorCode=0)], advancedError=''),\n",
       " Trade(contract=Stock(conId=699197691, symbol='APDN', right='?', exchange='SMART', currency='USD', localSymbol='APDN', tradingClass='SCM'), order=Order(permId=614119484, action='SELL', totalQuantity=1.0, orderType='LMT', lmtPrice=0.191, auxPrice=0.0, tif='DAY', ocaType=3, displaySize=2147483647, rule80A='0', openClose='', volatilityType=0, deltaNeutralOrderType='None', referencePriceType=0, account='U12848716', clearingIntent='IB', cashQty=0.0, dontUseAutoPriceForHedge=True, filledQuantity=0.0, refFuturesConId=2147483647, shareholder='Not an insider or substantial shareholder'), orderStatus=OrderStatus(orderId=0, status='Cancelled', filled=0.0, remaining=0.0, avgFillPrice=0.0, permId=0, parentId=0, lastFillPrice=0.0, clientId=0, whyHeld='', mktCapPrice=0.0), fills=[], log=[], advancedError=''),\n",
       " Trade(contract=Stock(conId=699197691, symbol='APDN', right='?', exchange='SMART', currency='USD', localSymbol='APDN', tradingClass='SCM'), order=Order(permId=614119485, action='SELL', totalQuantity=1.0, orderType='LMT', lmtPrice=0.191, auxPrice=0.0, tif='DAY', ocaType=3, displaySize=2147483647, rule80A='0', openClose='', volatilityType=0, deltaNeutralOrderType='None', referencePriceType=0, account='U12848716', clearingIntent='IB', cashQty=0.0, dontUseAutoPriceForHedge=True, filledQuantity=0.0, refFuturesConId=2147483647, shareholder='Not an insider or substantial shareholder'), orderStatus=OrderStatus(orderId=0, status='Cancelled', filled=0.0, remaining=0.0, avgFillPrice=0.0, permId=0, parentId=0, lastFillPrice=0.0, clientId=0, whyHeld='', mktCapPrice=0.0), fills=[], log=[], advancedError=''),\n",
       " Trade(contract=Stock(conId=656170396, symbol='CDT', right='?', exchange='SMART', currency='USD', localSymbol='CDT', tradingClass='NMS'), order=Order(permId=550194939, action='BUY', totalQuantity=1.0, orderType='LMT', lmtPrice=0.055, auxPrice=0.0, tif='DAY', ocaType=3, displaySize=2147483647, rule80A='0', openClose='', volatilityType=0, deltaNeutralOrderType='None', referencePriceType=0, account='U12848716', clearingIntent='IB', cashQty=0.0, dontUseAutoPriceForHedge=True, filledQuantity=0.0, refFuturesConId=2147483647, shareholder='Not an insider or substantial shareholder'), orderStatus=OrderStatus(orderId=0, status='Cancelled', filled=0.0, remaining=0.0, avgFillPrice=0.0, permId=0, parentId=0, lastFillPrice=0.0, clientId=0, whyHeld='', mktCapPrice=0.0), fills=[], log=[], advancedError='')]"
      ]
     },
     "execution_count": 7,
     "metadata": {},
     "output_type": "execute_result"
    }
   ],
   "source": [
    "trads = ib.trades()\n",
    "trads"
   ]
  },
  {
   "cell_type": "code",
   "execution_count": null,
   "id": "da34e50c-3f62-4fec-8cd5-5ebf1f2ffb70",
   "metadata": {},
   "outputs": [],
   "source": [
    "#January 13, 2024 7:40AM - placing a market order to buy ZOM and will gather the order data details and see what lines up in the fill section..\n",
    "# specifically looking at orderId and PermID and stuff to see if it aligns still... that way I can put these specific ids in a table to track SLs\n",
    "\n",
    "zom_contract = Stock('ZOM', 'SMART', 'USD')\n",
    "marketOrder = MarketOrder('BUY', 1)\n",
    "marketOrderTrader = ib.placeOrder(zom_contract, marketOrder)\n",
    "marketOrderTrader"
   ]
  },
  {
   "cell_type": "code",
   "execution_count": 9,
   "id": "0b517c23-def8-4537-80aa-3cb90edadf54",
   "metadata": {},
   "outputs": [
    {
     "data": {
      "text/plain": [
       "[Order(permId=614119506, action='SELL', orderType='LMT', lmtPrice=0.188, auxPrice=0.0, tif='DAY', ocaType=3, displaySize=2147483647, rule80A='0', openClose='', volatilityType=0, deltaNeutralOrderType='None', referencePriceType=0, account='U12848716', clearingIntent='IB', cashQty=0.0, dontUseAutoPriceForHedge=True, filledQuantity=1.0, refFuturesConId=2147483647, shareholder='Not an insider or substantial shareholder'),\n",
       " Order(permId=614119507, action='SELL', orderType='LMT', lmtPrice=0.188, auxPrice=0.0, tif='DAY', ocaType=3, displaySize=2147483647, rule80A='0', openClose='', volatilityType=0, deltaNeutralOrderType='None', referencePriceType=0, account='U12848716', clearingIntent='IB', cashQty=0.0, dontUseAutoPriceForHedge=True, filledQuantity=1.0, refFuturesConId=2147483647, shareholder='Not an insider or substantial shareholder'),\n",
       " Order(permId=614119504, action='SELL', orderType='LMT', lmtPrice=0.188, auxPrice=0.0, tif='DAY', ocaType=3, displaySize=2147483647, rule80A='0', openClose='', volatilityType=0, deltaNeutralOrderType='None', referencePriceType=0, account='U12848716', clearingIntent='IB', cashQty=0.0, dontUseAutoPriceForHedge=True, filledQuantity=1.0, refFuturesConId=2147483647, shareholder='Not an insider or substantial shareholder'),\n",
       " Order(permId=614119505, action='SELL', orderType='LMT', lmtPrice=0.188, auxPrice=0.0, tif='DAY', ocaType=3, displaySize=2147483647, rule80A='0', openClose='', volatilityType=0, deltaNeutralOrderType='None', referencePriceType=0, account='U12848716', clearingIntent='IB', cashQty=0.0, dontUseAutoPriceForHedge=True, filledQuantity=1.0, refFuturesConId=2147483647, shareholder='Not an insider or substantial shareholder'),\n",
       " Order(permId=614119498, action='SELL', totalQuantity=1.0, orderType='LMT', lmtPrice=0.19, auxPrice=0.0, tif='DAY', ocaType=3, displaySize=2147483647, rule80A='0', openClose='', volatilityType=0, deltaNeutralOrderType='None', referencePriceType=0, account='U12848716', clearingIntent='IB', cashQty=0.0, dontUseAutoPriceForHedge=True, filledQuantity=0.0, refFuturesConId=2147483647, shareholder='Not an insider or substantial shareholder'),\n",
       " Order(permId=614119499, action='SELL', totalQuantity=1.0, orderType='LMT', lmtPrice=0.19, auxPrice=0.0, tif='DAY', ocaType=3, displaySize=2147483647, rule80A='0', openClose='', volatilityType=0, deltaNeutralOrderType='None', referencePriceType=0, account='U12848716', clearingIntent='IB', cashQty=0.0, dontUseAutoPriceForHedge=True, filledQuantity=0.0, refFuturesConId=2147483647, shareholder='Not an insider or substantial shareholder'),\n",
       " Order(permId=614119496, action='SELL', totalQuantity=1.0, orderType='LMT', lmtPrice=0.19, auxPrice=0.0, tif='DAY', ocaType=3, displaySize=2147483647, rule80A='0', openClose='', volatilityType=0, deltaNeutralOrderType='None', referencePriceType=0, account='U12848716', clearingIntent='IB', cashQty=0.0, dontUseAutoPriceForHedge=True, filledQuantity=0.0, refFuturesConId=2147483647, shareholder='Not an insider or substantial shareholder'),\n",
       " Order(permId=614119497, action='SELL', totalQuantity=1.0, orderType='LMT', lmtPrice=0.19, auxPrice=0.0, tif='DAY', ocaType=3, displaySize=2147483647, rule80A='0', openClose='', volatilityType=0, deltaNeutralOrderType='None', referencePriceType=0, account='U12848716', clearingIntent='IB', cashQty=0.0, dontUseAutoPriceForHedge=True, filledQuantity=0.0, refFuturesConId=2147483647, shareholder='Not an insider or substantial shareholder'),\n",
       " Order(permId=614119502, action='SELL', orderType='LMT', lmtPrice=0.188, auxPrice=0.0, tif='DAY', ocaType=3, displaySize=2147483647, rule80A='0', openClose='', volatilityType=0, deltaNeutralOrderType='None', referencePriceType=0, account='U12848716', clearingIntent='IB', cashQty=0.0, dontUseAutoPriceForHedge=True, filledQuantity=1.0, refFuturesConId=2147483647, shareholder='Not an insider or substantial shareholder'),\n",
       " Order(permId=614119503, action='SELL', orderType='LMT', lmtPrice=0.188, auxPrice=0.0, tif='DAY', ocaType=3, displaySize=2147483647, rule80A='0', openClose='', volatilityType=0, deltaNeutralOrderType='None', referencePriceType=0, account='U12848716', clearingIntent='IB', cashQty=0.0, dontUseAutoPriceForHedge=True, filledQuantity=1.0, refFuturesConId=2147483647, shareholder='Not an insider or substantial shareholder'),\n",
       " Order(permId=614119500, action='SELL', totalQuantity=1.0, orderType='LMT', lmtPrice=0.19, auxPrice=0.0, tif='DAY', ocaType=3, displaySize=2147483647, rule80A='0', openClose='', volatilityType=0, deltaNeutralOrderType='None', referencePriceType=0, account='U12848716', clearingIntent='IB', cashQty=0.0, dontUseAutoPriceForHedge=True, filledQuantity=0.0, refFuturesConId=2147483647, shareholder='Not an insider or substantial shareholder'),\n",
       " Order(permId=614119501, action='SELL', totalQuantity=1.0, orderType='LMT', lmtPrice=0.19, auxPrice=0.0, tif='DAY', ocaType=3, displaySize=2147483647, rule80A='0', openClose='', volatilityType=0, deltaNeutralOrderType='None', referencePriceType=0, account='U12848716', clearingIntent='IB', cashQty=0.0, dontUseAutoPriceForHedge=True, filledQuantity=0.0, refFuturesConId=2147483647, shareholder='Not an insider or substantial shareholder'),\n",
       " Order(permId=614119490, action='SELL', totalQuantity=1.0, orderType='LMT', lmtPrice=0.19, auxPrice=0.0, tif='DAY', ocaType=3, displaySize=2147483647, rule80A='0', openClose='', volatilityType=0, deltaNeutralOrderType='None', referencePriceType=0, account='U12848716', clearingIntent='IB', cashQty=0.0, dontUseAutoPriceForHedge=True, filledQuantity=0.0, refFuturesConId=2147483647, shareholder='Not an insider or substantial shareholder'),\n",
       " Order(permId=614119491, action='SELL', totalQuantity=1.0, orderType='LMT', lmtPrice=0.19, auxPrice=0.0, tif='DAY', ocaType=3, displaySize=2147483647, rule80A='0', openClose='', volatilityType=0, deltaNeutralOrderType='None', referencePriceType=0, account='U12848716', clearingIntent='IB', cashQty=0.0, dontUseAutoPriceForHedge=True, filledQuantity=0.0, refFuturesConId=2147483647, shareholder='Not an insider or substantial shareholder'),\n",
       " Order(permId=614119488, action='SELL', totalQuantity=1.0, orderType='LMT', lmtPrice=0.191, auxPrice=0.0, tif='DAY', ocaType=3, displaySize=2147483647, rule80A='0', openClose='', volatilityType=0, deltaNeutralOrderType='None', referencePriceType=0, account='U12848716', clearingIntent='IB', cashQty=0.0, dontUseAutoPriceForHedge=True, filledQuantity=0.0, refFuturesConId=2147483647, shareholder='Not an insider or substantial shareholder'),\n",
       " Order(permId=614119489, action='SELL', totalQuantity=1.0, orderType='LMT', lmtPrice=0.191, auxPrice=0.0, tif='DAY', ocaType=3, displaySize=2147483647, rule80A='0', openClose='', volatilityType=0, deltaNeutralOrderType='None', referencePriceType=0, account='U12848716', clearingIntent='IB', cashQty=0.0, dontUseAutoPriceForHedge=True, filledQuantity=0.0, refFuturesConId=2147483647, shareholder='Not an insider or substantial shareholder'),\n",
       " Order(permId=614119494, action='SELL', totalQuantity=1.0, orderType='LMT', lmtPrice=0.19, auxPrice=0.0, tif='DAY', ocaType=3, displaySize=2147483647, rule80A='0', openClose='', volatilityType=0, deltaNeutralOrderType='None', referencePriceType=0, account='U12848716', clearingIntent='IB', cashQty=0.0, dontUseAutoPriceForHedge=True, filledQuantity=0.0, refFuturesConId=2147483647, shareholder='Not an insider or substantial shareholder'),\n",
       " Order(permId=614119495, action='SELL', totalQuantity=1.0, orderType='LMT', lmtPrice=0.19, auxPrice=0.0, tif='DAY', ocaType=3, displaySize=2147483647, rule80A='0', openClose='', volatilityType=0, deltaNeutralOrderType='None', referencePriceType=0, account='U12848716', clearingIntent='IB', cashQty=0.0, dontUseAutoPriceForHedge=True, filledQuantity=0.0, refFuturesConId=2147483647, shareholder='Not an insider or substantial shareholder'),\n",
       " Order(permId=614119492, action='SELL', totalQuantity=1.0, orderType='LMT', lmtPrice=0.19, auxPrice=0.0, tif='DAY', ocaType=3, displaySize=2147483647, rule80A='0', openClose='', volatilityType=0, deltaNeutralOrderType='None', referencePriceType=0, account='U12848716', clearingIntent='IB', cashQty=0.0, dontUseAutoPriceForHedge=True, filledQuantity=0.0, refFuturesConId=2147483647, shareholder='Not an insider or substantial shareholder'),\n",
       " Order(permId=614119493, action='SELL', totalQuantity=1.0, orderType='LMT', lmtPrice=0.19, auxPrice=0.0, tif='DAY', ocaType=3, displaySize=2147483647, rule80A='0', openClose='', volatilityType=0, deltaNeutralOrderType='None', referencePriceType=0, account='U12848716', clearingIntent='IB', cashQty=0.0, dontUseAutoPriceForHedge=True, filledQuantity=0.0, refFuturesConId=2147483647, shareholder='Not an insider or substantial shareholder'),\n",
       " Order(permId=614119486, action='SELL', totalQuantity=1.0, orderType='LMT', lmtPrice=0.191, auxPrice=0.0, tif='DAY', ocaType=3, displaySize=2147483647, rule80A='0', openClose='', volatilityType=0, deltaNeutralOrderType='None', referencePriceType=0, account='U12848716', clearingIntent='IB', cashQty=0.0, dontUseAutoPriceForHedge=True, filledQuantity=0.0, refFuturesConId=2147483647, shareholder='Not an insider or substantial shareholder'),\n",
       " Order(permId=614119487, action='SELL', totalQuantity=1.0, orderType='LMT', lmtPrice=0.191, auxPrice=0.0, tif='DAY', ocaType=3, displaySize=2147483647, rule80A='0', openClose='', volatilityType=0, deltaNeutralOrderType='None', referencePriceType=0, account='U12848716', clearingIntent='IB', cashQty=0.0, dontUseAutoPriceForHedge=True, filledQuantity=0.0, refFuturesConId=2147483647, shareholder='Not an insider or substantial shareholder'),\n",
       " Order(permId=1113917955, action='BUY', orderType='MKT', lmtPrice=0.0, auxPrice=0.0, tif='DAY', ocaType=3, displaySize=2147483647, rule80A='0', openClose='', volatilityType=0, deltaNeutralOrderType='None', referencePriceType=0, account='U12848716', clearingIntent='IB', cashQty=0.0, dontUseAutoPriceForHedge=True, filledQuantity=1.0, refFuturesConId=2147483647, shareholder='Not an insider or substantial shareholder'),\n",
       " Order(permId=614119484, action='SELL', totalQuantity=1.0, orderType='LMT', lmtPrice=0.191, auxPrice=0.0, tif='DAY', ocaType=3, displaySize=2147483647, rule80A='0', openClose='', volatilityType=0, deltaNeutralOrderType='None', referencePriceType=0, account='U12848716', clearingIntent='IB', cashQty=0.0, dontUseAutoPriceForHedge=True, filledQuantity=0.0, refFuturesConId=2147483647, shareholder='Not an insider or substantial shareholder'),\n",
       " Order(permId=614119485, action='SELL', totalQuantity=1.0, orderType='LMT', lmtPrice=0.191, auxPrice=0.0, tif='DAY', ocaType=3, displaySize=2147483647, rule80A='0', openClose='', volatilityType=0, deltaNeutralOrderType='None', referencePriceType=0, account='U12848716', clearingIntent='IB', cashQty=0.0, dontUseAutoPriceForHedge=True, filledQuantity=0.0, refFuturesConId=2147483647, shareholder='Not an insider or substantial shareholder'),\n",
       " Order(permId=550194939, action='BUY', totalQuantity=1.0, orderType='LMT', lmtPrice=0.055, auxPrice=0.0, tif='DAY', ocaType=3, displaySize=2147483647, rule80A='0', openClose='', volatilityType=0, deltaNeutralOrderType='None', referencePriceType=0, account='U12848716', clearingIntent='IB', cashQty=0.0, dontUseAutoPriceForHedge=True, filledQuantity=0.0, refFuturesConId=2147483647, shareholder='Not an insider or substantial shareholder')]"
      ]
     },
     "execution_count": 9,
     "metadata": {},
     "output_type": "execute_result"
    }
   ],
   "source": [
    "ords = ib.orders()\n",
    "ords"
   ]
  },
  {
   "cell_type": "code",
   "execution_count": 11,
   "id": "e417f2cb-348d-4e79-ab40-3e52f5c79463",
   "metadata": {},
   "outputs": [
    {
     "data": {
      "text/plain": [
       "[Fill(contract=Stock(conId=447584486, symbol='ZOM', right='?', exchange='SMART', currency='USD', localSymbol='ZOM', tradingClass='ZOM'), execution=Execution(execId='00014460.6784d350.01.01', time=datetime.datetime(2025, 1, 13, 14, 30, tzinfo=datetime.timezone.utc), acctNumber='U12848716', exchange='AMEX', side='BOT', shares=1.0, price=0.13, permId=1113917955, clientId=0, orderId=19, liquidation=0, cumQty=1.0, avgPrice=0.13, orderRef='', evRule='', evMultiplier=0.0, modelCode='', lastLiquidity=2), commissionReport=CommissionReport(execId='00014460.6784d350.01.01', commission=0.010035, currency='USD', realizedPNL=0.0, yield_=0.0, yieldRedemptionDate=0), time=datetime.datetime(2025, 1, 13, 14, 30, tzinfo=datetime.timezone.utc)),\n",
       " Fill(contract=Stock(conId=699197691, symbol='APDN', right='?', exchange='SMART', currency='USD', localSymbol='APDN', tradingClass='SCM'), execution=Execution(execId='0000febb.67854246.01.01', time=datetime.datetime(2025, 1, 13, 17, 50, 36, tzinfo=datetime.timezone.utc), acctNumber='U12848716', exchange='NASDAQ', side='SLD', shares=1.0, price=0.188, permId=614119502, clientId=0, orderId=49, liquidation=0, cumQty=1.0, avgPrice=0.188, orderRef='', evRule='', evMultiplier=0.0, modelCode='', lastLiquidity=1), commissionReport=CommissionReport(execId='0000febb.67854246.01.01', commission=0.010206, currency='USD', realizedPNL=-0.02959, yield_=0.0, yieldRedemptionDate=0), time=datetime.datetime(2025, 1, 13, 17, 50, 36, tzinfo=datetime.timezone.utc)),\n",
       " Fill(contract=Stock(conId=699197691, symbol='APDN', right='?', exchange='SMART', currency='USD', localSymbol='APDN', tradingClass='SCM'), execution=Execution(execId='0000f62c.6785042a.01.01', time=datetime.datetime(2025, 1, 13, 17, 50, 36, tzinfo=datetime.timezone.utc), acctNumber='U12848716', exchange='DRCTEDGE', side='SLD', shares=1.0, price=0.188, permId=614119503, clientId=0, orderId=50, liquidation=0, cumQty=1.0, avgPrice=0.188, orderRef='', evRule='', evMultiplier=0.0, modelCode='', lastLiquidity=1), commissionReport=CommissionReport(execId='0000f62c.6785042a.01.01', commission=0.010206, currency='USD', realizedPNL=-0.02959, yield_=0.0, yieldRedemptionDate=0), time=datetime.datetime(2025, 1, 13, 17, 50, 36, tzinfo=datetime.timezone.utc)),\n",
       " Fill(contract=Stock(conId=699197691, symbol='APDN', right='?', exchange='SMART', currency='USD', localSymbol='APDN', tradingClass='SCM'), execution=Execution(execId='0000f62c.6785042b.01.01', time=datetime.datetime(2025, 1, 13, 17, 50, 36, tzinfo=datetime.timezone.utc), acctNumber='U12848716', exchange='DRCTEDGE', side='SLD', shares=1.0, price=0.188, permId=614119504, clientId=0, orderId=51, liquidation=0, cumQty=1.0, avgPrice=0.188, orderRef='', evRule='', evMultiplier=0.0, modelCode='', lastLiquidity=1), commissionReport=CommissionReport(execId='0000f62c.6785042b.01.01', commission=0.010206, currency='USD', realizedPNL=-0.02959, yield_=0.0, yieldRedemptionDate=0), time=datetime.datetime(2025, 1, 13, 17, 50, 36, tzinfo=datetime.timezone.utc)),\n",
       " Fill(contract=Stock(conId=699197691, symbol='APDN', right='?', exchange='SMART', currency='USD', localSymbol='APDN', tradingClass='SCM'), execution=Execution(execId='0000f62c.6785042c.01.01', time=datetime.datetime(2025, 1, 13, 17, 50, 36, tzinfo=datetime.timezone.utc), acctNumber='U12848716', exchange='DRCTEDGE', side='SLD', shares=1.0, price=0.188, permId=614119505, clientId=0, orderId=52, liquidation=0, cumQty=1.0, avgPrice=0.188, orderRef='', evRule='', evMultiplier=0.0, modelCode='', lastLiquidity=1), commissionReport=CommissionReport(execId='0000f62c.6785042c.01.01', commission=0.010206, currency='USD', realizedPNL=-0.02959, yield_=0.0, yieldRedemptionDate=0), time=datetime.datetime(2025, 1, 13, 17, 50, 36, tzinfo=datetime.timezone.utc)),\n",
       " Fill(contract=Stock(conId=699197691, symbol='APDN', right='?', exchange='SMART', currency='USD', localSymbol='APDN', tradingClass='SCM'), execution=Execution(execId='0000f62c.6785042d.01.01', time=datetime.datetime(2025, 1, 13, 17, 50, 36, tzinfo=datetime.timezone.utc), acctNumber='U12848716', exchange='DRCTEDGE', side='SLD', shares=1.0, price=0.188, permId=614119506, clientId=0, orderId=53, liquidation=0, cumQty=1.0, avgPrice=0.188, orderRef='', evRule='', evMultiplier=0.0, modelCode='', lastLiquidity=1), commissionReport=CommissionReport(execId='0000f62c.6785042d.01.01', commission=0.010206, currency='USD', realizedPNL=-0.02959, yield_=0.0, yieldRedemptionDate=0), time=datetime.datetime(2025, 1, 13, 17, 50, 36, tzinfo=datetime.timezone.utc)),\n",
       " Fill(contract=Stock(conId=699197691, symbol='APDN', right='?', exchange='SMART', currency='USD', localSymbol='APDN', tradingClass='SCM'), execution=Execution(execId='0000f62c.6785042e.01.01', time=datetime.datetime(2025, 1, 13, 17, 50, 36, tzinfo=datetime.timezone.utc), acctNumber='U12848716', exchange='DRCTEDGE', side='SLD', shares=1.0, price=0.188, permId=614119507, clientId=0, orderId=54, liquidation=0, cumQty=1.0, avgPrice=0.188, orderRef='', evRule='', evMultiplier=0.0, modelCode='', lastLiquidity=1), commissionReport=CommissionReport(execId='0000f62c.6785042e.01.01', commission=0.010206, currency='USD', realizedPNL=-0.02959, yield_=0.0, yieldRedemptionDate=0), time=datetime.datetime(2025, 1, 13, 17, 50, 36, tzinfo=datetime.timezone.utc))]"
      ]
     },
     "execution_count": 11,
     "metadata": {},
     "output_type": "execute_result"
    }
   ],
   "source": [
    "#January 13, 2024 12:05 - check the fills list to see what information is displayed...\n",
    "fills = ib.fills()\n",
    "fills\n"
   ]
  },
  {
   "cell_type": "code",
   "execution_count": null,
   "id": "2bac85f7-2de8-4b60-87d7-ac09be444f5b",
   "metadata": {},
   "outputs": [],
   "source": []
  }
 ],
 "metadata": {
  "kernelspec": {
   "display_name": "Python [conda env:base] *",
   "language": "python",
   "name": "conda-base-py"
  },
  "language_info": {
   "codemirror_mode": {
    "name": "ipython",
    "version": 3
   },
   "file_extension": ".py",
   "mimetype": "text/x-python",
   "name": "python",
   "nbconvert_exporter": "python",
   "pygments_lexer": "ipython3",
   "version": "3.12.7"
  }
 },
 "nbformat": 4,
 "nbformat_minor": 5
}
