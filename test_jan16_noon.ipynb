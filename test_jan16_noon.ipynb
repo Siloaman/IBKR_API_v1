{
 "cells": [
  {
   "cell_type": "code",
   "execution_count": null,
   "id": "660db55c-332d-4adb-9d16-26d1cea8f54f",
   "metadata": {},
   "outputs": [],
   "source": [
    "# !pip install ib_insync\n",
    "# !pip install schedule\n",
    "# !pip install ibapi"
   ]
  },
  {
   "cell_type": "code",
   "execution_count": 1,
   "id": "974e50e4-692c-4024-87d3-424c9b6d3462",
   "metadata": {},
   "outputs": [],
   "source": [
    "from ib_insync import *\n",
    "import requests\n",
    "import pandas as pd\n",
    "import schedule\n",
    "import time\n",
    "import datetime;\n",
    "from bs4 import BeautifulSoup\n",
    "import warnings\n",
    "warnings.filterwarnings(\"ignore\", category=RuntimeWarning)\n",
    "\n",
    "util.startLoop()  # only use in interactive environments (i.e. Jupyter Notebooks)\n",
    "# https://github.com/PacktPublishing/Python-for-Algorithmic-Trading-Cookbook/issues/7"
   ]
  },
  {
   "cell_type": "code",
   "execution_count": 3,
   "id": "e1ea6417-d43c-42c5-86e0-acd27e18290d",
   "metadata": {},
   "outputs": [
    {
     "data": {
      "text/plain": [
       "<IB connected to 127.0.0.1:7496 clientId=0>"
      ]
     },
     "execution_count": 3,
     "metadata": {},
     "output_type": "execute_result"
    }
   ],
   "source": [
    "ib = IB()\n",
    "ib.connect(host='127.0.0.1', port=7496, clientId=0)\n",
    "# https://www.elitetrader.com/et/threads/cant-connect-to-api-interactive-brokers.361205/\n",
    "# needed to change socket port to 7496 and uncheck the Read-Only API box"
   ]
  },
  {
   "cell_type": "code",
   "execution_count": null,
   "id": "c8c9e5e5-ed11-4519-95f6-2ad4e5953c4d",
   "metadata": {},
   "outputs": [],
   "source": [
    "pending_stop_loss_orders = []"
   ]
  },
  {
   "cell_type": "code",
   "execution_count": null,
   "id": "dad422f7-36d8-498a-b86f-3ce7ed2c7d9a",
   "metadata": {},
   "outputs": [],
   "source": [
    "# util.logToConsole()\n",
    "\n",
    "# https://stackoverflow.com/questions/23944657/typeerror-method-takes-1-positional-argument-but-2-were-given-but-i-only-pa\n",
    "def order_status(self, trade):\n",
    "\n",
    "    \"\"\"\n",
    "    print(trade)\n",
    "\n",
    "    ||\n",
    "    Fill(\n",
    "        contract=Stock(conId=4727244, symbol='BMRA', exchange='SMART', primaryExchange='NASDAQ', currency='USD', localSymbol='BMRA', tradingClass='SCM'), \n",
    "        \n",
    "        execution=Execution(execId='00014f4f.6789209c.01.01', time=datetime.datetime(2025, 1, 16, 17, 42, 12, tzinfo=datetime.timezone.utc), \n",
    "        acctNumber='U12848716', exchange='IBKRATS', side='BOT', shares=1.0, price=0.6764, permId=239517332, clientId=0, orderId=129, liquidation=0, \n",
    "        cumQty=1.0, avgPrice=0.6764, orderRef='', evRule='', evMultiplier=0.0, modelCode='', lastLiquidity=2), \n",
    "        \n",
    "        commissionReport=CommissionReport(execId='', commission=0.0, currency='', realizedPNL=0.0, yield_=0.0, yieldRedemptionDate=0), \n",
    "        time=datetime.datetime(2025, 1, 16, 17, 42, 12, 493388, tzinfo=datetime.timezone.utc))\n",
    "    ||\n",
    "    \"\"\"\n",
    "\n",
    "    print(trade) # works!! trade IS THE FILL\n",
    "    print(\"and now\")\n",
    "    tr = ib.trades()\n",
    "    print(tr[-1])\n",
    "    \n",
    "    \"\"\"\n",
    "    Fill(\n",
    "    contract=Stock(conId=4727244, symbol='BMRA', exchange='SMART', primaryExchange='NASDAQ', currency='USD', localSymbol='BMRA', tradingClass='SCM'), \n",
    "    \n",
    "    execution=Execution(execId='00030f00.6789a4b7.01.01', time=datetime.datetime(2025, 1, 16, 17, 55, 39, tzinfo=datetime.timezone.utc), \n",
    "    acctNumber='U12848716', exchange='DARK', side='BOT', shares=1.0, price=0.6986, permId=239517344, clientId=0, orderId=153, liquidation=0, \n",
    "    cumQty=1.0, avgPrice=0.6986, orderRef='', evRule='', evMultiplier=0.0, modelCode='', lastLiquidity=2), \n",
    "    \n",
    "    commissionReport=CommissionReport(execId='', commission=0.0, currency='', realizedPNL=0.0, yield_=0.0, yieldRedemptionDate=0), \n",
    "    time=datetime.datetime(2025, 1, 16, 17, 55, 39, 325899, tzinfo=datetime.timezone.utc))\n",
    "\n",
    "    and now\n",
    "\n",
    "    Trade(\n",
    "    contract=Stock(conId=4727244, symbol='BMRA', exchange='SMART', primaryExchange='NASDAQ', currency='USD', localSymbol='BMRA', tradingClass='SCM'), \n",
    "    \n",
    "    order=LimitOrder(orderId=154, action='BUY', totalQuantity=1, lmtPrice=0.69), \n",
    "    \n",
    "    orderStatus=OrderStatus(orderId=154, status='PendingSubmit', filled=0.0, remaining=0.0, avgFillPrice=0.0, permId=0, parentId=0, lastFillPrice=0.0, \n",
    "    clientId=0, whyHeld='', mktCapPrice=0.0), \n",
    "    \n",
    "    fills=[], \n",
    "    \n",
    "    log=[TradeLogEntry(time=datetime.datetime(2025, 1, 16, 17, 55, 39, 215073, tzinfo=datetime.timezone.utc), \n",
    "    status='PendingSubmit', message='', errorCode=0)], advancedError='')\n",
    "    \"\"\"\n",
    "\n",
    "\n",
    "\n",
    "    \n",
    "    \"\"\"\n",
    "        pending_stop_loss_orders.append(new_row)\n",
    "        \n",
    "                        \n",
    "        contract = Stock('TSLA', 'SMART', 'USD')\n",
    "        stopOrder = StopOrder('BUY', fill.execution.shares, 1.10)\n",
    "        stopOrderTrade = ib.placeOrder(contract, stopOrder)\n",
    "        #stopOrderTrade         \n",
    "    \"\"\"        \n",
    "                \n",
    "                \n",
    "# test orders with day high volatility stocks\n",
    "sym = 'BMRA'\n",
    "test_symbols = [sym, sym]\n",
    "\n",
    "for test in test_symbols:\n",
    "    \n",
    "    contract = Stock(test, 'SMART', 'USD')\n",
    "\n",
    "    ib.qualifyContracts(contract)\n",
    "    data = ib.reqMktData(contract)\n",
    "    ib.sleep(2) # data.marketPrice() doesn't work without ib.sleep (few seconds)\n",
    "    current_price = data.marketPrice()\n",
    "    \n",
    "    limitOrderUp = LimitOrder('BUY', 1, round(current_price * 1.015, 2))    \n",
    "    limitOrderTradeUp = ib.placeOrder(contract, limitOrderUp)\n",
    "\n",
    "    limitOrderDown = LimitOrder('BUY', 1, round(current_price * 0.985, 2))    \n",
    "    limitOrderTradeDown = ib.placeOrder(contract, limitOrderDown)\n",
    "    # limitOrderTrade contains the order and everything related to it, such as order status, fills and a log.\n",
    "    # It will be live updated with every status change or fill of the order.\n",
    "        \n",
    "    # CREATE A DATAFRAME THAT TRACKS STOP LIMIT ORDERS MADE ALONG WITH THEIR STOP LOSS TARGETS\n",
    "    new_row = [limitOrderTradeUp.contract.symbol, limitOrderTradeUp.order.totalQuantity, limitOrderTradeUp.order.orderId, round(current_price * 1.25, 2)]\n",
    "    pending_stop_loss_orders.append(new_row)\n",
    "\n",
    "    new_row = [limitOrderTradeDown.contract.symbol, limitOrderTradeDown.order.totalQuantity, limitOrderTradeDown.order.orderId, round(current_price * 1.25, 2)]\n",
    "    pending_stop_loss_orders.append(new_row)\n",
    "\n",
    "    \n",
    "    #new_row = pd.DataFrame({[limitOrderTrade.contract.symbol], [limitOrderTrade.order.totalQuantity], \n",
    "    #                        [limitOrderTrade.order.orderId], [round(current_price * 1.25, 2)]})\n",
    "    #pending_stop_loss_orders = pd.concat([pending_stop_loss_orders, new_row], ignore_index=True)\n",
    "\n",
    "    # fillEvent (trade: Trade, fill: Fill)\n",
    "    limitOrderTradeUp.fillEvent += order_status\n",
    "    limitOrderTradeDown.fillEvent += order_status"
   ]
  },
  {
   "cell_type": "code",
   "execution_count": 13,
   "id": "49f1cdd6-4a51-4620-b624-55e2d957ef7f",
   "metadata": {},
   "outputs": [
    {
     "data": {
      "text/plain": [
       "[Trade(contract=Stock(conId=4727244, symbol='BMRA', right='?', exchange='SMART', currency='USD', localSymbol='BMRA', tradingClass='SCM'), order=Order(orderId=134, permId=239517335, action='BUY', totalQuantity=1.0, orderType='LMT', lmtPrice=0.67, auxPrice=0.0, tif='DAY', ocaType=3, displaySize=2147483647, rule80A='0', openClose='', volatilityType=0, deltaNeutralOrderType='None', referencePriceType=0, account='U12848716', clearingIntent='IB', adjustedOrderType='None', cashQty=0.0, dontUseAutoPriceForHedge=True), orderStatus=OrderStatus(orderId=134, status='Submitted', filled=0.0, remaining=1.0, avgFillPrice=0.0, permId=239517335, parentId=0, lastFillPrice=0.0, clientId=0, whyHeld='', mktCapPrice=0.0), fills=[], log=[TradeLogEntry(time=datetime.datetime(2025, 1, 16, 18, 5, 37, 379415, tzinfo=datetime.timezone.utc), status='Submitted', message='', errorCode=0)], advancedError=''),\n",
       " Trade(contract=Stock(conId=4727244, symbol='BMRA', right='?', exchange='SMART', currency='USD', localSymbol='BMRA', tradingClass='SCM'), order=Order(orderId=130, permId=239517333, action='BUY', totalQuantity=1.0, orderType='LMT', lmtPrice=0.66, auxPrice=0.0, tif='DAY', ocaType=3, displaySize=2147483647, rule80A='0', openClose='', volatilityType=0, deltaNeutralOrderType='None', referencePriceType=0, account='U12848716', clearingIntent='IB', adjustedOrderType='None', cashQty=0.0, dontUseAutoPriceForHedge=True), orderStatus=OrderStatus(orderId=130, status='Submitted', filled=0.0, remaining=1.0, avgFillPrice=0.0, permId=239517333, parentId=0, lastFillPrice=0.0, clientId=0, whyHeld='', mktCapPrice=0.0), fills=[], log=[TradeLogEntry(time=datetime.datetime(2025, 1, 16, 18, 5, 37, 379415, tzinfo=datetime.timezone.utc), status='Submitted', message='', errorCode=0)], advancedError=''),\n",
       " Trade(contract=Stock(conId=4727244, symbol='BMRA', right='?', exchange='SMART', currency='USD', localSymbol='BMRA', tradingClass='SCM'), order=Order(orderId=126, permId=239517331, action='BUY', totalQuantity=1.0, orderType='LMT', lmtPrice=0.67, auxPrice=0.0, tif='DAY', ocaType=3, displaySize=2147483647, rule80A='0', openClose='', volatilityType=0, deltaNeutralOrderType='None', referencePriceType=0, account='U12848716', clearingIntent='IB', adjustedOrderType='None', cashQty=0.0, dontUseAutoPriceForHedge=True), orderStatus=OrderStatus(orderId=126, status='Submitted', filled=0.0, remaining=1.0, avgFillPrice=0.0, permId=239517331, parentId=0, lastFillPrice=0.0, clientId=0, whyHeld='', mktCapPrice=0.0), fills=[], log=[TradeLogEntry(time=datetime.datetime(2025, 1, 16, 18, 5, 37, 379415, tzinfo=datetime.timezone.utc), status='Submitted', message='', errorCode=0)], advancedError=''),\n",
       " Trade(contract=Stock(conId=4727244, symbol='BMRA', right='?', exchange='SMART', currency='USD', localSymbol='BMRA', tradingClass='SCM'), order=Order(orderId=122, permId=239517329, action='BUY', totalQuantity=1.0, orderType='LMT', lmtPrice=0.67, auxPrice=0.0, tif='DAY', ocaType=3, displaySize=2147483647, rule80A='0', openClose='', volatilityType=0, deltaNeutralOrderType='None', referencePriceType=0, account='U12848716', clearingIntent='IB', adjustedOrderType='None', cashQty=0.0, dontUseAutoPriceForHedge=True), orderStatus=OrderStatus(orderId=122, status='Submitted', filled=0.0, remaining=1.0, avgFillPrice=0.0, permId=239517329, parentId=0, lastFillPrice=0.0, clientId=0, whyHeld='', mktCapPrice=0.0), fills=[], log=[TradeLogEntry(time=datetime.datetime(2025, 1, 16, 18, 5, 37, 379415, tzinfo=datetime.timezone.utc), status='Submitted', message='', errorCode=0)], advancedError=''),\n",
       " Trade(contract=Stock(conId=618449783, symbol='NYMT', right='?', exchange='SMART', currency='USD', localSymbol='NYMT', tradingClass='NMS'), order=Order(orderId=-7, permId=388454655, action='BUY', totalQuantity=1.0, orderType='LMT', lmtPrice=1.1, auxPrice=0.0, tif='GTC', ocaType=3, displaySize=2147483647, rule80A='0', openClose='', volatilityType=0, deltaNeutralOrderType='None', referencePriceType=0, account='U12848716', clearingIntent='IB', adjustedOrderType='None', cashQty=0.0, dontUseAutoPriceForHedge=True, usePriceMgmtAlgo=True), orderStatus=OrderStatus(orderId=-7, status='Submitted', filled=0.0, remaining=1.0, avgFillPrice=0.0, permId=388454655, parentId=0, lastFillPrice=0.0, clientId=0, whyHeld='', mktCapPrice=0.0), fills=[], log=[TradeLogEntry(time=datetime.datetime(2025, 1, 16, 18, 5, 37, 395055, tzinfo=datetime.timezone.utc), status='Submitted', message='', errorCode=0)], advancedError=''),\n",
       " Trade(contract=Stock(conId=4727244, symbol='BMRA', right='?', exchange='SMART', currency='USD', localSymbol='BMRA', tradingClass='SCM'), order=Order(orderId=118, permId=239517327, action='BUY', totalQuantity=1.0, orderType='LMT', lmtPrice=0.67, auxPrice=0.0, tif='DAY', ocaType=3, displaySize=2147483647, rule80A='0', openClose='', volatilityType=0, deltaNeutralOrderType='None', referencePriceType=0, account='U12848716', clearingIntent='IB', adjustedOrderType='None', cashQty=0.0, dontUseAutoPriceForHedge=True), orderStatus=OrderStatus(orderId=118, status='Submitted', filled=0.0, remaining=1.0, avgFillPrice=0.0, permId=239517327, parentId=0, lastFillPrice=0.0, clientId=0, whyHeld='', mktCapPrice=0.0), fills=[], log=[TradeLogEntry(time=datetime.datetime(2025, 1, 16, 18, 5, 37, 395055, tzinfo=datetime.timezone.utc), status='Submitted', message='', errorCode=0)], advancedError=''),\n",
       " Trade(contract=Stock(conId=4727244, symbol='BMRA', right='?', exchange='SMART', currency='USD', localSymbol='BMRA', tradingClass='SCM'), order=Order(orderId=114, permId=239517325, action='BUY', totalQuantity=1.0, orderType='LMT', lmtPrice=0.67, auxPrice=0.0, tif='DAY', ocaType=3, displaySize=2147483647, rule80A='0', openClose='', volatilityType=0, deltaNeutralOrderType='None', referencePriceType=0, account='U12848716', clearingIntent='IB', adjustedOrderType='None', cashQty=0.0, dontUseAutoPriceForHedge=True), orderStatus=OrderStatus(orderId=114, status='Submitted', filled=0.0, remaining=1.0, avgFillPrice=0.0, permId=239517325, parentId=0, lastFillPrice=0.0, clientId=0, whyHeld='', mktCapPrice=0.0), fills=[], log=[TradeLogEntry(time=datetime.datetime(2025, 1, 16, 18, 5, 37, 395055, tzinfo=datetime.timezone.utc), status='Submitted', message='', errorCode=0)], advancedError=''),\n",
       " Trade(contract=Stock(conId=4727244, symbol='BMRA', right='?', exchange='SMART', currency='USD', localSymbol='BMRA', tradingClass='SCM'), order=Order(orderId=110, permId=239517323, action='BUY', totalQuantity=1.0, orderType='LMT', lmtPrice=0.67, auxPrice=0.0, tif='DAY', ocaType=3, displaySize=2147483647, rule80A='0', openClose='', volatilityType=0, deltaNeutralOrderType='None', referencePriceType=0, account='U12848716', clearingIntent='IB', adjustedOrderType='None', cashQty=0.0, dontUseAutoPriceForHedge=True), orderStatus=OrderStatus(orderId=110, status='Submitted', filled=0.0, remaining=1.0, avgFillPrice=0.0, permId=239517323, parentId=0, lastFillPrice=0.0, clientId=0, whyHeld='', mktCapPrice=0.0), fills=[], log=[TradeLogEntry(time=datetime.datetime(2025, 1, 16, 18, 5, 37, 395055, tzinfo=datetime.timezone.utc), status='Submitted', message='', errorCode=0)], advancedError=''),\n",
       " Trade(contract=Stock(conId=4727244, symbol='BMRA', right='?', exchange='SMART', currency='USD', localSymbol='BMRA', tradingClass='SCM'), order=Order(orderId=106, permId=239517321, action='BUY', totalQuantity=1.0, orderType='LMT', lmtPrice=0.67, auxPrice=0.0, tif='DAY', ocaType=3, displaySize=2147483647, rule80A='0', openClose='', volatilityType=0, deltaNeutralOrderType='None', referencePriceType=0, account='U12848716', clearingIntent='IB', adjustedOrderType='None', cashQty=0.0, dontUseAutoPriceForHedge=True), orderStatus=OrderStatus(orderId=106, status='Submitted', filled=0.0, remaining=1.0, avgFillPrice=0.0, permId=239517321, parentId=0, lastFillPrice=0.0, clientId=0, whyHeld='', mktCapPrice=0.0), fills=[], log=[TradeLogEntry(time=datetime.datetime(2025, 1, 16, 18, 5, 37, 395055, tzinfo=datetime.timezone.utc), status='Submitted', message='', errorCode=0)], advancedError=''),\n",
       " Trade(contract=Stock(conId=700735038, symbol='SGBX', right='?', exchange='SMART', currency='USD', localSymbol='SGBX', tradingClass='SCM'), order=Order(permId=239517314, action='BUY', totalQuantity=1.0, orderType='LMT', lmtPrice=0.89, auxPrice=0.0, tif='DAY', ocaType=3, displaySize=2147483647, rule80A='0', openClose='', volatilityType=0, deltaNeutralOrderType='None', referencePriceType=0, account='U12848716', clearingIntent='IB', cashQty=0.0, dontUseAutoPriceForHedge=True, filledQuantity=0.0, refFuturesConId=2147483647, shareholder='Not an insider or substantial shareholder'), orderStatus=OrderStatus(orderId=0, status='Cancelled', filled=0.0, remaining=0.0, avgFillPrice=0.0, permId=0, parentId=0, lastFillPrice=0.0, clientId=0, whyHeld='', mktCapPrice=0.0), fills=[], log=[], advancedError=''),\n",
       " Trade(contract=Stock(conId=700735038, symbol='SGBX', right='?', exchange='SMART', currency='USD', localSymbol='SGBX', tradingClass='SCM'), order=Order(permId=239517312, action='BUY', totalQuantity=1.0, orderType='LMT', lmtPrice=0.89, auxPrice=0.0, tif='DAY', ocaType=3, displaySize=2147483647, rule80A='0', openClose='', volatilityType=0, deltaNeutralOrderType='None', referencePriceType=0, account='U12848716', clearingIntent='IB', cashQty=0.0, dontUseAutoPriceForHedge=True, filledQuantity=0.0, refFuturesConId=2147483647, shareholder='Not an insider or substantial shareholder'), orderStatus=OrderStatus(orderId=0, status='Cancelled', filled=0.0, remaining=0.0, avgFillPrice=0.0, permId=0, parentId=0, lastFillPrice=0.0, clientId=0, whyHeld='', mktCapPrice=0.0), fills=[], log=[], advancedError=''),\n",
       " Trade(contract=Stock(conId=700735038, symbol='SGBX', right='?', exchange='SMART', currency='USD', localSymbol='SGBX', tradingClass='SCM'), order=Order(permId=239517313, action='BUY', orderType='LMT', lmtPrice=0.92, auxPrice=0.0, tif='DAY', ocaType=3, displaySize=2147483647, rule80A='0', openClose='', volatilityType=0, deltaNeutralOrderType='None', referencePriceType=0, account='U12848716', clearingIntent='IB', cashQty=0.0, dontUseAutoPriceForHedge=True, filledQuantity=1.0, refFuturesConId=2147483647, shareholder='Not an insider or substantial shareholder'), orderStatus=OrderStatus(orderId=0, status='Filled', filled=0.0, remaining=0.0, avgFillPrice=0.0, permId=0, parentId=0, lastFillPrice=0.0, clientId=0, whyHeld='', mktCapPrice=0.0), fills=[Fill(contract=Stock(conId=700735038, symbol='SGBX', right='?', exchange='SMART', currency='USD', localSymbol='SGBX', tradingClass='SCM'), execution=Execution(execId='0001451b.678967c2.01.01', time=datetime.datetime(2025, 1, 16, 17, 29, 52, tzinfo=datetime.timezone.utc), acctNumber='U12848716', exchange='DARK', side='BOT', shares=1.0, price=0.9066, permId=239517313, clientId=0, orderId=99, liquidation=0, cumQty=1.0, avgPrice=0.9066, orderRef='', evRule='', evMultiplier=0.0, modelCode='', lastLiquidity=2), commissionReport=CommissionReport(execId='0001451b.678967c2.01.01', commission=0.010046, currency='USD', realizedPNL=0.0, yield_=0.0, yieldRedemptionDate=0), time=datetime.datetime(2025, 1, 16, 17, 29, 52, tzinfo=datetime.timezone.utc))], log=[TradeLogEntry(time=datetime.datetime(2025, 1, 16, 17, 29, 52, tzinfo=datetime.timezone.utc), status='Filled', message='Fill 1.0@0.9066', errorCode=0)], advancedError=''),\n",
       " Trade(contract=Stock(conId=4727244, symbol='BMRA', right='?', exchange='SMART', currency='USD', localSymbol='BMRA', tradingClass='SCM'), order=Order(permId=239517326, action='BUY', orderType='LMT', lmtPrice=0.69, auxPrice=0.0, tif='DAY', ocaType=3, displaySize=2147483647, rule80A='0', openClose='', volatilityType=0, deltaNeutralOrderType='None', referencePriceType=0, account='U12848716', clearingIntent='IB', cashQty=0.0, dontUseAutoPriceForHedge=True, filledQuantity=1.0, refFuturesConId=2147483647, shareholder='Not an insider or substantial shareholder'), orderStatus=OrderStatus(orderId=0, status='Filled', filled=0.0, remaining=0.0, avgFillPrice=0.0, permId=0, parentId=0, lastFillPrice=0.0, clientId=0, whyHeld='', mktCapPrice=0.0), fills=[Fill(contract=Stock(conId=4727244, symbol='BMRA', right='?', exchange='SMART', currency='USD', localSymbol='BMRA', tradingClass='SCM'), execution=Execution(execId='00030f00.6789a133.01.01', time=datetime.datetime(2025, 1, 16, 17, 39, 24, tzinfo=datetime.timezone.utc), acctNumber='U12848716', exchange='DARK', side='BOT', shares=1.0, price=0.6876, permId=239517326, clientId=0, orderId=117, liquidation=0, cumQty=1.0, avgPrice=0.6876, orderRef='', evRule='', evMultiplier=0.0, modelCode='', lastLiquidity=2), commissionReport=CommissionReport(execId='00030f00.6789a133.01.01', commission=0.010046, currency='USD', realizedPNL=0.0, yield_=0.0, yieldRedemptionDate=0), time=datetime.datetime(2025, 1, 16, 17, 39, 24, tzinfo=datetime.timezone.utc))], log=[TradeLogEntry(time=datetime.datetime(2025, 1, 16, 17, 39, 24, tzinfo=datetime.timezone.utc), status='Filled', message='Fill 1.0@0.6876', errorCode=0)], advancedError=''),\n",
       " Trade(contract=Stock(conId=4727244, symbol='BMRA', right='?', exchange='SMART', currency='USD', localSymbol='BMRA', tradingClass='SCM'), order=Order(permId=239517324, action='BUY', orderType='LMT', lmtPrice=0.69, auxPrice=0.0, tif='DAY', ocaType=3, displaySize=2147483647, rule80A='0', openClose='', volatilityType=0, deltaNeutralOrderType='None', referencePriceType=0, account='U12848716', clearingIntent='IB', cashQty=0.0, dontUseAutoPriceForHedge=True, filledQuantity=1.0, refFuturesConId=2147483647, shareholder='Not an insider or substantial shareholder'), orderStatus=OrderStatus(orderId=0, status='Filled', filled=0.0, remaining=0.0, avgFillPrice=0.0, permId=0, parentId=0, lastFillPrice=0.0, clientId=0, whyHeld='', mktCapPrice=0.0), fills=[Fill(contract=Stock(conId=4727244, symbol='BMRA', right='?', exchange='SMART', currency='USD', localSymbol='BMRA', tradingClass='SCM'), execution=Execution(execId='00014f4f.6789207c.01.01', time=datetime.datetime(2025, 1, 16, 17, 39, 22, tzinfo=datetime.timezone.utc), acctNumber='U12848716', exchange='IBKRATS', side='BOT', shares=1.0, price=0.6866, permId=239517324, clientId=0, orderId=113, liquidation=0, cumQty=1.0, avgPrice=0.6866, orderRef='', evRule='', evMultiplier=0.0, modelCode='', lastLiquidity=2), commissionReport=CommissionReport(execId='00014f4f.6789207c.01.01', commission=0.006912, currency='USD', realizedPNL=0.0, yield_=0.0, yieldRedemptionDate=0), time=datetime.datetime(2025, 1, 16, 17, 39, 22, tzinfo=datetime.timezone.utc))], log=[TradeLogEntry(time=datetime.datetime(2025, 1, 16, 17, 39, 22, tzinfo=datetime.timezone.utc), status='Filled', message='Fill 1.0@0.6866', errorCode=0)], advancedError=''),\n",
       " Trade(contract=Stock(conId=4727244, symbol='BMRA', right='?', exchange='SMART', currency='USD', localSymbol='BMRA', tradingClass='SCM'), order=Order(permId=239517322, action='BUY', orderType='LMT', lmtPrice=0.69, auxPrice=0.0, tif='DAY', ocaType=3, displaySize=2147483647, rule80A='0', openClose='', volatilityType=0, deltaNeutralOrderType='None', referencePriceType=0, account='U12848716', clearingIntent='IB', cashQty=0.0, dontUseAutoPriceForHedge=True, filledQuantity=1.0, refFuturesConId=2147483647, shareholder='Not an insider or substantial shareholder'), orderStatus=OrderStatus(orderId=0, status='Filled', filled=0.0, remaining=0.0, avgFillPrice=0.0, permId=0, parentId=0, lastFillPrice=0.0, clientId=0, whyHeld='', mktCapPrice=0.0), fills=[Fill(contract=Stock(conId=4727244, symbol='BMRA', right='?', exchange='SMART', currency='USD', localSymbol='BMRA', tradingClass='SCM'), execution=Execution(execId='00014f4f.67892058.01.01', time=datetime.datetime(2025, 1, 16, 17, 37, 46, tzinfo=datetime.timezone.utc), acctNumber='U12848716', exchange='IBKRATS', side='BOT', shares=1.0, price=0.6776, permId=239517322, clientId=0, orderId=109, liquidation=0, cumQty=1.0, avgPrice=0.6776, orderRef='', evRule='', evMultiplier=0.0, modelCode='', lastLiquidity=2), commissionReport=CommissionReport(execId='00014f4f.67892058.01.01', commission=0.006822, currency='USD', realizedPNL=0.0, yield_=0.0, yieldRedemptionDate=0), time=datetime.datetime(2025, 1, 16, 17, 37, 46, tzinfo=datetime.timezone.utc))], log=[TradeLogEntry(time=datetime.datetime(2025, 1, 16, 17, 37, 46, tzinfo=datetime.timezone.utc), status='Filled', message='Fill 1.0@0.6776', errorCode=0)], advancedError=''),\n",
       " Trade(contract=Stock(conId=4727244, symbol='BMRA', right='?', exchange='SMART', currency='USD', localSymbol='BMRA', tradingClass='SCM'), order=Order(permId=239517320, action='BUY', orderType='LMT', lmtPrice=0.69, auxPrice=0.0, tif='DAY', ocaType=3, displaySize=2147483647, rule80A='0', openClose='', volatilityType=0, deltaNeutralOrderType='None', referencePriceType=0, account='U12848716', clearingIntent='IB', cashQty=0.0, dontUseAutoPriceForHedge=True, filledQuantity=1.0, refFuturesConId=2147483647, shareholder='Not an insider or substantial shareholder'), orderStatus=OrderStatus(orderId=0, status='Filled', filled=0.0, remaining=0.0, avgFillPrice=0.0, permId=0, parentId=0, lastFillPrice=0.0, clientId=0, whyHeld='', mktCapPrice=0.0), fills=[Fill(contract=Stock(conId=4727244, symbol='BMRA', right='?', exchange='SMART', currency='USD', localSymbol='BMRA', tradingClass='SCM'), execution=Execution(execId='0000e494.6789c6ae.01.01', time=datetime.datetime(2025, 1, 16, 17, 37, 44, tzinfo=datetime.timezone.utc), acctNumber='U12848716', exchange='DARK', side='BOT', shares=1.0, price=0.6801, permId=239517320, clientId=0, orderId=105, liquidation=0, cumQty=1.0, avgPrice=0.6801, orderRef='', evRule='', evMultiplier=0.0, modelCode='', lastLiquidity=2), commissionReport=CommissionReport(execId='0000e494.6789c6ae.01.01', commission=0.010046, currency='USD', realizedPNL=0.0, yield_=0.0, yieldRedemptionDate=0), time=datetime.datetime(2025, 1, 16, 17, 37, 44, tzinfo=datetime.timezone.utc))], log=[TradeLogEntry(time=datetime.datetime(2025, 1, 16, 17, 37, 44, tzinfo=datetime.timezone.utc), status='Filled', message='Fill 1.0@0.6801', errorCode=0)], advancedError=''),\n",
       " Trade(contract=Stock(conId=4727244, symbol='BMRA', right='?', exchange='SMART', currency='USD', localSymbol='BMRA', tradingClass='SCM'), order=Order(permId=239517334, action='BUY', orderType='LMT', lmtPrice=0.69, auxPrice=0.0, tif='DAY', ocaType=3, displaySize=2147483647, rule80A='0', openClose='', volatilityType=0, deltaNeutralOrderType='None', referencePriceType=0, account='U12848716', clearingIntent='IB', cashQty=0.0, dontUseAutoPriceForHedge=True, filledQuantity=1.0, refFuturesConId=2147483647, shareholder='Not an insider or substantial shareholder'), orderStatus=OrderStatus(orderId=0, status='Filled', filled=0.0, remaining=0.0, avgFillPrice=0.0, permId=0, parentId=0, lastFillPrice=0.0, clientId=0, whyHeld='', mktCapPrice=0.0), fills=[Fill(contract=Stock(conId=4727244, symbol='BMRA', right='?', exchange='SMART', currency='USD', localSymbol='BMRA', tradingClass='SCM'), execution=Execution(execId='0000e494.6789c8b2.01.01', time=datetime.datetime(2025, 1, 16, 17, 42, 14, tzinfo=datetime.timezone.utc), acctNumber='U12848716', exchange='DARK', side='BOT', shares=1.0, price=0.6768, permId=239517334, clientId=0, orderId=133, liquidation=0, cumQty=1.0, avgPrice=0.6768, orderRef='', evRule='', evMultiplier=0.0, modelCode='', lastLiquidity=2), commissionReport=CommissionReport(execId='0000e494.6789c8b2.01.01', commission=0.010046, currency='USD', realizedPNL=0.0, yield_=0.0, yieldRedemptionDate=0), time=datetime.datetime(2025, 1, 16, 17, 42, 14, tzinfo=datetime.timezone.utc))], log=[TradeLogEntry(time=datetime.datetime(2025, 1, 16, 17, 42, 14, tzinfo=datetime.timezone.utc), status='Filled', message='Fill 1.0@0.6768', errorCode=0)], advancedError=''),\n",
       " Trade(contract=Stock(conId=4727244, symbol='BMRA', right='?', exchange='SMART', currency='USD', localSymbol='BMRA', tradingClass='SCM'), order=Order(permId=239517332, action='BUY', orderType='LMT', lmtPrice=0.69, auxPrice=0.0, tif='DAY', ocaType=3, displaySize=2147483647, rule80A='0', openClose='', volatilityType=0, deltaNeutralOrderType='None', referencePriceType=0, account='U12848716', clearingIntent='IB', cashQty=0.0, dontUseAutoPriceForHedge=True, filledQuantity=1.0, refFuturesConId=2147483647, shareholder='Not an insider or substantial shareholder'), orderStatus=OrderStatus(orderId=0, status='Filled', filled=0.0, remaining=0.0, avgFillPrice=0.0, permId=0, parentId=0, lastFillPrice=0.0, clientId=0, whyHeld='', mktCapPrice=0.0), fills=[Fill(contract=Stock(conId=4727244, symbol='BMRA', right='?', exchange='SMART', currency='USD', localSymbol='BMRA', tradingClass='SCM'), execution=Execution(execId='00014f4f.6789209c.01.01', time=datetime.datetime(2025, 1, 16, 17, 42, 12, tzinfo=datetime.timezone.utc), acctNumber='U12848716', exchange='IBKRATS', side='BOT', shares=1.0, price=0.6764, permId=239517332, clientId=0, orderId=129, liquidation=0, cumQty=1.0, avgPrice=0.6764, orderRef='', evRule='', evMultiplier=0.0, modelCode='', lastLiquidity=2), commissionReport=CommissionReport(execId='00014f4f.6789209c.01.01', commission=0.00681, currency='USD', realizedPNL=0.0, yield_=0.0, yieldRedemptionDate=0), time=datetime.datetime(2025, 1, 16, 17, 42, 12, tzinfo=datetime.timezone.utc))], log=[TradeLogEntry(time=datetime.datetime(2025, 1, 16, 17, 42, 12, tzinfo=datetime.timezone.utc), status='Filled', message='Fill 1.0@0.6764', errorCode=0)], advancedError=''),\n",
       " Trade(contract=Stock(conId=4727244, symbol='BMRA', right='?', exchange='SMART', currency='USD', localSymbol='BMRA', tradingClass='SCM'), order=Order(permId=239517330, action='BUY', orderType='LMT', lmtPrice=0.69, auxPrice=0.0, tif='DAY', ocaType=3, displaySize=2147483647, rule80A='0', openClose='', volatilityType=0, deltaNeutralOrderType='None', referencePriceType=0, account='U12848716', clearingIntent='IB', cashQty=0.0, dontUseAutoPriceForHedge=True, filledQuantity=1.0, refFuturesConId=2147483647, shareholder='Not an insider or substantial shareholder'), orderStatus=OrderStatus(orderId=0, status='Filled', filled=0.0, remaining=0.0, avgFillPrice=0.0, permId=0, parentId=0, lastFillPrice=0.0, clientId=0, whyHeld='', mktCapPrice=0.0), fills=[Fill(contract=Stock(conId=4727244, symbol='BMRA', right='?', exchange='SMART', currency='USD', localSymbol='BMRA', tradingClass='SCM'), execution=Execution(execId='00014f4f.67892086.01.01', time=datetime.datetime(2025, 1, 16, 17, 40, 23, tzinfo=datetime.timezone.utc), acctNumber='U12848716', exchange='IBKRATS', side='BOT', shares=1.0, price=0.6744, permId=239517330, clientId=0, orderId=125, liquidation=0, cumQty=1.0, avgPrice=0.6744, orderRef='', evRule='', evMultiplier=0.0, modelCode='', lastLiquidity=2), commissionReport=CommissionReport(execId='00014f4f.67892086.01.01', commission=0.00679, currency='USD', realizedPNL=0.0, yield_=0.0, yieldRedemptionDate=0), time=datetime.datetime(2025, 1, 16, 17, 40, 23, tzinfo=datetime.timezone.utc))], log=[TradeLogEntry(time=datetime.datetime(2025, 1, 16, 17, 40, 23, tzinfo=datetime.timezone.utc), status='Filled', message='Fill 1.0@0.6744', errorCode=0)], advancedError=''),\n",
       " Trade(contract=Stock(conId=4727244, symbol='BMRA', right='?', exchange='SMART', currency='USD', localSymbol='BMRA', tradingClass='SCM'), order=Order(permId=239517328, action='BUY', orderType='LMT', lmtPrice=0.69, auxPrice=0.0, tif='DAY', ocaType=3, displaySize=2147483647, rule80A='0', openClose='', volatilityType=0, deltaNeutralOrderType='None', referencePriceType=0, account='U12848716', clearingIntent='IB', cashQty=0.0, dontUseAutoPriceForHedge=True, filledQuantity=1.0, refFuturesConId=2147483647, shareholder='Not an insider or substantial shareholder'), orderStatus=OrderStatus(orderId=0, status='Filled', filled=0.0, remaining=0.0, avgFillPrice=0.0, permId=0, parentId=0, lastFillPrice=0.0, clientId=0, whyHeld='', mktCapPrice=0.0), fills=[Fill(contract=Stock(conId=4727244, symbol='BMRA', right='?', exchange='SMART', currency='USD', localSymbol='BMRA', tradingClass='SCM'), execution=Execution(execId='00030f00.6789a161.01.01', time=datetime.datetime(2025, 1, 16, 17, 40, 21, tzinfo=datetime.timezone.utc), acctNumber='U12848716', exchange='DARK', side='BOT', shares=1.0, price=0.6824, permId=239517328, clientId=0, orderId=121, liquidation=0, cumQty=1.0, avgPrice=0.6824, orderRef='', evRule='', evMultiplier=0.0, modelCode='', lastLiquidity=2), commissionReport=CommissionReport(execId='00030f00.6789a161.01.01', commission=0.010046, currency='USD', realizedPNL=0.0, yield_=0.0, yieldRedemptionDate=0), time=datetime.datetime(2025, 1, 16, 17, 40, 21, tzinfo=datetime.timezone.utc))], log=[TradeLogEntry(time=datetime.datetime(2025, 1, 16, 17, 40, 21, tzinfo=datetime.timezone.utc), status='Filled', message='Fill 1.0@0.6824', errorCode=0)], advancedError=''),\n",
       " Trade(contract=Stock(conId=4727244, symbol='BMRA', right='?', exchange='SMART', currency='USD', localSymbol='BMRA', tradingClass='SCM'), order=Order(permId=239517342, action='BUY', orderType='LMT', lmtPrice=0.71, auxPrice=0.0, tif='DAY', ocaType=3, displaySize=2147483647, rule80A='0', openClose='', volatilityType=0, deltaNeutralOrderType='None', referencePriceType=0, account='U12848716', clearingIntent='IB', cashQty=0.0, dontUseAutoPriceForHedge=True, filledQuantity=1.0, refFuturesConId=2147483647, shareholder='Not an insider or substantial shareholder'), orderStatus=OrderStatus(orderId=0, status='Filled', filled=0.0, remaining=0.0, avgFillPrice=0.0, permId=0, parentId=0, lastFillPrice=0.0, clientId=0, whyHeld='', mktCapPrice=0.0), fills=[Fill(contract=Stock(conId=4727244, symbol='BMRA', right='?', exchange='SMART', currency='USD', localSymbol='BMRA', tradingClass='SCM'), execution=Execution(execId='00014f4f.67892126.01.01', time=datetime.datetime(2025, 1, 16, 17, 52, 43, tzinfo=datetime.timezone.utc), acctNumber='U12848716', exchange='IBKRATS', side='BOT', shares=1.0, price=0.6959, permId=239517342, clientId=0, orderId=149, liquidation=0, cumQty=1.0, avgPrice=0.6959, orderRef='', evRule='', evMultiplier=0.0, modelCode='', lastLiquidity=2), commissionReport=CommissionReport(execId='00014f4f.67892126.01.01', commission=0.007005, currency='USD', realizedPNL=0.0, yield_=0.0, yieldRedemptionDate=0), time=datetime.datetime(2025, 1, 16, 17, 52, 43, tzinfo=datetime.timezone.utc))], log=[TradeLogEntry(time=datetime.datetime(2025, 1, 16, 17, 52, 43, tzinfo=datetime.timezone.utc), status='Filled', message='Fill 1.0@0.6959', errorCode=0)], advancedError=''),\n",
       " Trade(contract=Stock(conId=4727244, symbol='BMRA', right='?', exchange='SMART', currency='USD', localSymbol='BMRA', tradingClass='SCM'), order=Order(permId=239517343, action='BUY', orderType='LMT', lmtPrice=0.69, auxPrice=0.0, tif='DAY', ocaType=3, displaySize=2147483647, rule80A='0', openClose='', volatilityType=0, deltaNeutralOrderType='None', referencePriceType=0, account='U12848716', clearingIntent='IB', cashQty=0.0, dontUseAutoPriceForHedge=True, filledQuantity=1.0, refFuturesConId=2147483647, shareholder='Not an insider or substantial shareholder'), orderStatus=OrderStatus(orderId=0, status='Filled', filled=0.0, remaining=0.0, avgFillPrice=0.0, permId=0, parentId=0, lastFillPrice=0.0, clientId=0, whyHeld='', mktCapPrice=0.0), fills=[Fill(contract=Stock(conId=4727244, symbol='BMRA', right='?', exchange='SMART', currency='USD', localSymbol='BMRA', tradingClass='SCM'), execution=Execution(execId='000100df.67891f4f.01.01', time=datetime.datetime(2025, 1, 16, 17, 53, 32, tzinfo=datetime.timezone.utc), acctNumber='U12848716', exchange='NASDAQ', side='BOT', shares=1.0, price=0.69, permId=239517343, clientId=0, orderId=150, liquidation=0, cumQty=1.0, avgPrice=0.69, orderRef='', evRule='', evMultiplier=0.0, modelCode='', lastLiquidity=1), commissionReport=CommissionReport(execId='000100df.67891f4f.01.01', commission=0.010035, currency='USD', realizedPNL=0.0, yield_=0.0, yieldRedemptionDate=0), time=datetime.datetime(2025, 1, 16, 17, 53, 32, tzinfo=datetime.timezone.utc))], log=[TradeLogEntry(time=datetime.datetime(2025, 1, 16, 17, 53, 32, tzinfo=datetime.timezone.utc), status='Filled', message='Fill 1.0@0.69', errorCode=0)], advancedError=''),\n",
       " Trade(contract=Stock(conId=4727244, symbol='BMRA', right='?', exchange='SMART', currency='USD', localSymbol='BMRA', tradingClass='SCM'), order=Order(permId=239517340, action='BUY', orderType='LMT', lmtPrice=0.7, auxPrice=0.0, tif='DAY', ocaType=3, displaySize=2147483647, rule80A='0', openClose='', volatilityType=0, deltaNeutralOrderType='None', referencePriceType=0, account='U12848716', clearingIntent='IB', cashQty=0.0, dontUseAutoPriceForHedge=True, filledQuantity=1.0, refFuturesConId=2147483647, shareholder='Not an insider or substantial shareholder'), orderStatus=OrderStatus(orderId=0, status='Filled', filled=0.0, remaining=0.0, avgFillPrice=0.0, permId=0, parentId=0, lastFillPrice=0.0, clientId=0, whyHeld='', mktCapPrice=0.0), fills=[Fill(contract=Stock(conId=4727244, symbol='BMRA', right='?', exchange='SMART', currency='USD', localSymbol='BMRA', tradingClass='SCM'), execution=Execution(execId='00014f4f.67892124.01.01', time=datetime.datetime(2025, 1, 16, 17, 52, 41, tzinfo=datetime.timezone.utc), acctNumber='U12848716', exchange='IBKRATS', side='BOT', shares=1.0, price=0.6959, permId=239517340, clientId=0, orderId=145, liquidation=0, cumQty=1.0, avgPrice=0.6959, orderRef='', evRule='', evMultiplier=0.0, modelCode='', lastLiquidity=2), commissionReport=CommissionReport(execId='00014f4f.67892124.01.01', commission=0.007005, currency='USD', realizedPNL=0.0, yield_=0.0, yieldRedemptionDate=0), time=datetime.datetime(2025, 1, 16, 17, 52, 41, tzinfo=datetime.timezone.utc))], log=[TradeLogEntry(time=datetime.datetime(2025, 1, 16, 17, 52, 41, tzinfo=datetime.timezone.utc), status='Filled', message='Fill 1.0@0.6959', errorCode=0)], advancedError=''),\n",
       " Trade(contract=Stock(conId=4727244, symbol='BMRA', right='?', exchange='SMART', currency='USD', localSymbol='BMRA', tradingClass='SCM'), order=Order(permId=239517341, action='BUY', orderType='LMT', lmtPrice=0.68, auxPrice=0.0, tif='DAY', ocaType=3, displaySize=2147483647, rule80A='0', openClose='', volatilityType=0, deltaNeutralOrderType='None', referencePriceType=0, account='U12848716', clearingIntent='IB', cashQty=0.0, dontUseAutoPriceForHedge=True, filledQuantity=1.0, refFuturesConId=2147483647, shareholder='Not an insider or substantial shareholder'), orderStatus=OrderStatus(orderId=0, status='Filled', filled=0.0, remaining=0.0, avgFillPrice=0.0, permId=0, parentId=0, lastFillPrice=0.0, clientId=0, whyHeld='', mktCapPrice=0.0), fills=[Fill(contract=Stock(conId=4727244, symbol='BMRA', right='?', exchange='SMART', currency='USD', localSymbol='BMRA', tradingClass='SCM'), execution=Execution(execId='000100df.67891fed.01.01', time=datetime.datetime(2025, 1, 16, 17, 59, 6, tzinfo=datetime.timezone.utc), acctNumber='U12848716', exchange='NASDAQ', side='BOT', shares=1.0, price=0.68, permId=239517341, clientId=0, orderId=146, liquidation=0, cumQty=1.0, avgPrice=0.68, orderRef='', evRule='', evMultiplier=0.0, modelCode='', lastLiquidity=1), commissionReport=CommissionReport(execId='000100df.67891fed.01.01', commission=0.010035, currency='USD', realizedPNL=0.0, yield_=0.0, yieldRedemptionDate=0), time=datetime.datetime(2025, 1, 16, 17, 59, 6, tzinfo=datetime.timezone.utc))], log=[TradeLogEntry(time=datetime.datetime(2025, 1, 16, 17, 59, 6, tzinfo=datetime.timezone.utc), status='Filled', message='Fill 1.0@0.68', errorCode=0)], advancedError=''),\n",
       " Trade(contract=Stock(conId=4727244, symbol='BMRA', right='?', exchange='SMART', currency='USD', localSymbol='BMRA', tradingClass='SCM'), order=Order(permId=239517338, action='BUY', orderType='LMT', lmtPrice=0.7, auxPrice=0.0, tif='DAY', ocaType=3, displaySize=2147483647, rule80A='0', openClose='', volatilityType=0, deltaNeutralOrderType='None', referencePriceType=0, account='U12848716', clearingIntent='IB', cashQty=0.0, dontUseAutoPriceForHedge=True, filledQuantity=1.0, refFuturesConId=2147483647, shareholder='Not an insider or substantial shareholder'), orderStatus=OrderStatus(orderId=0, status='Filled', filled=0.0, remaining=0.0, avgFillPrice=0.0, permId=0, parentId=0, lastFillPrice=0.0, clientId=0, whyHeld='', mktCapPrice=0.0), fills=[Fill(contract=Stock(conId=4727244, symbol='BMRA', right='?', exchange='SMART', currency='USD', localSymbol='BMRA', tradingClass='SCM'), execution=Execution(execId='00014f4f.678920ee.01.01', time=datetime.datetime(2025, 1, 16, 17, 48, 51, tzinfo=datetime.timezone.utc), acctNumber='U12848716', exchange='IBKRATS', side='BOT', shares=1.0, price=0.6875, permId=239517338, clientId=0, orderId=141, liquidation=0, cumQty=1.0, avgPrice=0.6875, orderRef='', evRule='', evMultiplier=0.0, modelCode='', lastLiquidity=2), commissionReport=CommissionReport(execId='00014f4f.678920ee.01.01', commission=0.006921, currency='USD', realizedPNL=0.0, yield_=0.0, yieldRedemptionDate=0), time=datetime.datetime(2025, 1, 16, 17, 48, 51, tzinfo=datetime.timezone.utc))], log=[TradeLogEntry(time=datetime.datetime(2025, 1, 16, 17, 48, 51, tzinfo=datetime.timezone.utc), status='Filled', message='Fill 1.0@0.6875', errorCode=0)], advancedError=''),\n",
       " Trade(contract=Stock(conId=4727244, symbol='BMRA', right='?', exchange='SMART', currency='USD', localSymbol='BMRA', tradingClass='SCM'), order=Order(permId=239517339, action='BUY', orderType='LMT', lmtPrice=0.68, auxPrice=0.0, tif='DAY', ocaType=3, displaySize=2147483647, rule80A='0', openClose='', volatilityType=0, deltaNeutralOrderType='None', referencePriceType=0, account='U12848716', clearingIntent='IB', cashQty=0.0, dontUseAutoPriceForHedge=True, filledQuantity=1.0, refFuturesConId=2147483647, shareholder='Not an insider or substantial shareholder'), orderStatus=OrderStatus(orderId=0, status='Filled', filled=0.0, remaining=0.0, avgFillPrice=0.0, permId=0, parentId=0, lastFillPrice=0.0, clientId=0, whyHeld='', mktCapPrice=0.0), fills=[Fill(contract=Stock(conId=4727244, symbol='BMRA', right='?', exchange='SMART', currency='USD', localSymbol='BMRA', tradingClass='SCM'), execution=Execution(execId='000100df.67891ef6.01.01', time=datetime.datetime(2025, 1, 16, 17, 49, 20, tzinfo=datetime.timezone.utc), acctNumber='U12848716', exchange='NASDAQ', side='BOT', shares=1.0, price=0.68, permId=239517339, clientId=0, orderId=142, liquidation=0, cumQty=1.0, avgPrice=0.68, orderRef='', evRule='', evMultiplier=0.0, modelCode='', lastLiquidity=1), commissionReport=CommissionReport(execId='000100df.67891ef6.01.01', commission=0.010035, currency='USD', realizedPNL=0.0, yield_=0.0, yieldRedemptionDate=0), time=datetime.datetime(2025, 1, 16, 17, 49, 20, tzinfo=datetime.timezone.utc))], log=[TradeLogEntry(time=datetime.datetime(2025, 1, 16, 17, 49, 20, tzinfo=datetime.timezone.utc), status='Filled', message='Fill 1.0@0.68', errorCode=0)], advancedError=''),\n",
       " Trade(contract=Stock(conId=4727244, symbol='BMRA', right='?', exchange='SMART', currency='USD', localSymbol='BMRA', tradingClass='SCM'), order=Order(permId=239517336, action='BUY', orderType='LMT', lmtPrice=0.7, auxPrice=0.0, tif='DAY', ocaType=3, displaySize=2147483647, rule80A='0', openClose='', volatilityType=0, deltaNeutralOrderType='None', referencePriceType=0, account='U12848716', clearingIntent='IB', cashQty=0.0, dontUseAutoPriceForHedge=True, filledQuantity=1.0, refFuturesConId=2147483647, shareholder='Not an insider or substantial shareholder'), orderStatus=OrderStatus(orderId=0, status='Filled', filled=0.0, remaining=0.0, avgFillPrice=0.0, permId=0, parentId=0, lastFillPrice=0.0, clientId=0, whyHeld='', mktCapPrice=0.0), fills=[Fill(contract=Stock(conId=4727244, symbol='BMRA', right='?', exchange='SMART', currency='USD', localSymbol='BMRA', tradingClass='SCM'), execution=Execution(execId='0000e494.6789cbf6.01.01', time=datetime.datetime(2025, 1, 16, 17, 48, 49, tzinfo=datetime.timezone.utc), acctNumber='U12848716', exchange='DARK', side='BOT', shares=1.0, price=0.6875, permId=239517336, clientId=0, orderId=137, liquidation=0, cumQty=1.0, avgPrice=0.6875, orderRef='', evRule='', evMultiplier=0.0, modelCode='', lastLiquidity=2), commissionReport=CommissionReport(execId='0000e494.6789cbf6.01.01', commission=0.010046, currency='USD', realizedPNL=0.0, yield_=0.0, yieldRedemptionDate=0), time=datetime.datetime(2025, 1, 16, 17, 48, 49, tzinfo=datetime.timezone.utc))], log=[TradeLogEntry(time=datetime.datetime(2025, 1, 16, 17, 48, 49, tzinfo=datetime.timezone.utc), status='Filled', message='Fill 1.0@0.6875', errorCode=0)], advancedError=''),\n",
       " Trade(contract=Stock(conId=4727244, symbol='BMRA', right='?', exchange='SMART', currency='USD', localSymbol='BMRA', tradingClass='SCM'), order=Order(permId=239517337, action='BUY', orderType='LMT', lmtPrice=0.68, auxPrice=0.0, tif='DAY', ocaType=3, displaySize=2147483647, rule80A='0', openClose='', volatilityType=0, deltaNeutralOrderType='None', referencePriceType=0, account='U12848716', clearingIntent='IB', cashQty=0.0, dontUseAutoPriceForHedge=True, filledQuantity=1.0, refFuturesConId=2147483647, shareholder='Not an insider or substantial shareholder'), orderStatus=OrderStatus(orderId=0, status='Filled', filled=0.0, remaining=0.0, avgFillPrice=0.0, permId=0, parentId=0, lastFillPrice=0.0, clientId=0, whyHeld='', mktCapPrice=0.0), fills=[Fill(contract=Stock(conId=4727244, symbol='BMRA', right='?', exchange='SMART', currency='USD', localSymbol='BMRA', tradingClass='SCM'), execution=Execution(execId='000100df.67891ef5.01.01', time=datetime.datetime(2025, 1, 16, 17, 49, 20, tzinfo=datetime.timezone.utc), acctNumber='U12848716', exchange='NASDAQ', side='BOT', shares=1.0, price=0.68, permId=239517337, clientId=0, orderId=138, liquidation=0, cumQty=1.0, avgPrice=0.68, orderRef='', evRule='', evMultiplier=0.0, modelCode='', lastLiquidity=1), commissionReport=CommissionReport(execId='000100df.67891ef5.01.01', commission=0.010035, currency='USD', realizedPNL=0.0, yield_=0.0, yieldRedemptionDate=0), time=datetime.datetime(2025, 1, 16, 17, 49, 20, tzinfo=datetime.timezone.utc))], log=[TradeLogEntry(time=datetime.datetime(2025, 1, 16, 17, 49, 20, tzinfo=datetime.timezone.utc), status='Filled', message='Fill 1.0@0.68', errorCode=0)], advancedError=''),\n",
       " Trade(contract=Stock(conId=4727244, symbol='BMRA', right='?', exchange='SMART', currency='USD', localSymbol='BMRA', tradingClass='SCM'), order=Order(permId=239517346, action='BUY', orderType='LMT', lmtPrice=0.71, auxPrice=0.0, tif='DAY', ocaType=3, displaySize=2147483647, rule80A='0', openClose='', volatilityType=0, deltaNeutralOrderType='None', referencePriceType=0, account='U12848716', clearingIntent='IB', cashQty=0.0, dontUseAutoPriceForHedge=True, filledQuantity=1.0, refFuturesConId=2147483647, shareholder='Not an insider or substantial shareholder'), orderStatus=OrderStatus(orderId=0, status='Filled', filled=0.0, remaining=0.0, avgFillPrice=0.0, permId=0, parentId=0, lastFillPrice=0.0, clientId=0, whyHeld='', mktCapPrice=0.0), fills=[Fill(contract=Stock(conId=4727244, symbol='BMRA', right='?', exchange='SMART', currency='USD', localSymbol='BMRA', tradingClass='SCM'), execution=Execution(execId='00030f00.6789a4b9.01.01', time=datetime.datetime(2025, 1, 16, 17, 55, 41, tzinfo=datetime.timezone.utc), acctNumber='U12848716', exchange='DARK', side='BOT', shares=1.0, price=0.6986, permId=239517346, clientId=0, orderId=157, liquidation=0, cumQty=1.0, avgPrice=0.6986, orderRef='', evRule='', evMultiplier=0.0, modelCode='', lastLiquidity=2), commissionReport=CommissionReport(execId='00030f00.6789a4b9.01.01', commission=0.010046, currency='USD', realizedPNL=0.0, yield_=0.0, yieldRedemptionDate=0), time=datetime.datetime(2025, 1, 16, 17, 55, 41, tzinfo=datetime.timezone.utc))], log=[TradeLogEntry(time=datetime.datetime(2025, 1, 16, 17, 55, 41, tzinfo=datetime.timezone.utc), status='Filled', message='Fill 1.0@0.6986', errorCode=0)], advancedError=''),\n",
       " Trade(contract=Stock(conId=700735038, symbol='SGBX', right='?', exchange='SMART', currency='USD', localSymbol='SGBX', tradingClass='SCM'), order=Order(permId=630678386, action='SELL', orderType='MKT', lmtPrice=0.0, auxPrice=0.0, tif='DAY', ocaType=3, displaySize=2147483647, rule80A='0', openClose='', volatilityType=0, deltaNeutralOrderType='None', referencePriceType=0, account='U12848716', clearingIntent='IB', cashQty=0.0, dontUseAutoPriceForHedge=True, filledQuantity=4.0, refFuturesConId=2147483647, shareholder='Not an insider or substantial shareholder'), orderStatus=OrderStatus(orderId=0, status='Filled', filled=0.0, remaining=0.0, avgFillPrice=0.0, permId=0, parentId=0, lastFillPrice=0.0, clientId=0, whyHeld='', mktCapPrice=0.0), fills=[Fill(contract=Stock(conId=700735038, symbol='SGBX', right='?', exchange='SMART', currency='USD', localSymbol='SGBX', tradingClass='SCM'), execution=Execution(execId='0000e494.6789c4df.01.01', time=datetime.datetime(2025, 1, 16, 17, 34, 10, tzinfo=datetime.timezone.utc), acctNumber='U12848716', exchange='DARK', side='SLD', shares=4.0, price=0.9068, permId=630678386, clientId=0, orderId=0, liquidation=0, cumQty=4.0, avgPrice=0.9068, orderRef='', evRule='', evMultiplier=0.0, modelCode='', lastLiquidity=2), commissionReport=CommissionReport(execId='0000e494.6789c4df.01.01', commission=0.037221, currency='USD', realizedPNL=-0.074555, yield_=0.0, yieldRedemptionDate=0), time=datetime.datetime(2025, 1, 16, 17, 34, 10, tzinfo=datetime.timezone.utc))], log=[TradeLogEntry(time=datetime.datetime(2025, 1, 16, 17, 34, 10, tzinfo=datetime.timezone.utc), status='Filled', message='Fill 4.0@0.9068', errorCode=0)], advancedError=''),\n",
       " Trade(contract=Stock(conId=4727244, symbol='BMRA', right='?', exchange='SMART', currency='USD', localSymbol='BMRA', tradingClass='SCM'), order=Order(permId=239517347, action='BUY', orderType='LMT', lmtPrice=0.69, auxPrice=0.0, tif='DAY', ocaType=3, displaySize=2147483647, rule80A='0', openClose='', volatilityType=0, deltaNeutralOrderType='None', referencePriceType=0, account='U12848716', clearingIntent='IB', cashQty=0.0, dontUseAutoPriceForHedge=True, filledQuantity=1.0, refFuturesConId=2147483647, shareholder='Not an insider or substantial shareholder'), orderStatus=OrderStatus(orderId=0, status='Filled', filled=0.0, remaining=0.0, avgFillPrice=0.0, permId=0, parentId=0, lastFillPrice=0.0, clientId=0, whyHeld='', mktCapPrice=0.0), fills=[Fill(contract=Stock(conId=4727244, symbol='BMRA', right='?', exchange='SMART', currency='USD', localSymbol='BMRA', tradingClass='SCM'), execution=Execution(execId='000100df.67891fca.01.01', time=datetime.datetime(2025, 1, 16, 17, 57, 37, tzinfo=datetime.timezone.utc), acctNumber='U12848716', exchange='NASDAQ', side='BOT', shares=1.0, price=0.69, permId=239517347, clientId=0, orderId=158, liquidation=0, cumQty=1.0, avgPrice=0.69, orderRef='', evRule='', evMultiplier=0.0, modelCode='', lastLiquidity=1), commissionReport=CommissionReport(execId='000100df.67891fca.01.01', commission=0.010035, currency='USD', realizedPNL=0.0, yield_=0.0, yieldRedemptionDate=0), time=datetime.datetime(2025, 1, 16, 17, 57, 37, tzinfo=datetime.timezone.utc))], log=[TradeLogEntry(time=datetime.datetime(2025, 1, 16, 17, 57, 37, tzinfo=datetime.timezone.utc), status='Filled', message='Fill 1.0@0.69', errorCode=0)], advancedError=''),\n",
       " Trade(contract=Stock(conId=4727244, symbol='BMRA', right='?', exchange='SMART', currency='USD', localSymbol='BMRA', tradingClass='SCM'), order=Order(permId=239517344, action='BUY', orderType='LMT', lmtPrice=0.71, auxPrice=0.0, tif='DAY', ocaType=3, displaySize=2147483647, rule80A='0', openClose='', volatilityType=0, deltaNeutralOrderType='None', referencePriceType=0, account='U12848716', clearingIntent='IB', cashQty=0.0, dontUseAutoPriceForHedge=True, filledQuantity=1.0, refFuturesConId=2147483647, shareholder='Not an insider or substantial shareholder'), orderStatus=OrderStatus(orderId=0, status='Filled', filled=0.0, remaining=0.0, avgFillPrice=0.0, permId=0, parentId=0, lastFillPrice=0.0, clientId=0, whyHeld='', mktCapPrice=0.0), fills=[Fill(contract=Stock(conId=4727244, symbol='BMRA', right='?', exchange='SMART', currency='USD', localSymbol='BMRA', tradingClass='SCM'), execution=Execution(execId='00030f00.6789a4b7.01.01', time=datetime.datetime(2025, 1, 16, 17, 55, 39, tzinfo=datetime.timezone.utc), acctNumber='U12848716', exchange='DARK', side='BOT', shares=1.0, price=0.6986, permId=239517344, clientId=0, orderId=153, liquidation=0, cumQty=1.0, avgPrice=0.6986, orderRef='', evRule='', evMultiplier=0.0, modelCode='', lastLiquidity=2), commissionReport=CommissionReport(execId='00030f00.6789a4b7.01.01', commission=0.010046, currency='USD', realizedPNL=0.0, yield_=0.0, yieldRedemptionDate=0), time=datetime.datetime(2025, 1, 16, 17, 55, 39, tzinfo=datetime.timezone.utc))], log=[TradeLogEntry(time=datetime.datetime(2025, 1, 16, 17, 55, 39, tzinfo=datetime.timezone.utc), status='Filled', message='Fill 1.0@0.6986', errorCode=0)], advancedError=''),\n",
       " Trade(contract=Stock(conId=4727244, symbol='BMRA', right='?', exchange='SMART', currency='USD', localSymbol='BMRA', tradingClass='SCM'), order=Order(permId=239517345, action='BUY', orderType='LMT', lmtPrice=0.69, auxPrice=0.0, tif='DAY', ocaType=3, displaySize=2147483647, rule80A='0', openClose='', volatilityType=0, deltaNeutralOrderType='None', referencePriceType=0, account='U12848716', clearingIntent='IB', cashQty=0.0, dontUseAutoPriceForHedge=True, filledQuantity=1.0, refFuturesConId=2147483647, shareholder='Not an insider or substantial shareholder'), orderStatus=OrderStatus(orderId=0, status='Filled', filled=0.0, remaining=0.0, avgFillPrice=0.0, permId=0, parentId=0, lastFillPrice=0.0, clientId=0, whyHeld='', mktCapPrice=0.0), fills=[Fill(contract=Stock(conId=4727244, symbol='BMRA', right='?', exchange='SMART', currency='USD', localSymbol='BMRA', tradingClass='SCM'), execution=Execution(execId='000100df.67891fcb.01.01', time=datetime.datetime(2025, 1, 16, 17, 57, 37, tzinfo=datetime.timezone.utc), acctNumber='U12848716', exchange='NASDAQ', side='BOT', shares=1.0, price=0.69, permId=239517345, clientId=0, orderId=154, liquidation=0, cumQty=1.0, avgPrice=0.69, orderRef='', evRule='', evMultiplier=0.0, modelCode='', lastLiquidity=1), commissionReport=CommissionReport(execId='000100df.67891fcb.01.01', commission=0.010035, currency='USD', realizedPNL=0.0, yield_=0.0, yieldRedemptionDate=0), time=datetime.datetime(2025, 1, 16, 17, 57, 37, tzinfo=datetime.timezone.utc))], log=[TradeLogEntry(time=datetime.datetime(2025, 1, 16, 17, 57, 37, tzinfo=datetime.timezone.utc), status='Filled', message='Fill 1.0@0.69', errorCode=0)], advancedError=''),\n",
       " Trade(contract=Stock(conId=700735038, symbol='SGBX', right='?', exchange='SMART', currency='USD', localSymbol='SGBX', tradingClass='SCM'), order=Order(permId=239517310, action='BUY', totalQuantity=1.0, orderType='LMT', lmtPrice=0.89, auxPrice=0.0, tif='DAY', ocaType=3, displaySize=2147483647, rule80A='0', openClose='', volatilityType=0, deltaNeutralOrderType='None', referencePriceType=0, account='U12848716', clearingIntent='IB', cashQty=0.0, dontUseAutoPriceForHedge=True, filledQuantity=0.0, refFuturesConId=2147483647, shareholder='Not an insider or substantial shareholder'), orderStatus=OrderStatus(orderId=0, status='Cancelled', filled=0.0, remaining=0.0, avgFillPrice=0.0, permId=0, parentId=0, lastFillPrice=0.0, clientId=0, whyHeld='', mktCapPrice=0.0), fills=[], log=[], advancedError=''),\n",
       " Trade(contract=Stock(conId=700735038, symbol='SGBX', right='?', exchange='SMART', currency='USD', localSymbol='SGBX', tradingClass='SCM'), order=Order(permId=239517311, action='BUY', orderType='LMT', lmtPrice=0.92, auxPrice=0.0, tif='DAY', ocaType=3, displaySize=2147483647, rule80A='0', openClose='', volatilityType=0, deltaNeutralOrderType='None', referencePriceType=0, account='U12848716', clearingIntent='IB', cashQty=0.0, dontUseAutoPriceForHedge=True, filledQuantity=1.0, refFuturesConId=2147483647, shareholder='Not an insider or substantial shareholder'), orderStatus=OrderStatus(orderId=0, status='Filled', filled=0.0, remaining=0.0, avgFillPrice=0.0, permId=0, parentId=0, lastFillPrice=0.0, clientId=0, whyHeld='', mktCapPrice=0.0), fills=[Fill(contract=Stock(conId=700735038, symbol='SGBX', right='?', exchange='SMART', currency='USD', localSymbol='SGBX', tradingClass='SCM'), execution=Execution(execId='0001451b.678967c0.01.01', time=datetime.datetime(2025, 1, 16, 17, 29, 50, tzinfo=datetime.timezone.utc), acctNumber='U12848716', exchange='DARK', side='BOT', shares=1.0, price=0.9066, permId=239517311, clientId=0, orderId=95, liquidation=0, cumQty=1.0, avgPrice=0.9066, orderRef='', evRule='', evMultiplier=0.0, modelCode='', lastLiquidity=2), commissionReport=CommissionReport(execId='0001451b.678967c0.01.01', commission=0.010046, currency='USD', realizedPNL=0.0, yield_=0.0, yieldRedemptionDate=0), time=datetime.datetime(2025, 1, 16, 17, 29, 50, tzinfo=datetime.timezone.utc))], log=[TradeLogEntry(time=datetime.datetime(2025, 1, 16, 17, 29, 50, tzinfo=datetime.timezone.utc), status='Filled', message='Fill 1.0@0.9066', errorCode=0)], advancedError=''),\n",
       " Trade(contract=Stock(conId=700735038, symbol='SGBX', right='?', exchange='SMART', currency='USD', localSymbol='SGBX', tradingClass='SCM'), order=Order(permId=239517308, action='BUY', totalQuantity=1.0, orderType='LMT', lmtPrice=0.9, auxPrice=0.0, tif='DAY', ocaType=3, displaySize=2147483647, rule80A='0', openClose='', volatilityType=0, deltaNeutralOrderType='None', referencePriceType=0, account='U12848716', clearingIntent='IB', cashQty=0.0, dontUseAutoPriceForHedge=True, filledQuantity=0.0, refFuturesConId=2147483647, shareholder='Not an insider or substantial shareholder'), orderStatus=OrderStatus(orderId=0, status='Cancelled', filled=0.0, remaining=0.0, avgFillPrice=0.0, permId=0, parentId=0, lastFillPrice=0.0, clientId=0, whyHeld='', mktCapPrice=0.0), fills=[], log=[], advancedError=''),\n",
       " Trade(contract=Stock(conId=700735038, symbol='SGBX', right='?', exchange='SMART', currency='USD', localSymbol='SGBX', tradingClass='SCM'), order=Order(permId=239517309, action='BUY', orderType='LMT', lmtPrice=0.92, auxPrice=0.0, tif='DAY', ocaType=3, displaySize=2147483647, rule80A='0', openClose='', volatilityType=0, deltaNeutralOrderType='None', referencePriceType=0, account='U12848716', clearingIntent='IB', cashQty=0.0, dontUseAutoPriceForHedge=True, filledQuantity=1.0, refFuturesConId=2147483647, shareholder='Not an insider or substantial shareholder'), orderStatus=OrderStatus(orderId=0, status='Filled', filled=0.0, remaining=0.0, avgFillPrice=0.0, permId=0, parentId=0, lastFillPrice=0.0, clientId=0, whyHeld='', mktCapPrice=0.0), fills=[Fill(contract=Stock(conId=700735038, symbol='SGBX', right='?', exchange='SMART', currency='USD', localSymbol='SGBX', tradingClass='SCM'), execution=Execution(execId='0001f951.678950a1.01.01', time=datetime.datetime(2025, 1, 16, 17, 29, 3, tzinfo=datetime.timezone.utc), acctNumber='U12848716', exchange='DARK', side='BOT', shares=1.0, price=0.9049, permId=239517309, clientId=0, orderId=91, liquidation=0, cumQty=1.0, avgPrice=0.9049, orderRef='', evRule='', evMultiplier=0.0, modelCode='', lastLiquidity=2), commissionReport=CommissionReport(execId='0001f951.678950a1.01.01', commission=0.010046, currency='USD', realizedPNL=0.0, yield_=0.0, yieldRedemptionDate=0), time=datetime.datetime(2025, 1, 16, 17, 29, 3, tzinfo=datetime.timezone.utc))], log=[TradeLogEntry(time=datetime.datetime(2025, 1, 16, 17, 29, 3, tzinfo=datetime.timezone.utc), status='Filled', message='Fill 1.0@0.9049', errorCode=0)], advancedError=''),\n",
       " Trade(contract=Stock(conId=700735038, symbol='SGBX', right='?', exchange='SMART', currency='USD', localSymbol='SGBX', tradingClass='SCM'), order=Order(permId=239517307, action='BUY', orderType='LMT', lmtPrice=0.92, auxPrice=0.0, tif='DAY', ocaType=3, displaySize=2147483647, rule80A='0', openClose='', volatilityType=0, deltaNeutralOrderType='None', referencePriceType=0, account='U12848716', clearingIntent='IB', cashQty=0.0, dontUseAutoPriceForHedge=True, filledQuantity=1.0, refFuturesConId=2147483647, shareholder='Not an insider or substantial shareholder'), orderStatus=OrderStatus(orderId=0, status='Filled', filled=0.0, remaining=0.0, avgFillPrice=0.0, permId=0, parentId=0, lastFillPrice=0.0, clientId=0, whyHeld='', mktCapPrice=0.0), fills=[Fill(contract=Stock(conId=700735038, symbol='SGBX', right='?', exchange='SMART', currency='USD', localSymbol='SGBX', tradingClass='SCM'), execution=Execution(execId='0001451b.6789674f.01.01', time=datetime.datetime(2025, 1, 16, 17, 27, 33, tzinfo=datetime.timezone.utc), acctNumber='U12848716', exchange='DARK', side='BOT', shares=1.0, price=0.90625, permId=239517307, clientId=0, orderId=87, liquidation=0, cumQty=1.0, avgPrice=0.90625, orderRef='', evRule='', evMultiplier=0.0, modelCode='', lastLiquidity=2), commissionReport=CommissionReport(execId='0001451b.6789674f.01.01', commission=0.010046, currency='USD', realizedPNL=0.0, yield_=0.0, yieldRedemptionDate=0), time=datetime.datetime(2025, 1, 16, 17, 27, 33, tzinfo=datetime.timezone.utc))], log=[TradeLogEntry(time=datetime.datetime(2025, 1, 16, 17, 27, 33, tzinfo=datetime.timezone.utc), status='Filled', message='Fill 1.0@0.90625', errorCode=0)], advancedError='')]"
      ]
     },
     "execution_count": 13,
     "metadata": {},
     "output_type": "execute_result"
    }
   ],
   "source": [
    "trads = ib.trades()\n",
    "trads"
   ]
  },
  {
   "cell_type": "code",
   "execution_count": null,
   "id": "9c1395a1-51f6-4d3f-aa2f-bf6b5b5b750c",
   "metadata": {},
   "outputs": [],
   "source": [
    "ords = ib.orders()\n",
    "ords"
   ]
  },
  {
   "cell_type": "code",
   "execution_count": null,
   "id": "72d9305a-0e0a-4c24-9cca-86c90bdd9c05",
   "metadata": {},
   "outputs": [],
   "source": [
    "trades = ib.trades()\n",
    "trades"
   ]
  },
  {
   "cell_type": "code",
   "execution_count": null,
   "id": "de212574-62bc-4831-817d-0d63c7010b2e",
   "metadata": {},
   "outputs": [],
   "source": [
    "pending_stop_loss_orders = [] # define and create one time\n",
    "# https://stackoverflow.com/questions/10487278/how-to-declare-and-add-items-to-an-array-in-python"
   ]
  },
  {
   "cell_type": "code",
   "execution_count": null,
   "id": "2c6ff046-0b1e-4831-b5ba-1148e47631c6",
   "metadata": {},
   "outputs": [],
   "source": [
    "new_row = [\"BABY\", 1, 0.15, 99]\n",
    "pending_stop_loss_orders.append(new_row)\n",
    "new_row = [\"COME\", 1, 0.35, 79]\n",
    "pending_stop_loss_orders.append(new_row)\n",
    "new_row = [\"HOME\", 1, 0.55, 59]\n",
    "pending_stop_loss_orders.append(new_row)"
   ]
  },
  {
   "cell_type": "code",
   "execution_count": null,
   "id": "030356f0-bfbd-472e-ac60-e5c06403bebf",
   "metadata": {},
   "outputs": [],
   "source": []
  },
  {
   "cell_type": "code",
   "execution_count": null,
   "id": "ed85b213-4b9b-4bd8-9e18-0b793f4628cd",
   "metadata": {},
   "outputs": [],
   "source": [
    "pending_stop_loss_orders"
   ]
  },
  {
   "cell_type": "code",
   "execution_count": null,
   "id": "a1f36f4c-4b32-4492-ac7a-35b5ab5943f5",
   "metadata": {},
   "outputs": [],
   "source": [
    "del pending_stop_loss_orders[1]"
   ]
  },
  {
   "cell_type": "code",
   "execution_count": null,
   "id": "50ab8441-bd15-4259-a5b9-bccb7539879f",
   "metadata": {},
   "outputs": [],
   "source": [
    "pending_stop_loss_orders"
   ]
  },
  {
   "cell_type": "code",
   "execution_count": null,
   "id": "d6048e27-9bb6-4927-852f-96320b21d153",
   "metadata": {},
   "outputs": [],
   "source": []
  }
 ],
 "metadata": {
  "kernelspec": {
   "display_name": "Python [conda env:base] *",
   "language": "python",
   "name": "conda-base-py"
  },
  "language_info": {
   "codemirror_mode": {
    "name": "ipython",
    "version": 3
   },
   "file_extension": ".py",
   "mimetype": "text/x-python",
   "name": "python",
   "nbconvert_exporter": "python",
   "pygments_lexer": "ipython3",
   "version": "3.12.7"
  }
 },
 "nbformat": 4,
 "nbformat_minor": 5
}
