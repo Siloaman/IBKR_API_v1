{
 "cells": [
  {
   "cell_type": "code",
   "execution_count": null,
   "id": "660db55c-332d-4adb-9d16-26d1cea8f54f",
   "metadata": {},
   "outputs": [],
   "source": [
    "# !pip install ib_insync\n",
    "# !pip install schedule\n",
    "# !pip install ibapi"
   ]
  },
  {
   "cell_type": "code",
   "execution_count": 3,
   "id": "974e50e4-692c-4024-87d3-424c9b6d3462",
   "metadata": {},
   "outputs": [],
   "source": [
    "from ib_insync import *\n",
    "import requests\n",
    "import pandas as pd\n",
    "import schedule\n",
    "import time\n",
    "import datetime;\n",
    "from bs4 import BeautifulSoup\n",
    "import warnings\n",
    "warnings.filterwarnings(\"ignore\", category=RuntimeWarning)\n",
    "\n",
    "util.startLoop()  # only use in interactive environments (i.e. Jupyter Notebooks)\n",
    "# https://github.com/PacktPublishing/Python-for-Algorithmic-Trading-Cookbook/issues/7"
   ]
  },
  {
   "cell_type": "code",
   "execution_count": 5,
   "id": "e1ea6417-d43c-42c5-86e0-acd27e18290d",
   "metadata": {},
   "outputs": [
    {
     "data": {
      "text/plain": [
       "<IB connected to 127.0.0.1:7496 clientId=0>"
      ]
     },
     "execution_count": 5,
     "metadata": {},
     "output_type": "execute_result"
    }
   ],
   "source": [
    "ib = IB()\n",
    "ib.connect(host='127.0.0.1', port=7496, clientId=0)\n",
    "# https://www.elitetrader.com/et/threads/cant-connect-to-api-interactive-brokers.361205/\n",
    "# needed to change socket port to 7496 and uncheck the Read-Only API box"
   ]
  },
  {
   "cell_type": "code",
   "execution_count": 17,
   "id": "c8c9e5e5-ed11-4519-95f6-2ad4e5953c4d",
   "metadata": {},
   "outputs": [],
   "source": [
    "pending_stop_loss_orders = []"
   ]
  },
  {
   "cell_type": "code",
   "execution_count": 29,
   "id": "dad422f7-36d8-498a-b86f-3ce7ed2c7d9a",
   "metadata": {},
   "outputs": [
    {
     "name": "stdout",
     "output_type": "stream",
     "text": [
      "Fill(contract=Stock(conId=4727244, symbol='BMRA', exchange='SMART', primaryExchange='NASDAQ', currency='USD', localSymbol='BMRA', tradingClass='SCM'), execution=Execution(execId='00030f00.6789a4b7.01.01', time=datetime.datetime(2025, 1, 16, 17, 55, 39, tzinfo=datetime.timezone.utc), acctNumber='U12848716', exchange='DARK', side='BOT', shares=1.0, price=0.6986, permId=239517344, clientId=0, orderId=153, liquidation=0, cumQty=1.0, avgPrice=0.6986, orderRef='', evRule='', evMultiplier=0.0, modelCode='', lastLiquidity=2), commissionReport=CommissionReport(execId='', commission=0.0, currency='', realizedPNL=0.0, yield_=0.0, yieldRedemptionDate=0), time=datetime.datetime(2025, 1, 16, 17, 55, 39, 325899, tzinfo=datetime.timezone.utc))\n",
      "and now\n",
      "Trade(contract=Stock(conId=4727244, symbol='BMRA', exchange='SMART', primaryExchange='NASDAQ', currency='USD', localSymbol='BMRA', tradingClass='SCM'), order=LimitOrder(orderId=154, action='BUY', totalQuantity=1, lmtPrice=0.69), orderStatus=OrderStatus(orderId=154, status='PendingSubmit', filled=0.0, remaining=0.0, avgFillPrice=0.0, permId=0, parentId=0, lastFillPrice=0.0, clientId=0, whyHeld='', mktCapPrice=0.0), fills=[], log=[TradeLogEntry(time=datetime.datetime(2025, 1, 16, 17, 55, 39, 215073, tzinfo=datetime.timezone.utc), status='PendingSubmit', message='', errorCode=0)], advancedError='')\n"
     ]
    }
   ],
   "source": [
    "# util.logToConsole()\n",
    "\n",
    "# https://stackoverflow.com/questions/23944657/typeerror-method-takes-1-positional-argument-but-2-were-given-but-i-only-pa\n",
    "def order_status(self, trade):\n",
    "\n",
    "    \"\"\"\n",
    "    print(trade)\n",
    "\n",
    "    ||\n",
    "    Fill(\n",
    "        contract=Stock(conId=4727244, symbol='BMRA', exchange='SMART', primaryExchange='NASDAQ', currency='USD', localSymbol='BMRA', tradingClass='SCM'), \n",
    "        \n",
    "        execution=Execution(execId='00014f4f.6789209c.01.01', time=datetime.datetime(2025, 1, 16, 17, 42, 12, tzinfo=datetime.timezone.utc), \n",
    "        acctNumber='U12848716', exchange='IBKRATS', side='BOT', shares=1.0, price=0.6764, permId=239517332, clientId=0, orderId=129, liquidation=0, \n",
    "        cumQty=1.0, avgPrice=0.6764, orderRef='', evRule='', evMultiplier=0.0, modelCode='', lastLiquidity=2), \n",
    "        \n",
    "        commissionReport=CommissionReport(execId='', commission=0.0, currency='', realizedPNL=0.0, yield_=0.0, yieldRedemptionDate=0), \n",
    "        time=datetime.datetime(2025, 1, 16, 17, 42, 12, 493388, tzinfo=datetime.timezone.utc))\n",
    "    ||\n",
    "    \"\"\"\n",
    "\n",
    "    print(trade) # works!! trade IS THE FILL\n",
    "    print(\"and now\")\n",
    "    tr = ib.trades()\n",
    "    print(tr[-1])\n",
    "    \n",
    "    \"\"\"\n",
    "    Fill(\n",
    "    contract=Stock(conId=4727244, symbol='BMRA', exchange='SMART', primaryExchange='NASDAQ', currency='USD', localSymbol='BMRA', tradingClass='SCM'), \n",
    "    \n",
    "    execution=Execution(execId='00030f00.6789a4b7.01.01', time=datetime.datetime(2025, 1, 16, 17, 55, 39, tzinfo=datetime.timezone.utc), \n",
    "    acctNumber='U12848716', exchange='DARK', side='BOT', shares=1.0, price=0.6986, permId=239517344, clientId=0, orderId=153, liquidation=0, \n",
    "    cumQty=1.0, avgPrice=0.6986, orderRef='', evRule='', evMultiplier=0.0, modelCode='', lastLiquidity=2), \n",
    "    \n",
    "    commissionReport=CommissionReport(execId='', commission=0.0, currency='', realizedPNL=0.0, yield_=0.0, yieldRedemptionDate=0), \n",
    "    time=datetime.datetime(2025, 1, 16, 17, 55, 39, 325899, tzinfo=datetime.timezone.utc))\n",
    "\n",
    "    and now\n",
    "\n",
    "    Trade(\n",
    "    contract=Stock(conId=4727244, symbol='BMRA', exchange='SMART', primaryExchange='NASDAQ', currency='USD', localSymbol='BMRA', tradingClass='SCM'), \n",
    "    \n",
    "    order=LimitOrder(orderId=154, action='BUY', totalQuantity=1, lmtPrice=0.69), \n",
    "    \n",
    "    orderStatus=OrderStatus(orderId=154, status='PendingSubmit', filled=0.0, remaining=0.0, avgFillPrice=0.0, permId=0, parentId=0, lastFillPrice=0.0, \n",
    "    clientId=0, whyHeld='', mktCapPrice=0.0), \n",
    "    \n",
    "    fills=[], \n",
    "    \n",
    "    log=[TradeLogEntry(time=datetime.datetime(2025, 1, 16, 17, 55, 39, 215073, tzinfo=datetime.timezone.utc), \n",
    "    status='PendingSubmit', message='', errorCode=0)], advancedError='')\n",
    "    \"\"\"\n",
    "\n",
    "\n",
    "\n",
    "    \n",
    "    \"\"\"\n",
    "        pending_stop_loss_orders.append(new_row)\n",
    "        \n",
    "                        \n",
    "        contract = Stock('TSLA', 'SMART', 'USD')\n",
    "        stopOrder = StopOrder('BUY', fill.execution.shares, 1.10)\n",
    "        stopOrderTrade = ib.placeOrder(contract, stopOrder)\n",
    "        #stopOrderTrade         \n",
    "    \"\"\"        \n",
    "                \n",
    "                \n",
    "# test orders with day high volatility stocks\n",
    "sym = 'BMRA'\n",
    "test_symbols = [sym, sym]\n",
    "\n",
    "for test in test_symbols:\n",
    "    \n",
    "    contract = Stock(test, 'SMART', 'USD')\n",
    "\n",
    "    ib.qualifyContracts(contract)\n",
    "    data = ib.reqMktData(contract)\n",
    "    ib.sleep(2) # data.marketPrice() doesn't work without ib.sleep (few seconds)\n",
    "    current_price = data.marketPrice()\n",
    "    \n",
    "    limitOrderUp = LimitOrder('BUY', 1, round(current_price * 1.015, 2))    \n",
    "    limitOrderTradeUp = ib.placeOrder(contract, limitOrderUp)\n",
    "\n",
    "    limitOrderDown = LimitOrder('BUY', 1, round(current_price * 0.985, 2))    \n",
    "    limitOrderTradeDown = ib.placeOrder(contract, limitOrderDown)\n",
    "    # limitOrderTrade contains the order and everything related to it, such as order status, fills and a log.\n",
    "    # It will be live updated with every status change or fill of the order.\n",
    "        \n",
    "    # CREATE A DATAFRAME THAT TRACKS STOP LIMIT ORDERS MADE ALONG WITH THEIR STOP LOSS TARGETS\n",
    "    new_row = [limitOrderTradeUp.contract.symbol, limitOrderTradeUp.order.totalQuantity, limitOrderTradeUp.order.orderId, round(current_price * 1.25, 2)]\n",
    "    pending_stop_loss_orders.append(new_row)\n",
    "\n",
    "    new_row = [limitOrderTradeDown.contract.symbol, limitOrderTradeDown.order.totalQuantity, limitOrderTradeDown.order.orderId, round(current_price * 1.25, 2)]\n",
    "    pending_stop_loss_orders.append(new_row)\n",
    "\n",
    "    \n",
    "    #new_row = pd.DataFrame({[limitOrderTrade.contract.symbol], [limitOrderTrade.order.totalQuantity], \n",
    "    #                        [limitOrderTrade.order.orderId], [round(current_price * 1.25, 2)]})\n",
    "    #pending_stop_loss_orders = pd.concat([pending_stop_loss_orders, new_row], ignore_index=True)\n",
    "\n",
    "    # fillEvent (trade: Trade, fill: Fill)\n",
    "    limitOrderTradeUp.fillEvent += order_status\n",
    "    limitOrderTradeDown.fillEvent += order_status"
   ]
  },
  {
   "cell_type": "code",
   "execution_count": 11,
   "id": "38f94783-45ba-45c6-9b71-eff55379c545",
   "metadata": {},
   "outputs": [
    {
     "data": {
      "text/plain": [
       "[Position(account='U12848716', contract=Stock(conId=700941285, symbol='NUVOQ', exchange='PINK', currency='USD', localSymbol='NUVOQ', tradingClass='NUVOQ'), position=275.0, avgCost=0.24124875),\n",
       " Position(account='U12848716', contract=Stock(conId=4727244, symbol='BMRA', exchange='NASDAQ', currency='USD', localSymbol='BMRA', tradingClass='SCM'), position=2.0, avgCost=0.687284)]"
      ]
     },
     "execution_count": 11,
     "metadata": {},
     "output_type": "execute_result"
    }
   ],
   "source": [
    "pos = ib.positions()\n",
    "pos"
   ]
  },
  {
   "cell_type": "code",
   "execution_count": null,
   "id": "49f1cdd6-4a51-4620-b624-55e2d957ef7f",
   "metadata": {},
   "outputs": [],
   "source": [
    "trads = ib.trades()\n",
    "trads"
   ]
  },
  {
   "cell_type": "code",
   "execution_count": null,
   "id": "9c1395a1-51f6-4d3f-aa2f-bf6b5b5b750c",
   "metadata": {},
   "outputs": [],
   "source": [
    "ords = ib.orders()\n",
    "ords"
   ]
  },
  {
   "cell_type": "code",
   "execution_count": null,
   "id": "72d9305a-0e0a-4c24-9cca-86c90bdd9c05",
   "metadata": {},
   "outputs": [],
   "source": [
    "trades = ib.trades()\n",
    "trades"
   ]
  },
  {
   "cell_type": "code",
   "execution_count": 31,
   "id": "de212574-62bc-4831-817d-0d63c7010b2e",
   "metadata": {},
   "outputs": [],
   "source": [
    "pending_stop_loss_orders = [] # define and create one time\n",
    "# https://stackoverflow.com/questions/10487278/how-to-declare-and-add-items-to-an-array-in-python"
   ]
  },
  {
   "cell_type": "code",
   "execution_count": 33,
   "id": "2c6ff046-0b1e-4831-b5ba-1148e47631c6",
   "metadata": {},
   "outputs": [],
   "source": [
    "new_row = [\"BABY\", 1, 0.15, 99]\n",
    "pending_stop_loss_orders.append(new_row)\n",
    "new_row = [\"COME\", 1, 0.35, 79]\n",
    "pending_stop_loss_orders.append(new_row)\n",
    "new_row = [\"HOME\", 1, 0.55, 59]\n",
    "pending_stop_loss_orders.append(new_row)"
   ]
  },
  {
   "cell_type": "code",
   "execution_count": null,
   "id": "030356f0-bfbd-472e-ac60-e5c06403bebf",
   "metadata": {},
   "outputs": [],
   "source": []
  },
  {
   "cell_type": "code",
   "execution_count": 36,
   "id": "ed85b213-4b9b-4bd8-9e18-0b793f4628cd",
   "metadata": {},
   "outputs": [
    {
     "data": {
      "text/plain": [
       "[['BABY', 1, 0.15, 99], ['COME', 1, 0.35, 79], ['HOME', 1, 0.55, 59]]"
      ]
     },
     "execution_count": 36,
     "metadata": {},
     "output_type": "execute_result"
    }
   ],
   "source": [
    "pending_stop_loss_orders"
   ]
  },
  {
   "cell_type": "code",
   "execution_count": 38,
   "id": "a1f36f4c-4b32-4492-ac7a-35b5ab5943f5",
   "metadata": {},
   "outputs": [],
   "source": [
    "del pending_stop_loss_orders[1]"
   ]
  },
  {
   "cell_type": "code",
   "execution_count": 40,
   "id": "50ab8441-bd15-4259-a5b9-bccb7539879f",
   "metadata": {},
   "outputs": [
    {
     "data": {
      "text/plain": [
       "[['BABY', 1, 0.15, 99], ['HOME', 1, 0.55, 59]]"
      ]
     },
     "execution_count": 40,
     "metadata": {},
     "output_type": "execute_result"
    }
   ],
   "source": [
    "pending_stop_loss_orders"
   ]
  },
  {
   "cell_type": "code",
   "execution_count": null,
   "id": "d6048e27-9bb6-4927-852f-96320b21d153",
   "metadata": {},
   "outputs": [],
   "source": []
  }
 ],
 "metadata": {
  "kernelspec": {
   "display_name": "Python [conda env:base] *",
   "language": "python",
   "name": "conda-base-py"
  },
  "language_info": {
   "codemirror_mode": {
    "name": "ipython",
    "version": 3
   },
   "file_extension": ".py",
   "mimetype": "text/x-python",
   "name": "python",
   "nbconvert_exporter": "python",
   "pygments_lexer": "ipython3",
   "version": "3.12.7"
  }
 },
 "nbformat": 4,
 "nbformat_minor": 5
}
