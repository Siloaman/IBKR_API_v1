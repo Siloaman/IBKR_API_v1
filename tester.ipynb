{
  "metadata": {
    "kernelspec": {
      "name": "python",
      "display_name": "Python (Pyodide)",
      "language": "python"
    },
    "language_info": {
      "codemirror_mode": {
        "name": "python",
        "version": 3
      },
      "file_extension": ".py",
      "mimetype": "text/x-python",
      "name": "python",
      "nbconvert_exporter": "python",
      "pygments_lexer": "ipython3",
      "version": "3.8"
    }
  },
  "nbformat_minor": 5,
  "nbformat": 4,
  "cells": [
    {
      "id": "2962de40-561f-4d7f-b6cf-c46210f74833",
      "cell_type": "code",
      "source": "jan20m = [4,0,6,6] # jan 20 midday\njan20e = [1,8,5,6] # jan 20 evening\n\njan21m = [0,8,8,0] # jan 21 midday\njan21e = [1,4,4,8] # jan 21 evening\n\njan22m = [6,9,8,6] # jan 22 midday\njan22e = [2,4,3,6] # jan 22 evening\n\njan23m = [3,5,1,2] # jan 23 midday\njan23e = [2,8,0,5] # jan 23 evening\n\njan24m = [4,6,5,9] # jan 24 midday\njan24e = [4,5,6,7] # jan 24 evening\n\njan25m = [9,1,7,3] # jan 25 midday\njan25e = [3,4,0,6] # jan 25 evening\n\njan26m = [7,5,5,1] # jan 26 midday\njan26e = [3,3,2,3] # jan 26 evening\n\njan27m = [0,5,5,2] # jan 27 midday\njan27e = [2,8,4,6] # jan 27 evening\n\njan28m = [2,3,2,6] # jan 28\njan28e = [9,1,4,2]# jan 28\n\njan29m = [3,2,3,8]# jan 29\njan29e = [1,7,2,9]# jan 29\n\njan30m = [0,0,2,5]# jan 30\njan30e = [4,7,0,3]# jan 30\n\n# jan 31\n# jan 31\n\n'''\ndef my_function(food):\n  for x in food:\n    print(x)\n\nfruits = [\"apple\", \"banana\", \"cherry\"]\n\nmy_function(fruits)\n\n\n\n# Using \\t to print a tab\na = \"Hey\"\nb = \"Geek\"\nprint(a , \"\\t\" , b)\n'''\n\ntt_23_md = [3,5,1,2] \ntt_23_en = [2,8,0,5]\n\ntt_28_md = [2,3,2,6]\ntt_28_en = [9,1,4,2]",
      "metadata": {
        "trusted": true
      },
      "outputs": [],
      "execution_count": 1
    },
    {
      "id": "1e38dad2-2ce2-47f3-b1f2-d8db503795d3",
      "cell_type": "code",
      "source": "def method_two(previous, current):\n\n    # fill in current winning numbers\n    c1 = current[0]\n    c2 = current[1]\n    c3 = current[2]\n    c4 = current[3]\n\n    # fill in the previous winning numbers\n    p1 = previous[0]\n    p2 = previous[1]\n    p3 = previous[2]\n    p4 = previous[3]\n\n    # create the rows back towards current winning numbers\n\n    previous_win = [p1, p2, p3, p4] \n    current_win = [c1, c2, c3, c4]\n    \n    row1 = [p1+c1, p2+c2, p3+c3, p4+c4]\n    for index, row_val in enumerate(row1):\n        if(row_val >= 10):\n            row1[index] -= 10\n    \n    row2 = [p1+row1.copy()[0], p2+row1.copy()[1], p3+row1.copy()[2], p4+row1.copy()[3]]\n    for index, row_val in enumerate(row2):\n        if(row_val >= 10):\n            row2[index] -= 10\n    \n    row3 = [p1+row2.copy()[0], p2+row2.copy()[1], p3+row2.copy()[2], p4+row2.copy()[3]]\n    for index, row_val in enumerate(row3):\n        if(row_val >= 10):\n            row3[index] -= 10\n    \n    row4 = [p1+row3.copy()[0], p2+row3.copy()[1], p3+row3.copy()[2], p4+row3.copy()[3]]\n    for index, row_val in enumerate(row4):\n        if(row_val >= 10):\n            row4[index] -= 10\n    \n    row5 = [p1+row4.copy()[0], p2+row4.copy()[1], p3+row4.copy()[2], p4+row4.copy()[3]]\n    for index, row_val in enumerate(row5):\n        if(row_val >= 10):\n            row5[index] -= 10\n    \n    row6 = [p1+row5.copy()[0], p2+row5.copy()[1], p3+row5.copy()[2], p4+row5.copy()[3]]\n    for index, row_val in enumerate(row6):\n        if(row_val >= 10):\n            row6[index] -= 10\n    \n    row7 = [p1+row6.copy()[0], p2+row6.copy()[1], p3+row6.copy()[2], p4+row6.copy()[3]]\n    for index, row_val in enumerate(row7):\n        if(row_val >= 10):\n            row7[index] -= 10\n    \n    row8 = [p1+row7.copy()[0], p2+row7.copy()[1], p3+row7.copy()[2], p4+row7.copy()[3]]\n    for index, row_val in enumerate(row8):\n        if(row_val >= 10):\n            row8[index] -= 10\n    \n    row9 = [p1+row8.copy()[0], p2+row8.copy()[1], p3+row8.copy()[2], p4+row8.copy()[3]]\n    for index, row_val in enumerate(row9):\n        if(row_val >= 10):\n            row9[index] -= 10\n\n    row10 = [p1+row9.copy()[0], p2+row9.copy()[1], p3+row9.copy()[2], p4+row9.copy()[3]]\n    for index, row_val in enumerate(row10):\n        if(row_val >= 10):\n            row10[index] -= 10        \n\n\n    print(\"Previous WIN Numbers\")\n    print(previous_win)\n    print(\"Current WIN Numbers\")\n    print(current_win)\n    print(\"============\")\n\n    print(row1)\n    print(row2)\n    print(row3)\n    print(row4)\n    print(row5)\n    print(row6)\n    print(row7)\n    print(row8)\n    print(row9)\n    print(\"============\")\n    print(row10)",
      "metadata": {
        "trusted": true
      },
      "outputs": [],
      "execution_count": 2
    },
    {
      "id": "d470addc-f6f3-4b31-8888-8abbdc05dc94",
      "cell_type": "code",
      "source": "method_two(jan30m, jan30e)",
      "metadata": {
        "trusted": true
      },
      "outputs": [
        {
          "name": "stdout",
          "output_type": "stream",
          "text": "Previous WIN Numbers\n[0, 0, 2, 5]\nCurrent WIN Numbers\n[4, 7, 0, 3]\n============\n[4, 7, 2, 8]\n[4, 7, 4, 3]\n[4, 7, 6, 8]\n[4, 7, 8, 3]\n[4, 7, 0, 8]\n[4, 7, 2, 3]\n[4, 7, 4, 8]\n[4, 7, 6, 3]\n[4, 7, 8, 8]\n============\n[4, 7, 0, 3]\n"
        }
      ],
      "execution_count": 13
    },
    {
      "id": "9116f407-abe9-47ec-a3a7-46107c75c3b1",
      "cell_type": "code",
      "source": "",
      "metadata": {
        "trusted": true
      },
      "outputs": [],
      "execution_count": null
    }
  ]
}