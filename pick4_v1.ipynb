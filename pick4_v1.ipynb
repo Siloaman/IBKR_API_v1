{B is contained in 5, C is edge in 5},
{
  "metadata": {
    "kernelspec": {
      "name": "python",
      "display_name": "Python (Pyodide)",
      "language": "python"
    },
    "language_info": {
      "codemirror_mode": {
        "name": "python",
        "version": 3
      },
      "file_extension": ".py",
      "mimetype": "text/x-python",
      "name": "python",
      "nbconvert_exporter": "python",
      "pygments_lexer": "ipython3",
      "version": "3.8"
    }
  },
  "nbformat_minor": 5,
  "nbformat": 4,
  "cells": [
    {
      "id": "92079137-64af-4f56-927f-5a405f3180ee",
      "cell_type": "code",
      "source": "\"\"\"\n    A1 | A2 | A3 | A4\n    B1 | B2 | B3 | B4\n    C1 | C2 | C3 | C4\n    D1 | D2 | D3 | D4\n\n\"\"\"",
      "metadata": {
        "trusted": true
      },
      "outputs": [
        {
          "execution_count": 102,
          "output_type": "execute_result",
          "data": {
            "text/plain": "'\\n    A1 | A2 | A3 | A4\\n    B1 | B2 | B3 | B4\\n    C1 | C2 | C3 | C4\\n    D1 | D2 | D3 | D4\\n\\n'"
          },
          "metadata": {}
        }
      ],
      "execution_count": 102
    },
    {
      "id": "e192bb03-9871-4b43-a95e-1bf97a8d3afb",
      "cell_type": "code",
      "source": "e7 = [1,8,5,6] # jan 20 evening\ne6 = [1,4,4,8] # jan 21 evening\ne5 = [2,4,3,6] # jan 22 evening\ne4 = [2,8,0,5] # jan 23 evening \ne3 = [4,5,6,7] # jan 24 evening\ne2 = [3,4,0,6] # jan 25 evening\ne1 = [3,3,2,3] # jan 26 evening\ne0 = [2,8,4,6] # jan 27 evening\n\nm7 = [4,0,6,6] # jan 20 midday\nm6 = [0,8,8,0] # jan 21 midday\nm5 = [6,9,8,6] # jan 22 midday\nm4 = [3,5,1,2] # jan 23 midday\nm3 = [4,6,5,9] # jan 24 midday\nm2 = [9,1,7,3] # jan 25 midday\nm1 = [7,5,5,1] # jan 26 midday\nm0 = [0,5,5,2] # jan 27 midday\n\ntt_23_md = [3,5,1,2] \ntt_23_en = [2,8,0,5]\n\ntt_28_md = [2,3,2,6]\ntt_28_en = [9,1,4,2]\n\nMR = 5  # mirror\nFP = 3  # flip",
      "metadata": {
        "trusted": true
      },
      "outputs": [],
      "execution_count": 152
    },
    {
      "id": "381216a0-1e77-474f-821e-04cf647f0dce",
      "cell_type": "code",
      "source": "def method_one():\n    # fill in current winning numbers\n    a1 = tt_29_md[0]\n    b2 = tt_29_md[1]\n    c3 = tt_29_md[2]\n    d4 = tt_29_md[3]\n    \n    # fill in outer rim\n    c4 = tt_29_md[3] + 1\n    b4 = c4 + 1\n    a4 = b4 + 1\n    a3 = a4 + 1\n    a2 = a3 + 1\n    b1 = a2 + 1\n    c1 = b1 + 1\n    d1 = c1 + 1\n    d2 = d1 + 1\n    d3 = d2 + 1\n\n    # fill in inner rim\n    b3 = tt_29_md[2] + 1\n    c2 = b3 + 1\n\n    # create matrix\n    #matrix = [a1, a2, a3, a4, b1, b2, b3, b4, c1, c2, c3, c4, d1, d2, d3, d4]\n    #for nn in matrix:\n    #    if(matrix[nn-1] >= 10):\n    #        matrix[nn] -= 10\n\n    \n    row1 = [a1, a2, a3, a4]\n    for index, row_val in enumerate(row1):\n        if(row_val >= 10):\n            row1[index] -= 10\n\n    row1M = row1.copy()\n    for index, row in enumerate(row1M):\n        row1M[index] += MR\n\n    for index, row_val in enumerate(row1M):\n        if(row_val >= 10):\n            row1M[index] -= 10    \n                \n    row1F = row1.copy()\n    for index, row in enumerate(row1F):\n        row1F[index] += FP\n\n    for index, row_val in enumerate(row1F):\n        if(row_val >= 10):\n            row1F[index] -= 10\n    #---------------------------------#        \n    row2 = [b1, b2, b3, b4]\n    for index, row in enumerate(row2):\n        if(row >= 10):\n            row2[index] -= 10\n            \n    row2M = row2.copy()\n    for index, row in enumerate(row2M):\n        row2M[index] += MR\n\n    for index, row_val in enumerate(row2M):\n        if(row_val >= 10):\n            row2M[index] -= 10\n        \n    row2F = row2.copy()\n    for index, row in enumerate(row2F):\n        row2F[index] += FP\n\n    for index, row_val in enumerate(row2F):\n        if(row_val >= 10):\n            row2F[index] -= 10\n    #---------------------------------#\n    row3 = [c1, c2, c3, c4]\n    for index, row in enumerate(row3):\n        if(row >= 10):\n            row3[index] -= 10\n            \n    row3M = row3.copy()\n    for index, row in enumerate(row3M):\n        row3M[index] += MR\n\n    for index, row_val in enumerate(row3M):\n        if(row_val >= 10):\n            row3M[index] -= 10\n        \n    row3F = row3.copy()\n    for index, row in enumerate(row3F):\n        row3F[index] += FP\n\n    for index, row_val in enumerate(row3F):\n        if(row_val >= 10):\n            row3F[index] -= 10\n    #---------------------------------#\n    row4 = [d1, d2, d3, d4]\n    for index, row in enumerate(row4):\n        if(row >= 10):\n            row4[index] -= 10\n\n    row4M = row4.copy()\n    for index, row in enumerate(row4M):\n        row4M[index] += MR\n\n    for index, row_val in enumerate(row4M):\n        if(row_val >= 10):\n            row4M[index] -= 10\n    \n    row4F = row4.copy()\n    for index, row in enumerate(row4F):\n        row4F[index] += FP\n\n    for index, row_val in enumerate(row4F):\n        if(row_val >= 10):\n            row4F[index] -= 10\n    \n    \n    print(\"BASE\")\n    print(row1)\n    print(row2)\n    print(row3)\n    print(row4)\n    print(\"\\n\")\n    print(\"MIRROR\")\n    print(row1M)\n    print(row2M)\n    print(row3M)\n    print(row4M)\n    print(\"\\n\")\n    print(\"FLIP\")\n    print(row1F)\n    print(row2F)\n    print(row3F)\n    print(row4F)",
      "metadata": {
        "trusted": true
      },
      "outputs": [],
      "execution_count": 147
    },
    {
      "id": "599fe588-e560-4bf6-907a-3023aa457786",
      "cell_type": "code",
      "source": "'''\n\nC1 | C2 | C3 | C4\nP1 | P2 | P3 | P4\n\n'''",
      "metadata": {
        "trusted": true
      },
      "outputs": [
        {
          "execution_count": 148,
          "output_type": "execute_result",
          "data": {
            "text/plain": "'\\n\\nC1 | C2 | C3 | C4\\nP1 | P2 | P3 | P4\\n\\n'"
          },
          "metadata": {}
        }
      ],
      "execution_count": 148
    },
    {
      "id": "5a5a90c3-b704-43a3-990e-44622f498661",
      "cell_type": "code",
      "source": "def method_two():\n\n    # fill in current winning numbers\n    c1 = tt_23_en[0]\n    c2 = tt_23_en[1]\n    c3 = tt_23_en[2]\n    c4 = tt_23_en[3]\n\n    # fill in the previous winning numbers\n    p1 = tt_23_md[0]\n    p2 = tt_23_md[1]\n    p3 = tt_23_md[2]\n    p4 = tt_23_md[3]\n\n    # create the rows back towards current winning numbers\n\n    previous_win = [p1, p2, p3, p4] \n    current_win = [c1, c2, c3, c4]\n    \n    row1 = [p1+c1, p2+c2, p3+c3, p4+c4]\n    for index, row_val in enumerate(row1):\n        if(row_val >= 10):\n            row1[index] -= 10\n    \n    row2 = [p1+row1.copy()[0], p2+row1.copy()[1], p3+row1.copy()[2], p4+row1.copy()[3]]\n    for index, row_val in enumerate(row2):\n        if(row_val >= 10):\n            row2[index] -= 10\n    \n    row3 = [p1+row2.copy()[0], p2+row2.copy()[1], p3+row2.copy()[2], p4+row2.copy()[3]]\n    for index, row_val in enumerate(row3):\n        if(row_val >= 10):\n            row3[index] -= 10\n    \n    row4 = [p1+row3.copy()[0], p2+row3.copy()[1], p3+row3.copy()[2], p4+row3.copy()[3]]\n    for index, row_val in enumerate(row4):\n        if(row_val >= 10):\n            row4[index] -= 10\n    \n    row5 = [p1+row4.copy()[0], p2+row4.copy()[1], p3+row4.copy()[2], p4+row4.copy()[3]]\n    for index, row_val in enumerate(row5):\n        if(row_val >= 10):\n            row5[index] -= 10\n    \n    row6 = [p1+row5.copy()[0], p2+row5.copy()[1], p3+row5.copy()[2], p4+row5.copy()[3]]\n    for index, row_val in enumerate(row6):\n        if(row_val >= 10):\n            row6[index] -= 10\n    \n    row7 = [p1+row6.copy()[0], p2+row6.copy()[1], p3+row6.copy()[2], p4+row6.copy()[3]]\n    for index, row_val in enumerate(row7):\n        if(row_val >= 10):\n            row7[index] -= 10\n    \n    row8 = [p1+row7.copy()[0], p2+row7.copy()[1], p3+row7.copy()[2], p4+row7.copy()[3]]\n    for index, row_val in enumerate(row8):\n        if(row_val >= 10):\n            row8[index] -= 10\n    \n    row9 = [p1+row8.copy()[0], p2+row8.copy()[1], p3+row8.copy()[2], p4+row8.copy()[3]]\n    for index, row_val in enumerate(row9):\n        if(row_val >= 10):\n            row9[index] -= 10\n\n    row10 = [p1+row9.copy()[0], p2+row9.copy()[1], p3+row9.copy()[2], p4+row9.copy()[3]]\n    for index, row_val in enumerate(row10):\n        if(row_val >= 10):\n            row10[index] -= 10        \n\n\n    print(\"Previous WIN Numbers\")\n    print(previous_win)\n    print(\"Current WIN Numbers\")\n    print(current_win)\n    print(\"============\")\n\n    print(row1)\n    print(row2)\n    print(row3)\n    print(row4)\n    print(row5)\n    print(row6)\n    print(row7)\n    print(row8)\n    print(row9)\n    print(\"============\")\n    print(row10)\n    \n    ",
      "metadata": {
        "trusted": true
      },
      "outputs": [],
      "execution_count": 153
    },
    {
      "id": "eca361bc-650c-43d7-b478-e1873dedbfbc",
      "cell_type": "code",
      "source": "method_one()",
      "metadata": {
        "trusted": true
      },
      "outputs": [
        {
          "name": "stdout",
          "output_type": "stream",
          "text": "BASE\n[3, 3, 2, 1]\n[4, 2, 4, 0]\n[5, 5, 3, 9]\n[6, 7, 8, 8]\n\n\nMIRROR\n[8, 8, 7, 6]\n[9, 7, 9, 5]\n[0, 0, 8, 4]\n[1, 2, 3, 3]\n\n\nFLIP\n[6, 6, 5, 4]\n[7, 5, 7, 3]\n[8, 8, 6, 2]\n[9, 0, 1, 1]\n"
        }
      ],
      "execution_count": 150
    },
    {
      "id": "554de2ec-fc6c-428c-b725-c0060872e76c",
      "cell_type": "code",
      "source": "method_two()",
      "metadata": {
        "trusted": true
      },
      "outputs": [
        {
          "name": "stdout",
          "output_type": "stream",
          "text": "Previous WIN Numbers\n[3, 5, 1, 2]\nCurrent WIN Numbers\n[2, 8, 0, 5]\n============\n[5, 3, 1, 7]\n[8, 8, 2, 9]\n[1, 3, 3, 1]\n[4, 8, 4, 3]\n[7, 3, 5, 5]\n[0, 8, 6, 7]\n[3, 3, 7, 9]\n[6, 8, 8, 1]\n[9, 3, 9, 3]\n============\n[2, 8, 0, 5]\n"
        }
      ],
      "execution_count": 154
    },
    {
      "id": "16e0fc65-3ebe-459a-8b8e-330f48b08e1d",
      "cell_type": "code",
      "source": "# January 28 -> 9142\ne7 = [1,8,5,6] # jan 20 evening\ne6 = [1,4,4,8] # jan 21 evening\ne5 = [2,4,3,6] # jan 22 evening\ne4 = [2,8,0,5] # jan 23 evening \ne3 = [4,5,6,7] # jan 24 evening\ne2 = [3,4,0,6] # jan 25 evening\ne1 = [3,3,2,3] # jan 26 evening\ne0 = [2,8,4,6] # jan 27 evening",
      "metadata": {
        "trusted": true
      },
      "outputs": [],
      "execution_count": null
    }
  ]
}


flat_grouped_nov_dec = [
    [5,6,9,3], [4,2,5,0], [9,3,6,3], [7,8,6,5], [7,7,2,6], [0,3,4,0],
    [7,9,8,1], [7,5,0,7], [2,9,5,9], [9,0,0,7], [9,6,0,4], [7,6,6,2],
    [8,2,5,9], [6,6,6,1], [5,4,1,1], [3,0,4,7], [3,0,1,4], [0,8,6,5],
    [8,2,0,5], [1,8,0,5], [1,7,4,7], [7,9,3,0], [7,0,6,8], [8,2,2,1],
    [0,4,4,4], [9,3,5,8], [1,9,9,1], [4,6,3,9], [0,1,1,6], [8,7,7,4],
    [4,5,1,0], [7,7,4,6], [0,3,8,7], [7,5,3,0], [4,2,3,8], [9,9,5,9],
    [6,8,3,0], [7,1,8,3], [3,2,1,1], [1,5,7,5], [7,8,4,7], [9,7,3,8],
    [4,6,6,9], [8,9,7,8], [5,4,2,4], [9,5,5,9], [1,6,0,9], [1,9,4,5],
    [8,8,3,7], [5,0,0,0], [7,5,5,2], [3,2,3,9], [7,8,9,2], [9,3,4,1],
    [0,1,2,4], [6,9,1,6], [5,7,0,2], [7,0,1,8], [9,7,5,9], [7,3,6,2],
    [1,2,9,7], [6,3,8,4], [6,1,0,8], [2,4,7,4], [9,2,8,7], [4,6,1,8],
    [9,9,6,9], [7,3,7,3], [0,4,0,3], [5,2,2,2], [6,8,8,8], [0,0,8,8],
    [2,0,4,6], [3,9,6,3], [5,0,4,2], [9,8,0,0], [4,4,0,8], [6,0,7,0],
    [9,1,9,8], [7,9,5,1], [7,6,4,8], [4,9,0,9], [5,5,5,9], [7,0,9,6],
    [0,4,7,8], [6,0,5,3], [1,9,4,9], [3,4,6,8], [6,2,1,1], [1,5,6,6],
    [3,6,4,3], [1,4,0,5], [9,1,1,5], [6,9,2,2], [3,3,6,2], [5,6,6,6],
    [6,0,4,7], [3,7,5,0], [7,6,1,1], [4,8,1,0], [8,0,9,2], [2,7,2,7],
    [5,9,4,7], [6,4,5,8], [9,4,7,9], [8,3,9,2], [1,6,2,5], [3,1,6,2],
    [9,0,0,5], [3,6,1,2], [0,4,5,7], [7,5,2,0], [9,5,0,5], [1,3,6,9],
    [3,6,3,1], [1,8,7,4], [6,6,3,8], [8,0,8,5], [2,1,0,8], [9,5,2,1],
    [6,4,2,1], [8,7,1,7]
]    

specs = [
    [3, 3, 6, 9],
    [3, 3, 9, 6],
    [3, 6, 3, 9],
    [3, 6, 9, 3],
    [3, 9, 3, 6],
    [3, 9, 6, 3],
    [6, 3, 3, 9],
    [6, 3, 9, 3],
    [6, 9, 3, 3],
    [9, 3, 3, 6],
    [9, 3, 6, 3],
    [9, 6, 3, 3]
]

def apply_spec_to_fg(fg_row, spec):
    """Apply spec digit-by-digit to one f_g row."""
    result = []
    for f, s in zip(fg_row, spec):
        val = f + s
        if val >= 10:
            val -= 10
        result.append(val)
    return result

def generate_rows(curr_win, spec, iterations=9):
    """Generate rows by applying spec step-by-step for given f_g row."""
    rows = []
    current = curr_win[:]
    for _ in range(iterations):
        current = apply_spec_to_fg(current, spec)
        rows.append(current)
    return rows


# Group results per spec
all_results = {}

for spec in specs:  # do all f_g rows for this spec before moving on
    spec_key = ''.join(str(x) for x in spec)
    all_results[spec_key] = {}

    for curr_up in flat_grouped_nov_dec:
        start_key = ''.join(str(x) for x in curr_up)
        result_rows = generate_rows(curr_up, spec)
        all_results[spec_key][start_key] = result_rows


# Example: printing nicely
for spec, fg_data in all_results.items():
    print(f"\nSpec: {spec}")
    for fg, rows in fg_data.items():
        print(f"  Start f_g: {fg}")
        for row in rows:
            print("   ", row)
