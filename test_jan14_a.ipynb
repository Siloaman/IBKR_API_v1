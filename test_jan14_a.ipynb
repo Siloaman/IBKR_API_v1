{
 "cells": [
  {
   "cell_type": "code",
   "execution_count": null,
   "id": "660db55c-332d-4adb-9d16-26d1cea8f54f",
   "metadata": {},
   "outputs": [],
   "source": [
    "# !pip install ib_insync\n",
    "# !pip install schedule"
   ]
  },
  {
   "cell_type": "code",
   "execution_count": 1,
   "id": "974e50e4-692c-4024-87d3-424c9b6d3462",
   "metadata": {},
   "outputs": [],
   "source": [
    "from ib_insync import *\n",
    "import requests\n",
    "import pandas as pd\n",
    "import schedule\n",
    "import time\n",
    "import datetime;\n",
    "from bs4 import BeautifulSoup\n",
    "import warnings\n",
    "warnings.filterwarnings(\"ignore\", category=RuntimeWarning)\n",
    "\n",
    "util.startLoop()  # only use in interactive environments (i.e. Jupyter Notebooks)"
   ]
  },
  {
   "cell_type": "code",
   "execution_count": 3,
   "id": "e1ea6417-d43c-42c5-86e0-acd27e18290d",
   "metadata": {},
   "outputs": [
    {
     "data": {
      "text/plain": [
       "<IB connected to 127.0.0.1:7496 clientId=0>"
      ]
     },
     "execution_count": 3,
     "metadata": {},
     "output_type": "execute_result"
    }
   ],
   "source": [
    "ib = IB()\n",
    "ib.connect(host='127.0.0.1', port=7496, clientId=0)\n",
    "# https://www.elitetrader.com/et/threads/cant-connect-to-api-interactive-brokers.361205/\n",
    "# needed to change socket port to 7496 and uncheck the Read-Only API box"
   ]
  },
  {
   "cell_type": "code",
   "execution_count": 5,
   "id": "7ae79f2d-86bd-409f-a8eb-8691834086ac",
   "metadata": {},
   "outputs": [],
   "source": [
    "pending_stop_loss_orders = pd.DataFrame() # define and create one time\n",
    "pos = ib.positions()"
   ]
  },
  {
   "cell_type": "code",
   "execution_count": 68,
   "id": "dad422f7-36d8-498a-b86f-3ce7ed2c7d9a",
   "metadata": {},
   "outputs": [
    {
     "name": "stderr",
     "output_type": "stream",
     "text": [
      "2025-01-14 12:47:13,196 ib_insync.ib INFO placeOrder: New order Trade(contract=Stock(conId=728177865, symbol='GLXG', exchange='SMART', primaryExchange='NASDAQ', currency='USD', localSymbol='GLXG', tradingClass='SCM'), order=LimitOrder(orderId=81, action='BUY', totalQuantity=1, lmtPrice=1.4108499999999997), orderStatus=OrderStatus(orderId=81, status='PendingSubmit', filled=0.0, remaining=0.0, avgFillPrice=0.0, permId=0, parentId=0, lastFillPrice=0.0, clientId=0, whyHeld='', mktCapPrice=0.0), fills=[], log=[TradeLogEntry(time=datetime.datetime(2025, 1, 14, 17, 47, 13, 196491, tzinfo=datetime.timezone.utc), status='PendingSubmit', message='', errorCode=0)], advancedError='')\n",
      "2025-01-14 12:47:13,467 ib_insync.wrapper INFO updatePortfolio: PortfolioItem(contract=Stock(conId=753276607, symbol='XTIA', right='0', primaryExchange='NASDAQ', currency='USD', localSymbol='XTIA', tradingClass='SCM'), position=0.0, marketPrice=5.96399975, marketValue=0.0, averageCost=0.0, unrealizedPNL=0.0, realizedPNL=-0.02, account='U12848716')\n",
      "2025-01-14 12:47:13,494 ib_insync.wrapper INFO Warning 110, reqId 81: The price does not conform to the minimum price variation for this contract.\n",
      "2025-01-14 12:47:15,644 ib_insync.ib INFO placeOrder: New order Trade(contract=Stock(conId=728177865, symbol='GLXG', exchange='SMART', primaryExchange='NASDAQ', currency='USD', localSymbol='GLXG', tradingClass='SCM'), order=LimitOrder(orderId=84, action='BUY', totalQuantity=1, lmtPrice=1.4204925), orderStatus=OrderStatus(orderId=84, status='PendingSubmit', filled=0.0, remaining=0.0, avgFillPrice=0.0, permId=0, parentId=0, lastFillPrice=0.0, clientId=0, whyHeld='', mktCapPrice=0.0), fills=[], log=[TradeLogEntry(time=datetime.datetime(2025, 1, 14, 17, 47, 15, 644153, tzinfo=datetime.timezone.utc), status='PendingSubmit', message='', errorCode=0)], advancedError='')\n"
     ]
    }
   ],
   "source": [
    "util.logToConsole()\n",
    "\n",
    "def order_status(trade):\n",
    "    if trade.orderStatus.status == 'Filled':\n",
    "    #    fill = trade.fills[-1]\n",
    "        #for index, row in pending_stop_loss_orders.iterrows():\n",
    "        #    if(row['TK'] == fill.contract.symbol and row['QT'] == fill.execution.shares):\n",
    "                \n",
    "        contract = Stock('TSLA', 'SMART', 'USD')\n",
    "        stopOrder = StopOrder('BUY', fill.execution.shares, 10.10)\n",
    "        stopOrderTrade = ib.placeOrder(contract, stopOrder)\n",
    "                \n",
    "                #pending_stop_loss_orders.drop(index, inplace=True)   # no longer useful to keep (does this work?)\n",
    "                \n",
    "                \n",
    "# test orders with day high volatility stocks\n",
    "sym = 'GLXG'\n",
    "test_symbols = [sym, sym]\n",
    "\n",
    "\n",
    "\n",
    "for test in test_symbols:\n",
    "    \n",
    "    contract = Stock(test, 'SMART', 'USD')\n",
    "\n",
    "    ib.qualifyContracts(contract)\n",
    "    data = ib.reqMktData(contract)\n",
    "    ib.sleep(2)\n",
    "    current_price = data.marketPrice()\n",
    "    \n",
    "    limitOrder = LimitOrder('BUY', 1, (current_price * 1.015))    # data.marketPrice() doesn't work without ib.sleep(few seconds)\n",
    "    limitOrderTrade = ib.placeOrder(contract, limitOrder)\n",
    "    # limitOrderTrade contains the order and everything related to it, such as order status, fills and a log.\n",
    "    # It will be live updated with every status change or fill of the order.\n",
    "        \n",
    "    # CREATE A DATAFRAME THAT TRACKS STOP LIMIT ORDERS MADE ALONG WITH THEIR STOP LOSS TARGETS\n",
    "    new_row = pd.DataFrame({\"TK\": [limitOrderTrade.contract.symbol], \"QT\": [limitOrderTrade.order.totalQuantity], \n",
    "                            \"OID\": [limitOrderTrade.order.orderId], \"SLT\": [current_price * 1.25]})\n",
    "    pending_stop_loss_orders = pd.concat([pending_stop_loss_orders, new_row], ignore_index=True)\n",
    "    \n",
    "    limitOrderTrade.fillEvent += order_status"
   ]
  },
  {
   "cell_type": "code",
   "execution_count": 66,
   "id": "2a6d5a64-1b49-42f3-9c58-0db737fcf726",
   "metadata": {},
   "outputs": [
    {
     "data": {
      "text/plain": [
       "[Trade(contract=Stock(conId=618449783, symbol='NYMT', right='?', exchange='SMART', currency='USD', localSymbol='NYMT', tradingClass='NMS'), order=Order(orderId=-3, permId=1800011630, action='BUY', totalQuantity=1.0, orderType='LMT', lmtPrice=1.25, auxPrice=0.0, tif='GTC', ocaType=3, displaySize=2147483647, rule80A='0', openClose='', volatilityType=0, deltaNeutralOrderType='None', referencePriceType=0, account='U12848716', clearingIntent='IB', adjustedOrderType='None', cashQty=0.0, dontUseAutoPriceForHedge=True, usePriceMgmtAlgo=True), orderStatus=OrderStatus(orderId=-3, status='Submitted', filled=0.0, remaining=1.0, avgFillPrice=0.0, permId=1800011630, parentId=0, lastFillPrice=0.0, clientId=0, whyHeld='', mktCapPrice=0.0), fills=[], log=[TradeLogEntry(time=datetime.datetime(2025, 1, 14, 17, 11, 51, 384946, tzinfo=datetime.timezone.utc), status='Submitted', message='', errorCode=0)], advancedError=''),\n",
       " Trade(contract=Stock(conId=618449783, symbol='NYMT', right='?', exchange='SMART', currency='USD', localSymbol='NYMT', tradingClass='NMS'), order=Order(orderId=-4, permId=2057958630, action='BUY', totalQuantity=1.0, orderType='LMT', lmtPrice=1.0, auxPrice=0.0, tif='GTC', ocaType=3, displaySize=2147483647, rule80A='0', openClose='', volatilityType=0, deltaNeutralOrderType='None', referencePriceType=0, account='U12848716', clearingIntent='IB', adjustedOrderType='None', cashQty=0.0, dontUseAutoPriceForHedge=True, usePriceMgmtAlgo=True), orderStatus=OrderStatus(orderId=-4, status='Submitted', filled=0.0, remaining=1.0, avgFillPrice=0.0, permId=2057958630, parentId=0, lastFillPrice=0.0, clientId=0, whyHeld='', mktCapPrice=0.0), fills=[], log=[TradeLogEntry(time=datetime.datetime(2025, 1, 14, 17, 11, 51, 384946, tzinfo=datetime.timezone.utc), status='Submitted', message='', errorCode=0)], advancedError=''),\n",
       " Trade(contract=Stock(conId=728177865, symbol='GLXG', exchange='SMART', primaryExchange='NASDAQ', currency='USD', localSymbol='GLXG', tradingClass='SCM'), order=LimitOrder(orderId=75, action='BUY', totalQuantity=1, lmtPrice=1.5529499999999998), orderStatus=OrderStatus(orderId=75, status='PendingSubmit', filled=0.0, remaining=0.0, avgFillPrice=0.0, permId=0, parentId=0, lastFillPrice=0.0, clientId=0, whyHeld='', mktCapPrice=0.0), fills=[], log=[TradeLogEntry(time=datetime.datetime(2025, 1, 14, 17, 38, 6, 99239, tzinfo=datetime.timezone.utc), status='PendingSubmit', message='', errorCode=0)], advancedError=''),\n",
       " Trade(contract=Stock(conId=728177865, symbol='GLXG', exchange='SMART', primaryExchange='NASDAQ', currency='USD', localSymbol='GLXG', tradingClass='SCM'), order=LimitOrder(orderId=78, action='BUY', totalQuantity=1, lmtPrice=1.5123499999999999), orderStatus=OrderStatus(orderId=78, status='PendingSubmit', filled=0.0, remaining=0.0, avgFillPrice=0.0, permId=0, parentId=0, lastFillPrice=0.0, clientId=0, whyHeld='', mktCapPrice=0.0), fills=[], log=[TradeLogEntry(time=datetime.datetime(2025, 1, 14, 17, 38, 12, 929142, tzinfo=datetime.timezone.utc), status='PendingSubmit', message='', errorCode=0)], advancedError='')]"
      ]
     },
     "execution_count": 66,
     "metadata": {},
     "output_type": "execute_result"
    }
   ],
   "source": [
    "trads = ib.trades()\n",
    "trads\n",
    "# 12:43 PM price is roughly 1.46"
   ]
  },
  {
   "cell_type": "code",
   "execution_count": 70,
   "id": "604ed650-5f77-4569-9990-48836035dcba",
   "metadata": {},
   "outputs": [
    {
     "data": {
      "text/plain": [
       "[Trade(contract=Stock(conId=618449783, symbol='NYMT', right='?', exchange='SMART', currency='USD', localSymbol='NYMT', tradingClass='NMS'), order=Order(orderId=-3, permId=1800011630, action='BUY', totalQuantity=1.0, orderType='LMT', lmtPrice=1.25, auxPrice=0.0, tif='GTC', ocaType=3, displaySize=2147483647, rule80A='0', openClose='', volatilityType=0, deltaNeutralOrderType='None', referencePriceType=0, account='U12848716', clearingIntent='IB', adjustedOrderType='None', cashQty=0.0, dontUseAutoPriceForHedge=True, usePriceMgmtAlgo=True), orderStatus=OrderStatus(orderId=-3, status='Submitted', filled=0.0, remaining=1.0, avgFillPrice=0.0, permId=1800011630, parentId=0, lastFillPrice=0.0, clientId=0, whyHeld='', mktCapPrice=0.0), fills=[], log=[TradeLogEntry(time=datetime.datetime(2025, 1, 14, 17, 11, 51, 384946, tzinfo=datetime.timezone.utc), status='Submitted', message='', errorCode=0)], advancedError=''),\n",
       " Trade(contract=Stock(conId=618449783, symbol='NYMT', right='?', exchange='SMART', currency='USD', localSymbol='NYMT', tradingClass='NMS'), order=Order(orderId=-4, permId=2057958630, action='BUY', totalQuantity=1.0, orderType='LMT', lmtPrice=1.0, auxPrice=0.0, tif='GTC', ocaType=3, displaySize=2147483647, rule80A='0', openClose='', volatilityType=0, deltaNeutralOrderType='None', referencePriceType=0, account='U12848716', clearingIntent='IB', adjustedOrderType='None', cashQty=0.0, dontUseAutoPriceForHedge=True, usePriceMgmtAlgo=True), orderStatus=OrderStatus(orderId=-4, status='Submitted', filled=0.0, remaining=1.0, avgFillPrice=0.0, permId=2057958630, parentId=0, lastFillPrice=0.0, clientId=0, whyHeld='', mktCapPrice=0.0), fills=[], log=[TradeLogEntry(time=datetime.datetime(2025, 1, 14, 17, 11, 51, 384946, tzinfo=datetime.timezone.utc), status='Submitted', message='', errorCode=0)], advancedError=''),\n",
       " Trade(contract=Stock(conId=728177865, symbol='GLXG', exchange='SMART', primaryExchange='NASDAQ', currency='USD', localSymbol='GLXG', tradingClass='SCM'), order=LimitOrder(orderId=75, action='BUY', totalQuantity=1, lmtPrice=1.5529499999999998), orderStatus=OrderStatus(orderId=75, status='PendingSubmit', filled=0.0, remaining=0.0, avgFillPrice=0.0, permId=0, parentId=0, lastFillPrice=0.0, clientId=0, whyHeld='', mktCapPrice=0.0), fills=[], log=[TradeLogEntry(time=datetime.datetime(2025, 1, 14, 17, 38, 6, 99239, tzinfo=datetime.timezone.utc), status='PendingSubmit', message='', errorCode=0)], advancedError=''),\n",
       " Trade(contract=Stock(conId=728177865, symbol='GLXG', exchange='SMART', primaryExchange='NASDAQ', currency='USD', localSymbol='GLXG', tradingClass='SCM'), order=LimitOrder(orderId=78, action='BUY', totalQuantity=1, lmtPrice=1.5123499999999999), orderStatus=OrderStatus(orderId=78, status='PendingSubmit', filled=0.0, remaining=0.0, avgFillPrice=0.0, permId=0, parentId=0, lastFillPrice=0.0, clientId=0, whyHeld='', mktCapPrice=0.0), fills=[], log=[TradeLogEntry(time=datetime.datetime(2025, 1, 14, 17, 38, 12, 929142, tzinfo=datetime.timezone.utc), status='PendingSubmit', message='', errorCode=0)], advancedError=''),\n",
       " Trade(contract=Stock(conId=728177865, symbol='GLXG', exchange='SMART', primaryExchange='NASDAQ', currency='USD', localSymbol='GLXG', tradingClass='SCM'), order=LimitOrder(orderId=81, action='BUY', totalQuantity=1, lmtPrice=1.4108499999999997), orderStatus=OrderStatus(orderId=81, status='PendingSubmit', filled=0.0, remaining=0.0, avgFillPrice=0.0, permId=0, parentId=0, lastFillPrice=0.0, clientId=0, whyHeld='', mktCapPrice=0.0), fills=[], log=[TradeLogEntry(time=datetime.datetime(2025, 1, 14, 17, 47, 13, 196491, tzinfo=datetime.timezone.utc), status='PendingSubmit', message='', errorCode=0)], advancedError=''),\n",
       " Trade(contract=Stock(conId=728177865, symbol='GLXG', exchange='SMART', primaryExchange='NASDAQ', currency='USD', localSymbol='GLXG', tradingClass='SCM'), order=LimitOrder(orderId=84, action='BUY', totalQuantity=1, lmtPrice=1.4204925), orderStatus=OrderStatus(orderId=84, status='PendingSubmit', filled=0.0, remaining=0.0, avgFillPrice=0.0, permId=0, parentId=0, lastFillPrice=0.0, clientId=0, whyHeld='', mktCapPrice=0.0), fills=[], log=[TradeLogEntry(time=datetime.datetime(2025, 1, 14, 17, 47, 15, 644153, tzinfo=datetime.timezone.utc), status='PendingSubmit', message='', errorCode=0)], advancedError='')]"
      ]
     },
     "execution_count": 70,
     "metadata": {},
     "output_type": "execute_result"
    }
   ],
   "source": [
    "trads = ib.trades()\n",
    "trads\n",
    "# 12:43 PM price is roughly 1.46"
   ]
  },
  {
   "cell_type": "code",
   "execution_count": null,
   "id": "5c75184d-0a9f-48bb-b7a1-96643e62f8bd",
   "metadata": {},
   "outputs": [],
   "source": []
  },
  {
   "cell_type": "code",
   "execution_count": 11,
   "id": "5af4c465-9c13-4ed5-8d4f-62c58a542e4a",
   "metadata": {},
   "outputs": [
    {
     "data": {
      "text/plain": [
       "'NYMT'"
      ]
     },
     "execution_count": 11,
     "metadata": {},
     "output_type": "execute_result"
    }
   ],
   "source": [
    "trads[0].contract.symbol"
   ]
  },
  {
   "cell_type": "code",
   "execution_count": 13,
   "id": "88ecd2c0-7f61-42c1-9a9d-55ce9266eef6",
   "metadata": {},
   "outputs": [
    {
     "data": {
      "text/plain": [
       "-3"
      ]
     },
     "execution_count": 13,
     "metadata": {},
     "output_type": "execute_result"
    }
   ],
   "source": [
    "trads[0].order.orderId"
   ]
  },
  {
   "cell_type": "code",
   "execution_count": 19,
   "id": "bd876d71-a2b6-4785-a98d-7c456b1b3208",
   "metadata": {},
   "outputs": [
    {
     "data": {
      "text/plain": [
       "'Submitted'"
      ]
     },
     "execution_count": 19,
     "metadata": {},
     "output_type": "execute_result"
    }
   ],
   "source": [
    "trads[0].orderStatus.status"
   ]
  },
  {
   "cell_type": "code",
   "execution_count": 41,
   "id": "0b517c23-def8-4537-80aa-3cb90edadf54",
   "metadata": {},
   "outputs": [
    {
     "data": {
      "text/plain": [
       "[Order(orderId=-3, permId=1800011630, action='BUY', totalQuantity=1.0, orderType='LMT', lmtPrice=1.25, auxPrice=0.0, tif='GTC', ocaType=3, displaySize=2147483647, rule80A='0', openClose='', volatilityType=0, deltaNeutralOrderType='None', referencePriceType=0, account='U12848716', clearingIntent='IB', adjustedOrderType='None', cashQty=0.0, dontUseAutoPriceForHedge=True, usePriceMgmtAlgo=True),\n",
       " Order(orderId=-4, permId=2057958630, action='BUY', totalQuantity=1.0, orderType='LMT', lmtPrice=1.0, auxPrice=0.0, tif='GTC', ocaType=3, displaySize=2147483647, rule80A='0', openClose='', volatilityType=0, deltaNeutralOrderType='None', referencePriceType=0, account='U12848716', clearingIntent='IB', adjustedOrderType='None', cashQty=0.0, dontUseAutoPriceForHedge=True, usePriceMgmtAlgo=True)]"
      ]
     },
     "execution_count": 41,
     "metadata": {},
     "output_type": "execute_result"
    }
   ],
   "source": [
    "ords = ib.orders()\n",
    "ords"
   ]
  },
  {
   "cell_type": "code",
   "execution_count": 43,
   "id": "e417f2cb-348d-4e79-ab40-3e52f5c79463",
   "metadata": {},
   "outputs": [
    {
     "data": {
      "text/plain": [
       "[]"
      ]
     },
     "execution_count": 43,
     "metadata": {},
     "output_type": "execute_result"
    }
   ],
   "source": [
    "fills = ib.fills()\n",
    "fills"
   ]
  },
  {
   "cell_type": "code",
   "execution_count": null,
   "id": "2bac85f7-2de8-4b60-87d7-ac09be444f5b",
   "metadata": {},
   "outputs": [],
   "source": [
    "contract = Stock('ZOM', 'SMART', 'USD')\n",
    "\n",
    "ib.qualifyContracts(contract)\n",
    "data = ib.reqMktData(contract)\n",
    "    \n",
    "limitOrder = LimitOrder('BUY', 1, (data.marketPrice()*1.015))\n",
    "limitOrderTrade = ib.placeOrder(contract, limitOrder)"
   ]
  },
  {
   "cell_type": "code",
   "execution_count": null,
   "id": "7e091db6-efb6-4f5d-8ceb-f48bb144a44b",
   "metadata": {},
   "outputs": [],
   "source": [
    "limitOrderTrade"
   ]
  },
  {
   "cell_type": "code",
   "execution_count": null,
   "id": "03b31f61-3399-4cf0-aca0-9a892becb4d7",
   "metadata": {},
   "outputs": [],
   "source": [
    "limitOrderTrade.contract.symbol"
   ]
  },
  {
   "cell_type": "code",
   "execution_count": null,
   "id": "1143befe-78ee-4ba2-8828-85f030b8f767",
   "metadata": {},
   "outputs": [],
   "source": [
    "limitOrderTrade.order.orderId"
   ]
  },
  {
   "cell_type": "code",
   "execution_count": null,
   "id": "04287b29-deca-4aad-88ff-5b57eea24fa6",
   "metadata": {},
   "outputs": [],
   "source": [
    "limitOrderTrade.order.totalQuantity"
   ]
  },
  {
   "cell_type": "code",
   "execution_count": 60,
   "id": "710ceda8-7091-4f02-a120-84c62000ae6b",
   "metadata": {},
   "outputs": [
    {
     "data": {
      "text/plain": [
       "0.1275"
      ]
     },
     "execution_count": 60,
     "metadata": {},
     "output_type": "execute_result"
    }
   ],
   "source": [
    "# GET THE MARKETPRICE CORRECTLY!!\n",
    "\n",
    "contract = Stock('ZOM', 'SMART', 'USD')\n",
    "ib.qualifyContracts(contract)\n",
    "data = ib.reqMktData(contract)\n",
    "ib.sleep(2)\n",
    "# https://github.com/erdewit/ib_insync/issues/229\n",
    "price = data.last \n",
    "price = data.marketPrice()\n",
    "price\n"
   ]
  },
  {
   "cell_type": "code",
   "execution_count": null,
   "id": "5d500c0c-8ae4-4fbc-989a-52b2b07e5015",
   "metadata": {},
   "outputs": [],
   "source": []
  },
  {
   "cell_type": "code",
   "execution_count": null,
   "id": "d03c0cd5-e3e8-43c9-8544-bd95d63cf7ec",
   "metadata": {},
   "outputs": [],
   "source": []
  }
 ],
 "metadata": {
  "kernelspec": {
   "display_name": "Python [conda env:base] *",
   "language": "python",
   "name": "conda-base-py"
  },
  "language_info": {
   "codemirror_mode": {
    "name": "ipython",
    "version": 3
   },
   "file_extension": ".py",
   "mimetype": "text/x-python",
   "name": "python",
   "nbconvert_exporter": "python",
   "pygments_lexer": "ipython3",
   "version": "3.12.7"
  }
 },
 "nbformat": 4,
 "nbformat_minor": 5
}
