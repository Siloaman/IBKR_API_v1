{
 "cells": [
  {
   "cell_type": "code",
   "execution_count": null,
   "id": "660db55c-332d-4adb-9d16-26d1cea8f54f",
   "metadata": {},
   "outputs": [],
   "source": [
    "# !pip install ib_insync\n",
    "# !pip install schedule\n",
    "# !pip install ibapi"
   ]
  },
  {
   "cell_type": "code",
   "execution_count": 1,
   "id": "bfd20942-25c4-4a92-aacb-41232660c183",
   "metadata": {},
   "outputs": [
    {
     "data": {
      "text/plain": [
       "<IB connected to 127.0.0.1:7496 clientId=0>"
      ]
     },
     "execution_count": 1,
     "metadata": {},
     "output_type": "execute_result"
    }
   ],
   "source": [
    "from ib_insync import *\n",
    "import requests\n",
    "import pandas as pd\n",
    "import schedule\n",
    "import time\n",
    "import datetime;\n",
    "from bs4 import BeautifulSoup\n",
    "import warnings\n",
    "warnings.filterwarnings(\"ignore\", category=RuntimeWarning) \n",
    "\n",
    "util.startLoop()\n",
    "\n",
    "ib = IB()\n",
    "ib.connect(host='127.0.0.1', port=7496, clientId=0)"
   ]
  },
  {
   "cell_type": "code",
   "execution_count": null,
   "id": "7746c108-8e85-4135-82a4-9a4ce82ac7f6",
   "metadata": {},
   "outputs": [],
   "source": []
  },
  {
   "cell_type": "markdown",
   "id": "701c8314-2536-4e82-bab3-4eeb1467d3ab",
   "metadata": {},
   "source": [
    "# Test One -- order_status(trad, fill) "
   ]
  },
  {
   "cell_type": "code",
   "execution_count": null,
   "id": "24ff5f8f-c788-4880-982b-8c890a6c2613",
   "metadata": {},
   "outputs": [],
   "source": []
  },
  {
   "cell_type": "code",
   "execution_count": 3,
   "id": "c8c9e5e5-ed11-4519-95f6-2ad4e5953c4d",
   "metadata": {},
   "outputs": [],
   "source": [
    "pending_stop_loss_orders_test1 = []"
   ]
  },
  {
   "cell_type": "code",
   "execution_count": 5,
   "id": "dad422f7-36d8-498a-b86f-3ce7ed2c7d9a",
   "metadata": {},
   "outputs": [
    {
     "name": "stdout",
     "output_type": "stream",
     "text": [
      "Trade(contract=Stock(conId=686766290, symbol='TGL', exchange='SMART', primaryExchange='NASDAQ', currency='USD', localSymbol='TGL', tradingClass='SCM'), order=LimitOrder(orderId=163, permId=879391055, action='BUY', totalQuantity=1.0, lmtPrice=0.32, auxPrice=0.0), orderStatus=OrderStatus(orderId=163, status='PreSubmitted', filled=0.0, remaining=1.0, avgFillPrice=0.0, permId=879391055, parentId=0, lastFillPrice=0.0, clientId=0, whyHeld='', mktCapPrice=0.0), fills=[Fill(contract=Stock(conId=686766290, symbol='TGL', exchange='SMART', primaryExchange='NASDAQ', currency='USD', localSymbol='TGL', tradingClass='SCM'), execution=Execution(execId='0001e554.678a5131.01.01', time=datetime.datetime(2025, 1, 17, 15, 3, 46, tzinfo=datetime.timezone.utc), acctNumber='U12848716', exchange='MEMX', side='BOT', shares=1.0, price=0.3109, permId=879391055, clientId=0, orderId=163, liquidation=0, cumQty=1.0, avgPrice=0.3109, orderRef='', evRule='', evMultiplier=0.0, modelCode='', lastLiquidity=2), commissionReport=CommissionReport(execId='', commission=0.0, currency='', realizedPNL=0.0, yield_=0.0, yieldRedemptionDate=0), time=datetime.datetime(2025, 1, 17, 15, 3, 45, 591908, tzinfo=datetime.timezone.utc))], log=[TradeLogEntry(time=datetime.datetime(2025, 1, 17, 15, 3, 42, 972982, tzinfo=datetime.timezone.utc), status='PendingSubmit', message='', errorCode=0), TradeLogEntry(time=datetime.datetime(2025, 1, 17, 15, 3, 45, 545040, tzinfo=datetime.timezone.utc), status='PreSubmitted', message='', errorCode=0), TradeLogEntry(time=datetime.datetime(2025, 1, 17, 15, 3, 45, 591908, tzinfo=datetime.timezone.utc), status='PreSubmitted', message='Fill 1.0@0.3109', errorCode=0)], advancedError='')\n",
      "and now\n",
      "Fill(contract=Stock(conId=686766290, symbol='TGL', exchange='SMART', primaryExchange='NASDAQ', currency='USD', localSymbol='TGL', tradingClass='SCM'), execution=Execution(execId='0001e554.678a5131.01.01', time=datetime.datetime(2025, 1, 17, 15, 3, 46, tzinfo=datetime.timezone.utc), acctNumber='U12848716', exchange='MEMX', side='BOT', shares=1.0, price=0.3109, permId=879391055, clientId=0, orderId=163, liquidation=0, cumQty=1.0, avgPrice=0.3109, orderRef='', evRule='', evMultiplier=0.0, modelCode='', lastLiquidity=2), commissionReport=CommissionReport(execId='', commission=0.0, currency='', realizedPNL=0.0, yield_=0.0, yieldRedemptionDate=0), time=datetime.datetime(2025, 1, 17, 15, 3, 45, 591908, tzinfo=datetime.timezone.utc))\n"
     ]
    }
   ],
   "source": [
    "# util.logToConsole()\n",
    "\n",
    "# https://stackoverflow.com/questions/23944657/typeerror-method-takes-1-positional-argument-but-2-were-given-but-i-only-pa\n",
    "def order_status(trad, fil):\n",
    "\n",
    "    print(trad)\n",
    "    print(\"and now\")\n",
    "    print(fil)\n",
    "    \n",
    "    contract = Stock('TSLA', 'SMART', 'USD')\n",
    "    stopOrder = StopOrder('BUY', 1, 1.10)\n",
    "    stopOrderTrade = ib.placeOrder(contract, stopOrder)        \n",
    "            \n",
    "                \n",
    "                \n",
    "# test orders with day high volatility stocks\n",
    "sym = 'TGL'\n",
    "test_symbols = [sym, sym]\n",
    "\n",
    "for test in test_symbols:\n",
    "    \n",
    "    contract = Stock(test, 'SMART', 'USD')\n",
    "\n",
    "    ib.qualifyContracts(contract)\n",
    "    data = ib.reqMktData(contract)\n",
    "    ib.sleep(2) # data.marketPrice() doesn't work without ib.sleep (few seconds)\n",
    "    current_price = data.marketPrice()\n",
    "    \n",
    "    limitOrderUp = LimitOrder('BUY', 1, round(current_price * 1.015, 2))    \n",
    "    limitOrderTradeUp = ib.placeOrder(contract, limitOrderUp)\n",
    "    new_row = [limitOrderTradeUp, \"UP_ord_1pc\"]\n",
    "    pending_stop_loss_orders_test1.append(new_row)\n",
    "\n",
    "    limitOrderDown = LimitOrder('BUY', 1, round(current_price * 0.985, 2))    \n",
    "    limitOrderTradeDown = ib.placeOrder(contract, limitOrderDown)\n",
    "    new_row = [limitOrderTradeUp, \"DOWN_ord_1pc\"]\n",
    "    pending_stop_loss_orders_test1.append(new_row)\n",
    "    # limitOrderTrade contains the order and everything related to it, such as order status, fills and a log.\n",
    "    # It will be live updated with every status change or fill of the order.\n",
    "        \n",
    "    # CREATE A LIST THAT TRACKS STOP LIMIT ORDERS MADE ALONG WITH THEIR STOP LOSS TARGETS\n",
    "    new_row = [limitOrderTradeUp.contract.symbol, limitOrderTradeUp.order.totalQuantity, limitOrderTradeUp.order.orderId, round(current_price * 1.25, 2), \"UP:)\"]\n",
    "    pending_stop_loss_orders_test1.append(new_row)\n",
    "\n",
    "    new_row = [limitOrderTradeDown.contract.symbol, limitOrderTradeDown.order.totalQuantity, limitOrderTradeDown.order.orderId, round(current_price * 1.25, 2), \"DOWN:(\"]\n",
    "    pending_stop_loss_orders_test1.append(new_row)\n",
    "\n",
    "    # fillEvent (trade: Trade, fill: Fill)\n",
    "    limitOrderTradeUp.fillEvent += order_status\n",
    "    limitOrderTradeDown.fillEvent += order_status"
   ]
  },
  {
   "cell_type": "code",
   "execution_count": null,
   "id": "030356f0-bfbd-472e-ac60-e5c06403bebf",
   "metadata": {},
   "outputs": [],
   "source": []
  },
  {
   "cell_type": "markdown",
   "id": "e4e9944e-12e8-4b0b-b36c-58949a1d16c4",
   "metadata": {},
   "source": [
    "# Test Two -- order_status(trad) "
   ]
  },
  {
   "cell_type": "code",
   "execution_count": 7,
   "id": "293a2cde-4dfb-4db6-aa93-8d2200c0a604",
   "metadata": {},
   "outputs": [],
   "source": [
    "pending_stop_loss_orders_test2 = []"
   ]
  },
  {
   "cell_type": "code",
   "execution_count": 9,
   "id": "be75889a-2dbc-4b90-9ed9-d1ceb2ef2c7c",
   "metadata": {},
   "outputs": [
    {
     "name": "stderr",
     "output_type": "stream",
     "text": [
      "Value (Trade(contract=Stock(conId=686766290, symbol='TGL', exchange='SMART', primaryExchange='NASDAQ', currency='USD', localSymbol='TGL', tradingClass='SCM'), order=LimitOrder(orderId=173, permId=879391061, action='BUY', totalQuantity=1.0, lmtPrice=0.32, auxPrice=0.0), orderStatus=OrderStatus(orderId=173, status='PreSubmitted', filled=0.0, remaining=1.0, avgFillPrice=0.0, permId=879391061, parentId=0, lastFillPrice=0.0, clientId=0, whyHeld='', mktCapPrice=0.0), fills=[Fill(contract=Stock(conId=686766290, symbol='TGL', exchange='SMART', primaryExchange='NASDAQ', currency='USD', localSymbol='TGL', tradingClass='SCM'), execution=Execution(execId='0001051b.678a44f3.01.01', time=datetime.datetime(2025, 1, 17, 15, 4, 4, tzinfo=datetime.timezone.utc), acctNumber='U12848716', exchange='ARCA', side='BOT', shares=1.0, price=0.3131, permId=879391061, clientId=0, orderId=173, liquidation=0, cumQty=1.0, avgPrice=0.3131, orderRef='', evRule='', evMultiplier=0.0, modelCode='', lastLiquidity=2), commissionReport=CommissionReport(execId='', commission=0.0, currency='', realizedPNL=0.0, yield_=0.0, yieldRedemptionDate=0), time=datetime.datetime(2025, 1, 17, 15, 4, 3, 711439, tzinfo=datetime.timezone.utc))], log=[TradeLogEntry(time=datetime.datetime(2025, 1, 17, 15, 4, 3, 617323, tzinfo=datetime.timezone.utc), status='PendingSubmit', message='', errorCode=0), TradeLogEntry(time=datetime.datetime(2025, 1, 17, 15, 4, 3, 711439, tzinfo=datetime.timezone.utc), status='PreSubmitted', message='', errorCode=0), TradeLogEntry(time=datetime.datetime(2025, 1, 17, 15, 4, 3, 711439, tzinfo=datetime.timezone.utc), status='PreSubmitted', message='Fill 1.0@0.3131', errorCode=0)], advancedError=''), Fill(contract=Stock(conId=686766290, symbol='TGL', exchange='SMART', primaryExchange='NASDAQ', currency='USD', localSymbol='TGL', tradingClass='SCM'), execution=Execution(execId='0001051b.678a44f3.01.01', time=datetime.datetime(2025, 1, 17, 15, 4, 4, tzinfo=datetime.timezone.utc), acctNumber='U12848716', exchange='ARCA', side='BOT', shares=1.0, price=0.3131, permId=879391061, clientId=0, orderId=173, liquidation=0, cumQty=1.0, avgPrice=0.3131, orderRef='', evRule='', evMultiplier=0.0, modelCode='', lastLiquidity=2), commissionReport=CommissionReport(execId='', commission=0.0, currency='', realizedPNL=0.0, yield_=0.0, yieldRedemptionDate=0), time=datetime.datetime(2025, 1, 17, 15, 4, 3, 711439, tzinfo=datetime.timezone.utc))) caused exception for event Event<fillEvent, [[None, None, <function order_status at 0x000001F4B3DA5080>]]>\n",
      "Traceback (most recent call last):\n",
      "  File \"C:\\Users\\desir\\anaconda3\\Lib\\site-packages\\eventkit\\event.py\", line 202, in emit\n",
      "    result = func(*args)\n",
      "             ^^^^^^^^^^^\n",
      "TypeError: order_status() takes 1 positional argument but 2 were given\n"
     ]
    }
   ],
   "source": [
    "# util.logToConsole()\n",
    "\n",
    "# https://stackoverflow.com/questions/23944657/typeerror-method-takes-1-positional-argument-but-2-were-given-but-i-only-pa\n",
    "def order_status(trad):\n",
    "\n",
    "    print(trad)\n",
    "        \n",
    "    contract = Stock('AAPL', 'SMART', 'USD')\n",
    "    stopOrder = StopOrder('BUY', 1, 1.10)\n",
    "    stopOrderTrade = ib.placeOrder(contract, stopOrder)        \n",
    "            \n",
    "                \n",
    "                \n",
    "# test orders with day high volatility stocks\n",
    "sym = 'TGL'\n",
    "test_symbols = [sym, sym]\n",
    "\n",
    "for test in test_symbols:\n",
    "    \n",
    "    contract = Stock(test, 'SMART', 'USD')\n",
    "\n",
    "    ib.qualifyContracts(contract)\n",
    "    data = ib.reqMktData(contract)\n",
    "    ib.sleep(2) # data.marketPrice() doesn't work without ib.sleep (few seconds)\n",
    "    current_price = data.marketPrice()\n",
    "    \n",
    "    limitOrderUp = LimitOrder('BUY', 1, round(current_price * 1.015, 2))    \n",
    "    limitOrderTradeUp = ib.placeOrder(contract, limitOrderUp)\n",
    "    new_row = [limitOrderTradeUp, \"UP_ord_1pc\"]\n",
    "    pending_stop_loss_orders_test2.append(new_row)\n",
    "\n",
    "    limitOrderDown = LimitOrder('BUY', 1, round(current_price * 0.985, 2))    \n",
    "    limitOrderTradeDown = ib.placeOrder(contract, limitOrderDown)\n",
    "    new_row = [limitOrderTradeUp, \"DOWN_ord_1pc\"]\n",
    "    pending_stop_loss_orders_test2.append(new_row)\n",
    "    # limitOrderTrade contains the order and everything related to it, such as order status, fills and a log.\n",
    "    # It will be live updated with every status change or fill of the order.\n",
    "        \n",
    "    # CREATE A DATAFRAME THAT TRACKS STOP LIMIT ORDERS MADE ALONG WITH THEIR STOP LOSS TARGETS\n",
    "    new_row = [limitOrderTradeUp.contract.symbol, limitOrderTradeUp.order.totalQuantity, limitOrderTradeUp.order.orderId, round(current_price * 1.25, 2), \"UP:)\"]\n",
    "    pending_stop_loss_orders_test2.append(new_row)\n",
    "\n",
    "    new_row = [limitOrderTradeDown.contract.symbol, limitOrderTradeDown.order.totalQuantity, limitOrderTradeDown.order.orderId, round(current_price * 1.25, 2), \"DOWN:(\"]\n",
    "    pending_stop_loss_orders_test2.append(new_row)\n",
    "\n",
    "    # fillEvent (trade: Trade, fill: Fill)\n",
    "    limitOrderTradeUp.fillEvent += order_status\n",
    "    limitOrderTradeDown.fillEvent += order_status"
   ]
  },
  {
   "cell_type": "code",
   "execution_count": null,
   "id": "9b028381-ab5b-43cf-b662-d883babb5e6b",
   "metadata": {},
   "outputs": [],
   "source": []
  },
  {
   "cell_type": "code",
   "execution_count": 11,
   "id": "41fab91e-e798-4f28-b615-7b54cdeaa15a",
   "metadata": {},
   "outputs": [
    {
     "data": {
      "text/plain": [
       "[[Trade(contract=Stock(conId=686766290, symbol='TGL', exchange='SMART', primaryExchange='NASDAQ', currency='USD', localSymbol='TGL', tradingClass='SCM'), order=LimitOrder(orderId=163, permId=879391055, action='BUY', totalQuantity=1.0, lmtPrice=0.32, auxPrice=0.0), orderStatus=OrderStatus(orderId=163, status='Filled', filled=1.0, remaining=0.0, avgFillPrice=0.3109, permId=879391055, parentId=0, lastFillPrice=0.3109, clientId=0, whyHeld='', mktCapPrice=0.0), fills=[Fill(contract=Stock(conId=686766290, symbol='TGL', exchange='SMART', primaryExchange='NASDAQ', currency='USD', localSymbol='TGL', tradingClass='SCM'), execution=Execution(execId='0001e554.678a5131.01.01', time=datetime.datetime(2025, 1, 17, 15, 3, 46, tzinfo=datetime.timezone.utc), acctNumber='U12848716', exchange='MEMX', side='BOT', shares=1.0, price=0.3109, permId=879391055, clientId=0, orderId=163, liquidation=0, cumQty=1.0, avgPrice=0.3109, orderRef='', evRule='', evMultiplier=0.0, modelCode='', lastLiquidity=2), commissionReport=CommissionReport(execId='0001e554.678a5131.01.01', commission=0.010035, currency='USD', realizedPNL=0.0, yield_=0.0, yieldRedemptionDate=0), time=datetime.datetime(2025, 1, 17, 15, 3, 45, 591908, tzinfo=datetime.timezone.utc))], log=[TradeLogEntry(time=datetime.datetime(2025, 1, 17, 15, 3, 42, 972982, tzinfo=datetime.timezone.utc), status='PendingSubmit', message='', errorCode=0), TradeLogEntry(time=datetime.datetime(2025, 1, 17, 15, 3, 45, 545040, tzinfo=datetime.timezone.utc), status='PreSubmitted', message='', errorCode=0), TradeLogEntry(time=datetime.datetime(2025, 1, 17, 15, 3, 45, 591908, tzinfo=datetime.timezone.utc), status='PreSubmitted', message='Fill 1.0@0.3109', errorCode=0), TradeLogEntry(time=datetime.datetime(2025, 1, 17, 15, 3, 45, 591908, tzinfo=datetime.timezone.utc), status='Filled', message='', errorCode=0)], advancedError=''),\n",
       "  'UP_ord_1pc'],\n",
       " [Trade(contract=Stock(conId=686766290, symbol='TGL', exchange='SMART', primaryExchange='NASDAQ', currency='USD', localSymbol='TGL', tradingClass='SCM'), order=LimitOrder(orderId=163, permId=879391055, action='BUY', totalQuantity=1.0, lmtPrice=0.32, auxPrice=0.0), orderStatus=OrderStatus(orderId=163, status='Filled', filled=1.0, remaining=0.0, avgFillPrice=0.3109, permId=879391055, parentId=0, lastFillPrice=0.3109, clientId=0, whyHeld='', mktCapPrice=0.0), fills=[Fill(contract=Stock(conId=686766290, symbol='TGL', exchange='SMART', primaryExchange='NASDAQ', currency='USD', localSymbol='TGL', tradingClass='SCM'), execution=Execution(execId='0001e554.678a5131.01.01', time=datetime.datetime(2025, 1, 17, 15, 3, 46, tzinfo=datetime.timezone.utc), acctNumber='U12848716', exchange='MEMX', side='BOT', shares=1.0, price=0.3109, permId=879391055, clientId=0, orderId=163, liquidation=0, cumQty=1.0, avgPrice=0.3109, orderRef='', evRule='', evMultiplier=0.0, modelCode='', lastLiquidity=2), commissionReport=CommissionReport(execId='0001e554.678a5131.01.01', commission=0.010035, currency='USD', realizedPNL=0.0, yield_=0.0, yieldRedemptionDate=0), time=datetime.datetime(2025, 1, 17, 15, 3, 45, 591908, tzinfo=datetime.timezone.utc))], log=[TradeLogEntry(time=datetime.datetime(2025, 1, 17, 15, 3, 42, 972982, tzinfo=datetime.timezone.utc), status='PendingSubmit', message='', errorCode=0), TradeLogEntry(time=datetime.datetime(2025, 1, 17, 15, 3, 45, 545040, tzinfo=datetime.timezone.utc), status='PreSubmitted', message='', errorCode=0), TradeLogEntry(time=datetime.datetime(2025, 1, 17, 15, 3, 45, 591908, tzinfo=datetime.timezone.utc), status='PreSubmitted', message='Fill 1.0@0.3109', errorCode=0), TradeLogEntry(time=datetime.datetime(2025, 1, 17, 15, 3, 45, 591908, tzinfo=datetime.timezone.utc), status='Filled', message='', errorCode=0)], advancedError=''),\n",
       "  'DOWN_ord_1pc'],\n",
       " ['TGL', 1, 163, 0.39, 'UP:)'],\n",
       " ['TGL', 1, 164, 0.39, 'DOWN:('],\n",
       " [Trade(contract=Stock(conId=686766290, symbol='TGL', exchange='SMART', primaryExchange='NASDAQ', currency='USD', localSymbol='TGL', tradingClass='SCM'), order=LimitOrder(orderId=168, permId=879391058, action='BUY', totalQuantity=1.0, lmtPrice=0.32, auxPrice=0.0), orderStatus=OrderStatus(orderId=168, status='Filled', filled=1.0, remaining=0.0, avgFillPrice=0.3109, permId=879391058, parentId=0, lastFillPrice=0.3109, clientId=0, whyHeld='', mktCapPrice=0.0), fills=[Fill(contract=Stock(conId=686766290, symbol='TGL', exchange='SMART', primaryExchange='NASDAQ', currency='USD', localSymbol='TGL', tradingClass='SCM'), execution=Execution(execId='0001c47b.678a519a.01.01', time=datetime.datetime(2025, 1, 17, 15, 3, 47, tzinfo=datetime.timezone.utc), acctNumber='U12848716', exchange='PEARL', side='BOT', shares=1.0, price=0.3109, permId=879391058, clientId=0, orderId=168, liquidation=0, cumQty=1.0, avgPrice=0.3109, orderRef='', evRule='', evMultiplier=0.0, modelCode='', lastLiquidity=2), commissionReport=CommissionReport(execId='0001c47b.678a519a.01.01', commission=0.010035, currency='USD', realizedPNL=0.0, yield_=0.0, yieldRedemptionDate=0), time=datetime.datetime(2025, 1, 17, 15, 3, 46, 941110, tzinfo=datetime.timezone.utc))], log=[TradeLogEntry(time=datetime.datetime(2025, 1, 17, 15, 3, 46, 815489, tzinfo=datetime.timezone.utc), status='PendingSubmit', message='', errorCode=0), TradeLogEntry(time=datetime.datetime(2025, 1, 17, 15, 3, 46, 925487, tzinfo=datetime.timezone.utc), status='Submitted', message='', errorCode=0), TradeLogEntry(time=datetime.datetime(2025, 1, 17, 15, 3, 46, 941110, tzinfo=datetime.timezone.utc), status='Submitted', message='Fill 1.0@0.3109', errorCode=0), TradeLogEntry(time=datetime.datetime(2025, 1, 17, 15, 3, 46, 947115, tzinfo=datetime.timezone.utc), status='Filled', message='', errorCode=0)], advancedError=''),\n",
       "  'UP_ord_1pc'],\n",
       " [Trade(contract=Stock(conId=686766290, symbol='TGL', exchange='SMART', primaryExchange='NASDAQ', currency='USD', localSymbol='TGL', tradingClass='SCM'), order=LimitOrder(orderId=168, permId=879391058, action='BUY', totalQuantity=1.0, lmtPrice=0.32, auxPrice=0.0), orderStatus=OrderStatus(orderId=168, status='Filled', filled=1.0, remaining=0.0, avgFillPrice=0.3109, permId=879391058, parentId=0, lastFillPrice=0.3109, clientId=0, whyHeld='', mktCapPrice=0.0), fills=[Fill(contract=Stock(conId=686766290, symbol='TGL', exchange='SMART', primaryExchange='NASDAQ', currency='USD', localSymbol='TGL', tradingClass='SCM'), execution=Execution(execId='0001c47b.678a519a.01.01', time=datetime.datetime(2025, 1, 17, 15, 3, 47, tzinfo=datetime.timezone.utc), acctNumber='U12848716', exchange='PEARL', side='BOT', shares=1.0, price=0.3109, permId=879391058, clientId=0, orderId=168, liquidation=0, cumQty=1.0, avgPrice=0.3109, orderRef='', evRule='', evMultiplier=0.0, modelCode='', lastLiquidity=2), commissionReport=CommissionReport(execId='0001c47b.678a519a.01.01', commission=0.010035, currency='USD', realizedPNL=0.0, yield_=0.0, yieldRedemptionDate=0), time=datetime.datetime(2025, 1, 17, 15, 3, 46, 941110, tzinfo=datetime.timezone.utc))], log=[TradeLogEntry(time=datetime.datetime(2025, 1, 17, 15, 3, 46, 815489, tzinfo=datetime.timezone.utc), status='PendingSubmit', message='', errorCode=0), TradeLogEntry(time=datetime.datetime(2025, 1, 17, 15, 3, 46, 925487, tzinfo=datetime.timezone.utc), status='Submitted', message='', errorCode=0), TradeLogEntry(time=datetime.datetime(2025, 1, 17, 15, 3, 46, 941110, tzinfo=datetime.timezone.utc), status='Submitted', message='Fill 1.0@0.3109', errorCode=0), TradeLogEntry(time=datetime.datetime(2025, 1, 17, 15, 3, 46, 947115, tzinfo=datetime.timezone.utc), status='Filled', message='', errorCode=0)], advancedError=''),\n",
       "  'DOWN_ord_1pc'],\n",
       " ['TGL', 1, 168, 0.39, 'UP:)'],\n",
       " ['TGL', 1, 169, 0.39, 'DOWN:(']]"
      ]
     },
     "execution_count": 11,
     "metadata": {},
     "output_type": "execute_result"
    }
   ],
   "source": [
    "pending_stop_loss_orders_test1"
   ]
  },
  {
   "cell_type": "code",
   "execution_count": 13,
   "id": "40f3f311-07a8-4550-9253-2f3e9c55df97",
   "metadata": {},
   "outputs": [
    {
     "data": {
      "text/plain": [
       "[[Trade(contract=Stock(conId=686766290, symbol='TGL', exchange='SMART', primaryExchange='NASDAQ', currency='USD', localSymbol='TGL', tradingClass='SCM'), order=LimitOrder(orderId=173, permId=879391061, action='BUY', totalQuantity=1.0, lmtPrice=0.32, auxPrice=0.0), orderStatus=OrderStatus(orderId=173, status='Filled', filled=1.0, remaining=0.0, avgFillPrice=0.3131, permId=879391061, parentId=0, lastFillPrice=0.3131, clientId=0, whyHeld='', mktCapPrice=0.0), fills=[Fill(contract=Stock(conId=686766290, symbol='TGL', exchange='SMART', primaryExchange='NASDAQ', currency='USD', localSymbol='TGL', tradingClass='SCM'), execution=Execution(execId='0001051b.678a44f3.01.01', time=datetime.datetime(2025, 1, 17, 15, 4, 4, tzinfo=datetime.timezone.utc), acctNumber='U12848716', exchange='ARCA', side='BOT', shares=1.0, price=0.3131, permId=879391061, clientId=0, orderId=173, liquidation=0, cumQty=1.0, avgPrice=0.3131, orderRef='', evRule='', evMultiplier=0.0, modelCode='', lastLiquidity=2), commissionReport=CommissionReport(execId='0001051b.678a44f3.01.01', commission=0.010035, currency='USD', realizedPNL=0.0, yield_=0.0, yieldRedemptionDate=0), time=datetime.datetime(2025, 1, 17, 15, 4, 3, 711439, tzinfo=datetime.timezone.utc))], log=[TradeLogEntry(time=datetime.datetime(2025, 1, 17, 15, 4, 3, 617323, tzinfo=datetime.timezone.utc), status='PendingSubmit', message='', errorCode=0), TradeLogEntry(time=datetime.datetime(2025, 1, 17, 15, 4, 3, 711439, tzinfo=datetime.timezone.utc), status='PreSubmitted', message='', errorCode=0), TradeLogEntry(time=datetime.datetime(2025, 1, 17, 15, 4, 3, 711439, tzinfo=datetime.timezone.utc), status='PreSubmitted', message='Fill 1.0@0.3131', errorCode=0), TradeLogEntry(time=datetime.datetime(2025, 1, 17, 15, 4, 3, 711439, tzinfo=datetime.timezone.utc), status='Filled', message='', errorCode=0)], advancedError=''),\n",
       "  'UP_ord_1pc'],\n",
       " [Trade(contract=Stock(conId=686766290, symbol='TGL', exchange='SMART', primaryExchange='NASDAQ', currency='USD', localSymbol='TGL', tradingClass='SCM'), order=LimitOrder(orderId=173, permId=879391061, action='BUY', totalQuantity=1.0, lmtPrice=0.32, auxPrice=0.0), orderStatus=OrderStatus(orderId=173, status='Filled', filled=1.0, remaining=0.0, avgFillPrice=0.3131, permId=879391061, parentId=0, lastFillPrice=0.3131, clientId=0, whyHeld='', mktCapPrice=0.0), fills=[Fill(contract=Stock(conId=686766290, symbol='TGL', exchange='SMART', primaryExchange='NASDAQ', currency='USD', localSymbol='TGL', tradingClass='SCM'), execution=Execution(execId='0001051b.678a44f3.01.01', time=datetime.datetime(2025, 1, 17, 15, 4, 4, tzinfo=datetime.timezone.utc), acctNumber='U12848716', exchange='ARCA', side='BOT', shares=1.0, price=0.3131, permId=879391061, clientId=0, orderId=173, liquidation=0, cumQty=1.0, avgPrice=0.3131, orderRef='', evRule='', evMultiplier=0.0, modelCode='', lastLiquidity=2), commissionReport=CommissionReport(execId='0001051b.678a44f3.01.01', commission=0.010035, currency='USD', realizedPNL=0.0, yield_=0.0, yieldRedemptionDate=0), time=datetime.datetime(2025, 1, 17, 15, 4, 3, 711439, tzinfo=datetime.timezone.utc))], log=[TradeLogEntry(time=datetime.datetime(2025, 1, 17, 15, 4, 3, 617323, tzinfo=datetime.timezone.utc), status='PendingSubmit', message='', errorCode=0), TradeLogEntry(time=datetime.datetime(2025, 1, 17, 15, 4, 3, 711439, tzinfo=datetime.timezone.utc), status='PreSubmitted', message='', errorCode=0), TradeLogEntry(time=datetime.datetime(2025, 1, 17, 15, 4, 3, 711439, tzinfo=datetime.timezone.utc), status='PreSubmitted', message='Fill 1.0@0.3131', errorCode=0), TradeLogEntry(time=datetime.datetime(2025, 1, 17, 15, 4, 3, 711439, tzinfo=datetime.timezone.utc), status='Filled', message='', errorCode=0)], advancedError=''),\n",
       "  'DOWN_ord_1pc'],\n",
       " ['TGL', 1, 173, 0.39, 'UP:)'],\n",
       " ['TGL', 1, 174, 0.39, 'DOWN:('],\n",
       " [Trade(contract=Stock(conId=686766290, symbol='TGL', exchange='SMART', primaryExchange='NASDAQ', currency='USD', localSymbol='TGL', tradingClass='SCM'), order=LimitOrder(orderId=177, permId=879391063, action='BUY', totalQuantity=1.0, lmtPrice=0.32, auxPrice=0.0), orderStatus=OrderStatus(orderId=177, status='Filled', filled=1.0, remaining=0.0, avgFillPrice=0.3138, permId=879391063, parentId=0, lastFillPrice=0.3138, clientId=0, whyHeld='', mktCapPrice=0.0), fills=[Fill(contract=Stock(conId=686766290, symbol='TGL', exchange='SMART', primaryExchange='NASDAQ', currency='USD', localSymbol='TGL', tradingClass='SCM'), execution=Execution(execId='0000d5d6.678a745d.01.01', time=datetime.datetime(2025, 1, 17, 15, 4, 6, tzinfo=datetime.timezone.utc), acctNumber='U12848716', exchange='DARK', side='BOT', shares=1.0, price=0.3138, permId=879391063, clientId=0, orderId=177, liquidation=0, cumQty=1.0, avgPrice=0.3138, orderRef='', evRule='', evMultiplier=0.0, modelCode='', lastLiquidity=2), commissionReport=CommissionReport(execId='0000d5d6.678a745d.01.01', commission=0.003184, currency='USD', realizedPNL=0.0, yield_=0.0, yieldRedemptionDate=0), time=datetime.datetime(2025, 1, 17, 15, 4, 6, 131166, tzinfo=datetime.timezone.utc))], log=[TradeLogEntry(time=datetime.datetime(2025, 1, 17, 15, 4, 5, 879813, tzinfo=datetime.timezone.utc), status='PendingSubmit', message='', errorCode=0), TradeLogEntry(time=datetime.datetime(2025, 1, 17, 15, 4, 6, 99914, tzinfo=datetime.timezone.utc), status='PreSubmitted', message='', errorCode=0), TradeLogEntry(time=datetime.datetime(2025, 1, 17, 15, 4, 6, 131166, tzinfo=datetime.timezone.utc), status='PreSubmitted', message='Fill 1.0@0.3138', errorCode=0), TradeLogEntry(time=datetime.datetime(2025, 1, 17, 15, 4, 6, 131166, tzinfo=datetime.timezone.utc), status='Filled', message='', errorCode=0)], advancedError=''),\n",
       "  'UP_ord_1pc'],\n",
       " [Trade(contract=Stock(conId=686766290, symbol='TGL', exchange='SMART', primaryExchange='NASDAQ', currency='USD', localSymbol='TGL', tradingClass='SCM'), order=LimitOrder(orderId=177, permId=879391063, action='BUY', totalQuantity=1.0, lmtPrice=0.32, auxPrice=0.0), orderStatus=OrderStatus(orderId=177, status='Filled', filled=1.0, remaining=0.0, avgFillPrice=0.3138, permId=879391063, parentId=0, lastFillPrice=0.3138, clientId=0, whyHeld='', mktCapPrice=0.0), fills=[Fill(contract=Stock(conId=686766290, symbol='TGL', exchange='SMART', primaryExchange='NASDAQ', currency='USD', localSymbol='TGL', tradingClass='SCM'), execution=Execution(execId='0000d5d6.678a745d.01.01', time=datetime.datetime(2025, 1, 17, 15, 4, 6, tzinfo=datetime.timezone.utc), acctNumber='U12848716', exchange='DARK', side='BOT', shares=1.0, price=0.3138, permId=879391063, clientId=0, orderId=177, liquidation=0, cumQty=1.0, avgPrice=0.3138, orderRef='', evRule='', evMultiplier=0.0, modelCode='', lastLiquidity=2), commissionReport=CommissionReport(execId='0000d5d6.678a745d.01.01', commission=0.003184, currency='USD', realizedPNL=0.0, yield_=0.0, yieldRedemptionDate=0), time=datetime.datetime(2025, 1, 17, 15, 4, 6, 131166, tzinfo=datetime.timezone.utc))], log=[TradeLogEntry(time=datetime.datetime(2025, 1, 17, 15, 4, 5, 879813, tzinfo=datetime.timezone.utc), status='PendingSubmit', message='', errorCode=0), TradeLogEntry(time=datetime.datetime(2025, 1, 17, 15, 4, 6, 99914, tzinfo=datetime.timezone.utc), status='PreSubmitted', message='', errorCode=0), TradeLogEntry(time=datetime.datetime(2025, 1, 17, 15, 4, 6, 131166, tzinfo=datetime.timezone.utc), status='PreSubmitted', message='Fill 1.0@0.3138', errorCode=0), TradeLogEntry(time=datetime.datetime(2025, 1, 17, 15, 4, 6, 131166, tzinfo=datetime.timezone.utc), status='Filled', message='', errorCode=0)], advancedError=''),\n",
       "  'DOWN_ord_1pc'],\n",
       " ['TGL', 1, 177, 0.39, 'UP:)'],\n",
       " ['TGL', 1, 178, 0.39, 'DOWN:(']]"
      ]
     },
     "execution_count": 13,
     "metadata": {},
     "output_type": "execute_result"
    }
   ],
   "source": [
    "pending_stop_loss_orders_test2"
   ]
  },
  {
   "cell_type": "raw",
   "id": "c05e354f-cf2a-41b8-8bbc-ebf198180f1c",
   "metadata": {},
   "source": [
    "ords = ib.orders()\n",
    "ords"
   ]
  },
  {
   "cell_type": "code",
   "execution_count": null,
   "id": "e6ed9fd8-a170-4474-b93e-f832f68a00d1",
   "metadata": {},
   "outputs": [],
   "source": []
  }
 ],
 "metadata": {
  "kernelspec": {
   "display_name": "Python [conda env:base] *",
   "language": "python",
   "name": "conda-base-py"
  },
  "language_info": {
   "codemirror_mode": {
    "name": "ipython",
    "version": 3
   },
   "file_extension": ".py",
   "mimetype": "text/x-python",
   "name": "python",
   "nbconvert_exporter": "python",
   "pygments_lexer": "ipython3",
   "version": "3.12.7"
  }
 },
 "nbformat": 4,
 "nbformat_minor": 5
}
