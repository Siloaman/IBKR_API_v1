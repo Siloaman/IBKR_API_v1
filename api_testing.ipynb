{
 "cells": [
  {
   "cell_type": "code",
   "execution_count": null,
   "id": "58a889ab",
   "metadata": {
    "scrolled": true
   },
   "outputs": [],
   "source": [
    "# https://ibkrcampus.com/campus/ibkr-api-page/twsapi-doc/#api-introduction\n",
    "#pip install requests\n",
    "# https://stackoverflow.com/questions/8548030/why-does-pip-install-inside-python-raise-a-syntaxerror"
   ]
  },
  {
   "cell_type": "code",
   "execution_count": 1,
   "id": "4eff647f",
   "metadata": {},
   "outputs": [],
   "source": [
    "from ib_insync import *\n",
    "import requests\n",
    "import pandas as pd\n",
    "from bs4 import BeautifulSoup\n",
    "\n",
    "util.startLoop()  # only use in interactive environments (i.e. Jupyter Notebooks)\n",
    "# https://algotrading101.com/learn/ib_insync-interactive-brokers-api-guide/"
   ]
  },
  {
   "cell_type": "code",
   "execution_count": 2,
   "id": "90cde614",
   "metadata": {},
   "outputs": [
    {
     "data": {
      "text/plain": [
       "<IB connected to 127.0.0.1:7496 clientId=0>"
      ]
     },
     "execution_count": 2,
     "metadata": {},
     "output_type": "execute_result"
    }
   ],
   "source": [
    "#WORKING\n",
    "ib = IB()\n",
    "ib.connect(host='127.0.0.1', port=7496, clientId=0)\n",
    "# https://www.elitetrader.com/et/threads/cant-connect-to-api-interactive-brokers.361205/\n",
    "# needed to change socket port to 7496 and uncheck the Read-Only API box"
   ]
  },
  {
   "cell_type": "code",
   "execution_count": 3,
   "id": "6e39d766",
   "metadata": {},
   "outputs": [
    {
     "data": {
      "text/plain": [
       "[Trade(contract=Stock(conId=641842650, symbol='DRUG', right='?', exchange='SMART', currency='USD', localSymbol='DRUG', tradingClass='SCM'), order=Order(orderId=-2, permId=887072239, action='BUY', totalQuantity=1.0, orderType='LMT', lmtPrice=0.0155, auxPrice=0.0, tif='GTC', ocaType=3, displaySize=2147483647, rule80A='0', openClose='', volatilityType=0, deltaNeutralOrderType='None', referencePriceType=0, account='U12848716', clearingIntent='IB', adjustedOrderType='None', cashQty=0.0, dontUseAutoPriceForHedge=True), orderStatus=OrderStatus(orderId=-2, status='PreSubmitted', filled=0.0, remaining=1.0, avgFillPrice=0.0, permId=887072239, parentId=0, lastFillPrice=0.0, clientId=0, whyHeld='', mktCapPrice=0.0), fills=[], log=[TradeLogEntry(time=datetime.datetime(2024, 11, 12, 3, 29, 27, 320746, tzinfo=datetime.timezone.utc), status='PreSubmitted', message='', errorCode=0)], advancedError=''),\n",
       " Trade(contract=Stock(conId=528660539, symbol='CERO', right='?', exchange='SMART', currency='USD', localSymbol='CERO', tradingClass='NMS'), order=Order(orderId=-3, permId=1728997271, action='BUY', totalQuantity=1.0, orderType='LMT', lmtPrice=0.0155, auxPrice=0.0, tif='GTC', ocaType=3, displaySize=2147483647, rule80A='0', openClose='', volatilityType=0, deltaNeutralOrderType='None', referencePriceType=0, account='U12848716', clearingIntent='IB', adjustedOrderType='None', cashQty=0.0, dontUseAutoPriceForHedge=True, usePriceMgmtAlgo=True), orderStatus=OrderStatus(orderId=-3, status='PreSubmitted', filled=0.0, remaining=1.0, avgFillPrice=0.0, permId=1728997271, parentId=0, lastFillPrice=0.0, clientId=0, whyHeld='', mktCapPrice=0.0), fills=[], log=[TradeLogEntry(time=datetime.datetime(2024, 11, 12, 3, 29, 27, 524787, tzinfo=datetime.timezone.utc), status='PreSubmitted', message='', errorCode=0)], advancedError='')]"
      ]
     },
     "execution_count": 3,
     "metadata": {},
     "output_type": "execute_result"
    }
   ],
   "source": [
    "ib.positions()\n",
    "pending_trades = ib.reqOpenOrders() # requires that I use ClientId=0 rather than ClientId=1\n",
    "# https://www.reddit.com/r/interactivebrokers/comments/119begz/cant_see_open_orders_via_api/"
   ]
  },
  {
   "cell_type": "code",
   "execution_count": null,
   "id": "89bb6e07",
   "metadata": {},
   "outputs": [],
   "source": [
    "# Sample data structure based on the provided input\n",
    "trades = [\n",
    "    {\n",
    "        \"contract\": {\"conId\": 641842650, \"symbol\": \"DRUG\", \"right\": \"?\", \"exchange\": \"SMART\", \"currency\": \"USD\", \"localSymbol\": \"DRUG\", \"tradingClass\": \"SCM\"},\n",
    "        \"order\": {\"orderId\": -2, \"permId\": 887072239, \"action\": \"BUY\", \"totalQuantity\": 1.0, \"orderType\": \"LMT\", \"lmtPrice\": 0.0155},\n",
    "        \"orderStatus\": {\"orderId\": -2, \"status\": \"PreSubmitted\"}\n",
    "    }\n",
    "]\n",
    "\n",
    "# Extracting the \"symbol\" value from each trade\n",
    "symbols = [trade[\"contract\"][\"symbol\"] for trade in trades]\n",
    "\n",
    "# Print the list of symbols\n",
    "print(symbols)"
   ]
  },
  {
   "cell_type": "code",
   "execution_count": null,
   "id": "d6a7a6f9",
   "metadata": {},
   "outputs": [],
   "source": [
    "# https://github.com/Siloaman/ib_async/blob/main/notebooks/bar_data.ipynb\n",
    "# To get the earliest date of available bar data the \"head timestamp\" can be requested:\n",
    "contract = Stock('TSLA', 'SMART', 'USD')\n",
    "ib.reqHeadTimeStamp(contract, whatToShow='TRADES', useRTH=True)"
   ]
  },
  {
   "cell_type": "code",
   "execution_count": null,
   "id": "4005a03c",
   "metadata": {},
   "outputs": [],
   "source": [
    "# Legal ones are: \n",
    "# 1 secs, 5 secs, 10 secs, 15 secs, 30 secs, \n",
    "# 1 min, 2 mins, 3 mins, 5 mins, 10 mins, 15 mins, 20 mins, 30 mins, \n",
    "# 1 hour, 2 hours, 3 hours, 4 hours, 8 hours, \n",
    "# 1 day, 1W, 1M\n",
    "# To request hourly data of the last 1 day per 5 minutes:\n",
    "bars = ib.reqHistoricalData(\n",
    "        contract,\n",
    "        endDateTime='',\n",
    "        durationStr='1 D',\n",
    "        barSizeSetting='5 mins',\n",
    "        whatToShow='TRADES',\n",
    "        useRTH=True,\n",
    "        formatDate=1)\n",
    "\n",
    "bars[0]"
   ]
  },
  {
   "cell_type": "code",
   "execution_count": null,
   "id": "05bd8826",
   "metadata": {},
   "outputs": [],
   "source": [
    "df = util.df(bars)\n",
    "display(df.tail(8))"
   ]
  },
  {
   "cell_type": "code",
   "execution_count": null,
   "id": "85f5265c",
   "metadata": {},
   "outputs": [],
   "source": [
    "%matplotlib inline"
   ]
  },
  {
   "cell_type": "code",
   "execution_count": null,
   "id": "5e402a15",
   "metadata": {},
   "outputs": [],
   "source": [
    "# There is also a utility function to plot bars as a candlestick plot. \n",
    "# It can accept either a DataFrame or a list of bars.\n",
    "# Here it will print the last 10 bars:\n",
    "util.barplot(bars[-10:], title=contract.symbol);"
   ]
  },
  {
   "cell_type": "code",
   "execution_count": null,
   "id": "1b2dc36e",
   "metadata": {},
   "outputs": [],
   "source": [
    "# A new feature of the API is to get live updates for historical bars.\n",
    "# This is done by setting endDateTime to an empty string and the keepUpToDate parameter to True.\n",
    "bars = ib.reqHistoricalData(\n",
    "        contract,\n",
    "        endDateTime='',\n",
    "        durationStr='480 S',          # 5 mins x 8 bars (60 x 8)\n",
    "        barSizeSetting='5 mins',\n",
    "        whatToShow='MIDPOINT',\n",
    "        useRTH=True,\n",
    "        formatDate=1,\n",
    "        keepUpToDate=True)"
   ]
  },
  {
   "cell_type": "code",
   "execution_count": null,
   "id": "615cf4d9",
   "metadata": {},
   "outputs": [],
   "source": [
    "from IPython.display import display, clear_output\n",
    "import matplotlib.pyplot as plt\n",
    "\n",
    "def onBarUpdate(bars, hasNewBar):\n",
    "    plt.close()\n",
    "    plot = util.barplot(bars)\n",
    "    clear_output(wait=True)\n",
    "    display(plot)\n",
    "\n",
    "bars.updateEvent += onBarUpdate\n",
    "\n",
    "ib.sleep(10)\n",
    "ib.cancelHistoricalData(bars)\n",
    " # barUpdateEvent (bars: BarDataList, hasNewBar: bool): Emits the bar list that has been updated in real time.\n",
    " # If a new bar has been added then hasNewBar is True, when the last bar has changed it is False.\n"
   ]
  },
  {
   "cell_type": "code",
   "execution_count": null,
   "id": "9784fdaa",
   "metadata": {},
   "outputs": [],
   "source": [
    "# WORKING\n",
    "acct_values = ib.accountValues()\n",
    "#cash_balance = acct_values\n",
    "\n",
    "#    [\n",
    "#    AccountValue(account='U12848716', tag='AccountCode', value='U12848716', currency='', modelCode=''),\n",
    "#    AccountValue(account='U12848716', tag='CashBalance', value='517.53', currency='USD', modelCode=''),\n",
    "#    AccountValue(account='U12848716', tag='GrossPositionValue', value='1.58', currency='CAD', modelCode=''),\n",
    "#    AccountValue(account='U12848716', tag='NetLiquidation', value='723.69', currency='CAD', modelCode=''),\n",
    "#    AccountValue(account='U12848716', tag='TotalCashBalance', value='2.24', currency='CAD', modelCode=''),\n",
    "#    AccountValue(account='U12848716', tag='TotalCashBalance', value='517.53', currency='USD', modelCode=''),\n",
    "#    ]"
   ]
  },
  {
   "cell_type": "markdown",
   "id": "6e693ebc",
   "metadata": {},
   "source": [
    "Get Overall USD Cash Balance"
   ]
  },
  {
   "cell_type": "code",
   "execution_count": null,
   "id": "2253b770",
   "metadata": {},
   "outputs": [],
   "source": [
    "# WORKING\n",
    "def get_cash_balance_usd(acct_values):\n",
    "    for item in acct_values:\n",
    "        # AccountValue(account='U12848716', tag='CashBalance', value='517.53', currency='USD', modelCode=''),\n",
    "        if item[1] == 'CashBalance' and item[3] == 'USD':\n",
    "            return float(item[2])  # Convert value to float for numerical use\n",
    "\n",
    "# Get the CashBalance in USD\n",
    "cash_balance_usd = get_cash_balance_usd(acct_values)\n",
    "cash_balance_usd"
   ]
  },
  {
   "cell_type": "code",
   "execution_count": null,
   "id": "75113810",
   "metadata": {},
   "outputs": [],
   "source": []
  },
  {
   "cell_type": "markdown",
   "id": "dafca965",
   "metadata": {},
   "source": [
    "# Retrieving Historical Data"
   ]
  },
  {
   "cell_type": "code",
   "execution_count": null,
   "id": "d3a9f9fe",
   "metadata": {},
   "outputs": [],
   "source": [
    "# for this to work, Market Data Subscriber Status needs to be updated for a subscription\n",
    "\n",
    "nflx_contract = Stock('mlgo', 'SMART', 'USD')     # netflix ticker, 'smart' search for routing exchange, currency of ticker\n",
    "\n",
    "ib.qualifyContracts(nflx_contract)\n",
    "\n",
    "data = ib.reqMktData(nflx_contract)"
   ]
  },
  {
   "cell_type": "code",
   "execution_count": null,
   "id": "85a01980",
   "metadata": {},
   "outputs": [],
   "source": [
    "historical_data_nflx = ib.reqHistoricalData(\n",
    "    nflx_contract, \n",
    "    '', \n",
    "    barSizeSetting='5 mins', \n",
    "    durationStr='1 D', \n",
    "    whatToShow='MIDPOINT', \n",
    "    useRTH=True\n",
    "    )\n",
    "\n",
    "historical_data_nflx[-6]      #  access the most recent candle, just like any other Python list, by using a negative index.\n",
    "# https://www.interactivebrokers.com/campus/ibkr-api-page/market-data-subscriptions/\n",
    "#historical_data_nflx[-1].open"
   ]
  },
  {
   "cell_type": "code",
   "execution_count": null,
   "id": "5b5d7dd7",
   "metadata": {},
   "outputs": [],
   "source": [
    "ib.run()"
   ]
  },
  {
   "cell_type": "code",
   "execution_count": null,
   "id": "304749f0",
   "metadata": {},
   "outputs": [],
   "source": []
  }
 ],
 "metadata": {
  "kernelspec": {
   "display_name": "Python 3 (ipykernel)",
   "language": "python",
   "name": "python3"
  },
  "language_info": {
   "codemirror_mode": {
    "name": "ipython",
    "version": 3
   },
   "file_extension": ".py",
   "mimetype": "text/x-python",
   "name": "python",
   "nbconvert_exporter": "python",
   "pygments_lexer": "ipython3",
   "version": "3.10.9"
  }
 },
 "nbformat": 4,
 "nbformat_minor": 5
}
