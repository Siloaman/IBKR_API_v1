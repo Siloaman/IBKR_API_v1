{
 "cells": [
  {
   "cell_type": "code",
   "execution_count": null,
   "id": "58a889ab",
   "metadata": {
    "scrolled": true
   },
   "outputs": [],
   "source": [
    "# https://ibkrcampus.com/campus/ibkr-api-page/twsapi-doc/#api-introduction\n",
    "#pip install requests\n",
    "# https://stackoverflow.com/questions/8548030/why-does-pip-install-inside-python-raise-a-syntaxerror"
   ]
  },
  {
   "cell_type": "code",
   "execution_count": 1,
   "id": "4eff647f",
   "metadata": {},
   "outputs": [],
   "source": [
    "from ib_insync import *\n",
    "import requests\n",
    "import pandas as pd\n",
    "from bs4 import BeautifulSoup\n",
    "\n",
    "util.startLoop()  # only use in interactive environments (i.e. Jupyter Notebooks)\n",
    "# https://algotrading101.com/learn/ib_insync-interactive-brokers-api-guide/"
   ]
  },
  {
   "cell_type": "code",
   "execution_count": 2,
   "id": "90cde614",
   "metadata": {},
   "outputs": [
    {
     "data": {
      "text/plain": [
       "<IB connected to 127.0.0.1:7496 clientId=0>"
      ]
     },
     "execution_count": 2,
     "metadata": {},
     "output_type": "execute_result"
    }
   ],
   "source": [
    "#WORKING\n",
    "ib = IB()\n",
    "ib.connect(host='127.0.0.1', port=7496, clientId=0)\n",
    "# https://www.elitetrader.com/et/threads/cant-connect-to-api-interactive-brokers.361205/\n",
    "# needed to change socket port to 7496 and uncheck the Read-Only API box"
   ]
  },
  {
   "cell_type": "code",
   "execution_count": 3,
   "id": "6e39d766",
   "metadata": {},
   "outputs": [
    {
     "data": {
      "text/plain": [
       "[Position(account='U12848716', contract=Stock(conId=700941285, symbol='NUVOQ', exchange='PINK', currency='USD', localSymbol='NUVOQ', tradingClass='NUVOQ'), position=275.0, avgCost=0.24124875)]"
      ]
     },
     "execution_count": 3,
     "metadata": {},
     "output_type": "execute_result"
    }
   ],
   "source": [
    "ib.positions()"
   ]
  },
  {
   "cell_type": "code",
   "execution_count": 4,
   "id": "4c839b55",
   "metadata": {},
   "outputs": [
    {
     "name": "stdout",
     "output_type": "stream",
     "text": [
      "['NVNI', 'APTO', 'AADI', 'XLO']\n"
     ]
    },
    {
     "name": "stderr",
     "output_type": "stream",
     "text": [
      "Error 162, reqId 3: Historical Market Data Service error message:API scanner subscription cancelled: 3\n"
     ]
    }
   ],
   "source": [
    "sub = ScannerSubscription(\n",
    "    instrument='STK', \n",
    "    locationCode='STK.NASDAQ',        # 'STK.US.MAJOR', \n",
    "    scanCode='TOP_PERC_GAIN')\n",
    "\n",
    "tagValues = [\n",
    "    TagValue(\"changePercAbove\", \"30\"),\n",
    "    TagValue('priceBelow', 10)]\n",
    "\n",
    "# if I run this after-hours, it works with after-hours percentage gains!!\n",
    "\n",
    "# the tagValues are given as 3rd argument; the 2nd argument must always be an empty list\n",
    "# (IB has not documented the 2nd argument and it's not clear what it does)\n",
    "scanData = ib.reqScannerData(sub, [], tagValues)\n",
    "\n",
    "symbols = [sd.contractDetails.contract.symbol for sd in scanData]\n",
    "print(symbols)"
   ]
  },
  {
   "cell_type": "code",
   "execution_count": 14,
   "id": "a604c7f5",
   "metadata": {},
   "outputs": [
    {
     "name": "stdout",
     "output_type": "stream",
     "text": [
      "NVNI\n"
     ]
    }
   ],
   "source": [
    "print(symbols[0])"
   ]
  },
  {
   "cell_type": "code",
   "execution_count": 11,
   "id": "007acd2d",
   "metadata": {},
   "outputs": [],
   "source": [
    "for symbol in symbols:\n",
    "    \n",
    "    contract = Stock(symbol, 'SMART', 'USD')\n",
    "    bars = ib.reqHistoricalData(\n",
    "        contract,\n",
    "        endDateTime='',\n",
    "        durationStr='1500 S',   # at the end of the day would start me at 3:35 for bars[0] so effectively 25 mins\n",
    "        barSizeSetting='5 mins',\n",
    "        whatToShow='TRADES',\n",
    "        useRTH=True,            # only grab data from Regular Trading Hours\n",
    "        formatDate=1)"
   ]
  },
  {
   "cell_type": "code",
   "execution_count": 18,
   "id": "ff190b36",
   "metadata": {},
   "outputs": [
    {
     "name": "stdout",
     "output_type": "stream",
     "text": [
      "[BarData(date=datetime.datetime(2024, 12, 19, 15, 35, tzinfo=zoneinfo.ZoneInfo(key='US/Eastern')), open=0.891, high=0.9, low=0.891, close=0.9, volume=300.0, average=0.894, barCount=3), BarData(date=datetime.datetime(2024, 12, 19, 15, 40, tzinfo=zoneinfo.ZoneInfo(key='US/Eastern')), open=0.9001, high=0.905, low=0.9001, close=0.905, volume=600.0, average=0.90353, barCount=6), BarData(date=datetime.datetime(2024, 12, 19, 15, 45, tzinfo=zoneinfo.ZoneInfo(key='US/Eastern')), open=0.905, high=0.905, low=0.905, close=0.905, volume=0.0, average=0.905, barCount=0), BarData(date=datetime.datetime(2024, 12, 19, 15, 50, tzinfo=zoneinfo.ZoneInfo(key='US/Eastern')), open=0.9101, high=0.9101, low=0.91, close=0.9101, volume=1400.0, average=0.91003, barCount=3), BarData(date=datetime.datetime(2024, 12, 19, 15, 55, tzinfo=zoneinfo.ZoneInfo(key='US/Eastern')), open=0.92, high=0.93, low=0.9059, close=0.9239, volume=6452.0, average=0.9234, barCount=16)]\n"
     ]
    }
   ],
   "source": [
    "print(bars)"
   ]
  },
  {
   "cell_type": "code",
   "execution_count": 20,
   "id": "b4002922",
   "metadata": {},
   "outputs": [],
   "source": [
    "df = pd.DataFrame(bars)"
   ]
  },
  {
   "cell_type": "code",
   "execution_count": 21,
   "id": "8cb4cfb6",
   "metadata": {},
   "outputs": [
    {
     "name": "stdout",
     "output_type": "stream",
     "text": [
      "                       date    open    high     low   close  volume  average  \\\n",
      "0 2024-12-19 15:35:00-05:00  0.8910  0.9000  0.8910  0.9000   300.0  0.89400   \n",
      "1 2024-12-19 15:40:00-05:00  0.9001  0.9050  0.9001  0.9050   600.0  0.90353   \n",
      "2 2024-12-19 15:45:00-05:00  0.9050  0.9050  0.9050  0.9050     0.0  0.90500   \n",
      "3 2024-12-19 15:50:00-05:00  0.9101  0.9101  0.9100  0.9101  1400.0  0.91003   \n",
      "4 2024-12-19 15:55:00-05:00  0.9200  0.9300  0.9059  0.9239  6452.0  0.92340   \n",
      "\n",
      "   barCount  \n",
      "0         3  \n",
      "1         6  \n",
      "2         0  \n",
      "3         3  \n",
      "4        16  \n"
     ]
    }
   ],
   "source": [
    "print(df)"
   ]
  },
  {
   "cell_type": "code",
   "execution_count": 25,
   "id": "b8c3185a",
   "metadata": {},
   "outputs": [
    {
     "name": "stdout",
     "output_type": "stream",
     "text": [
      "0.9101\n"
     ]
    }
   ],
   "source": [
    "second_last_row_close = df.iloc[-2]\n",
    "print(second_last_row_close[\"close\"])"
   ]
  },
  {
   "cell_type": "code",
   "execution_count": null,
   "id": "839d9a10",
   "metadata": {},
   "outputs": [],
   "source": []
  },
  {
   "cell_type": "code",
   "execution_count": null,
   "id": "6556ba05",
   "metadata": {},
   "outputs": [],
   "source": []
  },
  {
   "cell_type": "code",
   "execution_count": null,
   "id": "3fe4cbf1",
   "metadata": {},
   "outputs": [],
   "source": []
  },
  {
   "cell_type": "code",
   "execution_count": null,
   "id": "525eb2a3",
   "metadata": {},
   "outputs": [],
   "source": []
  },
  {
   "cell_type": "code",
   "execution_count": null,
   "id": "cbb3717c",
   "metadata": {},
   "outputs": [],
   "source": [
    "# track changing tickers every 30 seconds and update values\n",
    "ib.pendingTickersEvent += onPendingTickers\n",
    "ib.sleep(30)\n",
    "ib.pendingTickersEvent -= onPendingTickers"
   ]
  },
  {
   "cell_type": "code",
   "execution_count": null,
   "id": "811366df",
   "metadata": {},
   "outputs": [],
   "source": [
    "pending_trades = ib.reqOpenOrders() # requires that I use ClientId=0 rather than ClientId=1\n",
    "# https://www.reddit.com/r/interactivebrokers/comments/119begz/cant_see_open_orders_via_api/\n",
    "pending_trades"
   ]
  },
  {
   "cell_type": "code",
   "execution_count": null,
   "id": "89bb6e07",
   "metadata": {},
   "outputs": [],
   "source": [
    "symbols = [trade.contract.symbol for trade in pending_trades]\n",
    "print(symbols)"
   ]
  },
  {
   "cell_type": "code",
   "execution_count": null,
   "id": "c7f9bf4d",
   "metadata": {},
   "outputs": [],
   "source": [
    "handling_code = [trade.order.lmtPrice for trade in pending_trades]\n",
    "print(handling_code)"
   ]
  },
  {
   "cell_type": "code",
   "execution_count": null,
   "id": "d6a7a6f9",
   "metadata": {},
   "outputs": [],
   "source": [
    "# https://github.com/Siloaman/ib_async/blob/main/notebooks/bar_data.ipynb\n",
    "# To get the earliest date of available bar data the \"head timestamp\" can be requested:\n",
    "contract = Stock('TSLA', 'SMART', 'USD')\n",
    "ib.reqHeadTimeStamp(contract, whatToShow='TRADES', useRTH=True)"
   ]
  },
  {
   "cell_type": "code",
   "execution_count": null,
   "id": "4005a03c",
   "metadata": {},
   "outputs": [],
   "source": [
    "# Legal ones are: \n",
    "# 1 secs, 5 secs, 10 secs, 15 secs, 30 secs, \n",
    "# 1 min, 2 mins, 3 mins, 5 mins, 10 mins, 15 mins, 20 mins, 30 mins, \n",
    "# 1 hour, 2 hours, 3 hours, 4 hours, 8 hours, \n",
    "# 1 day, 1W, 1M\n",
    "# To request hourly data of the last 1 day per 5 minutes:\n",
    "bars = ib.reqHistoricalData(\n",
    "        contract,\n",
    "        endDateTime='',\n",
    "        durationStr='1 D',\n",
    "        barSizeSetting='5 mins',\n",
    "        whatToShow='TRADES',\n",
    "        useRTH=True,\n",
    "        formatDate=1)\n",
    "\n",
    "bars[0]"
   ]
  },
  {
   "cell_type": "code",
   "execution_count": null,
   "id": "05bd8826",
   "metadata": {},
   "outputs": [],
   "source": [
    "df = util.df(bars)\n",
    "display(df.tail(8))"
   ]
  },
  {
   "cell_type": "code",
   "execution_count": null,
   "id": "85f5265c",
   "metadata": {},
   "outputs": [],
   "source": [
    "%matplotlib inline"
   ]
  },
  {
   "cell_type": "code",
   "execution_count": null,
   "id": "5e402a15",
   "metadata": {},
   "outputs": [],
   "source": [
    "# There is also a utility function to plot bars as a candlestick plot. \n",
    "# It can accept either a DataFrame or a list of bars.\n",
    "# Here it will print the last 10 bars:\n",
    "util.barplot(bars[-10:], title=contract.symbol);"
   ]
  },
  {
   "cell_type": "code",
   "execution_count": null,
   "id": "1b2dc36e",
   "metadata": {},
   "outputs": [],
   "source": [
    "# A new feature of the API is to get live updates for historical bars.\n",
    "# This is done by setting endDateTime to an empty string and the keepUpToDate parameter to True.\n",
    "bars = ib.reqHistoricalData(\n",
    "        contract,\n",
    "        endDateTime='',\n",
    "        durationStr='480 S',          # 5 mins x 8 bars (60 x 8)\n",
    "        barSizeSetting='5 mins',\n",
    "        whatToShow='MIDPOINT',\n",
    "        useRTH=True,\n",
    "        formatDate=1,\n",
    "        keepUpToDate=True)"
   ]
  },
  {
   "cell_type": "code",
   "execution_count": null,
   "id": "615cf4d9",
   "metadata": {},
   "outputs": [],
   "source": [
    "from IPython.display import display, clear_output\n",
    "import matplotlib.pyplot as plt\n",
    "\n",
    "def onBarUpdate(bars, hasNewBar):\n",
    "    plt.close()\n",
    "    plot = util.barplot(bars)\n",
    "    clear_output(wait=True)\n",
    "    display(plot)\n",
    "\n",
    "bars.updateEvent += onBarUpdate\n",
    "\n",
    "ib.sleep(10)\n",
    "ib.cancelHistoricalData(bars)"
   ]
  },
  {
   "cell_type": "code",
   "execution_count": null,
   "id": "9784fdaa",
   "metadata": {},
   "outputs": [],
   "source": [
    "# WORKING\n",
    "acct_values = ib.accountValues()\n",
    "#cash_balance = acct_values\n",
    "\n",
    "#    [\n",
    "#    AccountValue(account='U12848716', tag='AccountCode', value='U12848716', currency='', modelCode=''),\n",
    "#    AccountValue(account='U12848716', tag='CashBalance', value='517.53', currency='USD', modelCode=''),\n",
    "#    AccountValue(account='U12848716', tag='GrossPositionValue', value='1.58', currency='CAD', modelCode=''),\n",
    "#    AccountValue(account='U12848716', tag='NetLiquidation', value='723.69', currency='CAD', modelCode=''),\n",
    "#    AccountValue(account='U12848716', tag='TotalCashBalance', value='2.24', currency='CAD', modelCode=''),\n",
    "#    AccountValue(account='U12848716', tag='TotalCashBalance', value='517.53', currency='USD', modelCode=''),\n",
    "#    ]"
   ]
  },
  {
   "cell_type": "markdown",
   "id": "6e693ebc",
   "metadata": {},
   "source": [
    "Get Overall USD Cash Balance"
   ]
  },
  {
   "cell_type": "code",
   "execution_count": null,
   "id": "2253b770",
   "metadata": {},
   "outputs": [],
   "source": [
    "# WORKING\n",
    "def get_cash_balance_usd(acct_values):\n",
    "    for item in acct_values:\n",
    "        # AccountValue(account='U12848716', tag='CashBalance', value='517.53', currency='USD', modelCode=''),\n",
    "        if item[1] == 'CashBalance' and item[3] == 'USD':\n",
    "            return float(item[2])  # Convert value to float for numerical use\n",
    "\n",
    "# Get the CashBalance in USD\n",
    "cash_balance_usd = get_cash_balance_usd(acct_values)\n",
    "cash_balance_usd"
   ]
  },
  {
   "cell_type": "code",
   "execution_count": null,
   "id": "75113810",
   "metadata": {},
   "outputs": [],
   "source": []
  },
  {
   "cell_type": "markdown",
   "id": "dafca965",
   "metadata": {},
   "source": [
    "# Retrieving Historical Data"
   ]
  },
  {
   "cell_type": "code",
   "execution_count": null,
   "id": "d3a9f9fe",
   "metadata": {},
   "outputs": [],
   "source": [
    "# for this to work, Market Data Subscriber Status needs to be updated for a subscription\n",
    "\n",
    "nflx_contract = Stock('mlgo', 'SMART', 'USD')     # netflix ticker, 'smart' search for routing exchange, currency of ticker\n",
    "\n",
    "ib.qualifyContracts(nflx_contract)\n",
    "\n",
    "data = ib.reqMktData(nflx_contract)"
   ]
  },
  {
   "cell_type": "code",
   "execution_count": null,
   "id": "85a01980",
   "metadata": {},
   "outputs": [],
   "source": [
    "historical_data_nflx = ib.reqHistoricalData(\n",
    "    nflx_contract, \n",
    "    '', \n",
    "    barSizeSetting='5 mins', \n",
    "    durationStr='1 D', \n",
    "    whatToShow='MIDPOINT', \n",
    "    useRTH=True\n",
    "    )\n",
    "\n",
    "historical_data_nflx[-6]      #  access the most recent candle, just like any other Python list, by using a negative index.\n",
    "# https://www.interactivebrokers.com/campus/ibkr-api-page/market-data-subscriptions/\n",
    "#historical_data_nflx[-1].open"
   ]
  },
  {
   "cell_type": "code",
   "execution_count": null,
   "id": "5b5d7dd7",
   "metadata": {},
   "outputs": [],
   "source": [
    "ib.run()"
   ]
  },
  {
   "cell_type": "code",
   "execution_count": null,
   "id": "304749f0",
   "metadata": {},
   "outputs": [],
   "source": []
  }
 ],
 "metadata": {
  "kernelspec": {
   "display_name": "Python 3 (ipykernel)",
   "language": "python",
   "name": "python3"
  },
  "language_info": {
   "codemirror_mode": {
    "name": "ipython",
    "version": 3
   },
   "file_extension": ".py",
   "mimetype": "text/x-python",
   "name": "python",
   "nbconvert_exporter": "python",
   "pygments_lexer": "ipython3",
   "version": "3.10.9"
  }
 },
 "nbformat": 4,
 "nbformat_minor": 5
}
