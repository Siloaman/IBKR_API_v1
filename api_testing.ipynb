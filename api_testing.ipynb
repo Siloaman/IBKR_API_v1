{
 "cells": [
  {
   "cell_type": "code",
   "execution_count": null,
   "id": "58a889ab",
   "metadata": {
    "scrolled": true
   },
   "outputs": [],
   "source": [
    "# https://ibkrcampus.com/campus/ibkr-api-page/twsapi-doc/#api-introduction\n",
    "#pip install requests\n",
    "# https://stackoverflow.com/questions/8548030/why-does-pip-install-inside-python-raise-a-syntaxerror"
   ]
  },
  {
   "cell_type": "code",
   "execution_count": 1,
   "id": "4eff647f",
   "metadata": {},
   "outputs": [],
   "source": [
    "from ib_insync import *\n",
    "import requests\n",
    "import pandas as pd\n",
    "from bs4 import BeautifulSoup\n",
    "\n",
    "util.startLoop()  # only use in interactive environments (i.e. Jupyter Notebooks)\n",
    "# https://algotrading101.com/learn/ib_insync-interactive-brokers-api-guide/"
   ]
  },
  {
   "cell_type": "code",
   "execution_count": 2,
   "id": "90cde614",
   "metadata": {},
   "outputs": [
    {
     "data": {
      "text/plain": [
       "<IB connected to 127.0.0.1:7496 clientId=0>"
      ]
     },
     "execution_count": 2,
     "metadata": {},
     "output_type": "execute_result"
    }
   ],
   "source": [
    "#WORKING\n",
    "ib = IB()\n",
    "ib.connect(host='127.0.0.1', port=7496, clientId=0)\n",
    "# https://www.elitetrader.com/et/threads/cant-connect-to-api-interactive-brokers.361205/\n",
    "# needed to change socket port to 7496 and uncheck the Read-Only API box"
   ]
  },
  {
   "cell_type": "code",
   "execution_count": 3,
   "id": "6e39d766",
   "metadata": {},
   "outputs": [
    {
     "data": {
      "text/plain": [
       "[Position(account='U12848716', contract=Stock(conId=700941285, symbol='NUVOQ', exchange='PINK', currency='USD', localSymbol='NUVOQ', tradingClass='NUVOQ'), position=275.0, avgCost=0.24124875)]"
      ]
     },
     "execution_count": 3,
     "metadata": {},
     "output_type": "execute_result"
    }
   ],
   "source": [
    "ib.positions()"
   ]
  },
  {
   "cell_type": "code",
   "execution_count": 4,
   "id": "c949c0b5",
   "metadata": {},
   "outputs": [
    {
     "data": {
      "text/plain": [
       "[Trade(contract=Stock(conId=641842650, symbol='DRUG', right='?', exchange='SMART', currency='USD', localSymbol='DRUG', tradingClass='SCM'), order=Order(orderId=-4, permId=887072239, action='BUY', totalQuantity=1.0, orderType='LMT', lmtPrice=0.0155, auxPrice=0.0, tif='GTC', ocaType=3, displaySize=2147483647, rule80A='0', openClose='', volatilityType=0, deltaNeutralOrderType='None', referencePriceType=0, account='U12848716', clearingIntent='IB', adjustedOrderType='None', cashQty=0.0, dontUseAutoPriceForHedge=True), orderStatus=OrderStatus(orderId=-4, status='PreSubmitted', filled=0.0, remaining=1.0, avgFillPrice=0.0, permId=887072239, parentId=0, lastFillPrice=0.0, clientId=0, whyHeld='', mktCapPrice=0.0), fills=[], log=[TradeLogEntry(time=datetime.datetime(2024, 11, 13, 3, 37, 58, 651430, tzinfo=datetime.timezone.utc), status='PreSubmitted', message='', errorCode=0)], advancedError=''),\n",
       " Trade(contract=Stock(conId=528660539, symbol='CERO', right='?', exchange='SMART', currency='USD', localSymbol='CERO', tradingClass='NMS'), order=Order(orderId=-3, permId=1728997271, action='BUY', totalQuantity=1.0, orderType='LMT', lmtPrice=0.0155, auxPrice=0.0, tif='GTC', ocaType=3, displaySize=2147483647, rule80A='0', openClose='', volatilityType=0, deltaNeutralOrderType='None', referencePriceType=0, account='U12848716', clearingIntent='IB', adjustedOrderType='None', cashQty=0.0, dontUseAutoPriceForHedge=True, usePriceMgmtAlgo=True), orderStatus=OrderStatus(orderId=-3, status='PreSubmitted', filled=0.0, remaining=1.0, avgFillPrice=0.0, permId=1728997271, parentId=0, lastFillPrice=0.0, clientId=0, whyHeld='', mktCapPrice=0.0), fills=[], log=[TradeLogEntry(time=datetime.datetime(2024, 11, 13, 3, 37, 58, 653432, tzinfo=datetime.timezone.utc), status='PreSubmitted', message='', errorCode=0)], advancedError='')]"
      ]
     },
     "execution_count": 4,
     "metadata": {},
     "output_type": "execute_result"
    }
   ],
   "source": [
    "pending_trades = ib.reqOpenOrders() # requires that I use ClientId=0 rather than ClientId=1\n",
    "# https://www.reddit.com/r/interactivebrokers/comments/119begz/cant_see_open_orders_via_api/\n",
    "pending_trades"
   ]
  },
  {
   "cell_type": "code",
   "execution_count": 5,
   "id": "89bb6e07",
   "metadata": {},
   "outputs": [
    {
     "name": "stdout",
     "output_type": "stream",
     "text": [
      "['DRUG', 'CERO']\n"
     ]
    }
   ],
   "source": [
    "symbols = [trade.contract.symbol for trade in pending_trades]\n",
    "print(symbols)"
   ]
  },
  {
   "cell_type": "code",
   "execution_count": 6,
   "id": "5f189e59",
   "metadata": {},
   "outputs": [
    {
     "name": "stdout",
     "output_type": "stream",
     "text": [
      "[0.0155, 0.0155]\n"
     ]
    }
   ],
   "source": [
    "handling_code = [trade.order.lmtPrice for trade in pending_trades]\n",
    "print(handling_code)"
   ]
  },
  {
   "cell_type": "code",
   "execution_count": 7,
   "id": "d6a7a6f9",
   "metadata": {},
   "outputs": [
    {
     "data": {
      "text/plain": [
       "datetime.datetime(2010, 6, 29, 8, 0)"
      ]
     },
     "execution_count": 7,
     "metadata": {},
     "output_type": "execute_result"
    }
   ],
   "source": [
    "# https://github.com/Siloaman/ib_async/blob/main/notebooks/bar_data.ipynb\n",
    "# To get the earliest date of available bar data the \"head timestamp\" can be requested:\n",
    "contract = Stock('TSLA', 'SMART', 'USD')\n",
    "ib.reqHeadTimeStamp(contract, whatToShow='TRADES', useRTH=True)"
   ]
  },
  {
   "cell_type": "code",
   "execution_count": 8,
   "id": "4005a03c",
   "metadata": {},
   "outputs": [
    {
     "data": {
      "text/plain": [
       "BarData(date=datetime.datetime(2024, 11, 12, 9, 30, tzinfo=zoneinfo.ZoneInfo(key='US/Eastern')), open=342.74, high=345.84, low=335.3, close=340.43, volume=5546777.0, average=339.927, barCount=21909)"
      ]
     },
     "execution_count": 8,
     "metadata": {},
     "output_type": "execute_result"
    }
   ],
   "source": [
    "# Legal ones are: \n",
    "# 1 secs, 5 secs, 10 secs, 15 secs, 30 secs, \n",
    "# 1 min, 2 mins, 3 mins, 5 mins, 10 mins, 15 mins, 20 mins, 30 mins, \n",
    "# 1 hour, 2 hours, 3 hours, 4 hours, 8 hours, \n",
    "# 1 day, 1W, 1M\n",
    "# To request hourly data of the last 1 day per 5 minutes:\n",
    "bars = ib.reqHistoricalData(\n",
    "        contract,\n",
    "        endDateTime='',\n",
    "        durationStr='1 D',\n",
    "        barSizeSetting='5 mins',\n",
    "        whatToShow='TRADES',\n",
    "        useRTH=True,\n",
    "        formatDate=1)\n",
    "\n",
    "bars[0]"
   ]
  },
  {
   "cell_type": "code",
   "execution_count": 9,
   "id": "05bd8826",
   "metadata": {},
   "outputs": [
    {
     "data": {
      "text/html": [
       "<div>\n",
       "<style scoped>\n",
       "    .dataframe tbody tr th:only-of-type {\n",
       "        vertical-align: middle;\n",
       "    }\n",
       "\n",
       "    .dataframe tbody tr th {\n",
       "        vertical-align: top;\n",
       "    }\n",
       "\n",
       "    .dataframe thead th {\n",
       "        text-align: right;\n",
       "    }\n",
       "</style>\n",
       "<table border=\"1\" class=\"dataframe\">\n",
       "  <thead>\n",
       "    <tr style=\"text-align: right;\">\n",
       "      <th></th>\n",
       "      <th>date</th>\n",
       "      <th>open</th>\n",
       "      <th>high</th>\n",
       "      <th>low</th>\n",
       "      <th>close</th>\n",
       "      <th>volume</th>\n",
       "      <th>average</th>\n",
       "      <th>barCount</th>\n",
       "    </tr>\n",
       "  </thead>\n",
       "  <tbody>\n",
       "    <tr>\n",
       "      <th>70</th>\n",
       "      <td>2024-11-12 15:20:00-05:00</td>\n",
       "      <td>329.47</td>\n",
       "      <td>330.24</td>\n",
       "      <td>328.76</td>\n",
       "      <td>329.22</td>\n",
       "      <td>686254.0</td>\n",
       "      <td>329.533</td>\n",
       "      <td>3025</td>\n",
       "    </tr>\n",
       "    <tr>\n",
       "      <th>71</th>\n",
       "      <td>2024-11-12 15:25:00-05:00</td>\n",
       "      <td>329.19</td>\n",
       "      <td>329.29</td>\n",
       "      <td>327.50</td>\n",
       "      <td>328.34</td>\n",
       "      <td>1207869.0</td>\n",
       "      <td>328.230</td>\n",
       "      <td>5137</td>\n",
       "    </tr>\n",
       "    <tr>\n",
       "      <th>72</th>\n",
       "      <td>2024-11-12 15:30:00-05:00</td>\n",
       "      <td>328.40</td>\n",
       "      <td>328.49</td>\n",
       "      <td>326.28</td>\n",
       "      <td>326.44</td>\n",
       "      <td>1049160.0</td>\n",
       "      <td>327.202</td>\n",
       "      <td>5112</td>\n",
       "    </tr>\n",
       "    <tr>\n",
       "      <th>73</th>\n",
       "      <td>2024-11-12 15:35:00-05:00</td>\n",
       "      <td>326.50</td>\n",
       "      <td>328.78</td>\n",
       "      <td>326.11</td>\n",
       "      <td>328.60</td>\n",
       "      <td>1241768.0</td>\n",
       "      <td>327.485</td>\n",
       "      <td>5356</td>\n",
       "    </tr>\n",
       "    <tr>\n",
       "      <th>74</th>\n",
       "      <td>2024-11-12 15:40:00-05:00</td>\n",
       "      <td>328.59</td>\n",
       "      <td>329.68</td>\n",
       "      <td>328.10</td>\n",
       "      <td>328.91</td>\n",
       "      <td>966654.0</td>\n",
       "      <td>328.950</td>\n",
       "      <td>4018</td>\n",
       "    </tr>\n",
       "    <tr>\n",
       "      <th>75</th>\n",
       "      <td>2024-11-12 15:45:00-05:00</td>\n",
       "      <td>328.92</td>\n",
       "      <td>329.20</td>\n",
       "      <td>327.45</td>\n",
       "      <td>328.02</td>\n",
       "      <td>1010562.0</td>\n",
       "      <td>328.328</td>\n",
       "      <td>4599</td>\n",
       "    </tr>\n",
       "    <tr>\n",
       "      <th>76</th>\n",
       "      <td>2024-11-12 15:50:00-05:00</td>\n",
       "      <td>327.98</td>\n",
       "      <td>329.31</td>\n",
       "      <td>327.02</td>\n",
       "      <td>329.00</td>\n",
       "      <td>1196537.0</td>\n",
       "      <td>327.995</td>\n",
       "      <td>6029</td>\n",
       "    </tr>\n",
       "    <tr>\n",
       "      <th>77</th>\n",
       "      <td>2024-11-12 15:55:00-05:00</td>\n",
       "      <td>328.94</td>\n",
       "      <td>329.45</td>\n",
       "      <td>327.90</td>\n",
       "      <td>328.25</td>\n",
       "      <td>1854333.0</td>\n",
       "      <td>328.757</td>\n",
       "      <td>9457</td>\n",
       "    </tr>\n",
       "  </tbody>\n",
       "</table>\n",
       "</div>"
      ],
      "text/plain": [
       "                        date    open    high     low   close     volume  \\\n",
       "70 2024-11-12 15:20:00-05:00  329.47  330.24  328.76  329.22   686254.0   \n",
       "71 2024-11-12 15:25:00-05:00  329.19  329.29  327.50  328.34  1207869.0   \n",
       "72 2024-11-12 15:30:00-05:00  328.40  328.49  326.28  326.44  1049160.0   \n",
       "73 2024-11-12 15:35:00-05:00  326.50  328.78  326.11  328.60  1241768.0   \n",
       "74 2024-11-12 15:40:00-05:00  328.59  329.68  328.10  328.91   966654.0   \n",
       "75 2024-11-12 15:45:00-05:00  328.92  329.20  327.45  328.02  1010562.0   \n",
       "76 2024-11-12 15:50:00-05:00  327.98  329.31  327.02  329.00  1196537.0   \n",
       "77 2024-11-12 15:55:00-05:00  328.94  329.45  327.90  328.25  1854333.0   \n",
       "\n",
       "    average  barCount  \n",
       "70  329.533      3025  \n",
       "71  328.230      5137  \n",
       "72  327.202      5112  \n",
       "73  327.485      5356  \n",
       "74  328.950      4018  \n",
       "75  328.328      4599  \n",
       "76  327.995      6029  \n",
       "77  328.757      9457  "
      ]
     },
     "metadata": {},
     "output_type": "display_data"
    }
   ],
   "source": [
    "df = util.df(bars)\n",
    "display(df.tail(8))"
   ]
  },
  {
   "cell_type": "code",
   "execution_count": 10,
   "id": "85f5265c",
   "metadata": {},
   "outputs": [],
   "source": [
    "%matplotlib inline"
   ]
  },
  {
   "cell_type": "code",
   "execution_count": 11,
   "id": "5e402a15",
   "metadata": {},
   "outputs": [
    {
     "data": {
      "image/png": "[encoded data removed]",
      "text/plain": [
       "<Figure size 1000x600 with 1 Axes>"
      ]
     },
     "metadata": {},
     "output_type": "display_data"
    }
   ],
   "source": [
    "# There is also a utility function to plot bars as a candlestick plot. \n",
    "# It can accept either a DataFrame or a list of bars.\n",
    "# Here it will print the last 10 bars:\n",
    "util.barplot(bars[-10:], title=contract.symbol);"
   ]
  },
  {
   "cell_type": "code",
   "execution_count": null,
   "id": "1b2dc36e",
   "metadata": {},
   "outputs": [],
   "source": [
    "# A new feature of the API is to get live updates for historical bars.\n",
    "# This is done by setting endDateTime to an empty string and the keepUpToDate parameter to True.\n",
    "bars = ib.reqHistoricalData(\n",
    "        contract,\n",
    "        endDateTime='',\n",
    "        durationStr='480 S',          # 5 mins x 8 bars (60 x 8)\n",
    "        barSizeSetting='5 mins',\n",
    "        whatToShow='MIDPOINT',\n",
    "        useRTH=True,\n",
    "        formatDate=1,\n",
    "        keepUpToDate=True)"
   ]
  },
  {
   "cell_type": "code",
   "execution_count": null,
   "id": "615cf4d9",
   "metadata": {},
   "outputs": [],
   "source": [
    "from IPython.display import display, clear_output\n",
    "import matplotlib.pyplot as plt\n",
    "\n",
    "def onBarUpdate(bars, hasNewBar):\n",
    "    plt.close()\n",
    "    plot = util.barplot(bars)\n",
    "    clear_output(wait=True)\n",
    "    display(plot)\n",
    "\n",
    "bars.updateEvent += onBarUpdate\n",
    "\n",
    "ib.sleep(10)\n",
    "ib.cancelHistoricalData(bars)"
   ]
  },
  {
   "cell_type": "code",
   "execution_count": 13,
   "id": "9784fdaa",
   "metadata": {},
   "outputs": [],
   "source": [
    "# WORKING\n",
    "acct_values = ib.accountValues()\n",
    "#cash_balance = acct_values\n",
    "\n",
    "#    [\n",
    "#    AccountValue(account='U12848716', tag='AccountCode', value='U12848716', currency='', modelCode=''),\n",
    "#    AccountValue(account='U12848716', tag='CashBalance', value='517.53', currency='USD', modelCode=''),\n",
    "#    AccountValue(account='U12848716', tag='GrossPositionValue', value='1.58', currency='CAD', modelCode=''),\n",
    "#    AccountValue(account='U12848716', tag='NetLiquidation', value='723.69', currency='CAD', modelCode=''),\n",
    "#    AccountValue(account='U12848716', tag='TotalCashBalance', value='2.24', currency='CAD', modelCode=''),\n",
    "#    AccountValue(account='U12848716', tag='TotalCashBalance', value='517.53', currency='USD', modelCode=''),\n",
    "#    ]"
   ]
  },
  {
   "cell_type": "markdown",
   "id": "6e693ebc",
   "metadata": {},
   "source": [
    "Get Overall USD Cash Balance"
   ]
  },
  {
   "cell_type": "code",
   "execution_count": 14,
   "id": "2253b770",
   "metadata": {},
   "outputs": [
    {
     "data": {
      "text/plain": [
       "494.39"
      ]
     },
     "execution_count": 14,
     "metadata": {},
     "output_type": "execute_result"
    }
   ],
   "source": [
    "# WORKING\n",
    "def get_cash_balance_usd(acct_values):\n",
    "    for item in acct_values:\n",
    "        # AccountValue(account='U12848716', tag='CashBalance', value='517.53', currency='USD', modelCode=''),\n",
    "        if item[1] == 'CashBalance' and item[3] == 'USD':\n",
    "            return float(item[2])  # Convert value to float for numerical use\n",
    "\n",
    "# Get the CashBalance in USD\n",
    "cash_balance_usd = get_cash_balance_usd(acct_values)\n",
    "cash_balance_usd"
   ]
  },
  {
   "cell_type": "code",
   "execution_count": null,
   "id": "75113810",
   "metadata": {},
   "outputs": [],
   "source": []
  },
  {
   "cell_type": "markdown",
   "id": "dafca965",
   "metadata": {},
   "source": [
    "# Retrieving Historical Data"
   ]
  },
  {
   "cell_type": "code",
   "execution_count": null,
   "id": "d3a9f9fe",
   "metadata": {},
   "outputs": [],
   "source": [
    "# for this to work, Market Data Subscriber Status needs to be updated for a subscription\n",
    "\n",
    "nflx_contract = Stock('mlgo', 'SMART', 'USD')     # netflix ticker, 'smart' search for routing exchange, currency of ticker\n",
    "\n",
    "ib.qualifyContracts(nflx_contract)\n",
    "\n",
    "data = ib.reqMktData(nflx_contract)"
   ]
  },
  {
   "cell_type": "code",
   "execution_count": null,
   "id": "85a01980",
   "metadata": {},
   "outputs": [],
   "source": [
    "historical_data_nflx = ib.reqHistoricalData(\n",
    "    nflx_contract, \n",
    "    '', \n",
    "    barSizeSetting='5 mins', \n",
    "    durationStr='1 D', \n",
    "    whatToShow='MIDPOINT', \n",
    "    useRTH=True\n",
    "    )\n",
    "\n",
    "historical_data_nflx[-6]      #  access the most recent candle, just like any other Python list, by using a negative index.\n",
    "# https://www.interactivebrokers.com/campus/ibkr-api-page/market-data-subscriptions/\n",
    "#historical_data_nflx[-1].open"
   ]
  },
  {
   "cell_type": "code",
   "execution_count": null,
   "id": "5b5d7dd7",
   "metadata": {},
   "outputs": [],
   "source": [
    "ib.run()"
   ]
  },
  {
   "cell_type": "code",
   "execution_count": null,
   "id": "304749f0",
   "metadata": {},
   "outputs": [],
   "source": []
  }
 ],
 "metadata": {
  "kernelspec": {
   "display_name": "Python 3 (ipykernel)",
   "language": "python",
   "name": "python3"
  },
  "language_info": {
   "codemirror_mode": {
    "name": "ipython",
    "version": 3
   },
   "file_extension": ".py",
   "mimetype": "text/x-python",
   "name": "python",
   "nbconvert_exporter": "python",
   "pygments_lexer": "ipython3",
   "version": "3.10.9"
  }
 },
 "nbformat": 4,
 "nbformat_minor": 5
}
